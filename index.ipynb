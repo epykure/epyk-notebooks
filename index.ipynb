{
 "cells": [
  {
   "cell_type": "markdown",
   "metadata": {},
   "source": [
    "<div style=\"margin:0 10px 10px 0\" markdown=\"1\">\n",
    "    <a href=\"index.ipynb\">\n",
    "        <img src=\"static/images/logo.png\">\n",
    "    </a>\n",
    "</div>"
   ]
  },
  {
   "cell_type": "markdown",
   "metadata": {},
   "source": [
    "## Quickstart\n",
    "Get started with a [5-min introduction to Epyk](quickstart.ipynb).\n",
    "\n",
    "## First Version out now!\n",
    "\n",
    "An easy to use Python Framework using JavaScript modules.\n",
    "You can fin the reposity on [Github](https://github.com/epykure/epyk-ui) and the latest version on [pypi](https://pypi.org/project/epyk/).\n",
    "\n",
    "We need your support so please do not hesitate to like the projects !\n",
    "\n",
    "## Presentation\n",
    "The target of epyk is to ensure the implementation of a coherent system using a minimum of layers. With epyk the user stays in the Python layer to drive and optimize the data transformation. This Framework also encourages the implementation of Micro services and cloud based architecture.\n",
    "\n",
    "Find out more about the project design [here](project_design.ipynb)\n",
    "\n",
    "## Tutorial\n",
    "Start with the [Jupyter configuration](jupyter.ipynb) and some [Tutorial examples](tutorials.ipynb) and jump to any of the specific topic sections from there.\n",
    "\n",
    "## Compatibility\n",
    "Epik is compatible with the most common Web Python Frameworks (Flask and Django). By default, the server package embeds a Flask app as it is easier to install and ready to use.\n",
    "\n",
    "The Framework can be included within a Jupyter or JupyterLab project. But this will lead to some limitations - for example Ajax and Socket will not be available.\n",
    "\n",
    "## Coming Soon\n",
    "Please get in touch if there is any features you feel Epyk-UI needs.\n",
    "\n",
    "In the next realeases, Epyk ecosystem will try to be more collaborative and to then be linked to popular framework using Nodejs - React and Angular mainly."
   ]
  },
  {
   "cell_type": "markdown",
   "metadata": {},
   "source": [
    "## Useful Links\n",
    "\n",
    "Repositories are here available in GitHub:\n",
    "\n",
    "- [Epyk](https://github.com/epykure/epyk-ui): \n",
    "- [Epyk Materials](https://github.com/epykure/epyk-materials)\n",
    "- [Epyk Bootstrap](https://github.com/epykure/epyk-bootstrap)\n",
    "- [Epyk AWS](https://github.com/epykure/epyk-aws)\n",
    "- [Epyk Engine](https://github.com/epykure/epyk-engine) (In development)\n",
    "- [Epyk Flask](https://github.com/epykure/epyk-flask)\n",
    "- [Epyk Django](https://github.com/epykure/epyks-django) (In development)\n",
    "- [Epyk NodeJs](https://github.com/epykure/epyk-nodejs) (In development)\n",
    "- [Epyk Angular](https://github.com/epykure/epyk-angular) (In development)\n",
    "\n",
    "\n",
    "Also lot of template are there to hel\n",
    "\n",
    "- [Epyk templates](https://github.com/epykure/epyk-templates)\n",
    "- [Epyk Material templates](https://github.com/epykure/epyk-materials-templates)\n",
    "- [Epyk templates Bootstrap](https://github.com/epykure/epyk-templates-bootstrap)\n",
    "- [Epyk templates Codepen](https://github.com/epykure/epyk-templates-codepen)\n",
    "- [EPyk templates NodeJs](https://github.com/epykure/epyk-templates-nodejs)\n",
    "\n",
    "<hr>\n",
    "Do not forget that this is a collaborative framework so do not hesitate to give feedbacks and like the different repository to get more visbility.\n",
    "\n",
    "Also any help is more than welcome !"
   ]
  }
 ],
 "metadata": {
  "kernelspec": {
   "display_name": "Python 3",
   "language": "python",
   "name": "python3"
  },
  "language_info": {
   "codemirror_mode": {
    "name": "ipython",
    "version": 3
   },
   "file_extension": ".py",
   "mimetype": "text/x-python",
   "name": "python",
   "nbconvert_exporter": "python",
   "pygments_lexer": "ipython3",
   "version": "3.8.2"
  }
 },
 "nbformat": 4,
 "nbformat_minor": 2
}
