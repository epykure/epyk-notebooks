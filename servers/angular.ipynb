{
 "cells": [
  {
   "cell_type": "markdown",
   "metadata": {},
   "source": [
    "<div style=\"float:left;margin:0 10px 10px 0\" markdown=\"1\">\n",
    "    <a href=\"../index.ipynb\">\n",
    "        <img src=\"../static/images/epyklogo_whole_small.png\">\n",
    "    </a>\n",
    "</div>"
   ]
  },
  {
   "cell_type": "markdown",
   "metadata": {},
   "source": [
    "# Running on an Angular server\n",
    "\n",
    "<div style=\"text-align:center\">\n",
    "        <img src='../static/images/angular-3-logo.png' style=\"width:200px;display:inline-block;padding:15px\" />\n",
    "</div>\n",
    "\n",
    "## Quickstart\n",
    "\n",
    "## Install\n",
    "\n",
    "## Epyk benefits\n",
    "\n",
    "## Using Express\n",
    "\n",
    "<hr>\n",
    "Do not forget that this is a collaborative framework so do not hesitate to give feedbacks and like the different repository to get more visbility.\n",
    "\n",
    "Also any help is more than welcome !"
   ]
  }
 ],
 "metadata": {
  "kernelspec": {
   "display_name": "Python 3",
   "language": "python",
   "name": "python3"
  },
  "language_info": {
   "codemirror_mode": {
    "name": "ipython",
    "version": 3
   },
   "file_extension": ".py",
   "mimetype": "text/x-python",
   "name": "python",
   "nbconvert_exporter": "python",
   "pygments_lexer": "ipython3",
   "version": "3.8.2"
  }
 },
 "nbformat": 4,
 "nbformat_minor": 4
}
