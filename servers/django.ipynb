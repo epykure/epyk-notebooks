{
 "cells": [
  {
   "cell_type": "markdown",
   "metadata": {},
   "source": [
    "<div style=\"float:left;margin:0 10px 10px 0\" markdown=\"1\">\n",
    "    <a href=\"../index.ipynb\">\n",
    "        <img src=\"../static/images/epyklogo_whole_small.png\">\n",
    "    </a>\n",
    "</div>"
   ]
  },
  {
   "cell_type": "markdown",
   "metadata": {},
   "source": [
    "# Running on Django\n",
    "\n",
    "<div style=\"text-align:center\">\n",
    "<a href=\"servers/django.ipynb\">\n",
    "        <img src='../static/images/django-logo.png' style=\"width:200px;display:inline-block;cursor:pointer;padding:15px\" />\n",
    "    </a>\n",
    "</div>"
   ]
  },
  {
   "cell_type": "markdown",
   "metadata": {},
   "source": [
    "## Install\n",
    "\n",
    "First you need to install Epyk and Django on your python distribution.\n",
    "\n",
    "You can run the below commmand:\n",
    "\n",
    "> pip install epyk django\n",
    "\n",
    "For more details about Django install please go on the <a href=\"https://www.djangoproject.com/start/\">official website </a>"
   ]
  },
  {
   "cell_type": "markdown",
   "metadata": {},
   "source": [
    "## New project\n",
    "\n",
    "If you are starting with Django you will need to create a new django project. You can run the below command to create a new project poll\n",
    "\n",
    "> python manage.py startapp polls\n",
    "\n",
    "More details on the project creation are available on the <a href=\"https://docs.djangoproject.com/en/3.0/intro/tutorial01/\">official website</a>"
   ]
  },
  {
   "cell_type": "markdown",
   "metadata": {},
   "source": [
    "<hr>\n",
    "Do not forget that this is a collaborative framework so do not hesitate to give feedbacks and like the different repository to get more visbility.\n",
    "\n",
    "Also any help is more than welcome !"
   ]
  }
 ],
 "metadata": {
  "kernelspec": {
   "display_name": "Python 3",
   "language": "python",
   "name": "python3"
  },
  "language_info": {
   "codemirror_mode": {
    "name": "ipython",
    "version": 3
   },
   "file_extension": ".py",
   "mimetype": "text/x-python",
   "name": "python",
   "nbconvert_exporter": "python",
   "pygments_lexer": "ipython3",
   "version": "3.8.2"
  }
 },
 "nbformat": 4,
 "nbformat_minor": 4
}
