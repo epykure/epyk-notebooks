{
 "cells": [
  {
   "cell_type": "markdown",
   "metadata": {},
   "source": [
    "<div style=\"float:left;margin:0 10px 10px 0\" markdown=\"1\">\n",
    "    <a href=\"../index.ipynb\">\n",
    "        <img src=\"../static/images/epyklogo_whole_small.png\">\n",
    "    </a>\n",
    "</div>"
   ]
  },
  {
   "cell_type": "markdown",
   "metadata": {},
   "source": [
    "# Codepen\n",
    "\n",
    "Epyk can structure its output in order to fit Codepen REST API requirement.\n",
    "\n",
    "So from any specific report it is possible to test the result in Codepen using the specific outs definition.\n",
    "\n",
    "THis should be more a tool to highlith problem than something to rely on for the implementation as it will run on an external server and not all the data will be accessible.\n",
    "\n",
    "Also it cannot run huge reports, so it is recommanded to test or share specific component using Codepen.\n",
    "\n",
    "This could be quite useful to share example / question in Stackoverflow\n",
    "\n",
    "More example of report are available on the dedicated Codepen template repository in [Github](https://github.com/epykure/epyk-templates-codepen).\n"
   ]
  },
  {
   "cell_type": "markdown",
   "metadata": {},
   "source": [
    "## Codepen Example\n",
    "\n",
    "The below example is a templaate available on the Github repository.\n",
    "\n"
   ]
  },
  {
   "cell_type": "code",
   "execution_count": 4,
   "metadata": {},
   "outputs": [
    {
     "data": {
      "text/plain": [
       "''"
      ]
     },
     "execution_count": 4,
     "metadata": {},
     "output_type": "execute_result"
    }
   ],
   "source": [
    "from epyk.core.Page import Report\n",
    "\n",
    "\n",
    "\n",
    "# Create an empty report in the webpage\n",
    "rptObj = Report()\n",
    "\n",
    "# Creates a test button\n",
    "button = rptObj.ui.button(\"Test\", icon=\"fab fa-codepen\")\n",
    "\n",
    "# Add a click event on the button\n",
    "button.click([rptObj.js.window.alert(\"test\")])\n",
    "\n",
    "# Create a second button in the report with a click event\n",
    "button2 = rptObj.ui.buttons.validate(\"phone\").click([rptObj.js.window.alert(\"phone\")])\n",
    "\n",
    "# Change the CSS Style of the second button\n",
    "button2.css({\"margin-left\": '5px'})\n",
    "\n",
    "# Transpile to JavaScriot and create a report in codepen (python will automatically open the default browser)\n",
    "rptObj.outs.browser.codepen()\n"
   ]
  }
 ],
 "metadata": {
  "kernelspec": {
   "display_name": "Python 3",
   "language": "python",
   "name": "python3"
  },
  "language_info": {
   "codemirror_mode": {
    "name": "ipython",
    "version": 3
   },
   "file_extension": ".py",
   "mimetype": "text/x-python",
   "name": "python",
   "nbconvert_exporter": "python",
   "pygments_lexer": "ipython3",
   "version": "3.8.2"
  }
 },
 "nbformat": 4,
 "nbformat_minor": 4
}
