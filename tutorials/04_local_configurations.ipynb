{
 "cells": [
  {
   "cell_type": "markdown",
   "metadata": {},
   "source": [
    "<div style=\"float:left;margin:0 10px 10px 0\" markdown=\"1\">\n",
    "    <a href=\"../index.ipynb\">\n",
    "        <img src=\"../static/images/epyklogo_whole_small.png\">\n",
    "    </a>\n",
    "</div>"
   ]
  },
  {
   "cell_type": "markdown",
   "metadata": {},
   "source": [
    "# Local configuration\n",
    "\n",
    "Nothing specific is required to run Epyk locally. By default all the external dependencies will be retrieved on the fly from the only CDNJS repository. So as long as you get an internet connection, you will be able to use it and write reports.\n",
    "\n",
    "All packages used in Epyk are not sending data outside, this is the reason why Google Charts and analytics are not by default embedded in the code library.\n",
    "\n",
    "\n",
    "## Local installation\n",
    "\n",
    "From an existing Python distribution. Even it is not importing any specific package, it is recommanded to use virtual environment to start an Epyk project.\n",
    "\n",
    "Once defined you can use the below command to install Epyk\n",
    "\n",
    "> pip install epyk\n",
    "\n",
    "Once this is achieve it will be already possible to use all the HTML features and to start writting your reports.\n",
    "\n",
    "Epyk interface is done in a way that reports are the same independently of the target system running them. So even if you are starting on static pages, it will be possible reuse this work on your server.\n",
    "\n",
    "\n",
    "## Epyk extensions\n",
    "\n",
    "Two extra packages can be used to write HTML pages wiht more advanced (or standardised) components.\n",
    "\n",
    "In order to use them you need to add them to your Python configuration \n",
    "\n",
    "> pip install epyk_materials\n",
    "\n",
    "This will give you access to most of the features available in [Material Web](https://material.io/develop/web/)\n",
    "\n",
    "> pip install epyk_bootstrap\n",
    "\n",
    "This will give you access to most of the features available in [Boostrap 3 and 4](https://getbootstrap.com/) \n",
    "\n",
    "\n",
    "Report structure will be similar in both cases and the ui features of the core library will still be avialable. It will be possible to mix them !\n",
    "\n",
    "You can find local report example on the dedicated Github repositories\n",
    "\n",
    "- For Bootstrap [here](https://github.com/epykure/epyk-templates-bootstrap)\n",
    "- For Material Web [here](https://github.com/epykure/epyk-materials-templates)\n",
    "\n",
    "\n",
    "<hr>\n",
    "Do not forget that this is a collaborative framework so do not hesitate to give feedbacks and like the different repository to get more visbility.\n",
    "\n",
    "Also any help is more than welcome !"
   ]
  }
 ],
 "metadata": {
  "kernelspec": {
   "display_name": "Python 3",
   "language": "python",
   "name": "python3"
  },
  "language_info": {
   "codemirror_mode": {
    "name": "ipython",
    "version": 3
   },
   "file_extension": ".py",
   "mimetype": "text/x-python",
   "name": "python",
   "nbconvert_exporter": "python",
   "pygments_lexer": "ipython3",
   "version": "3.8.2"
  }
 },
 "nbformat": 4,
 "nbformat_minor": 2
}
