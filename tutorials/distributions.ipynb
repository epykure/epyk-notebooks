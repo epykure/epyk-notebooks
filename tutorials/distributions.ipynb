{
 "cells": [
  {
   "cell_type": "markdown",
   "metadata": {},
   "source": [
    "<div style=\"float:left;margin:0 10px 10px 0\" markdown=\"1\">\n",
    "    <a href=\"index.ipynb\">\n",
    "        <img src=\"../static/images/epyklogo_whole_small.png\">\n",
    "    </a>\n",
    "</div>"
   ]
  },
  {
   "cell_type": "markdown",
   "metadata": {},
   "source": [
    "# Python Distribution\n",
    "\n",
    "The code is implemented in a way it is supposed to work in any Pytho ditribution for any verion 2.x and 3.x.\n",
    "\n",
    "Namely it is working on Python, Jython and IronPython distributions.\n",
    "\n",
    "It is also working on Anaconda.\n",
    "\n",
    "Do not hesitate to share with us any problem with this library, this will help us improving our compatiblity\n",
    "\n",
    "\n",
    "\n",
    "|Distribution   |      version      |  Test   |\n",
    "|---------------|:-----------------:|--------:|\n",
    "| Python        |  3.6              | Passed  |\n",
    "| Python        |  3.7              | Passed  |\n",
    "| Python        |  3.8              | Passed  |\n",
    "\n",
    "\n",
    "<HR />\n",
    "Do not forget that this is a collaborative framework so do not hesitate to give feedbacks and like the different repository to get more visbility.\n",
    "\n",
    "Also any help is more than welcome !"
   ]
  },
  {
   "cell_type": "code",
   "execution_count": null,
   "metadata": {},
   "outputs": [],
   "source": []
  }
 ],
 "metadata": {
  "kernelspec": {
   "display_name": "Python 3",
   "language": "python",
   "name": "python3"
  },
  "language_info": {
   "codemirror_mode": {
    "name": "ipython",
    "version": 3
   },
   "file_extension": ".py",
   "mimetype": "text/x-python",
   "name": "python",
   "nbconvert_exporter": "python",
   "pygments_lexer": "ipython3",
   "version": "3.8.2"
  }
 },
 "nbformat": 4,
 "nbformat_minor": 4
}
