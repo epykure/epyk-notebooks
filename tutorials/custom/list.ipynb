{
 "cells": [
  {
   "cell_type": "markdown",
   "metadata": {},
   "source": [
    "<div style=\"float:left;margin:0 10px 10px 0\" markdown=\"1\">\n",
    "    <a href=\"../../index.ipynb\">\n",
    "        <img src=\"../../static/images/epyklogo_whole_small.png\">\n",
    "    </a>\n",
    "</div>"
   ]
  },
  {
   "cell_type": "markdown",
   "metadata": {},
   "source": [
    "# Custom List\n",
    "\n",
    "It is possible to create in your environment bespoke items for the List component by using the **add_type** function. This will allow you to define your bespoke item dom object (this should be a SVG component, please have a look here for more details about [SVG](https://www.w3schools.com/graphics/svg_circle.asp)).\n",
    "\n",
    "Any item should follow the below rules:\n",
    "- A div **item variable**\n",
    "- A Dom object with a **name \"value\"**\n",
    "\n",
    "\n",
    "## Basic example\n",
    "\n",
    "The below example will create bespoke items."
   ]
  },
  {
   "cell_type": "code",
   "execution_count": 5,
   "metadata": {},
   "outputs": [
    {
     "data": {
      "text/html": [
       "<head>\n",
       "<style>\n",
       "    .cssdivnoborder {margin: 0 ;clear: both ;padding: 0 ;border: 0 ;}\n",
       "\n",
       "</style>\n",
       "\n",
       "</head>\n",
       "<body>\n",
       "<ul id=\"items_1997652417600\" style=\"font-size:inherit;font-family:inherit;box-sizing:border-box;width:100%;list-style-type:none;padding-left:0px;list-style:none\" class=\"cssdivnoborder\"></ul>\n",
       "<script>\n",
       "require.config({ paths:{}});\n",
       "function ListDyn_bespoke(htmlObj, data, options){\n",
       "var item = document.createElement(\"DIV\"); \n",
       "\n",
       "var span = document.createElement(\"SPAN\");  \n",
       "span.setAttribute('name', 'value'); span.setAttribute('data-valid', true);\n",
       "span.style.color = data.color;\n",
       "\n",
       "var icon = document.createElement(\"I\"); \n",
       "if(typeof data.icon !== 'undefined') {data.icon.split(\" \").forEach(function(s){icon.classList.add(s)})}\n",
       "icon.style.margin = '2px 5px';\n",
       "\n",
       "item.appendChild(icon); \n",
       "item.appendChild(span); \n",
       "\n",
       "if(options.click != null){ \n",
       "  item.style.cursor = 'pointer';\n",
       "  item.onclick = function(event){ var value = this.innerHTML; options.click(event, value) }};\n",
       "if(typeof data === 'object'){ span.innerHTML = data.text} else { span.innerHTML = data }\n",
       "; htmlObj.appendChild(item)\n",
       "      };function Items(htmlObj, data, options){ htmlObj.innerHTML = \"\";\n",
       "      data.forEach(function(item, i){\n",
       "        var li = document.createElement(\"li\");\n",
       "        if(typeof item.type === 'undefined'){window['ListDyn_'+ options.items_type](li, item, options)}\n",
       "        else{window['ListDyn_' + item.type](li, item, options)};\n",
       "        \n",
       "        if(options.delete){\n",
       "          var close = document.createElement(\"i\");\n",
       "          close.classList.add(\"fas\"); close.classList.add(\"fa-times\");\n",
       "          close.style.marginLeft = '10px'; close.style.cursor = 'pointer';\n",
       "          close.onclick = function(event){this.parentNode.remove()};\n",
       "          li.lastChild.style.display = 'inline-block';\n",
       "          li.appendChild(close);\n",
       "        }\n",
       "        li.style.margin = \"5px 0\";\n",
       "        htmlObj.appendChild(li)})};Items(document.getElementById('items_1997652417600'), [{\"text\": \"test 0\", \"color\": \"red\", \"icon\": \"fas fa-ban\"}, {\"text\": \"test 1\", \"color\": \"red\", \"icon\": \"fas fa-ban\"}, {\"text\": \"test 2\", \"color\": \"red\", \"icon\": \"fas fa-ban\"}, {\"text\": \"test 3\", \"color\": \"red\", \"icon\": \"fas fa-ban\"}, {\"text\": \"test 4\", \"color\": \"red\", \"icon\": \"fas fa-ban\"}, {\"text\": \"test 5\", \"color\": \"red\", \"icon\": \"fas fa-ban\"}], {items_type: \"bespoke\",click: null})\n",
       "</script>\n",
       "<body>"
      ],
      "text/plain": [
       "<epyk.core.py.PyOuts.PyOuts at 0x1d11d5cdbe0>"
      ]
     },
     "execution_count": 5,
     "metadata": {},
     "output_type": "execute_result"
    }
   ],
   "source": [
    "from epyk.core.Page import Report\n",
    "\n",
    "# Create a basic report object\n",
    "rptObj = Report()\n",
    "\n",
    "# Stepper data\n",
    "records = []\n",
    "for i in range(6):\n",
    "  records.append({'text': 'test %s' % i, 'color': 'red', 'icon': 'fas fa-ban'})\n",
    "\n",
    "# Create a stepper\n",
    "lt = rptObj.ui.lists.items(records)\n",
    "lt.add_type(\"bespoke\", '''\n",
    "var item = document.createElement(\"DIV\"); \n",
    "\n",
    "var span = document.createElement(\"SPAN\");  \n",
    "span.setAttribute('name', 'value'); span.setAttribute('data-valid', true);\n",
    "span.style.color = data.color;\n",
    "\n",
    "var icon = document.createElement(\"I\"); \n",
    "if(typeof data.icon !== 'undefined') {data.icon.split(\" \").forEach(function(s){icon.classList.add(s)})}\n",
    "icon.style.margin = '2px 5px';\n",
    "\n",
    "item.appendChild(icon); \n",
    "item.appendChild(span); \n",
    "\n",
    "if(options.click != null){ \n",
    "  item.style.cursor = 'pointer';\n",
    "  item.onclick = function(event){ var value = this.innerHTML; options.click(event, value) }};\n",
    "if(typeof data === 'object'){ span.innerHTML = data.text} else { span.innerHTML = data }\n",
    "''', dependencies=['font-awesome'])\n",
    "\n",
    "rptObj.outs.jupyter()"
   ]
  }
 ],
 "metadata": {
  "kernelspec": {
   "display_name": "Python 3",
   "language": "python",
   "name": "python3"
  },
  "language_info": {
   "codemirror_mode": {
    "name": "ipython",
    "version": 3
   },
   "file_extension": ".py",
   "mimetype": "text/x-python",
   "name": "python",
   "nbconvert_exporter": "python",
   "pygments_lexer": "ipython3",
   "version": "3.8.2"
  }
 },
 "nbformat": 4,
 "nbformat_minor": 2
}
