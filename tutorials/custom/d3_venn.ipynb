{
 "cells": [
  {
   "cell_type": "markdown",
   "metadata": {},
   "source": [
    "<div style=\"float:left;margin:0 10px 10px 0\" markdown=\"1\">\n",
    "    <a href=\"../../index.ipynb\">\n",
    "        <img src=\"../../static/images/epyklogo_whole_small.png\">\n",
    "    </a>\n",
    "</div>"
   ]
  },
  {
   "cell_type": "markdown",
   "metadata": {},
   "source": [
    "# Venn"
   ]
  },
  {
   "cell_type": "code",
   "execution_count": 2,
   "metadata": {},
   "outputs": [
    {
     "data": {
      "text/html": [
       "<head>\n",
       "<style>\n",
       "    .cssdivnoborder {margin: 0 ;clear: both ;padding: 0 ;border: 0 ;}\n",
       "\n",
       "</style>\n",
       "\n",
       "</head>\n",
       "<body>\n",
       "<div id=\"script_2454700011328\" style=\"font-size:inherit;font-family:inherit;box-sizing:border-box;width:400px;height:330px\" class=\"cssdivnoborder\"></div>\n",
       "<script>\n",
       "require.config({ paths:{d3: 'https://cdnjs.cloudflare.com/ajax/libs/d3/5.16.0/d3.min', d3_selection: 'https://cdnjs.cloudflare.com/ajax/libs/d3-selection/1.2.0/d3-selection.min', d3_dispatch: 'https://cdnjs.cloudflare.com/ajax/libs/d3-dispatch/1.0.3/d3-dispatch.min', d3_transition: 'https://cdnjs.cloudflare.com/ajax/libs/d3-transition/1.1.1/d3-transition.min', d3_color: 'https://cdnjs.cloudflare.com/ajax/libs/d3-color/1.2.1/d3-color.min', d3_interpolate: 'https://cdnjs.cloudflare.com/ajax/libs/d3-interpolate/1.3.0/d3-interpolate.min', d3_ease: 'https://cdnjs.cloudflare.com/ajax/libs/d3-ease/1.0.3/d3-ease.min', venn: 'https://cdnjs.cloudflare.com/ajax/libs/venn.js/0.2.20/venn.min'}});\n",
       "require(['d3_ease', 'd3_color', 'd3_dispatch', 'd3_selection', 'd3'], function (d3_ease, d3_color, d3_dispatch, d3_selection, d3) { require(['d3_interpolate', 'd3_transition'], function (d3_interpolate, d3_transition) { require(['venn'], function (venn) { function Scriptvenn(htmlObj, data, options){\n",
       "var chart = venn.VennDiagram().width(500).height(400);\n",
       "\n",
       "var div2 = htmlObj.datum(data).call(chart); div2.selectAll(\"text\").style(\"fill\", \"white\");\n",
       "div2.selectAll(\".venn-circle path\").style(\"fill-opacity\", .8).style(\"stroke-width\", 1).style(\"stroke-opacity\", 1).style(\"stroke\", \"fff\");\n",
       "\n",
       "var tooltip = d3.select(\"body\").append(\"div\").attr(\"class\", \"venntooltip\");\n",
       "\n",
       "div2.selectAll(\"g\").on(\"mouseover\", function(d, i) {\n",
       "\n",
       "venn.sortAreas(div2, d);\n",
       "\n",
       "tooltip.transition().duration(40).style(\"opacity\", 1);\n",
       "tooltip.text(d.size + \"% of Audience Two saw \" + d.label);\n",
       "\n",
       "var selection = d3.select(this).transition(\"tooltip\").duration(400);\n",
       "selection.select(\"path\").style(\"stroke-width\", 3).style(\"fill-opacity\", d.sets.length == 1 ? .8 : 0).style(\"stroke-opacity\", 1);})\n",
       "  .on(\"mousemove\", function() {\n",
       "  tooltip.style(\"left\", (d3.event.pageX) + \"px\").style(\"top\", (d3.event.pageY - 28) + \"px\");})\n",
       "\n",
       " .on(\"mouseout\", function(d, i) {\n",
       "      tooltip.transition().duration(2500).style(\"opacity\", 0);\n",
       "      var selection = d3.select(this).transition(\"tooltip\").duration(400);\n",
       "      selection.select(\"path\").style(\"stroke-width\", 3).style(\"fill-opacity\", d.sets.length == 1 ? .8 : 0).style(\"stroke-opacity\", 1);\n",
       "  });\n",
       "};Scriptvenn(d3.select('#script_2454700011328'), [{\"sets\": [\"Audio\"], \"figure\": 27.92, \"label\": \"Audio\", \"size\": 27.92}, {\"sets\": [\"Direct Buy\"], \"figure\": 55.28, \"label\": \"Direct Buy\", \"size\": 55.28}, {\"sets\": [\"Branded Takeover\"], \"figure\": 7.62, \"label\": \"Branded Takeover\", \"size\": 7.62}, {\"sets\": [\"Audio\", \"Direct Buy\"], \"figure\": 3.03, \"label\": \"Audio and Direct Buy\", \"size\": 3.03}, {\"sets\": [\"Audio\", \"Branded Takeover\"], \"figure\": 1.66, \"label\": \"Audio and Branded Takeover\", \"size\": 1.66}, {\"sets\": [\"Direct Buy\", \"Branded Takeover\"], \"figure\": 2.4, \"label\": \"Direct Buy and Branded Takeover\", \"size\": 2.4}, {\"sets\": [\"Audio\", \"Direct Buy\", \"Branded Takeover\"], \"figure\": 1.08, \"label\": \"Audio, Direct Buy, and Branded Takeover\", \"size\": 1.08}], {wdith: 400,height: 330}) }) }) })\n",
       "</script>\n",
       "<body>"
      ],
      "text/plain": [
       "<epyk.core.py.PyOuts.PyOuts at 0x23b8785aee0>"
      ]
     },
     "execution_count": 2,
     "metadata": {},
     "output_type": "execute_result"
    }
   ],
   "source": [
    "from epyk.core.Page import Report\n",
    "\n",
    "rptObj = Report()\n",
    "\n",
    "scripts = [\"https://cdnjs.cloudflare.com/ajax/libs/venn.js/0.2.20/venn.min.js\"]\n",
    "\n",
    "data = [\n",
    "  {'sets':[\"Audio\"], 'figure': 27.92, 'label': \"Audio\", 'size': 27.92},\n",
    "  {'sets':[\"Direct Buy\"], 'figure': 55.28, 'label': \"Direct Buy\", 'size': 55.28},\n",
    "  {'sets':[\"Branded Takeover\"], 'figure': 7.62, 'label': \"Branded Takeover\", 'size': 7.62},\n",
    "  {'sets': [\"Audio\", \"Direct Buy\"], 'figure': 3.03, 'label': \"Audio and Direct Buy\", 'size': 3.03},\n",
    "  {'sets': [\"Audio\", \"Branded Takeover\"], 'figure': 1.66, 'label': \"Audio and Branded Takeover\", 'size': 1.66},\n",
    "  {'sets': [\"Direct Buy\", \"Branded Takeover\"], 'figure': 2.40, 'label': \"Direct Buy and Branded Takeover\", 'size': 2.40},\n",
    "  {'sets': [\"Audio\", \"Direct Buy\", \"Branded Takeover\"], 'figure': 1.08, 'label': \"Audio, Direct Buy, and Branded Takeover\", 'size': 1.08}\n",
    "  ]\n",
    "\n",
    "chart = rptObj.ui.charts.d3.script('venn', scripts, data, dependencies=['d3-ease', 'd3-interpolate', 'd3-color', 'd3-dispatch', 'd3-transition', 'd3-selection'])\n",
    "chart.loader('''\n",
    "var chart = venn.VennDiagram().width(500).height(400);\n",
    "\n",
    "var div2 = htmlObj.datum(data).call(chart); div2.selectAll(\"text\").style(\"fill\", \"white\");\n",
    "div2.selectAll(\".venn-circle path\").style(\"fill-opacity\", .8).style(\"stroke-width\", 1).style(\"stroke-opacity\", 1).style(\"stroke\", \"fff\");\n",
    "\n",
    "var tooltip = d3.select(\"body\").append(\"div\").attr(\"class\", \"venntooltip\");\n",
    "\n",
    "div2.selectAll(\"g\").on(\"mouseover\", function(d, i) {\n",
    "\n",
    "venn.sortAreas(div2, d);\n",
    "\n",
    "tooltip.transition().duration(40).style(\"opacity\", 1);\n",
    "tooltip.text(d.size + \"% of Audience Two saw \" + d.label);\n",
    "\n",
    "var selection = d3.select(this).transition(\"tooltip\").duration(400);\n",
    "selection.select(\"path\").style(\"stroke-width\", 3).style(\"fill-opacity\", d.sets.length == 1 ? .8 : 0).style(\"stroke-opacity\", 1);})\n",
    "  .on(\"mousemove\", function() {\n",
    "  tooltip.style(\"left\", (d3.event.pageX) + \"px\").style(\"top\", (d3.event.pageY - 28) + \"px\");})\n",
    "\n",
    " .on(\"mouseout\", function(d, i) {\n",
    "      tooltip.transition().duration(2500).style(\"opacity\", 0);\n",
    "      var selection = d3.select(this).transition(\"tooltip\").duration(400);\n",
    "      selection.select(\"path\").style(\"stroke-width\", 3).style(\"fill-opacity\", d.sets.length == 1 ? .8 : 0).style(\"stroke-opacity\", 1);\n",
    "  });\n",
    "''')\n",
    "\n",
    "rptObj.outs.jupyter()\n"
   ]
  }
 ],
 "metadata": {
  "kernelspec": {
   "display_name": "Python 3",
   "language": "python",
   "name": "python3"
  },
  "language_info": {
   "codemirror_mode": {
    "name": "ipython",
    "version": 3
   },
   "file_extension": ".py",
   "mimetype": "text/x-python",
   "name": "python",
   "nbconvert_exporter": "python",
   "pygments_lexer": "ipython3",
   "version": "3.8.2"
  }
 },
 "nbformat": 4,
 "nbformat_minor": 2
}
