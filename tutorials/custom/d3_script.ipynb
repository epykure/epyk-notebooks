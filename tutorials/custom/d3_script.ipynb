{
 "cells": [
  {
   "cell_type": "markdown",
   "metadata": {},
   "source": [
    "<div style=\"float:left;margin:0 10px 10px 0\" markdown=\"1\">\n",
    "    <a href=\"../../index.ipynb\">\n",
    "        <img src=\"../../static/images/epyklogo_whole_small.png\">\n",
    "    </a>\n",
    "</div>"
   ]
  },
  {
   "cell_type": "markdown",
   "metadata": {},
   "source": [
    "# World Cloud\n",
    "\n",
    "\n",
    "Other examples\n",
    "- [venn](d3_venn.ipynb)\n",
    "- [bubble](d3_bubble.ipynb)\n"
   ]
  },
  {
   "cell_type": "code",
   "execution_count": 3,
   "metadata": {},
   "outputs": [
    {
     "data": {
      "text/html": [
       "<head>\n",
       "<style>\n",
       "    .cssdivnoborder {margin: 0 ;clear: both ;padding: 0 ;border: 0 ;}\n",
       "\n",
       "</style>\n",
       "\n",
       "</head>\n",
       "<body>\n",
       "<div id=\"script_2495951524528\" style=\"font-size:inherit;font-family:inherit;box-sizing:border-box;width:300px;height:330px\" class=\"cssdivnoborder\"></div>\n",
       "<script>\n",
       "require.config({ paths:{d3: 'https://cdnjs.cloudflare.com/ajax/libs/d3/5.16.0/d3.min', cloud: 'https://cdnjs.cloudflare.com/ajax/libs/d3-cloud/1.2.5/d3.layout.cloud.min'}});\n",
       "require(['d3'], function (d3) { require(['cloud'], function (cloud) { function Script(htmlObj, data, options){\n",
       "var layout = cloud().size([options.wdith, options.height])\n",
       "    .words(data.map(function(d) { return {text: d, size: 10 + Math.random() * 90}; }))\n",
       "    .padding(5).rotate(function() { return ~~(Math.random() * 2) * 90; })\n",
       "    .font(\"Impact\").fontSize(function(d) { return d.size; }).on(\"end\", draw);\n",
       "layout.start();\n",
       "\n",
       "function draw(words) {\n",
       "  htmlObj.append(\"svg\")\n",
       "      .attr(\"width\", layout.size()[0]).attr(\"height\", layout.size()[1])\n",
       "    .append(\"g\")\n",
       "      .attr(\"transform\", \"translate(\" + layout.size()[0] / 2 + \",\" + layout.size()[1] / 2 + \")\")\n",
       "    .selectAll(\"text\")\n",
       "      .data(words)\n",
       "    .enter().append(\"text\")\n",
       "      .style(\"font-size\", function(d) { return d.size + \"px\"; })\n",
       "      .style(\"font-family\", \"Impact\")\n",
       "      .attr(\"text-anchor\", \"middle\")\n",
       "      .attr(\"transform\", function(d) {\n",
       "        return \"translate(\" + [d.x, d.y] + \")rotate(\" + d.rotate + \")\";\n",
       "      })\n",
       "      .text(function(d) { return d.text; });\n",
       "};\n",
       "\n",
       "};Script(d3.select('#script_2495951524528'), [\"This\", \"sn\", \"example\", \"of\", \"text\", \"in\", \"the\", \"world\", \"cloud\"], {wdith: 300,height: 330}) }) })\n",
       "</script>\n",
       "<body>"
      ],
      "text/plain": [
       "<epyk.core.py.PyOuts.PyOuts at 0x24521b58af0>"
      ]
     },
     "execution_count": 3,
     "metadata": {},
     "output_type": "execute_result"
    }
   ],
   "source": [
    "from epyk.core.Page import Report\n",
    "\n",
    "rptObj = Report()\n",
    "d3s = rptObj.ui.charts.d3.script(\n",
    "  'cloud',\n",
    "  [\n",
    "    \"https://cdnjs.cloudflare.com/ajax/libs/d3-cloud/1.2.5/d3.layout.cloud.min.js\",\n",
    "   ],\n",
    ")\n",
    "\n",
    "\n",
    "d3s.loader('''\n",
    "var layout = cloud().size([options.wdith, options.height])\n",
    "    .words(data.map(function(d) { return {text: d, size: 10 + Math.random() * 90}; }))\n",
    "    .padding(5).rotate(function() { return ~~(Math.random() * 2) * 90; })\n",
    "    .font(\"Impact\").fontSize(function(d) { return d.size; }).on(\"end\", draw);\n",
    "layout.start();\n",
    "\n",
    "function draw(words) {\n",
    "  htmlObj.append(\"svg\")\n",
    "      .attr(\"width\", layout.size()[0]).attr(\"height\", layout.size()[1])\n",
    "    .append(\"g\")\n",
    "      .attr(\"transform\", \"translate(\" + layout.size()[0] / 2 + \",\" + layout.size()[1] / 2 + \")\")\n",
    "    .selectAll(\"text\")\n",
    "      .data(words)\n",
    "    .enter().append(\"text\")\n",
    "      .style(\"font-size\", function(d) { return d.size + \"px\"; })\n",
    "      .style(\"font-family\", \"Impact\")\n",
    "      .attr(\"text-anchor\", \"middle\")\n",
    "      .attr(\"transform\", function(d) {\n",
    "        return \"translate(\" + [d.x, d.y] + \")rotate(\" + d.rotate + \")\";\n",
    "      })\n",
    "      .text(function(d) { return d.text; });\n",
    "};\n",
    "\n",
    "''')\n",
    "\n",
    "d3s.data(\"This sn example of text in the world cloud\")\n",
    "\n",
    "rptObj.outs.jupyter()\n"
   ]
  }
 ],
 "metadata": {
  "kernelspec": {
   "display_name": "Python 3",
   "language": "python",
   "name": "python3"
  },
  "language_info": {
   "codemirror_mode": {
    "name": "ipython",
    "version": 3
   },
   "file_extension": ".py",
   "mimetype": "text/x-python",
   "name": "python",
   "nbconvert_exporter": "python",
   "pygments_lexer": "ipython3",
   "version": "3.8.2"
  }
 },
 "nbformat": 4,
 "nbformat_minor": 2
}
