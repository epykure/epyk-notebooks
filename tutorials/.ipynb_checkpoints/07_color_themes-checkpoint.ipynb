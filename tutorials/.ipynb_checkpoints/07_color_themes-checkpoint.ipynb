{
 "cells": [
  {
   "cell_type": "markdown",
   "metadata": {},
   "source": [
    "<div style=\"float:left;margin:0 10px 10px 0\" markdown=\"1\">\n",
    "    <a href=\"../index.ipynb\">\n",
    "        <img src=\"../static/images/epyklogo_whole_small.png\">\n",
    "    </a>\n",
    "</div>"
   ]
  },
  {
   "cell_type": "markdown",
   "metadata": {},
   "source": [
    "# Colors"
   ]
  },
  {
   "cell_type": "code",
   "execution_count": 2,
   "metadata": {},
   "outputs": [
    {
     "data": {
      "text/html": [
       "<head>\n",
       "<style>\n",
       "    .cssdivnoborder {margin: 0 ;clear: both ;padding: 0 ;border: 0 ;}\n",
       ".csstitle2 {padding: 0 ;margin-top: 5px ;font-weight: bold ;text-transform: uppercase ;white-space: pre-wrap ;color: #388e3c ;font-size: 20px ;}\n",
       ".csstitle3 {padding: 0 ;margin-top: 5px ;font-weight: bold ;text-transform: uppercase ;white-space: pre-wrap ;color: #388e3c ;font-family: Calibri ;font-size: 14px ;}\n",
       "\n",
       "</style>\n",
       "\n",
       "</head>\n",
       "<body>\n",
       "<div id=\"title_2651475555616\" style=\"width:auto;margin:5px 0 5px 0;display:block;margin-right:10px\" class=\"cssdivnoborder csstitle2\"><a></a>Colors</div>\n",
       "<div id=\"title_2651475400688\" style=\"width:auto;margin:5px 0 5px 0;display:block;margin-right:10px\" class=\"cssdivnoborder csstitle3\"><a></a>Color component</div>\n",
       "<script>\n",
       "var jQuery = $;\n",
       "require.config({ paths:{}});\n",
       "\n",
       "</script>\n",
       "<body>"
      ],
      "text/plain": [
       "<epyk.core.py.PyOuts.PyOuts at 0x26958423ca0>"
      ]
     },
     "execution_count": 2,
     "metadata": {},
     "output_type": "execute_result"
    }
   ],
   "source": [
    "from epyk.core.Page import Report\n",
    "\n",
    "# Create a basic report object\n",
    "rptObj = Report()\n",
    "\n",
    "rptObj.ui.title(\"Colors\", 2)\n",
    "rptObj.ui.title(\"Color component\", 3)\n",
    "\n",
    "rptObj.outs.jupyter()"
   ]
  },
  {
   "cell_type": "code",
   "execution_count": 4,
   "metadata": {},
   "outputs": [
    {
     "name": "stdout",
     "output_type": "stream",
     "text": [
      "[255, 0, 0]\n"
     ]
    }
   ],
   "source": [
    "from epyk.core.Page import Report\n",
    "from epyk.core.css import Colors\n",
    "\n",
    "rgb = Colors.getHexToRgb(\"#FF0000\")\n",
    "print(rgb)"
   ]
  },
  {
   "cell_type": "code",
   "execution_count": 6,
   "metadata": {},
   "outputs": [
    {
     "name": "stdout",
     "output_type": "stream",
     "text": [
      "rgba(255, 0, 0, 0.5)\n"
     ]
    }
   ],
   "source": [
    "from epyk.core.Page import Report\n",
    "from epyk.core.css import Colors\n",
    "\n",
    "\n",
    "rgba = Colors.rgba(*[255, 0, 0], alpha=.5)\n",
    "print(rgba)"
   ]
  },
  {
   "cell_type": "code",
   "execution_count": 16,
   "metadata": {},
   "outputs": [
    {
     "data": {
      "text/html": [
       "<head>\n",
       "<style>\n",
       "    .cssdivnoborder {margin: 0 ;clear: both ;padding: 0 ;border: 0 ;}\n",
       ".csstitle2 {padding: 0 ;margin-top: 5px ;font-weight: bold ;text-transform: uppercase ;white-space: pre-wrap ;color: #1976d2 ;font-size: 20px ;}\n",
       "\n",
       "</style>\n",
       "\n",
       "</head>\n",
       "<body>\n",
       "<div id=\"title_2651476589776\" style=\"width:auto;margin:5px 0 5px 0;display:block;margin-right:10px\" class=\"cssdivnoborder csstitle2\"><a></a>Blue Theme</div>\n",
       "<table id=\"table_2651476600864\" style=\"font-size:inherit;font-family:inherit;box-sizing:border-box;width:100%;table-layout:auto;white-space:nowrap;border-collapse:collapse\" class=\"cssdivnoborder\"><thead id=\"tsection_2651476602256\" style=\"font-size:inherit;font-family:inherit;box-sizing:border-box\" class=\"cssdivnoborder\"></thead><tbody id=\"tsection_2651476628288\" style=\"font-size:inherit;font-family:inherit;box-sizing:border-box\" class=\"cssdivnoborder\"><tr id=\"tr_2651476631216\" style=\"font-size:inherit;font-family:inherit;box-sizing:border-box;width:100%;height:100%;text-align:left;justify-content:None\" class=\"cssdivnoborder\"><td align=\"left\" colspan=\"4\" id=\"td_2651475513056\" style=\"font-size:inherit;font-family:inherit;box-sizing:border-box;white-space:nowrap\" class=\"cssdivnoborder\">base colors</td></tr><tr id=\"tr_2651476742048\" style=\"font-size:inherit;font-family:inherit;box-sizing:border-box;width:100%;height:100%;text-align:left;justify-content:None\" class=\"cssdivnoborder\"><td align=\"center\" id=\"td_2651476763936\" style=\"font-size:inherit;font-family:inherit;box-sizing:border-box;white-space:nowrap\" class=\"cssdivnoborder\"><div id=\"div_2651476641872\" style=\"font-size:12px;vertical-align:middle;box-sizing:border-box;width:110px;height:25px;text-align:center;background-color:#e3f2fd;line-height:25px;color:black;border:1px solid black\" class=\"cssdivnoborder\">#e3f2fd</div></td><td align=\"center\" id=\"td_2651476764272\" style=\"font-size:inherit;font-family:inherit;box-sizing:border-box;white-space:nowrap\" class=\"cssdivnoborder\"><div id=\"div_2651476643312\" style=\"font-size:12px;vertical-align:middle;box-sizing:border-box;width:110px;height:25px;text-align:center;background-color:#bbdefb;line-height:25px;color:black;border:1px solid black\" class=\"cssdivnoborder\">#bbdefb</div></td><td align=\"center\" id=\"td_2651476765568\" style=\"font-size:inherit;font-family:inherit;box-sizing:border-box;white-space:nowrap\" class=\"cssdivnoborder\"><div id=\"div_2651476685728\" style=\"font-size:12px;vertical-align:middle;box-sizing:border-box;width:110px;height:25px;text-align:center;background-color:#90caf9;line-height:25px;color:black;border:1px solid black\" class=\"cssdivnoborder\">#90caf9</div></td><td align=\"center\" id=\"td_2651476787408\" style=\"font-size:inherit;font-family:inherit;box-sizing:border-box;white-space:nowrap\" class=\"cssdivnoborder\"><div id=\"div_2651476687120\" style=\"font-size:12px;vertical-align:middle;box-sizing:border-box;width:110px;height:25px;text-align:center;background-color:#64b5f6;line-height:25px;color:black;border:1px solid black\" class=\"cssdivnoborder\">#64b5f6</div></td></tr><tr id=\"tr_2651476762928\" style=\"font-size:inherit;font-family:inherit;box-sizing:border-box;width:100%;height:100%;text-align:left;justify-content:None\" class=\"cssdivnoborder\"><td align=\"center\" id=\"td_2651476790960\" style=\"font-size:inherit;font-family:inherit;box-sizing:border-box;white-space:nowrap\" class=\"cssdivnoborder\"><div id=\"div_2651476688512\" style=\"font-size:12px;vertical-align:middle;box-sizing:border-box;width:110px;height:25px;text-align:center;background-color:#42a5f5;line-height:25px;color:black;border:1px solid black\" class=\"cssdivnoborder\">#42a5f5</div></td><td align=\"center\" id=\"td_2651476815936\" style=\"font-size:inherit;font-family:inherit;box-sizing:border-box;white-space:nowrap\" class=\"cssdivnoborder\"><div id=\"div_2651476718640\" style=\"font-size:12px;vertical-align:middle;box-sizing:border-box;width:110px;height:25px;text-align:center;background-color:#2196f3;line-height:25px;color:black;border:1px solid black\" class=\"cssdivnoborder\">#2196f3</div></td><td align=\"center\" id=\"td_2651476817232\" style=\"font-size:inherit;font-family:inherit;box-sizing:border-box;white-space:nowrap\" class=\"cssdivnoborder\"><div id=\"div_2651476720032\" style=\"font-size:12px;vertical-align:middle;box-sizing:border-box;width:110px;height:25px;text-align:center;background-color:#1e88e5;line-height:25px;color:black;border:1px solid black\" class=\"cssdivnoborder\">#1e88e5</div></td><td align=\"center\" id=\"td_2651476818528\" style=\"font-size:inherit;font-family:inherit;box-sizing:border-box;white-space:nowrap\" class=\"cssdivnoborder\"><div id=\"div_2651476721424\" style=\"font-size:12px;vertical-align:middle;box-sizing:border-box;width:110px;height:25px;text-align:center;background-color:#1976d2;line-height:25px;color:black;border:1px solid black\" class=\"cssdivnoborder\">#1976d2</div></td></tr><tr id=\"tr_2651476789952\" style=\"font-size:inherit;font-family:inherit;box-sizing:border-box;width:100%;height:100%;text-align:left;justify-content:None\" class=\"cssdivnoborder\"><td align=\"center\" id=\"td_2651476842624\" style=\"font-size:inherit;font-family:inherit;box-sizing:border-box;white-space:nowrap\" class=\"cssdivnoborder\"><div id=\"div_2651476739264\" style=\"font-size:12px;vertical-align:middle;box-sizing:border-box;width:110px;height:25px;text-align:center;background-color:#1565c0;line-height:25px;color:black;border:1px solid black\" class=\"cssdivnoborder\">#1565c0</div></td><td align=\"center\" id=\"td_2651476842960\" style=\"font-size:inherit;font-family:inherit;box-sizing:border-box;white-space:nowrap\" class=\"cssdivnoborder\"><div id=\"div_2651476740656\" style=\"font-size:12px;vertical-align:middle;box-sizing:border-box;width:110px;height:25px;text-align:center;background-color:#0d47a1;line-height:25px;color:black;border:1px solid black\" class=\"cssdivnoborder\">#0d47a1</div></td></tr><tr id=\"tr_2651476870000\" style=\"font-size:inherit;font-family:inherit;box-sizing:border-box;width:100%;height:100%;text-align:left;justify-content:None\" class=\"cssdivnoborder\"><td align=\"left\" colspan=\"1\" id=\"td_2651476640768\" style=\"font-size:inherit;font-family:inherit;box-sizing:border-box;white-space:nowrap\" class=\"cssdivnoborder\">grey colors</td></tr><tr id=\"tr_2651476973984\" style=\"font-size:inherit;font-family:inherit;box-sizing:border-box;width:100%;height:100%;text-align:left;justify-content:None\" class=\"cssdivnoborder\"><td align=\"center\" id=\"td_2651476975328\" style=\"font-size:inherit;font-family:inherit;box-sizing:border-box;white-space:nowrap\" class=\"cssdivnoborder\"><div id=\"div_2651476872352\" style=\"font-size:12px;vertical-align:middle;box-sizing:border-box;width:110px;height:25px;text-align:center;background-color:#FFFFFF;line-height:25px;color:black;border:1px solid black\" class=\"cssdivnoborder\">#FFFFFF</div></td><td align=\"center\" id=\"td_2651476988016\" style=\"font-size:inherit;font-family:inherit;box-sizing:border-box;white-space:nowrap\" class=\"cssdivnoborder\"><div id=\"div_2651476890240\" style=\"font-size:12px;vertical-align:middle;box-sizing:border-box;width:110px;height:25px;text-align:center;background-color:#f5f5f5;line-height:25px;color:black;border:1px solid black\" class=\"cssdivnoborder\">#f5f5f5</div></td><td align=\"center\" id=\"td_2651476989312\" style=\"font-size:inherit;font-family:inherit;box-sizing:border-box;white-space:nowrap\" class=\"cssdivnoborder\"><div id=\"div_2651476891632\" style=\"font-size:12px;vertical-align:middle;box-sizing:border-box;width:110px;height:25px;text-align:center;background-color:#eeeeee;line-height:25px;color:black;border:1px solid black\" class=\"cssdivnoborder\">#eeeeee</div></td><td align=\"center\" id=\"td_2651476990608\" style=\"font-size:inherit;font-family:inherit;box-sizing:border-box;white-space:nowrap\" class=\"cssdivnoborder\"><div id=\"div_2651476893024\" style=\"font-size:12px;vertical-align:middle;box-sizing:border-box;width:110px;height:25px;text-align:center;background-color:#e0e0e0;line-height:25px;color:black;border:1px solid black\" class=\"cssdivnoborder\">#e0e0e0</div></td></tr><tr id=\"tr_2651476974320\" style=\"font-size:inherit;font-family:inherit;box-sizing:border-box;width:100%;height:100%;text-align:left;justify-content:None\" class=\"cssdivnoborder\"><td align=\"center\" id=\"td_2651477026992\" style=\"font-size:inherit;font-family:inherit;box-sizing:border-box;white-space:nowrap\" class=\"cssdivnoborder\"><div id=\"div_2651476919056\" style=\"font-size:12px;vertical-align:middle;box-sizing:border-box;width:110px;height:25px;text-align:center;background-color:#bdbdbd;line-height:25px;color:black;border:1px solid black\" class=\"cssdivnoborder\">#bdbdbd</div></td><td align=\"center\" id=\"td_2651477027328\" style=\"font-size:inherit;font-family:inherit;box-sizing:border-box;white-space:nowrap\" class=\"cssdivnoborder\"><div id=\"div_2651476920448\" style=\"font-size:12px;vertical-align:middle;box-sizing:border-box;width:110px;height:25px;text-align:center;background-color:#9e9e9e;line-height:25px;color:black;border:1px solid black\" class=\"cssdivnoborder\">#9e9e9e</div></td><td align=\"center\" id=\"td_2651477028624\" style=\"font-size:inherit;font-family:inherit;box-sizing:border-box;white-space:nowrap\" class=\"cssdivnoborder\"><div id=\"div_2651476921840\" style=\"font-size:12px;vertical-align:middle;box-sizing:border-box;width:110px;height:25px;text-align:center;background-color:#757575;line-height:25px;color:black;border:1px solid black\" class=\"cssdivnoborder\">#757575</div></td><td align=\"center\" id=\"td_2651477042272\" style=\"font-size:inherit;font-family:inherit;box-sizing:border-box;white-space:nowrap\" class=\"cssdivnoborder\"><div id=\"div_2651476947872\" style=\"font-size:12px;vertical-align:middle;box-sizing:border-box;width:110px;height:25px;text-align:center;background-color:#616161;line-height:25px;color:black;border:1px solid black\" class=\"cssdivnoborder\">#616161</div></td></tr><tr id=\"tr_2651477025984\" style=\"font-size:inherit;font-family:inherit;box-sizing:border-box;width:100%;height:100%;text-align:left;justify-content:None\" class=\"cssdivnoborder\"><td align=\"center\" id=\"td_2651477070464\" style=\"font-size:inherit;font-family:inherit;box-sizing:border-box;white-space:nowrap\" class=\"cssdivnoborder\"><div id=\"div_2651476949264\" style=\"font-size:12px;vertical-align:middle;box-sizing:border-box;width:110px;height:25px;text-align:center;background-color:#424242;line-height:25px;color:black;border:1px solid black\" class=\"cssdivnoborder\">#424242</div></td><td align=\"center\" id=\"td_2651477070800\" style=\"font-size:inherit;font-family:inherit;box-sizing:border-box;white-space:nowrap\" class=\"cssdivnoborder\"><div id=\"div_2651476950656\" style=\"font-size:12px;vertical-align:middle;box-sizing:border-box;width:110px;height:25px;text-align:center;background-color:#212121;line-height:25px;color:black;border:1px solid black\" class=\"cssdivnoborder\">#212121</div></td><td align=\"center\" id=\"td_2651477072096\" style=\"font-size:inherit;font-family:inherit;box-sizing:border-box;white-space:nowrap\" class=\"cssdivnoborder\"><div id=\"div_2651476972592\" style=\"font-size:12px;vertical-align:middle;box-sizing:border-box;width:110px;height:25px;text-align:center;background-color:#000000;line-height:25px;color:black;border:1px solid black\" class=\"cssdivnoborder\">#000000</div></td></tr><tr id=\"tr_2651477095040\" style=\"font-size:inherit;font-family:inherit;box-sizing:border-box;width:100%;height:100%;text-align:left;justify-content:None\" class=\"cssdivnoborder\"><td align=\"left\" colspan=\"1\" id=\"td_2651476871296\" style=\"font-size:inherit;font-family:inherit;box-sizing:border-box;white-space:nowrap\" class=\"cssdivnoborder\">charts colors</td></tr><tr id=\"tr_2651477235360\" style=\"font-size:inherit;font-family:inherit;box-sizing:border-box;width:100%;height:100%;text-align:left;justify-content:None\" class=\"cssdivnoborder\"><td align=\"center\" id=\"td_2651477236704\" style=\"font-size:inherit;font-family:inherit;box-sizing:border-box;white-space:nowrap\" class=\"cssdivnoborder\"><div id=\"div_2651477097392\" style=\"font-size:12px;vertical-align:middle;box-sizing:border-box;width:110px;height:25px;text-align:center;background-color:#293342;line-height:25px;color:black;border:1px solid black\" class=\"cssdivnoborder\">#293342</div></td><td align=\"center\" id=\"td_2651477237040\" style=\"font-size:inherit;font-family:inherit;box-sizing:border-box;white-space:nowrap\" class=\"cssdivnoborder\"><div id=\"div_2651477115280\" style=\"font-size:12px;vertical-align:middle;box-sizing:border-box;width:110px;height:25px;text-align:center;background-color:#334D6B;line-height:25px;color:black;border:1px solid black\" class=\"cssdivnoborder\">#334D6B</div></td><td align=\"center\" id=\"td_2651477267072\" style=\"font-size:inherit;font-family:inherit;box-sizing:border-box;white-space:nowrap\" class=\"cssdivnoborder\"><div id=\"div_2651477116672\" style=\"font-size:12px;vertical-align:middle;box-sizing:border-box;width:110px;height:25px;text-align:center;background-color:#aabbee;line-height:25px;color:black;border:1px solid black\" class=\"cssdivnoborder\">#aabbee</div></td><td align=\"center\" id=\"td_2651477268368\" style=\"font-size:inherit;font-family:inherit;box-sizing:border-box;white-space:nowrap\" class=\"cssdivnoborder\"><div id=\"div_2651477118064\" style=\"font-size:12px;vertical-align:middle;box-sizing:border-box;width:110px;height:25px;text-align:center;background-color:#6677bb;line-height:25px;color:black;border:1px solid black\" class=\"cssdivnoborder\">#6677bb</div></td></tr><tr id=\"tr_2651477235696\" style=\"font-size:inherit;font-family:inherit;box-sizing:border-box;width:100%;height:100%;text-align:left;justify-content:None\" class=\"cssdivnoborder\"><td align=\"center\" id=\"td_2651477296560\" style=\"font-size:inherit;font-family:inherit;box-sizing:border-box;white-space:nowrap\" class=\"cssdivnoborder\"><div id=\"div_2651477152288\" style=\"font-size:12px;vertical-align:middle;box-sizing:border-box;width:110px;height:25px;text-align:center;background-color:#8B98E8;line-height:25px;color:black;border:1px solid black\" class=\"cssdivnoborder\">#8B98E8</div></td><td align=\"center\" id=\"td_2651477296896\" style=\"font-size:inherit;font-family:inherit;box-sizing:border-box;white-space:nowrap\" class=\"cssdivnoborder\"><div id=\"div_2651477153680\" style=\"font-size:12px;vertical-align:middle;box-sizing:border-box;width:110px;height:25px;text-align:center;background-color:#005566;line-height:25px;color:black;border:1px solid black\" class=\"cssdivnoborder\">#005566</div></td><td align=\"center\" id=\"td_2651477298192\" style=\"font-size:inherit;font-family:inherit;box-sizing:border-box;white-space:nowrap\" class=\"cssdivnoborder\"><div id=\"div_2651477155072\" style=\"font-size:12px;vertical-align:middle;box-sizing:border-box;width:110px;height:25px;text-align:center;background-color:#269493;line-height:25px;color:black;border:1px solid black\" class=\"cssdivnoborder\">#269493</div></td><td align=\"center\" id=\"td_2651477315936\" style=\"font-size:inherit;font-family:inherit;box-sizing:border-box;white-space:nowrap\" class=\"cssdivnoborder\"><div id=\"div_2651477177008\" style=\"font-size:12px;vertical-align:middle;box-sizing:border-box;width:110px;height:25px;text-align:center;background-color:#66bbaa;line-height:25px;color:black;border:1px solid black\" class=\"cssdivnoborder\">#66bbaa</div></td></tr><tr id=\"tr_2651477295552\" style=\"font-size:inherit;font-family:inherit;box-sizing:border-box;width:100%;height:100%;text-align:left;justify-content:None\" class=\"cssdivnoborder\"><td align=\"center\" id=\"td_2651477319488\" style=\"font-size:inherit;font-family:inherit;box-sizing:border-box;white-space:nowrap\" class=\"cssdivnoborder\"><div id=\"div_2651477178400\" style=\"font-size:12px;vertical-align:middle;box-sizing:border-box;width:110px;height:25px;text-align:center;background-color:#bbeeee;line-height:25px;color:black;border:1px solid black\" class=\"cssdivnoborder\">#bbeeee</div></td><td align=\"center\" id=\"td_2651477344464\" style=\"font-size:inherit;font-family:inherit;box-sizing:border-box;white-space:nowrap\" class=\"cssdivnoborder\"><div id=\"div_2651477179792\" style=\"font-size:12px;vertical-align:middle;box-sizing:border-box;width:110px;height:25px;text-align:center;background-color:#4e1c72;line-height:25px;color:black;border:1px solid black\" class=\"cssdivnoborder\">#4e1c72</div></td><td align=\"center\" id=\"td_2651477345760\" style=\"font-size:inherit;font-family:inherit;box-sizing:border-box;white-space:nowrap\" class=\"cssdivnoborder\"><div id=\"div_2651477201728\" style=\"font-size:12px;vertical-align:middle;box-sizing:border-box;width:110px;height:25px;text-align:center;background-color:#bb88ff;line-height:25px;color:black;border:1px solid black\" class=\"cssdivnoborder\">#bb88ff</div></td><td align=\"center\" id=\"td_2651477347056\" style=\"font-size:inherit;font-family:inherit;box-sizing:border-box;white-space:nowrap\" class=\"cssdivnoborder\"><div id=\"div_2651475782192\" style=\"font-size:12px;vertical-align:middle;box-sizing:border-box;width:110px;height:25px;text-align:center;background-color:#d1b3ff;line-height:25px;color:black;border:1px solid black\" class=\"cssdivnoborder\">#d1b3ff</div></td></tr><tr id=\"tr_2651477318480\" style=\"font-size:inherit;font-family:inherit;box-sizing:border-box;width:100%;height:100%;text-align:left;justify-content:None\" class=\"cssdivnoborder\"><td align=\"center\" id=\"td_2651477371152\" style=\"font-size:inherit;font-family:inherit;box-sizing:border-box;white-space:nowrap\" class=\"cssdivnoborder\"><div id=\"div_2651475780128\" style=\"font-size:12px;vertical-align:middle;box-sizing:border-box;width:110px;height:25px;text-align:center;background-color:#d15f32;line-height:25px;color:black;border:1px solid black\" class=\"cssdivnoborder\">#d15f32</div></td><td align=\"center\" id=\"td_2651477371488\" style=\"font-size:inherit;font-family:inherit;box-sizing:border-box;white-space:nowrap\" class=\"cssdivnoborder\"><div id=\"div_2651477202448\" style=\"font-size:12px;vertical-align:middle;box-sizing:border-box;width:110px;height:25px;text-align:center;background-color:#ffccaa;line-height:25px;color:black;border:1px solid black\" class=\"cssdivnoborder\">#ffccaa</div></td><td align=\"center\" id=\"td_2651477372784\" style=\"font-size:inherit;font-family:inherit;box-sizing:border-box;white-space:nowrap\" class=\"cssdivnoborder\"><div id=\"div_2651477203840\" style=\"font-size:12px;vertical-align:middle;box-sizing:border-box;width:110px;height:25px;text-align:center;background-color:#ffeebb;line-height:25px;color:black;border:1px solid black\" class=\"cssdivnoborder\">#ffeebb</div></td><td align=\"center\" id=\"td_2651477394624\" style=\"font-size:inherit;font-family:inherit;box-sizing:border-box;white-space:nowrap\" class=\"cssdivnoborder\"><div id=\"div_2651477233968\" style=\"font-size:12px;vertical-align:middle;box-sizing:border-box;width:110px;height:25px;text-align:center;background-color:#485d8c;line-height:25px;color:black;border:1px solid black\" class=\"cssdivnoborder\">#485d8c</div></td></tr></tbody><tfoot id=\"tsection_2651476629728\" style=\"font-size:inherit;font-family:inherit;box-sizing:border-box\" class=\"cssdivnoborder\"></tfoot></table>\n",
       "<script>\n",
       "var jQuery = $;\n",
       "require.config({ paths:{}});\n",
       "\n",
       "</script>\n",
       "<body>"
      ],
      "text/plain": [
       "<epyk.core.py.PyOuts.PyOuts at 0x2695859b790>"
      ]
     },
     "execution_count": 16,
     "metadata": {},
     "output_type": "execute_result"
    }
   ],
   "source": [
    "from epyk.core.css.themes import ThemeBlue\n",
    "from epyk.core.Page import Report\n",
    "\n",
    "\n",
    "rptObj = Report()\n",
    "rptObj.theme = ThemeBlue.Blue()\n",
    "rptObj.ui.title(\"Blue Theme\", 2)\n",
    "\n",
    "table = rptObj.ui.layouts.table(options={\"header\": False})\n",
    "table.line(\"base colors\", dim=4)\n",
    "table.from_array([rptObj.ui.images.color(c, color=\"black\") for c in rptObj.theme.colors], 4)\n",
    "table.line(\"grey colors\")\n",
    "table.from_array([rptObj.ui.images.color(c, color=\"black\") for c in rptObj.theme.greys], 4)\n",
    "table.line(\"charts colors\")\n",
    "table.from_array([rptObj.ui.images.color(c, color=\"black\") for c in rptObj.theme.charts], 4)\n",
    "\n",
    "rptObj.outs.jupyter()\n"
   ]
  }
 ],
 "metadata": {
  "kernelspec": {
   "display_name": "Python 3",
   "language": "python",
   "name": "python3"
  },
  "language_info": {
   "codemirror_mode": {
    "name": "ipython",
    "version": 3
   },
   "file_extension": ".py",
   "mimetype": "text/x-python",
   "name": "python",
   "nbconvert_exporter": "python",
   "pygments_lexer": "ipython3",
   "version": "3.8.2"
  }
 },
 "nbformat": 4,
 "nbformat_minor": 2
}
