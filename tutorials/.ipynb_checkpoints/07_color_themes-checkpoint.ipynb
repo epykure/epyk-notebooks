{
 "cells": [
  {
   "cell_type": "markdown",
   "metadata": {},
   "source": [
    "<div style=\"float:left;margin:0 10px 10px 0\" markdown=\"1\">\n",
    "    <a href=\"../index.ipynb\">\n",
    "        <img src=\"../static/images/epyklogo_whole_small.png\">\n",
    "    </a>\n",
    "</div>"
   ]
  },
  {
   "cell_type": "markdown",
   "metadata": {},
   "source": [
    "# Colors"
   ]
  },
  {
   "cell_type": "code",
   "execution_count": 17,
   "metadata": {},
   "outputs": [
    {
     "data": {
      "text/html": [
       "<head>\n",
       "<style>\n",
       "    .cssdivnoborder {margin: 0 ;clear: both ;padding: 0 ;border: 0 ;}\n",
       ".csstitle2 {padding: 0 ;margin-top: 5px ;font-weight: bold ;text-transform: uppercase ;white-space: pre-wrap ;color: #388e3c ;font-size: 20px ;}\n",
       ".csstitle3 {padding: 0 ;margin-top: 5px ;font-weight: bold ;text-transform: uppercase ;white-space: pre-wrap ;color: #388e3c ;font-family: Calibri ;font-size: 14px ;}\n",
       "\n",
       "</style>\n",
       "\n",
       "</head>\n",
       "<body>\n",
       "<div id=\"title_2651476650496\" style=\"width:auto;margin:5px 0 5px 0;display:block;margin-right:10px\" class=\"cssdivnoborder csstitle2\"><a></a>Colors</div>\n",
       "<div id=\"title_2651475400400\" style=\"width:auto;margin:5px 0 5px 0;display:block;margin-right:10px\" class=\"cssdivnoborder csstitle3\"><a></a>Color component</div>\n",
       "<script>\n",
       "var jQuery = $;\n",
       "require.config({ paths:{}});\n",
       "\n",
       "</script>\n",
       "<body>"
      ],
      "text/plain": [
       "<epyk.core.py.PyOuts.PyOuts at 0x269585f2580>"
      ]
     },
     "execution_count": 17,
     "metadata": {},
     "output_type": "execute_result"
    }
   ],
   "source": [
    "from epyk.core.Page import Report\n",
    "\n",
    "# Create a basic report object\n",
    "rptObj = Report()\n",
    "\n",
    "rptObj.ui.title(\"Colors\", 2)\n",
    "rptObj.ui.title(\"Color component\", 3)\n",
    "\n",
    "rptObj.outs.jupyter()"
   ]
  },
  {
   "cell_type": "code",
   "execution_count": 4,
   "metadata": {},
   "outputs": [
    {
     "name": "stdout",
     "output_type": "stream",
     "text": [
      "[255, 0, 0]\n"
     ]
    }
   ],
   "source": [
    "from epyk.core.Page import Report\n",
    "from epyk.core.css import Colors\n",
    "\n",
    "rgb = Colors.getHexToRgb(\"#FF0000\")\n",
    "print(rgb)"
   ]
  },
  {
   "cell_type": "code",
   "execution_count": 6,
   "metadata": {},
   "outputs": [
    {
     "name": "stdout",
     "output_type": "stream",
     "text": [
      "rgba(255, 0, 0, 0.5)\n"
     ]
    }
   ],
   "source": [
    "from epyk.core.Page import Report\n",
    "from epyk.core.css import Colors\n",
    "\n",
    "\n",
    "rgba = Colors.rgba(*[255, 0, 0], alpha=.5)\n",
    "print(rgba)"
   ]
  },
  {
   "cell_type": "code",
   "execution_count": 18,
   "metadata": {
    "scrolled": false
   },
   "outputs": [
    {
     "data": {
      "text/html": [
       "<head>\n",
       "<style>\n",
       "    .cssdivnoborder {margin: 0 ;clear: both ;padding: 0 ;border: 0 ;}\n",
       ".csstitle2 {padding: 0 ;margin-top: 5px ;font-weight: bold ;text-transform: uppercase ;white-space: pre-wrap ;color: #1976d2 ;font-size: 20px ;}\n",
       "\n",
       "</style>\n",
       "\n",
       "</head>\n",
       "<body>\n",
       "<div id=\"title_2651477522800\" style=\"width:auto;margin:5px 0 5px 0;display:block;margin-right:10px\" class=\"cssdivnoborder csstitle2\"><a></a>Blue Theme</div>\n",
       "<table id=\"table_2651477595280\" style=\"font-size:inherit;font-family:inherit;box-sizing:border-box;width:100%;table-layout:auto;white-space:nowrap;border-collapse:collapse\" class=\"cssdivnoborder\"><thead id=\"tsection_2651477596720\" style=\"font-size:inherit;font-family:inherit;box-sizing:border-box\" class=\"cssdivnoborder\"></thead><tbody id=\"tsection_2651477597920\" style=\"font-size:inherit;font-family:inherit;box-sizing:border-box\" class=\"cssdivnoborder\"><tr id=\"tr_2651477535712\" style=\"font-size:inherit;font-family:inherit;box-sizing:border-box;width:100%;height:100%;text-align:left;justify-content:None\" class=\"cssdivnoborder\"><td align=\"left\" colspan=\"4\" id=\"td_2651477594368\" style=\"font-size:inherit;font-family:inherit;box-sizing:border-box;white-space:nowrap\" class=\"cssdivnoborder\">base colors</td></tr><tr id=\"tr_2651477654592\" style=\"font-size:inherit;font-family:inherit;box-sizing:border-box;width:100%;height:100%;text-align:left;justify-content:None\" class=\"cssdivnoborder\"><td align=\"center\" id=\"td_2651477668288\" style=\"font-size:inherit;font-family:inherit;box-sizing:border-box;white-space:nowrap\" class=\"cssdivnoborder\"><div id=\"div_2651477578992\" style=\"font-size:12px;vertical-align:middle;box-sizing:border-box;width:110px;height:25px;text-align:center;background-color:#e3f2fd;line-height:25px;color:black;border:1px solid black\" class=\"cssdivnoborder\">#e3f2fd</div></td><td align=\"center\" id=\"td_2651477668624\" style=\"font-size:inherit;font-family:inherit;box-sizing:border-box;white-space:nowrap\" class=\"cssdivnoborder\"><div id=\"div_2651477580432\" style=\"font-size:12px;vertical-align:middle;box-sizing:border-box;width:110px;height:25px;text-align:center;background-color:#bbdefb;line-height:25px;color:black;border:1px solid black\" class=\"cssdivnoborder\">#bbdefb</div></td><td align=\"center\" id=\"td_2651477669920\" style=\"font-size:inherit;font-family:inherit;box-sizing:border-box;white-space:nowrap\" class=\"cssdivnoborder\"><div id=\"div_2651477610560\" style=\"font-size:12px;vertical-align:middle;box-sizing:border-box;width:110px;height:25px;text-align:center;background-color:#90caf9;line-height:25px;color:black;border:1px solid black\" class=\"cssdivnoborder\">#90caf9</div></td><td align=\"center\" id=\"td_2651477671216\" style=\"font-size:inherit;font-family:inherit;box-sizing:border-box;white-space:nowrap\" class=\"cssdivnoborder\"><div id=\"div_2651477611952\" style=\"font-size:12px;vertical-align:middle;box-sizing:border-box;width:110px;height:25px;text-align:center;background-color:#64b5f6;line-height:25px;color:black;border:1px solid black\" class=\"cssdivnoborder\">#64b5f6</div></td></tr><tr id=\"tr_2651477654928\" style=\"font-size:inherit;font-family:inherit;box-sizing:border-box;width:100%;height:100%;text-align:left;justify-content:None\" class=\"cssdivnoborder\"><td align=\"center\" id=\"td_2651477703504\" style=\"font-size:inherit;font-family:inherit;box-sizing:border-box;white-space:nowrap\" class=\"cssdivnoborder\"><div id=\"div_2651477613344\" style=\"font-size:12px;vertical-align:middle;box-sizing:border-box;width:110px;height:25px;text-align:center;background-color:#42a5f5;line-height:25px;color:black;border:1px solid black\" class=\"cssdivnoborder\">#42a5f5</div></td><td align=\"center\" id=\"td_2651477703840\" style=\"font-size:inherit;font-family:inherit;box-sizing:border-box;white-space:nowrap\" class=\"cssdivnoborder\"><div id=\"div_2651477627088\" style=\"font-size:12px;vertical-align:middle;box-sizing:border-box;width:110px;height:25px;text-align:center;background-color:#2196f3;line-height:25px;color:black;border:1px solid black\" class=\"cssdivnoborder\">#2196f3</div></td><td align=\"center\" id=\"td_2651477717488\" style=\"font-size:inherit;font-family:inherit;box-sizing:border-box;white-space:nowrap\" class=\"cssdivnoborder\"><div id=\"div_2651477628480\" style=\"font-size:12px;vertical-align:middle;box-sizing:border-box;width:110px;height:25px;text-align:center;background-color:#1e88e5;line-height:25px;color:black;border:1px solid black\" class=\"cssdivnoborder\">#1e88e5</div></td><td align=\"center\" id=\"td_2651477718784\" style=\"font-size:inherit;font-family:inherit;box-sizing:border-box;white-space:nowrap\" class=\"cssdivnoborder\"><div id=\"div_2651477629872\" style=\"font-size:12px;vertical-align:middle;box-sizing:border-box;width:110px;height:25px;text-align:center;background-color:#1976d2;line-height:25px;color:black;border:1px solid black\" class=\"cssdivnoborder\">#1976d2</div></td></tr><tr id=\"tr_2651477702496\" style=\"font-size:inherit;font-family:inherit;box-sizing:border-box;width:100%;height:100%;text-align:left;justify-content:None\" class=\"cssdivnoborder\"><td align=\"center\" id=\"td_2651477751072\" style=\"font-size:inherit;font-family:inherit;box-sizing:border-box;white-space:nowrap\" class=\"cssdivnoborder\"><div id=\"div_2651477651808\" style=\"font-size:12px;vertical-align:middle;box-sizing:border-box;width:110px;height:25px;text-align:center;background-color:#1565c0;line-height:25px;color:black;border:1px solid black\" class=\"cssdivnoborder\">#1565c0</div></td><td align=\"center\" id=\"td_2651477751408\" style=\"font-size:inherit;font-family:inherit;box-sizing:border-box;white-space:nowrap\" class=\"cssdivnoborder\"><div id=\"div_2651477653200\" style=\"font-size:12px;vertical-align:middle;box-sizing:border-box;width:110px;height:25px;text-align:center;background-color:#0d47a1;line-height:25px;color:black;border:1px solid black\" class=\"cssdivnoborder\">#0d47a1</div></td></tr><tr id=\"tr_2651477753808\" style=\"font-size:inherit;font-family:inherit;box-sizing:border-box;width:100%;height:100%;text-align:left;justify-content:None\" class=\"cssdivnoborder\"><td align=\"left\" colspan=\"1\" id=\"td_2651477577888\" style=\"font-size:inherit;font-family:inherit;box-sizing:border-box;white-space:nowrap\" class=\"cssdivnoborder\">grey colors</td></tr><tr id=\"tr_2651477878336\" style=\"font-size:inherit;font-family:inherit;box-sizing:border-box;width:100%;height:100%;text-align:left;justify-content:None\" class=\"cssdivnoborder\"><td align=\"center\" id=\"td_2651477879680\" style=\"font-size:inherit;font-family:inherit;box-sizing:border-box;white-space:nowrap\" class=\"cssdivnoborder\"><div id=\"div_2651477776704\" style=\"font-size:12px;vertical-align:middle;box-sizing:border-box;width:110px;height:25px;text-align:center;background-color:#FFFFFF;line-height:25px;color:black;border:1px solid black\" class=\"cssdivnoborder\">#FFFFFF</div></td><td align=\"center\" id=\"td_2651477880016\" style=\"font-size:inherit;font-family:inherit;box-sizing:border-box;white-space:nowrap\" class=\"cssdivnoborder\"><div id=\"div_2651477778144\" style=\"font-size:12px;vertical-align:middle;box-sizing:border-box;width:110px;height:25px;text-align:center;background-color:#f5f5f5;line-height:25px;color:black;border:1px solid black\" class=\"cssdivnoborder\">#f5f5f5</div></td><td align=\"center\" id=\"td_2651477910048\" style=\"font-size:inherit;font-family:inherit;box-sizing:border-box;white-space:nowrap\" class=\"cssdivnoborder\"><div id=\"div_2651477800080\" style=\"font-size:12px;vertical-align:middle;box-sizing:border-box;width:110px;height:25px;text-align:center;background-color:#eeeeee;line-height:25px;color:black;border:1px solid black\" class=\"cssdivnoborder\">#eeeeee</div></td><td align=\"center\" id=\"td_2651477911344\" style=\"font-size:inherit;font-family:inherit;box-sizing:border-box;white-space:nowrap\" class=\"cssdivnoborder\"><div id=\"div_2651477801472\" style=\"font-size:12px;vertical-align:middle;box-sizing:border-box;width:110px;height:25px;text-align:center;background-color:#e0e0e0;line-height:25px;color:black;border:1px solid black\" class=\"cssdivnoborder\">#e0e0e0</div></td></tr><tr id=\"tr_2651477878672\" style=\"font-size:inherit;font-family:inherit;box-sizing:border-box;width:100%;height:100%;text-align:left;justify-content:None\" class=\"cssdivnoborder\"><td align=\"center\" id=\"td_2651477931344\" style=\"font-size:inherit;font-family:inherit;box-sizing:border-box;white-space:nowrap\" class=\"cssdivnoborder\"><div id=\"div_2651477802864\" style=\"font-size:12px;vertical-align:middle;box-sizing:border-box;width:110px;height:25px;text-align:center;background-color:#bdbdbd;line-height:25px;color:black;border:1px solid black\" class=\"cssdivnoborder\">#bdbdbd</div></td><td align=\"center\" id=\"td_2651477931680\" style=\"font-size:inherit;font-family:inherit;box-sizing:border-box;white-space:nowrap\" class=\"cssdivnoborder\"><div id=\"div_2651477824800\" style=\"font-size:12px;vertical-align:middle;box-sizing:border-box;width:110px;height:25px;text-align:center;background-color:#9e9e9e;line-height:25px;color:black;border:1px solid black\" class=\"cssdivnoborder\">#9e9e9e</div></td><td align=\"center\" id=\"td_2651477932976\" style=\"font-size:inherit;font-family:inherit;box-sizing:border-box;white-space:nowrap\" class=\"cssdivnoborder\"><div id=\"div_2651477826192\" style=\"font-size:12px;vertical-align:middle;box-sizing:border-box;width:110px;height:25px;text-align:center;background-color:#757575;line-height:25px;color:black;border:1px solid black\" class=\"cssdivnoborder\">#757575</div></td><td align=\"center\" id=\"td_2651477963008\" style=\"font-size:inherit;font-family:inherit;box-sizing:border-box;white-space:nowrap\" class=\"cssdivnoborder\"><div id=\"div_2651477852224\" style=\"font-size:12px;vertical-align:middle;box-sizing:border-box;width:110px;height:25px;text-align:center;background-color:#616161;line-height:25px;color:black;border:1px solid black\" class=\"cssdivnoborder\">#616161</div></td></tr><tr id=\"tr_2651477930336\" style=\"font-size:inherit;font-family:inherit;box-sizing:border-box;width:100%;height:100%;text-align:left;justify-content:None\" class=\"cssdivnoborder\"><td align=\"center\" id=\"td_2651477966560\" style=\"font-size:inherit;font-family:inherit;box-sizing:border-box;white-space:nowrap\" class=\"cssdivnoborder\"><div id=\"div_2651477853616\" style=\"font-size:12px;vertical-align:middle;box-sizing:border-box;width:110px;height:25px;text-align:center;background-color:#424242;line-height:25px;color:black;border:1px solid black\" class=\"cssdivnoborder\">#424242</div></td><td align=\"center\" id=\"td_2651477979248\" style=\"font-size:inherit;font-family:inherit;box-sizing:border-box;white-space:nowrap\" class=\"cssdivnoborder\"><div id=\"div_2651477855008\" style=\"font-size:12px;vertical-align:middle;box-sizing:border-box;width:110px;height:25px;text-align:center;background-color:#212121;line-height:25px;color:black;border:1px solid black\" class=\"cssdivnoborder\">#212121</div></td><td align=\"center\" id=\"td_2651477980544\" style=\"font-size:inherit;font-family:inherit;box-sizing:border-box;white-space:nowrap\" class=\"cssdivnoborder\"><div id=\"div_2651477876944\" style=\"font-size:12px;vertical-align:middle;box-sizing:border-box;width:110px;height:25px;text-align:center;background-color:#000000;line-height:25px;color:black;border:1px solid black\" class=\"cssdivnoborder\">#000000</div></td></tr><tr id=\"tr_2651477982944\" style=\"font-size:inherit;font-family:inherit;box-sizing:border-box;width:100%;height:100%;text-align:left;justify-content:None\" class=\"cssdivnoborder\"><td align=\"left\" colspan=\"1\" id=\"td_2651477775648\" style=\"font-size:inherit;font-family:inherit;box-sizing:border-box;white-space:nowrap\" class=\"cssdivnoborder\">charts colors</td></tr><tr id=\"tr_2651478163808\" style=\"font-size:inherit;font-family:inherit;box-sizing:border-box;width:100%;height:100%;text-align:left;justify-content:None\" class=\"cssdivnoborder\"><td align=\"center\" id=\"td_2651478165152\" style=\"font-size:inherit;font-family:inherit;box-sizing:border-box;white-space:nowrap\" class=\"cssdivnoborder\"><div id=\"div_2651478014032\" style=\"font-size:12px;vertical-align:middle;box-sizing:border-box;width:110px;height:25px;text-align:center;background-color:#293342;line-height:25px;color:black;border:1px solid black\" class=\"cssdivnoborder\">#293342</div></td><td align=\"center\" id=\"td_2651478165488\" style=\"font-size:inherit;font-family:inherit;box-sizing:border-box;white-space:nowrap\" class=\"cssdivnoborder\"><div id=\"div_2651478015472\" style=\"font-size:12px;vertical-align:middle;box-sizing:border-box;width:110px;height:25px;text-align:center;background-color:#334D6B;line-height:25px;color:black;border:1px solid black\" class=\"cssdivnoborder\">#334D6B</div></td><td align=\"center\" id=\"td_2651478166784\" style=\"font-size:inherit;font-family:inherit;box-sizing:border-box;white-space:nowrap\" class=\"cssdivnoborder\"><div id=\"div_2651478037408\" style=\"font-size:12px;vertical-align:middle;box-sizing:border-box;width:110px;height:25px;text-align:center;background-color:#aabbee;line-height:25px;color:black;border:1px solid black\" class=\"cssdivnoborder\">#aabbee</div></td><td align=\"center\" id=\"td_2651478192720\" style=\"font-size:inherit;font-family:inherit;box-sizing:border-box;white-space:nowrap\" class=\"cssdivnoborder\"><div id=\"div_2651478038800\" style=\"font-size:12px;vertical-align:middle;box-sizing:border-box;width:110px;height:25px;text-align:center;background-color:#6677bb;line-height:25px;color:black;border:1px solid black\" class=\"cssdivnoborder\">#6677bb</div></td></tr><tr id=\"tr_2651478164144\" style=\"font-size:inherit;font-family:inherit;box-sizing:border-box;width:100%;height:100%;text-align:left;justify-content:None\" class=\"cssdivnoborder\"><td align=\"center\" id=\"td_2651478216816\" style=\"font-size:inherit;font-family:inherit;box-sizing:border-box;white-space:nowrap\" class=\"cssdivnoborder\"><div id=\"div_2651478040288\" style=\"font-size:12px;vertical-align:middle;box-sizing:border-box;width:110px;height:25px;text-align:center;background-color:#8B98E8;line-height:25px;color:black;border:1px solid black\" class=\"cssdivnoborder\">#8B98E8</div></td><td align=\"center\" id=\"td_2651478217152\" style=\"font-size:inherit;font-family:inherit;box-sizing:border-box;white-space:nowrap\" class=\"cssdivnoborder\"><div id=\"div_2651478066320\" style=\"font-size:12px;vertical-align:middle;box-sizing:border-box;width:110px;height:25px;text-align:center;background-color:#005566;line-height:25px;color:black;border:1px solid black\" class=\"cssdivnoborder\">#005566</div></td><td align=\"center\" id=\"td_2651478218448\" style=\"font-size:inherit;font-family:inherit;box-sizing:border-box;white-space:nowrap\" class=\"cssdivnoborder\"><div id=\"div_2651478067712\" style=\"font-size:12px;vertical-align:middle;box-sizing:border-box;width:110px;height:25px;text-align:center;background-color:#269493;line-height:25px;color:black;border:1px solid black\" class=\"cssdivnoborder\">#269493</div></td><td align=\"center\" id=\"td_2651478219744\" style=\"font-size:inherit;font-family:inherit;box-sizing:border-box;white-space:nowrap\" class=\"cssdivnoborder\"><div id=\"div_2651478069104\" style=\"font-size:12px;vertical-align:middle;box-sizing:border-box;width:110px;height:25px;text-align:center;background-color:#66bbaa;line-height:25px;color:black;border:1px solid black\" class=\"cssdivnoborder\">#66bbaa</div></td></tr><tr id=\"tr_2651478195264\" style=\"font-size:inherit;font-family:inherit;box-sizing:border-box;width:100%;height:100%;text-align:left;justify-content:None\" class=\"cssdivnoborder\"><td align=\"center\" id=\"td_2651478243840\" style=\"font-size:inherit;font-family:inherit;box-sizing:border-box;white-space:nowrap\" class=\"cssdivnoborder\"><div id=\"div_2651478086944\" style=\"font-size:12px;vertical-align:middle;box-sizing:border-box;width:110px;height:25px;text-align:center;background-color:#bbeeee;line-height:25px;color:black;border:1px solid black\" class=\"cssdivnoborder\">#bbeeee</div></td><td align=\"center\" id=\"td_2651478244176\" style=\"font-size:inherit;font-family:inherit;box-sizing:border-box;white-space:nowrap\" class=\"cssdivnoborder\"><div id=\"div_2651478088336\" style=\"font-size:12px;vertical-align:middle;box-sizing:border-box;width:110px;height:25px;text-align:center;background-color:#4e1c72;line-height:25px;color:black;border:1px solid black\" class=\"cssdivnoborder\">#4e1c72</div></td><td align=\"center\" id=\"td_2651478266016\" style=\"font-size:inherit;font-family:inherit;box-sizing:border-box;white-space:nowrap\" class=\"cssdivnoborder\"><div id=\"div_2651478114368\" style=\"font-size:12px;vertical-align:middle;box-sizing:border-box;width:110px;height:25px;text-align:center;background-color:#bb88ff;line-height:25px;color:black;border:1px solid black\" class=\"cssdivnoborder\">#bb88ff</div></td><td align=\"center\" id=\"td_2651478267312\" style=\"font-size:inherit;font-family:inherit;box-sizing:border-box;white-space:nowrap\" class=\"cssdivnoborder\"><div id=\"div_2651478115760\" style=\"font-size:12px;vertical-align:middle;box-sizing:border-box;width:110px;height:25px;text-align:center;background-color:#d1b3ff;line-height:25px;color:black;border:1px solid black\" class=\"cssdivnoborder\">#d1b3ff</div></td></tr><tr id=\"tr_2651478242832\" style=\"font-size:inherit;font-family:inherit;box-sizing:border-box;width:100%;height:100%;text-align:left;justify-content:None\" class=\"cssdivnoborder\"><td align=\"center\" id=\"td_2651478295504\" style=\"font-size:inherit;font-family:inherit;box-sizing:border-box;white-space:nowrap\" class=\"cssdivnoborder\"><div id=\"div_2651478117152\" style=\"font-size:12px;vertical-align:middle;box-sizing:border-box;width:110px;height:25px;text-align:center;background-color:#d15f32;line-height:25px;color:black;border:1px solid black\" class=\"cssdivnoborder\">#d15f32</div></td><td align=\"center\" id=\"td_2651478295840\" style=\"font-size:inherit;font-family:inherit;box-sizing:border-box;white-space:nowrap\" class=\"cssdivnoborder\"><div id=\"div_2651478139088\" style=\"font-size:12px;vertical-align:middle;box-sizing:border-box;width:110px;height:25px;text-align:center;background-color:#ffccaa;line-height:25px;color:black;border:1px solid black\" class=\"cssdivnoborder\">#ffccaa</div></td><td align=\"center\" id=\"td_2651478297136\" style=\"font-size:inherit;font-family:inherit;box-sizing:border-box;white-space:nowrap\" class=\"cssdivnoborder\"><div id=\"div_2651478140480\" style=\"font-size:12px;vertical-align:middle;box-sizing:border-box;width:110px;height:25px;text-align:center;background-color:#ffeebb;line-height:25px;color:black;border:1px solid black\" class=\"cssdivnoborder\">#ffeebb</div></td><td align=\"center\" id=\"td_2651478298432\" style=\"font-size:inherit;font-family:inherit;box-sizing:border-box;white-space:nowrap\" class=\"cssdivnoborder\"><div id=\"div_2651478141872\" style=\"font-size:12px;vertical-align:middle;box-sizing:border-box;width:110px;height:25px;text-align:center;background-color:#485d8c;line-height:25px;color:black;border:1px solid black\" class=\"cssdivnoborder\">#485d8c</div></td></tr></tbody><tfoot id=\"tsection_2651477534080\" style=\"font-size:inherit;font-family:inherit;box-sizing:border-box\" class=\"cssdivnoborder\"></tfoot></table>\n",
       "<script>\n",
       "var jQuery = $;\n",
       "require.config({ paths:{}});\n",
       "\n",
       "</script>\n",
       "<body>"
      ],
      "text/plain": [
       "<epyk.core.py.PyOuts.PyOuts at 0x2695867b430>"
      ]
     },
     "execution_count": 18,
     "metadata": {},
     "output_type": "execute_result"
    }
   ],
   "source": [
    "from epyk.core.css.themes import ThemeBlue\n",
    "from epyk.core.Page import Report\n",
    "\n",
    "\n",
    "rptObj = Report()\n",
    "rptObj.theme = ThemeBlue.Blue()\n",
    "rptObj.ui.title(\"Blue Theme\", 2)\n",
    "\n",
    "table = rptObj.ui.layouts.table(options={\"header\": False})\n",
    "table.line(\"base colors\", dim=4)\n",
    "table.from_array([rptObj.ui.images.color(c, color=\"black\") for c in rptObj.theme.colors], 4)\n",
    "table.line(\"grey colors\")\n",
    "table.from_array([rptObj.ui.images.color(c, color=\"black\") for c in rptObj.theme.greys], 4)\n",
    "table.line(\"charts colors\")\n",
    "table.from_array([rptObj.ui.images.color(c, color=\"black\") for c in rptObj.theme.charts], 4)\n",
    "\n",
    "rptObj.outs.jupyter()\n"
   ]
  },
  {
   "cell_type": "markdown",
   "metadata": {},
   "source": [
    "[Go back to the tutorials page](../tutorials.ipynb)\n",
    "\n",
    "<hr>\n",
    "Do not forget that this is a collaborative framework so do not hesitate to give feedbacks and like the different repository to get more visbility.\n",
    "\n",
    "Also any help is more than welcome !"
   ]
  }
 ],
 "metadata": {
  "kernelspec": {
   "display_name": "Python 3",
   "language": "python",
   "name": "python3"
  },
  "language_info": {
   "codemirror_mode": {
    "name": "ipython",
    "version": 3
   },
   "file_extension": ".py",
   "mimetype": "text/x-python",
   "name": "python",
   "nbconvert_exporter": "python",
   "pygments_lexer": "ipython3",
   "version": "3.8.2"
  }
 },
 "nbformat": 4,
 "nbformat_minor": 2
}
