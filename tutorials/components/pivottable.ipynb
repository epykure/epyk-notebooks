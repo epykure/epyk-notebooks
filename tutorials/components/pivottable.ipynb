{
 "cells": [
  {
   "cell_type": "markdown",
   "metadata": {},
   "source": [
    "<div style=\"float:left;margin:0 10px 10px 0\" markdown=\"1\">\n",
    "    <a href=\"../../index.ipynb\">\n",
    "        <img src=\"../../static/images/epyklogo_whole_small.png\">\n",
    "    </a>\n",
    "</div>"
   ]
  },
  {
   "cell_type": "markdown",
   "metadata": {},
   "source": [
    "# Pivot Table\n",
    "\n",
    "\n",
    "[here](https://pivottable.js.org/examples/)"
   ]
  },
  {
   "cell_type": "code",
   "execution_count": 6,
   "metadata": {},
   "outputs": [
    {
     "data": {
      "text/html": [
       "<head>\n",
       "<style>\n",
       "    .cssdivnoborder {margin: 0 ;clear: both ;padding: 0 ;border: 0 ;}\n",
       "\n",
       "</style>\n",
       "<link rel=\"stylesheet\" href=\"https://cdnjs.cloudflare.com/ajax/libs/pivottable/2.23.0/pivot.min.css\" type=\"text/css\">\n",
       "</head>\n",
       "<body>\n",
       "<div id=\"pivottable_2057419235728\" style=\"font-size:inherit;font-family:inherit;box-sizing:border-box;width:100%\" class=\"cssdivnoborder\"></div>\n",
       "<script>\n",
       "require.config({ paths:{pivot: 'https://cdnjs.cloudflare.com/ajax/libs/pivottable/2.23.0/pivot.min'}});\n",
       "require(['pivot'], function (pivot) { function PivotTable(htmlObj, data, options){\n",
       "      if (options.showUI){$(htmlObj).pivotUI(data, options)}\n",
       "      else {$(htmlObj).pivot(data, options)}\n",
       "      };PivotTable(document.getElementById('pivottable_2057419235728'), [{\"name\": \"C\", \"type\": \"code\", \"rating\": 17.07, \"change\": 12.82}, {\"name\": \"Java\", \"type\": \"code\", \"rating\": 16.28, \"change\": 0.28}, {\"name\": \"Python\", \"type\": \"script\", \"rating\": 9.12, \"change\": 1.29}, {\"name\": \"C++\", \"type\": \"code\", \"rating\": 6.13, \"change\": -1.97}, {\"name\": \"C#\", \"type\": \"code\", \"rating\": 4.29, \"change\": 0.3}, {\"name\": \"Visual Basic\", \"type\": \"script\", \"rating\": 4.18, \"change\": -1.01}, {\"name\": \"JavaScript\", \"type\": \"script\", \"rating\": 2.68, \"change\": -0.01}, {\"name\": \"PHP\", \"type\": \"script\", \"rating\": 2.49, \"change\": 0}, {\"name\": \"SQL\", \"type\": \"script\", \"rating\": 2.09, \"change\": -0.47}, {\"name\": \"R\", \"type\": \"script\", \"rating\": 1.85, \"change\": 0.9}], {cols: [\"type\"],rows: [\"name\"]}) })\n",
       "</script>\n",
       "<body>"
      ],
      "text/plain": [
       "<epyk.core.py.PyOuts.PyOuts at 0x1df071cdbb0>"
      ]
     },
     "execution_count": 6,
     "metadata": {},
     "output_type": "execute_result"
    }
   ],
   "source": [
    "from epyk.core.Page import Report\n",
    "\n",
    "# Create a basic report object\n",
    "rptObj = Report()\n",
    "\n",
    "languages = [\n",
    "  {\"name\": 'C', 'type': 'code', 'rating': 17.07, 'change': 12.82},\n",
    "  {\"name\": 'Java', 'type': 'code', 'rating': 16.28, 'change': 0.28},\n",
    "  {\"name\": 'Python', 'type': 'script', 'rating': 9.12, 'change': 1.29},\n",
    "  {\"name\": 'C++', 'type': 'code', 'rating': 6.13, 'change': -1.97},\n",
    "  {\"name\": 'C#', 'type': 'code', 'rating': 4.29, 'change': 0.3},\n",
    "  {\"name\": 'Visual Basic', 'type': 'script', 'rating': 4.18, 'change': -1.01},\n",
    "  {\"name\": 'JavaScript', 'type': 'script', 'rating': 2.68, 'change': -0.01},\n",
    "  {\"name\": 'PHP', 'type': 'script', 'rating': 2.49, 'change': 0},\n",
    "  {\"name\": 'SQL', 'type': 'script', 'rating': 2.09, 'change': -0.47},\n",
    "  {\"name\": 'R', 'type': 'script', 'rating': 1.85, 'change': 0.90},\n",
    "]\n",
    "\n",
    "\n",
    "# Create a table\n",
    "tb = rptObj.ui.tables.pivot(languages, ['name'], ['type'])\n",
    "\n",
    "rptObj.outs.jupyter()\n"
   ]
  },
  {
   "cell_type": "code",
   "execution_count": 7,
   "metadata": {},
   "outputs": [
    {
     "data": {
      "text/html": [
       "<head>\n",
       "<style>\n",
       "    .cssdivnoborder {margin: 0 ;clear: both ;padding: 0 ;border: 0 ;}\n",
       "\n",
       "</style>\n",
       "<link rel=\"stylesheet\" href=\"https://cdnjs.cloudflare.com/ajax/libs/pivottable/2.23.0/pivot.min.css\" type=\"text/css\">\n",
       "</head>\n",
       "<body>\n",
       "<div id=\"pivottable_2057419314896\" style=\"font-size:inherit;font-family:inherit;box-sizing:border-box;width:100%\" class=\"cssdivnoborder\"></div>\n",
       "<script>\n",
       "require.config({ paths:{pivot: 'https://cdnjs.cloudflare.com/ajax/libs/pivottable/2.23.0/pivot.min'}});\n",
       "require(['pivot'], function (pivot) { function PivotTable(htmlObj, data, options){\n",
       "      if (options.showUI){$(htmlObj).pivotUI(data, options)}\n",
       "      else {$(htmlObj).pivot(data, options)}\n",
       "      };PivotTable(document.getElementById('pivottable_2057419314896'), [{\"name\": \"C\", \"type\": \"code\", \"rating\": 17.07, \"change\": 12.82}, {\"name\": \"Java\", \"type\": \"code\", \"rating\": 16.28, \"change\": 0.28}, {\"name\": \"Python\", \"type\": \"script\", \"rating\": 9.12, \"change\": 1.29}, {\"name\": \"C++\", \"type\": \"code\", \"rating\": 6.13, \"change\": -1.97}, {\"name\": \"C#\", \"type\": \"code\", \"rating\": 4.29, \"change\": 0.3}, {\"name\": \"Visual Basic\", \"type\": \"script\", \"rating\": 4.18, \"change\": -1.01}, {\"name\": \"JavaScript\", \"type\": \"script\", \"rating\": 2.68, \"change\": -0.01}, {\"name\": \"PHP\", \"type\": \"script\", \"rating\": 2.49, \"change\": 0}, {\"name\": \"SQL\", \"type\": \"script\", \"rating\": 2.09, \"change\": -0.47}, {\"name\": \"R\", \"type\": \"script\", \"rating\": 1.85, \"change\": 0.9}], {cols: [\"type\"],rows: [\"name\"]}) })\n",
       "</script>\n",
       "<body>"
      ],
      "text/plain": [
       "<epyk.core.py.PyOuts.PyOuts at 0x1df07b94f10>"
      ]
     },
     "execution_count": 7,
     "metadata": {},
     "output_type": "execute_result"
    }
   ],
   "source": [
    "from epyk.core.Page import Report\n",
    "\n",
    "# Create a basic report object\n",
    "rptObj = Report()\n",
    "\n",
    "languages = [\n",
    "  {\"name\": 'C', 'type': 'code', 'rating': 17.07, 'change': 12.82},\n",
    "  {\"name\": 'Java', 'type': 'code', 'rating': 16.28, 'change': 0.28},\n",
    "  {\"name\": 'Python', 'type': 'script', 'rating': 9.12, 'change': 1.29},\n",
    "  {\"name\": 'C++', 'type': 'code', 'rating': 6.13, 'change': -1.97},\n",
    "  {\"name\": 'C#', 'type': 'code', 'rating': 4.29, 'change': 0.3},\n",
    "  {\"name\": 'Visual Basic', 'type': 'script', 'rating': 4.18, 'change': -1.01},\n",
    "  {\"name\": 'JavaScript', 'type': 'script', 'rating': 2.68, 'change': -0.01},\n",
    "  {\"name\": 'PHP', 'type': 'script', 'rating': 2.49, 'change': 0},\n",
    "  {\"name\": 'SQL', 'type': 'script', 'rating': 2.09, 'change': -0.47},\n",
    "  {\"name\": 'R', 'type': 'script', 'rating': 1.85, 'change': 0.90},\n",
    "]\n",
    "\n",
    "\n",
    "# Create a table\n",
    "tb = rptObj.ui.tables.pivot(languages, ['name'], ['type'])\n",
    "\n",
    "rptObj.outs.jupyter()"
   ]
  }
 ],
 "metadata": {
  "kernelspec": {
   "display_name": "Python 3",
   "language": "python",
   "name": "python3"
  },
  "language_info": {
   "codemirror_mode": {
    "name": "ipython",
    "version": 3
   },
   "file_extension": ".py",
   "mimetype": "text/x-python",
   "name": "python",
   "nbconvert_exporter": "python",
   "pygments_lexer": "ipython3",
   "version": "3.8.2"
  }
 },
 "nbformat": 4,
 "nbformat_minor": 2
}
