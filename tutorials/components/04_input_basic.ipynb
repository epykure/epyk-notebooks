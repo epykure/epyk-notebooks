{
 "cells": [
  {
   "cell_type": "markdown",
   "metadata": {},
   "source": [
    "<div style=\"float:left;margin:0 10px 10px 0\" markdown=\"1\">\n",
    "    <a href=\"index.ipynb\">\n",
    "        <img src=\"../../static/images/epyklogo_whole_small.png\">\n",
    "    </a>\n",
    "</div>"
   ]
  },
  {
   "cell_type": "markdown",
   "metadata": {},
   "source": [
    "# Date\n",
    "\n",
    "\n",
    "Date [component](00_components.ipynb) creation in Epyk will be using the function date from the ui property.\n",
    "\n",
    "<i>the ui entry point will give you access to all the registered components.\n",
    "Different flavour of buttons are available in the framework.</i>\n",
    "\n",
    "\n",
    "## Basic date"
   ]
  },
  {
   "cell_type": "code",
   "execution_count": 1,
   "metadata": {},
   "outputs": [
    {
     "data": {
      "text/html": [
       "<head>\n",
       "<style>\n",
       "    .cssinput {border: 1px solid #e8f5e9 ;text-align: center ;cursor: text ;margin: 0 ;border-radius: 5px ;background: #e8f5e9 ;color: #000000 ;font-family: Calibri ;min-width: 140px ;line-height: 23px ;font-size: 12px ;}\n",
       ".cssinput:hover {color: #3bb194 ;}\n",
       ".cssinput:focus {outline: 0 ;}\n",
       ".cssdatepicker {font-family: inherit ;border: 1px solid #e8f5e9 ;cursor: pointer ;margin: 0 ;padding: 2px ;display: inline-block ;border-radius: 5px ;text-align: center ;background: #e8f5e9 ;color: #000000 ;}\n",
       ".cssdatepicker:hover {color: #1b5e20 ;}\n",
       ".cssdatepicker:focus {outline: 0 ;}\n",
       ".ui-datepicker {background: #e8f5e9 ;font-size: 12px ;}\n",
       ".ui-widget-header {background: #3bb194 ;}\n",
       ".cssdivnoborder {margin: 0 ;clear: both ;padding: 0 ;border: 0 ;}\n",
       "\n",
       "</style>\n",
       "<link rel=\"stylesheet\" href=\"https://use.fontawesome.com/releases/v5.13.0/css/all.css\" type=\"text/css\">\n",
       "</head>\n",
       "<body>\n",
       "<input placeholder=\"\" type=\"text\" value=\"2020-05-12\" spellcheck=\"False\" id=\"inputdate_2192698467424\" style=\"font-size:12px;font-family:Calibri;box-sizing:border-box;width:140px;padding:0\" class=\"cssinput cssdatepicker ui-datepicker\" /><i aria-hidden=\"true\" id=\"icon_2192698509824\" style=\"font-size:12px;vertical-align:middle;display:inline-block;margin:auto 0;padding:auto 0;margin-right:5px;margin-left:5px;color:#3bb194;cursor:pointer\" class=\"cssdivnoborder far fa-calendar-alt\"></i><div id=\"datepicker_2192698437104\" style=\"font-size:inherit;font-family:inherit;box-sizing:border-box;color:inherit;vertical-align:middle;display:block;width:auto;margin-top:2px\" class=\"cssdivnoborder\"></div>\n",
       "<script>\n",
       "require.config({ paths:{fontawesome: 'https://use.fontawesome.com/releases/v5.13.0/js/fontawesome'}});\n",
       "require(['fontawesome'], function (fontawesome) { function InputDate(htmlObj, data, options){$(htmlObj).datepicker(options).datepicker('setDate', data)};document.getElementById('datepicker_2192698437104').insertBefore(document.getElementById('inputdate_2192698467424'), document.getElementById('datepicker_2192698437104').firstChild);document.getElementById('datepicker_2192698437104').appendChild(document.getElementById('icon_2192698509824'));InputDate(document.getElementById('inputdate_2192698467424'), \"2020-05-12\", {dateFormat: \"yy-mm-dd\"});document.getElementById('icon_2192698509824').addEventListener('click', function(event){(function(){var clickEvent = new Event(\"click\"); document.getElementById('inputdate_2192698467424').focus(); document.getElementById('inputdate_2192698467424').dispatchEvent(clickEvent)})()}) })\n",
       "</script>\n",
       "<body>"
      ],
      "text/plain": [
       "<epyk.core.py.PyOuts.PyOuts at 0x1fe8673d040>"
      ]
     },
     "execution_count": 1,
     "metadata": {},
     "output_type": "execute_result"
    }
   ],
   "source": [
    "from epyk.core.Page import Report\n",
    "\n",
    "rptObj = Report()\n",
    "button = rptObj.ui.date()\n",
    "\n",
    "rptObj.outs.jupyter()"
   ]
  }
 ],
 "metadata": {
  "kernelspec": {
   "display_name": "Python 3",
   "language": "python",
   "name": "python3"
  },
  "language_info": {
   "codemirror_mode": {
    "name": "ipython",
    "version": 3
   },
   "file_extension": ".py",
   "mimetype": "text/x-python",
   "name": "python",
   "nbconvert_exporter": "python",
   "pygments_lexer": "ipython3",
   "version": "3.8.2"
  }
 },
 "nbformat": 4,
 "nbformat_minor": 4
}
