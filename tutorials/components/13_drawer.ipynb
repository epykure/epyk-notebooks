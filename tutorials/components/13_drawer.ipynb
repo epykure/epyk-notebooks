{
 "cells": [
  {
   "cell_type": "markdown",
   "metadata": {},
   "source": [
    "<div style=\"float:left;margin:0 10px 10px 0\" markdown=\"1\">\n",
    "    <a href=\"../../index.ipynb\">\n",
    "        <img src=\"../../static/images/epyklogo_whole_small.png\">\n",
    "    </a>\n",
    "</div>"
   ]
  },
  {
   "cell_type": "markdown",
   "metadata": {},
   "source": [
    "# Drawer\n",
    "\n",
    "Drawer [component](00_components.ipynb) creation in Epyk will be using the function **drawer** from the ui property.\n",
    "<i>\n",
    "the ui entry point will give you access to all the registered components.\n",
    "Different flavour of buttons are available in the framework.</i>\n",
    "\n",
    "## Basic drawer"
   ]
  },
  {
   "cell_type": "code",
   "execution_count": 4,
   "metadata": {},
   "outputs": [
    {
     "data": {
      "text/html": [
       "<head>\n",
       "<style>\n",
       "    .cssdivnoborder {margin: 0 ;clear: both ;padding: 0 ;border: 0 ;}\n",
       ".cssdrawer div[name=\"drawer\"] {position: absolute ;top: 0 ;height: 100% ;overflow-x: hidden ;}\n",
       ".cssdrawerhandle_drawer_2356101464608 div[name=\"drawer_handle\"] {width: 15px ;height: 100% ;display: inline-block ;background-color: #3bb194 ;}\n",
       ".cssdrawerhandle_drawer_2356101464608 div[name=\"drawer_handle\"]::after {position: absolute ;top: 50% ;padding: 2px ;height: 100% ;}\n",
       ".cssdrawercontent_drawer_2356101464608 div[name=\"drawer_content\"] {height: 100% ;display: inline-block ;background-color: #e8f2ef ;}\n",
       ".cssbuttonbasic_button_2356091130640 {font-weight: bold ;padding: 2px 20px ;margin: 2px 0 2px 0 ;text-decoration: none ;border-radius: 4px ;white-space: nowrap ;display: inline-block ;line-height: 30px ;-webkit-appearance: none ;-moz-appearance: none ;border: 1px solid #bdbdbd ;color: #1b5e20 ;background-color: #FFFFFF ;}\n",
       ".cssbuttonbasic_button_2356091130640:hover {text-decoration: none ;cursor: pointer ;background-color: #e8f5e9 ;color: #1b5e20 ;}\n",
       ".cssbuttonbasic_button_2356091130640:focus {outline: 0 ;}\n",
       ".cssbuttonbasic_button_2356091130640:disabled {cursor: none ;background-color: #1b5e20 ;color: #43a047 ;font-style: italic ;}\n",
       ".cssbuttonbasic_button_2356101548400 {font-weight: bold ;padding: 2px 20px ;margin: 2px 0 2px 0 ;text-decoration: none ;border-radius: 4px ;white-space: nowrap ;display: inline-block ;line-height: 30px ;-webkit-appearance: none ;-moz-appearance: none ;border: 1px solid #bdbdbd ;color: #1b5e20 ;background-color: #FFFFFF ;}\n",
       ".cssbuttonbasic_button_2356101548400:hover {text-decoration: none ;cursor: pointer ;background-color: #e8f5e9 ;color: #1b5e20 ;}\n",
       ".cssbuttonbasic_button_2356101548400:focus {outline: 0 ;}\n",
       ".cssbuttonbasic_button_2356101548400:disabled {cursor: none ;background-color: #1b5e20 ;color: #43a047 ;font-style: italic ;}\n",
       ".cssbuttonbasic_button_2356101519584 {font-weight: bold ;padding: 2px 20px ;margin: 2px 0 2px 0 ;text-decoration: none ;border-radius: 4px ;white-space: nowrap ;display: inline-block ;line-height: 30px ;-webkit-appearance: none ;-moz-appearance: none ;border: 1px solid #bdbdbd ;color: #1b5e20 ;background-color: #FFFFFF ;}\n",
       ".cssbuttonbasic_button_2356101519584:hover {text-decoration: none ;cursor: pointer ;background-color: #e8f5e9 ;color: #1b5e20 ;}\n",
       ".cssbuttonbasic_button_2356101519584:focus {outline: 0 ;}\n",
       ".cssbuttonbasic_button_2356101519584:disabled {cursor: none ;background-color: #1b5e20 ;color: #43a047 ;font-style: italic ;}\n",
       "\n",
       "</style>\n",
       "\n",
       "</head>\n",
       "<body>\n",
       "\n",
       "      <div id=\"drawer_2356101464608\" style=\"font-size:12px;vertical-align:middle;box-sizing:border-box;width:100%;height:200px;position:relative\" class=\"cssdivnoborder cssdrawer cssdrawerhandle_drawer_2356101464608 cssdrawercontent_drawer_2356101464608 cssdrawer\">\n",
       "        <div name=\"drawer_panels\" id=\"div_2356101458480\" style=\"font-size:12px;vertical-align:middle;box-sizing:border-box;width:100%;text-align:left\" class=\"cssdivnoborder\"><div id=\"div_2356101445040\" style=\"font-size:12px;vertical-align:middle;box-sizing:border-box;width:100%;text-align:left;display:none\" class=\"cssdivnoborder\">ok1</div><div id=\"div_2356101549600\" style=\"font-size:12px;vertical-align:middle;box-sizing:border-box;width:100%;text-align:left;display:none\" class=\"cssdivnoborder\">ok2</div><div id=\"div_2356101519632\" style=\"font-size:12px;vertical-align:middle;box-sizing:border-box;width:100%;text-align:left;display:none\" class=\"cssdivnoborder\">ok3</div></div>\n",
       "        <div name='drawer' style='right:0'>\n",
       "          <div name=\"drawer_handle\" id=\"div_2356101459776\" style=\"cursor:pointer;float:left\" class=\"cssdivnoborder\"></div><div name=\"drawer_content\" id=\"div_2356101459872\" style=\"width:200px;margin-right:-200px\" class=\"cssdivnoborder\"><button name data-count=\"0\" id=\"button_2356091130640\" style=\"font-size:12px\" class=\"cssbuttonbasic_button_2356091130640\">Test1</button><button name data-count=\"0\" id=\"button_2356101548400\" style=\"font-size:12px\" class=\"cssbuttonbasic_button_2356101548400\">Test2</button><button name data-count=\"0\" id=\"button_2356101519584\" style=\"font-size:12px\" class=\"cssbuttonbasic_button_2356101519584\">Test3</button></div>\n",
       "        </div>\n",
       "      </div>\n",
       "<script>\n",
       "var jQuery = $;\n",
       "require.config({ paths:{}});\n",
       "document.getElementById('div_2356101459776').addEventListener('click', function(event){if(document.getElementById('div_2356101459872').style.marginRight != '0px') {document.getElementById('div_2356101459872').style.transitionProperty = \"margin-right\"; document.getElementById('div_2356101459872').style.transitionDuration = \"1s\"; document.getElementById('div_2356101459872').style.transitionTiming = \"ease\"; document.getElementById('div_2356101459872').style.marginRight = \"0px\"; document.getElementById('div_2356101459872').style.transitionProperty = \"initial\"} else {document.getElementById('div_2356101459872').style.transitionProperty = \"margin-right\"; document.getElementById('div_2356101459872').style.transitionDuration = \"1s\"; document.getElementById('div_2356101459872').style.transitionTiming = \"ease\"; document.getElementById('div_2356101459872').style.marginRight = \"-200px\"; document.getElementById('div_2356101459872').style.transitionProperty = \"initial\"}})\n",
       "</script>\n",
       "<body>"
      ],
      "text/plain": [
       "<epyk.core.py.PyOuts.PyOuts at 0x22492987400>"
      ]
     },
     "execution_count": 4,
     "metadata": {},
     "output_type": "execute_result"
    }
   ],
   "source": [
    "from epyk.core.Page import Report\n",
    "\n",
    "rptObj = Report()\n",
    "\n",
    "d = rptObj.ui.drawer()\n",
    "d.add_panel(rptObj.ui.button(\"Test1\"), \"ok1\")\n",
    "d.add_panel(rptObj.ui.button(\"Test2\"), \"ok2\")\n",
    "d.add_panel(rptObj.ui.button(\"Test3\"), \"ok3\")\n",
    "\n",
    "\n",
    "rptObj.outs.jupyter()"
   ]
  },
  {
   "cell_type": "code",
   "execution_count": 5,
   "metadata": {},
   "outputs": [
    {
     "data": {
      "text/html": [
       "<head>\n",
       "<style>\n",
       "    .cssdivnoborder {margin: 0 ;clear: both ;padding: 0 ;border: 0 ;}\n",
       ".cssdrawer div[name=\"drawer\"] {position: absolute ;top: 0 ;height: 100% ;overflow-x: hidden ;}\n",
       ".cssdrawerhandle_drawer_2356101693696 div[name=\"drawer_handle\"] {width: 15px ;height: 100% ;display: inline-block ;background-color: #3bb194 ;}\n",
       ".cssdrawerhandle_drawer_2356101693696 div[name=\"drawer_handle\"]::after {position: absolute ;top: 50% ;padding: 2px ;height: 100% ;}\n",
       ".cssdrawercontent_drawer_2356101693696 div[name=\"drawer_content\"] {height: 100% ;display: inline-block ;background-color: #e8f2ef ;}\n",
       ".cssbuttonbasic_button_2356101596064 {font-weight: bold ;padding: 2px 20px ;margin: 2px 0 2px 0 ;text-decoration: none ;border-radius: 4px ;white-space: nowrap ;display: inline-block ;line-height: 30px ;-webkit-appearance: none ;-moz-appearance: none ;border: 1px solid #bdbdbd ;color: #1b5e20 ;background-color: #FFFFFF ;}\n",
       ".cssbuttonbasic_button_2356101596064:hover {text-decoration: none ;cursor: pointer ;background-color: #e8f5e9 ;color: #1b5e20 ;}\n",
       ".cssbuttonbasic_button_2356101596064:focus {outline: 0 ;}\n",
       ".cssbuttonbasic_button_2356101596064:disabled {cursor: none ;background-color: #1b5e20 ;color: #43a047 ;font-style: italic ;}\n",
       ".cssbuttonbasic_button_2356101616496 {font-weight: bold ;padding: 2px 20px ;margin: 2px 0 2px 0 ;text-decoration: none ;border-radius: 4px ;white-space: nowrap ;display: inline-block ;line-height: 30px ;-webkit-appearance: none ;-moz-appearance: none ;border: 1px solid #bdbdbd ;color: #1b5e20 ;background-color: #FFFFFF ;}\n",
       ".cssbuttonbasic_button_2356101616496:hover {text-decoration: none ;cursor: pointer ;background-color: #e8f5e9 ;color: #1b5e20 ;}\n",
       ".cssbuttonbasic_button_2356101616496:focus {outline: 0 ;}\n",
       ".cssbuttonbasic_button_2356101616496:disabled {cursor: none ;background-color: #1b5e20 ;color: #43a047 ;font-style: italic ;}\n",
       ".cssbuttonbasic_button_2356101658560 {font-weight: bold ;padding: 2px 20px ;margin: 2px 0 2px 0 ;text-decoration: none ;border-radius: 4px ;white-space: nowrap ;display: inline-block ;line-height: 30px ;-webkit-appearance: none ;-moz-appearance: none ;border: 1px solid #bdbdbd ;color: #1b5e20 ;background-color: #FFFFFF ;}\n",
       ".cssbuttonbasic_button_2356101658560:hover {text-decoration: none ;cursor: pointer ;background-color: #e8f5e9 ;color: #1b5e20 ;}\n",
       ".cssbuttonbasic_button_2356101658560:focus {outline: 0 ;}\n",
       ".cssbuttonbasic_button_2356101658560:disabled {cursor: none ;background-color: #1b5e20 ;color: #43a047 ;font-style: italic ;}\n",
       ".cssbuttonbasic_button_2356101661408 {font-weight: bold ;padding: 2px 20px ;margin: 2px 0 2px 0 ;text-decoration: none ;border-radius: 4px ;white-space: nowrap ;display: inline-block ;line-height: 30px ;-webkit-appearance: none ;-moz-appearance: none ;border: 1px solid #bdbdbd ;color: #1b5e20 ;background-color: #FFFFFF ;}\n",
       ".cssbuttonbasic_button_2356101661408:hover {text-decoration: none ;cursor: pointer ;background-color: #e8f5e9 ;color: #1b5e20 ;}\n",
       ".cssbuttonbasic_button_2356101661408:focus {outline: 0 ;}\n",
       ".cssbuttonbasic_button_2356101661408:disabled {cursor: none ;background-color: #1b5e20 ;color: #43a047 ;font-style: italic ;}\n",
       "\n",
       "</style>\n",
       "\n",
       "</head>\n",
       "<body>\n",
       "\n",
       "      <div id=\"drawer_2356101693696\" style=\"font-size:12px;vertical-align:middle;box-sizing:border-box;width:100%;height:200px;position:relative\" class=\"cssdivnoborder cssdrawer cssdrawerhandle_drawer_2356101693696 cssdrawercontent_drawer_2356101693696 cssdrawer\">\n",
       "        <div name=\"drawer_panels\" id=\"div_2356101617840\" style=\"font-size:12px;vertical-align:middle;box-sizing:border-box;width:100%;text-align:left\" class=\"cssdivnoborder\"><div id=\"div_2356101596448\" style=\"font-size:12px;vertical-align:middle;box-sizing:border-box;width:100%;text-align:left;display:none\" class=\"cssdivnoborder\">ok1</div><div id=\"div_2356101619664\" style=\"font-size:12px;vertical-align:middle;box-sizing:border-box;width:100%;text-align:left;display:none\" class=\"cssdivnoborder\">ok2</div><div id=\"div_2356101658608\" style=\"font-size:12px;vertical-align:middle;box-sizing:border-box;width:100%;text-align:left;display:none\" class=\"cssdivnoborder\">ok3</div></div>\n",
       "        <div name='drawer' style='right:0'>\n",
       "          <div id=\"div_2356101664192\" style=\"float:left\" class=\"cssdivnoborder\"></div><div name=\"drawer_content\" id=\"div_2356101619424\" style=\"width:200px;margin-right:-200px\" class=\"cssdivnoborder\"><button name data-count=\"0\" id=\"button_2356101596064\" style=\"font-size:12px\" class=\"cssbuttonbasic_button_2356101596064\">Test1</button><button name data-count=\"0\" id=\"button_2356101616496\" style=\"font-size:12px\" class=\"cssbuttonbasic_button_2356101616496\">Test2</button><button name data-count=\"0\" id=\"button_2356101658560\" style=\"font-size:12px\" class=\"cssbuttonbasic_button_2356101658560\">Test3</button></div>\n",
       "        </div>\n",
       "      </div>\n",
       "<button name data-count=\"0\" id=\"button_2356101661408\" style=\"font-size:12px\" class=\"cssbuttonbasic_button_2356101661408\">Test</button>\n",
       "<div id=\"div_2356101664192\" style=\"float:left\" class=\"cssdivnoborder\"></div>\n",
       "<script>\n",
       "var jQuery = $;\n",
       "require.config({ paths:{}});\n",
       "document.getElementById('button_2356101661408').addEventListener('click', function(event){if(document.getElementById('div_2356101619424').style.marginRight != '0px') {document.getElementById('div_2356101619424').style.transitionProperty = \"margin-right\"; document.getElementById('div_2356101619424').style.transitionDuration = \"1s\"; document.getElementById('div_2356101619424').style.transitionTiming = \"ease\"; document.getElementById('div_2356101619424').style.marginRight = \"0px\"; document.getElementById('div_2356101619424').style.transitionProperty = \"initial\"} else {document.getElementById('div_2356101619424').style.transitionProperty = \"margin-right\"; document.getElementById('div_2356101619424').style.transitionDuration = \"1s\"; document.getElementById('div_2356101619424').style.transitionTiming = \"ease\"; document.getElementById('div_2356101619424').style.marginRight = \"-200px\"; document.getElementById('div_2356101619424').style.transitionProperty = \"initial\"}});document.getElementById('div_2356101664192').addEventListener('click', function(event){if(document.getElementById('div_2356101619424').style.marginRight != '0px') {document.getElementById('div_2356101619424').style.transitionProperty = \"margin-right\"; document.getElementById('div_2356101619424').style.transitionDuration = \"1s\"; document.getElementById('div_2356101619424').style.transitionTiming = \"ease\"; document.getElementById('div_2356101619424').style.marginRight = \"0px\"; document.getElementById('div_2356101619424').style.transitionProperty = \"initial\"} else {document.getElementById('div_2356101619424').style.transitionProperty = \"margin-right\"; document.getElementById('div_2356101619424').style.transitionDuration = \"1s\"; document.getElementById('div_2356101619424').style.transitionTiming = \"ease\"; document.getElementById('div_2356101619424').style.marginRight = \"-200px\"; document.getElementById('div_2356101619424').style.transitionProperty = \"initial\"}})\n",
       "</script>\n",
       "<body>"
      ],
      "text/plain": [
       "<epyk.core.py.PyOuts.PyOuts at 0x224929a4310>"
      ]
     },
     "execution_count": 5,
     "metadata": {},
     "output_type": "execute_result"
    }
   ],
   "source": [
    "from epyk.core.Page import Report\n",
    "\n",
    "rptObj = Report()\n",
    "\n",
    "d = rptObj.ui.drawer()\n",
    "d.add_panel(rptObj.ui.button(\"Test1\"), \"ok1\")\n",
    "d.add_panel(rptObj.ui.button(\"Test2\"), \"ok2\")\n",
    "d.add_panel(rptObj.ui.button(\"Test3\"), \"ok3\")\n",
    "button = rptObj.ui.button(\"Test\")\n",
    "d.set_handle(button)\n",
    "\n",
    "rptObj.outs.jupyter()"
   ]
  },
  {
   "cell_type": "markdown",
   "metadata": {},
   "source": [
    "<a href=\"00_components.ipynb\" target=\"_self\">Go back to the tutorials page</a>\n",
    "<hr>\n",
    "Do not forget that this is a collaborative framework so do not hesitate to give feedbacks and like the different repository to get more visbility.\n",
    "\n",
    "Also any help is more than welcome !"
   ]
  }
 ],
 "metadata": {
  "kernelspec": {
   "display_name": "Python 3",
   "language": "python",
   "name": "python3"
  },
  "language_info": {
   "codemirror_mode": {
    "name": "ipython",
    "version": 3
   },
   "file_extension": ".py",
   "mimetype": "text/x-python",
   "name": "python",
   "nbconvert_exporter": "python",
   "pygments_lexer": "ipython3",
   "version": "3.8.2"
  }
 },
 "nbformat": 4,
 "nbformat_minor": 4
}
