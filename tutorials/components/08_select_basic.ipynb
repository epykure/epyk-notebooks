{
 "cells": [
  {
   "cell_type": "markdown",
   "metadata": {},
   "source": [
    "<div style=\"float:left;margin:0 10px 10px 0\" markdown=\"1\">\n",
    "    <a href=\"index.ipynb\">\n",
    "        <img src=\"../../static/images/epyklogo_whole_small.png\">\n",
    "    </a>\n",
    "</div>"
   ]
  },
  {
   "cell_type": "markdown",
   "metadata": {},
   "source": [
    "# Select\n",
    "\n",
    "\n",
    "Selects [component](00_components.ipynb) creation in Epyk will be using the function **select** from the ui property.\n",
    "\n",
    "<i>the ui entry point will give you access to all the registered components.\n",
    "Different flavour of buttons are available in the framework.</i>\n",
    "\n",
    "## Basic select"
   ]
  },
  {
   "cell_type": "code",
   "execution_count": 9,
   "metadata": {},
   "outputs": [
    {
     "data": {
      "text/html": [
       "<head>\n",
       "<style>\n",
       "    .cssdivnoborder {margin: 0 ;clear: both ;padding: 0 ;border: 0 ;}\n",
       ".cssselectstyle {padding-top: 2px ;background: #FFFFFF ;color: #000000 ;font-family: Calibri ;line-height: 23px ;font-size: 12px ;display: inline-block !IMPORTANT ;margin: 0 !IMPORTANT ;}\n",
       ".cssselectstyle:focus {outline: 0 ;border: none ;box-shadow: none ;}\n",
       ".cssselectbutton .btn {padding: 0 5px ;outline: none ;border-color: none ;box-shadow: none ;background-color: #e8f5e9 ;border: none ;color: #1b5e20 ;}\n",
       ".cssselectbutton .btn:focus {outline: none ;border-color: none ;box-shadow: none ;}\n",
       ".bootstrap-select .dropdown-toggle:focus {outline: 0 !important ;}\n",
       ".dropdown-item {margin: 0 ;padding: 0 5px ;}\n",
       ".dropdown-item:focus {outline: 0 ;}\n",
       ".dropdown-item:active {background-color: #3bb194 ;}\n",
       ".bs-searchbox input.form-control {outline: 0 ;margin-bottom: 5px ;border-color: #4caf50 ;height: 23px ;}\n",
       ".bs-searchbox input.form-control:focus {outline: 0 ;box-shadow: 0 0 0 0.2em #e8f5e9 ;}\n",
       ".selected {background: #e8f2ef !IMPORTANT ;color: #3bb194 !IMPORTANT ;}\n",
       ".dropdown-toggle {background-color: #e8f5e9 !IMPORTANT ;font-size: 12px !IMPORTANT ;}\n",
       "\n",
       "</style>\n",
       "<link rel=\"stylesheet\" href=\"https://use.fontawesome.com/releases/v5.13.0/css/all.css\" type=\"text/css\">\n",
       "<link rel=\"stylesheet\" href=\"https://cdnjs.cloudflare.com/ajax/libs/jqueryui/1.12.1/jquery-ui.min.css\" type=\"text/css\">\n",
       "<link rel=\"stylesheet\" href=\"https://cdnjs.cloudflare.com/ajax/libs/bootstrap-select/1.13.6/css/bootstrap-select.min.css\" type=\"text/css\">\n",
       "</head>\n",
       "<body>\n",
       "<select id=\"select_2011750445936\" style=\"font-size:inherit;font-family:inherit;box-sizing:border-box;width:100%\" data-style=\"cssdivnoborder cssselectstyle cssselectbutton bootstrap-select .dropdown-toggle dropdown-item select_2011750445936_width\"><option value=\"\" id=\"option_2011750373792\" style=\"font-size:inherit;font-family:inherit;box-sizing:border-box\" class=\"cssdivnoborder\"></option><option value=\"Test\" id=\"option_2011750373648\" style=\"font-size:inherit;font-family:inherit;box-sizing:border-box\" class=\"cssdivnoborder\">Test</option><option value=\"Test2\" id=\"option_2011750374080\" style=\"font-size:inherit;font-family:inherit;box-sizing:border-box\" class=\"cssdivnoborder\">Test2</option></select>\n",
       "<script>\n",
       "var jQuery = $;\n",
       "require.config({ paths:{popper: 'https://cdnjs.cloudflare.com/ajax/libs/popper.js/1.14.6/umd/popper.min', selectBs: 'https://cdnjs.cloudflare.com/ajax/libs/bootstrap-select/1.13.9/js/bootstrap-select.min'}});\n",
       "require(['selectBs', 'popper'], function (selectBs, popper) { $(document.getElementById('select_2011750445936')).selectpicker({\"container\": \"body\"}).selectpicker('refresh') })\n",
       "</script>\n",
       "<body>"
      ],
      "text/plain": [
       "<epyk.core.py.PyOuts.PyOuts at 0x1d465aa97c0>"
      ]
     },
     "execution_count": 9,
     "metadata": {},
     "output_type": "execute_result"
    }
   ],
   "source": [
    "from epyk.core.Page import Report\n",
    "\n",
    "rptObj = Report()\n",
    "select = rptObj.ui.select([\"Test\", \"Test2\"])\n",
    "select.options.container = 'body'\n",
    "\n",
    "rptObj.outs.jupyter()"
   ]
  },
  {
   "cell_type": "code",
   "execution_count": 10,
   "metadata": {},
   "outputs": [
    {
     "data": {
      "text/html": [
       "<head>\n",
       "<style>\n",
       "    .cssdivnoborder {margin: 0 ;clear: both ;padding: 0 ;border: 0 ;}\n",
       ".cssselectstyle {padding-top: 2px ;background: #FFFFFF ;color: #000000 ;font-family: Calibri ;line-height: 23px ;font-size: 12px ;display: inline-block !IMPORTANT ;margin: 0 !IMPORTANT ;}\n",
       ".cssselectstyle:focus {outline: 0 ;border: none ;box-shadow: none ;}\n",
       ".cssselectbutton .btn {padding: 0 5px ;outline: none ;border-color: none ;box-shadow: none ;background-color: #e8f5e9 ;border: none ;color: #1b5e20 ;}\n",
       ".cssselectbutton .btn:focus {outline: none ;border-color: none ;box-shadow: none ;}\n",
       ".bootstrap-select .dropdown-toggle:focus {outline: 0 !important ;}\n",
       ".dropdown-item {margin: 0 ;padding: 0 5px ;}\n",
       ".dropdown-item:focus {outline: 0 ;}\n",
       ".dropdown-item:active {background-color: #3bb194 ;}\n",
       ".bs-searchbox input.form-control {outline: 0 ;margin-bottom: 5px ;border-color: #4caf50 ;height: 23px ;}\n",
       ".bs-searchbox input.form-control:focus {outline: 0 ;box-shadow: 0 0 0 0.2em #e8f5e9 ;}\n",
       ".selected {background: #e8f2ef !IMPORTANT ;color: #3bb194 !IMPORTANT ;}\n",
       ".dropdown-toggle {background-color: #e8f5e9 !IMPORTANT ;font-size: 12px !IMPORTANT ;}\n",
       "\n",
       "</style>\n",
       "<link rel=\"stylesheet\" href=\"https://use.fontawesome.com/releases/v5.13.0/css/all.css\" type=\"text/css\">\n",
       "<link rel=\"stylesheet\" href=\"https://cdnjs.cloudflare.com/ajax/libs/jqueryui/1.12.1/jquery-ui.min.css\" type=\"text/css\">\n",
       "<link rel=\"stylesheet\" href=\"https://cdnjs.cloudflare.com/ajax/libs/bootstrap-select/1.13.6/css/bootstrap-select.min.css\" type=\"text/css\">\n",
       "</head>\n",
       "<body>\n",
       "<select id=\"select_2011750445936\" style=\"font-size:inherit;font-family:inherit;box-sizing:border-box;width:100%\" data-style=\"cssdivnoborder cssselectstyle cssselectbutton bootstrap-select .dropdown-toggle dropdown-item select_2011750445936_width\"><option value=\"\" id=\"option_2011750541344\" style=\"font-size:inherit;font-family:inherit;box-sizing:border-box\" class=\"cssdivnoborder\"></option><option value=\"Test\" id=\"option_2011750541200\" style=\"font-size:inherit;font-family:inherit;box-sizing:border-box\" class=\"cssdivnoborder\">Test</option><option value=\"Test2\" id=\"option_2011750541680\" style=\"font-size:inherit;font-family:inherit;box-sizing:border-box\" class=\"cssdivnoborder\">Test2</option></select>\n",
       "<select id=\"lookup_2011750474560\" style=\"font-size:inherit;font-family:inherit;box-sizing:border-box;width:100%\" data-style=\"cssdivnoborder cssselectstyle cssselectbutton bootstrap-select .dropdown-toggle dropdown-item\"></select>\n",
       "<script>\n",
       "var jQuery = $;\n",
       "require.config({ paths:{popper: 'https://cdnjs.cloudflare.com/ajax/libs/popper.js/1.14.6/umd/popper.min', selectBs: 'https://cdnjs.cloudflare.com/ajax/libs/bootstrap-select/1.13.9/js/bootstrap-select.min'}});\n",
       "require(['selectBs', 'popper'], function (selectBs, popper) { $(document.getElementById('select_2011750445936')).selectpicker({\"container\": \"body\"}).selectpicker('refresh');$(document.getElementById('select_2011750445936')).selectpicker({\"container\": \"body\"}).selectpicker('refresh');$(document.getElementById('lookup_2011750474560')).selectpicker().selectpicker('refresh') })\n",
       "</script>\n",
       "<body>"
      ],
      "text/plain": [
       "<epyk.core.py.PyOuts.PyOuts at 0x1d465ad2640>"
      ]
     },
     "execution_count": 10,
     "metadata": {},
     "output_type": "execute_result"
    }
   ],
   "source": [
    "from epyk.core.Page import Report\n",
    "\n",
    "lookupData = {\"Akron-Canton Regional\": [\n",
    "  {\"value\": \"A\", 'text': \"Example 1\"},\n",
    "  {\"value\": \"B\", 'text': \"Example 2\"}\n",
    "]}\n",
    "select2 = rptObj.ui.lookup(lookupData)\n",
    "select2.options.container = 'body'\n",
    "\n",
    "rptObj.outs.jupyter()"
   ]
  },
  {
   "cell_type": "code",
   "execution_count": 14,
   "metadata": {},
   "outputs": [
    {
     "data": {
      "text/html": [
       "<head>\n",
       "<style>\n",
       "    .cssdivnoborder {margin: 0 ;clear: both ;padding: 0 ;border: 0 ;}\n",
       ".cssselectstyle {padding-top: 2px ;background: #FFFFFF ;color: #000000 ;font-family: Calibri ;line-height: 23px ;font-size: 12px ;display: inline-block !IMPORTANT ;margin: 0 !IMPORTANT ;}\n",
       ".cssselectstyle:focus {outline: 0 ;border: none ;box-shadow: none ;}\n",
       ".cssselectbutton .btn {padding: 0 5px ;outline: none ;border-color: none ;box-shadow: none ;background-color: #e8f5e9 ;border: none ;color: #1b5e20 ;}\n",
       ".cssselectbutton .btn:focus {outline: none ;border-color: none ;box-shadow: none ;}\n",
       ".bootstrap-select .dropdown-toggle:focus {outline: 0 !important ;}\n",
       ".dropdown-item {margin: 0 ;padding: 0 5px ;}\n",
       ".dropdown-item:focus {outline: 0 ;}\n",
       ".dropdown-item:active {background-color: #3bb194 ;}\n",
       ".bs-searchbox input.form-control {outline: 0 ;margin-bottom: 5px ;border-color: #4caf50 ;height: 23px ;}\n",
       ".bs-searchbox input.form-control:focus {outline: 0 ;box-shadow: 0 0 0 0.2em #e8f5e9 ;}\n",
       ".selected {background: #e8f2ef !IMPORTANT ;color: #3bb194 !IMPORTANT ;}\n",
       ".dropdown-toggle {background-color: #e8f5e9 !IMPORTANT ;font-size: 12px !IMPORTANT ;}\n",
       "\n",
       "</style>\n",
       "<link rel=\"stylesheet\" href=\"https://use.fontawesome.com/releases/v5.13.0/css/all.css\" type=\"text/css\">\n",
       "<link rel=\"stylesheet\" href=\"https://cdnjs.cloudflare.com/ajax/libs/jqueryui/1.12.1/jquery-ui.min.css\" type=\"text/css\">\n",
       "<link rel=\"stylesheet\" href=\"https://cdnjs.cloudflare.com/ajax/libs/bootstrap-select/1.13.6/css/bootstrap-select.min.css\" type=\"text/css\">\n",
       "</head>\n",
       "<body>\n",
       "<select id=\"select_2011750445936\" style=\"font-size:inherit;font-family:inherit;box-sizing:border-box;width:100%\" data-style=\"cssdivnoborder cssselectstyle cssselectbutton bootstrap-select .dropdown-toggle dropdown-item select_2011750445936_width\"><option value=\"\" id=\"option_2011751472048\" style=\"font-size:inherit;font-family:inherit;box-sizing:border-box\" class=\"cssdivnoborder\"></option><option value=\"Test\" id=\"option_2011751471904\" style=\"font-size:inherit;font-family:inherit;box-sizing:border-box\" class=\"cssdivnoborder\">Test</option><option value=\"Test2\" id=\"option_2011751472336\" style=\"font-size:inherit;font-family:inherit;box-sizing:border-box\" class=\"cssdivnoborder\">Test2</option></select>\n",
       "<select id=\"lookup_2011750474560\" style=\"font-size:inherit;font-family:inherit;box-sizing:border-box;width:100%\" data-style=\"cssdivnoborder cssselectstyle cssselectbutton bootstrap-select .dropdown-toggle dropdown-item\"></select>\n",
       "<select multiple id=\"select_2011750532960\" style=\"font-size:inherit;font-family:inherit;box-sizing:border-box;width:100%\" data-style=\"cssdivnoborder cssselectstyle cssselectbutton bootstrap-select .dropdown-toggle dropdown-item select_2011750532960_width\"><option value=\"\" id=\"option_2011751453216\" style=\"font-size:inherit;font-family:inherit;box-sizing:border-box\" class=\"cssdivnoborder\"></option><option value=\"Test\" id=\"option_2011751473056\" style=\"font-size:inherit;font-family:inherit;box-sizing:border-box\" class=\"cssdivnoborder\">Test</option><option value=\"Test2\" id=\"option_2011751473104\" style=\"font-size:inherit;font-family:inherit;box-sizing:border-box\" class=\"cssdivnoborder\">Test2</option></select>\n",
       "<select multiple id=\"select_2011751483568\" style=\"font-size:inherit;font-family:inherit;box-sizing:border-box;width:100%\" data-style=\"cssdivnoborder cssselectstyle cssselectbutton bootstrap-select .dropdown-toggle dropdown-item select_2011751483568_width\"><option value=\"\" id=\"option_2011751472672\" style=\"font-size:inherit;font-family:inherit;box-sizing:border-box\" class=\"cssdivnoborder\"></option><option value=\"Test\" id=\"option_2011751455040\" style=\"font-size:inherit;font-family:inherit;box-sizing:border-box\" class=\"cssdivnoborder\">Test</option><option value=\"Test2\" id=\"option_2011751453792\" style=\"font-size:inherit;font-family:inherit;box-sizing:border-box\" class=\"cssdivnoborder\">Test2</option></select>\n",
       "<script>\n",
       "var jQuery = $;\n",
       "require.config({ paths:{popper: 'https://cdnjs.cloudflare.com/ajax/libs/popper.js/1.14.6/umd/popper.min', selectBs: 'https://cdnjs.cloudflare.com/ajax/libs/bootstrap-select/1.13.9/js/bootstrap-select.min'}});\n",
       "require(['selectBs', 'popper'], function (selectBs, popper) { $(document.getElementById('select_2011750445936')).selectpicker({\"container\": \"body\"}).selectpicker('refresh');$(document.getElementById('select_2011750445936')).selectpicker({\"container\": \"body\"}).selectpicker('refresh');$(document.getElementById('lookup_2011750474560')).selectpicker().selectpicker('refresh');$(document.getElementById('select_2011750445936')).selectpicker({\"container\": \"body\"}).selectpicker('refresh');$(document.getElementById('lookup_2011750474560')).selectpicker().selectpicker('refresh');$(document.getElementById('select_2011750532960')).selectpicker({\"actionsBox\": false, \"header\": \"Test Select\", \"selectOnTab\": true, \"showTick\": true}).selectpicker('refresh');$(document.getElementById('select_2011750445936')).selectpicker({\"container\": \"body\"}).selectpicker('refresh');$(document.getElementById('lookup_2011750474560')).selectpicker().selectpicker('refresh');$(document.getElementById('select_2011750532960')).selectpicker({\"actionsBox\": false, \"header\": \"Test Select\", \"selectOnTab\": true, \"showTick\": true}).selectpicker('refresh');$(document.getElementById('select_2011751483568')).selectpicker({\"actionsBox\": false, \"header\": \"Test Select\", \"selectOnTab\": true, \"showTick\": true, \"container\": \"body\"}).selectpicker('refresh') })\n",
       "</script>\n",
       "<body>"
      ],
      "text/plain": [
       "<epyk.core.py.PyOuts.PyOuts at 0x1d465bb59d0>"
      ]
     },
     "execution_count": 14,
     "metadata": {},
     "output_type": "execute_result"
    }
   ],
   "source": [
    "from epyk.core.Page import Report\n",
    "\n",
    "multi = rptObj.ui.select([\"Test\", \"Test2\"], multiple=True)\n",
    "multi.options.actionsBox = False\n",
    "multi.options.header = \"Test Select\"\n",
    "multi.options.selectOnTab = True\n",
    "multi.options.showTick = True\n",
    "multi.options.container = 'body'\n",
    "\n",
    "rptObj.outs.jupyter()"
   ]
  }
 ],
 "metadata": {
  "kernelspec": {
   "display_name": "Python 3",
   "language": "python",
   "name": "python3"
  },
  "language_info": {
   "codemirror_mode": {
    "name": "ipython",
    "version": 3
   },
   "file_extension": ".py",
   "mimetype": "text/x-python",
   "name": "python",
   "nbconvert_exporter": "python",
   "pygments_lexer": "ipython3",
   "version": "3.8.2"
  }
 },
 "nbformat": 4,
 "nbformat_minor": 4
}
