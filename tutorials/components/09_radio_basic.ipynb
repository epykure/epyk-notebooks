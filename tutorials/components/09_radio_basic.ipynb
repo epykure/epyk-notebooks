{
 "cells": [
  {
   "cell_type": "markdown",
   "metadata": {},
   "source": [
    "<div style=\"float:left;margin:0 10px 10px 0\" markdown=\"1\">\n",
    "    <a href=\"index.ipynb\">\n",
    "        <img src=\"../../static/images/epyklogo_whole_small.png\">\n",
    "    </a>\n",
    "</div>"
   ]
  },
  {
   "cell_type": "markdown",
   "metadata": {},
   "source": [
    "# Radio\n",
    "\n",
    "\n",
    "Radio [component](00_components.ipynb) creation in Epyk will be using the function **radio** from the ui property.\n",
    "\n",
    "<i>the ui entry point will give you access to all the registered components.\n",
    "Different flavour of buttons are available in the framework.</i>\n",
    "\n",
    "## Basic radio"
   ]
  },
  {
   "cell_type": "code",
   "execution_count": 2,
   "metadata": {},
   "outputs": [
    {
     "data": {
      "text/html": [
       "<head>\n",
       "<style>\n",
       "    .cssdivnoborder {margin: 0 ;clear: both ;padding: 0 ;border: 0 ;}\n",
       "\n",
       "</style>\n",
       "\n",
       "</head>\n",
       "<body>\n",
       "<input placeholder=\"\" type=\"radio\" value=\"\" spellcheck=\"False\" data-content=\"Check 1\" checked=\"true\" name=\"group1\" id=\"input_2343282837152\" style=\"font-size:12px;font-family:Calibri;box-sizing:border-box;width:none;vertical-align:middle;cursor:pointer;display:inline-block;min-width:none\" class=\"cssdivnoborder\" /><label id=\"label_2343282839216\" style=\"font-size:inherit;font-family:inherit;box-sizing:border-box;width:100px;height:auto;text-align:left;margin:0 5px;float:left;display:inline-block;line-height:23px;vertical-align:middle\" class=\"cssdivnoborder\">Check 1</label><div id=\"radio_2343282835760\" style=\"font-size:inherit;font-family:inherit;box-sizing:border-box;width:100%;vertical-align:middle;text-align:left;display:inline-block\" class=\"cssdivnoborder\"></div>\n",
       "<script>\n",
       "var jQuery = $;\n",
       "require.config({ paths:{}});\n",
       "document.getElementById('radio_2343282835760').insertBefore(document.getElementById('input_2343282837152'), document.getElementById('radio_2343282835760').firstChild);document.getElementById('radio_2343282835760').appendChild(document.getElementById('label_2343282839216'))\n",
       "</script>\n",
       "<body>"
      ],
      "text/plain": [
       "<epyk.core.py.PyOuts.PyOuts at 0x2219689c6d0>"
      ]
     },
     "execution_count": 2,
     "metadata": {},
     "output_type": "execute_result"
    }
   ],
   "source": [
    "from epyk.core.Page import Report\n",
    "\n",
    "rptObj = Report()\n",
    "\n",
    "rptObj.ui.fields.radio(True, label=\"Check 1\", group_name=\"group1\")\n",
    "\n",
    "rptObj.outs.jupyter()"
   ]
  },
  {
   "cell_type": "code",
   "execution_count": 4,
   "metadata": {},
   "outputs": [
    {
     "data": {
      "text/html": [
       "<head>\n",
       "<style>\n",
       "    .cssdivnoborder {margin: 0 ;clear: both ;padding: 0 ;border: 0 ;}\n",
       "\n",
       "</style>\n",
       "\n",
       "</head>\n",
       "<body>\n",
       "<input placeholder=\"\" type=\"radio\" value=\"\" spellcheck=\"False\" data-content=\"Check 1\" checked=\"true\" name=\"group1\" id=\"input_2343283038672\" style=\"font-size:12px;font-family:Calibri;box-sizing:border-box;width:none;vertical-align:middle;cursor:pointer;display:inline-block;min-width:none\" class=\"cssdivnoborder\" /><label id=\"label_2343283003936\" style=\"font-size:inherit;font-family:inherit;box-sizing:border-box;width:100px;height:auto;text-align:left;margin:0 5px;float:left;display:inline-block;line-height:23px;vertical-align:middle\" class=\"cssdivnoborder\">Check 1</label><div id=\"radio_2343283037280\" style=\"font-size:inherit;font-family:inherit;box-sizing:border-box;width:100%;vertical-align:middle;text-align:left;display:inline-block\" class=\"cssdivnoborder\"></div>\n",
       "<input placeholder=\"\" type=\"radio\" value=\"\" spellcheck=\"False\" data-content=\"Check 2\" checked=\"true\" name=\"group1\" id=\"input_2343283056944\" style=\"font-size:12px;font-family:Calibri;box-sizing:border-box;width:none;vertical-align:middle;cursor:pointer;display:inline-block;min-width:none\" class=\"cssdivnoborder\" /><label id=\"label_2343283058432\" style=\"font-size:inherit;font-family:inherit;box-sizing:border-box;width:100px;height:auto;text-align:left;margin:0 5px;float:left;display:inline-block;line-height:23px;vertical-align:middle\" class=\"cssdivnoborder\">Check 2</label><div id=\"radio_2343283038864\" style=\"font-size:inherit;font-family:inherit;box-sizing:border-box;width:100%;vertical-align:middle;text-align:left;display:inline-block\" class=\"cssdivnoborder\"></div>\n",
       "<script>\n",
       "var jQuery = $;\n",
       "require.config({ paths:{}});\n",
       "document.getElementById('radio_2343283037280').insertBefore(document.getElementById('input_2343283038672'), document.getElementById('radio_2343283037280').firstChild);document.getElementById('radio_2343283037280').appendChild(document.getElementById('label_2343283003936'));document.getElementById('radio_2343283038864').insertBefore(document.getElementById('input_2343283056944'), document.getElementById('radio_2343283038864').firstChild);document.getElementById('radio_2343283038864').appendChild(document.getElementById('label_2343283058432'))\n",
       "</script>\n",
       "<body>"
      ],
      "text/plain": [
       "<epyk.core.py.PyOuts.PyOuts at 0x221968d9400>"
      ]
     },
     "execution_count": 4,
     "metadata": {},
     "output_type": "execute_result"
    }
   ],
   "source": [
    "from epyk.core.Page import Report\n",
    "\n",
    "rptObj = Report()\n",
    "\n",
    "rptObj.ui.fields.radio(True, label=\"Check 1\", group_name=\"group1\")\n",
    "c2 = rptObj.ui.fields.radio(True, label=\"Check 2\", group_name=\"group1\")\n",
    "\n",
    "rptObj.outs.jupyter()"
   ]
  },
  {
   "cell_type": "code",
   "execution_count": 6,
   "metadata": {},
   "outputs": [
    {
     "data": {
      "text/html": [
       "<head>\n",
       "<style>\n",
       "    .cssdivnoborder {margin: 0 ;clear: both ;padding: 0 ;border: 0 ;}\n",
       ".cssdivonhoverbackgroundlight {background-color: inherit ;}\n",
       ".cssdivonhoverbackgroundlight:hover {cursor: pointer ;background-color: #eeeeee ;font-weight: bold ;color: #000000 !IMPORTANT ;}\n",
       "\n",
       "</style>\n",
       "<link rel=\"stylesheet\" href=\"https://use.fontawesome.com/releases/v5.13.0/css/all.css\" type=\"text/css\">\n",
       "</head>\n",
       "<body>\n",
       "<span id=\"span_2343283205264\" style=\"font-size:inherit;font-family:inherit;box-sizing:border-box;width:100px;height:23px;text-align:center;line-height:25px;margin:0 5px;display:inline-block;vertical-align:middle;float:right\" class=\"cssdivnoborder\">Check</span><i aria-hidden=\"true\" id=\"icon_2343283207328\" style=\"font-size:12px;vertical-align:middle;display:inline-block;margin:auto;padding:auto 0;margin-right:auto;color:blue;border-radius:25px;width:25px;line-height:25px\" class=\"cssdivnoborder fa fa-times cssdivonhoverbackgroundlight\"></i><span title=\"\" data-toggle=\"tooltip\" data-placement=\"top\" id=\"tick_2343283113744\" style=\"font-size:inherit;font-family:inherit;box-sizing:border-box;float:none;margin:5px 0;cursor:pointer;display:inline-block;text-align:center\" class=\"cssdivnoborder\"></span>\n",
       "<script>\n",
       "var jQuery = $;\n",
       "require.config({ paths:{fontawesome: 'https://use.fontawesome.com/releases/v5.13.0/js/fontawesome'}});\n",
       "require(['fontawesome'], function (fontawesome) { document.getElementById('tick_2343283113744').insertBefore(document.getElementById('span_2343283205264'), document.getElementById('tick_2343283113744').firstChild);document.getElementById('tick_2343283113744').insertBefore(document.getElementById('icon_2343283207328'), document.getElementById('tick_2343283113744').firstChild);document.getElementById('tick_2343283113744').addEventListener('click', function(event){var classes = \"fa fa-times\".split(\" \"); classes.forEach(function(cls){ document.getElementById('icon_2343283207328').classList.toggle(cls); });var classes = \"fa fa-check\".split(\" \"); classes.forEach(function(cls){ document.getElementById('icon_2343283207328').classList.toggle(cls); });document.getElementById('icon_2343283207328').style.transitionProperty = \"background\";document.getElementById('icon_2343283207328').style.transitionDuration = \"0.2s\";document.getElementById('icon_2343283207328').style.transitionTiming = \"ease\";var css_transition = document.getElementById('icon_2343283207328').style.background;setTimeout(function(){document.getElementById('icon_2343283207328').style.background = css_transition}, 200.0);document.getElementById('icon_2343283207328').style.background = \"#e8f2ef\";document.getElementById('icon_2343283207328').style.transitionProperty = \"initial\";document.getElementById('icon_2343283207328')});$('[data-toggle=tooltip]').tooltip() })\n",
       "</script>\n",
       "<body>"
      ],
      "text/plain": [
       "<epyk.core.py.PyOuts.PyOuts at 0x221968d68e0>"
      ]
     },
     "execution_count": 6,
     "metadata": {},
     "output_type": "execute_result"
    }
   ],
   "source": [
    "from epyk.core.Page import Report\n",
    "\n",
    "rptObj = Report()\n",
    "\n",
    "rptObj.ui.icons.tick(False, \"Check\")\n",
    "\n",
    "rptObj.outs.jupyter()"
   ]
  },
  {
   "cell_type": "code",
   "execution_count": 7,
   "metadata": {},
   "outputs": [
    {
     "data": {
      "text/html": [
       "<head>\n",
       "<style>\n",
       "    .cssdivnoborder {margin: 0 ;clear: both ;padding: 0 ;border: 0 ;}\n",
       "\n",
       "</style>\n",
       "\n",
       "</head>\n",
       "<body>\n",
       "<div id=\"div_2343283153600\" style=\"font-size:12px;vertical-align:middle;box-sizing:border-box;width:auto;text-align:left\" class=\"cssdivnoborder\"><input placeholder=\"\" type=\"radio\" value=\"\" spellcheck=\"False\" data-content=\"Python\" checked=\"true\" name=\"div_2343283153600\" id=\"input_2343283172976\" style=\"font-size:12px;font-family:Calibri;box-sizing:border-box;width:none;vertical-align:middle;cursor:pointer;display:inline-block;min-width:none\" class=\"cssdivnoborder\" /><label id=\"label_2343283175040\" style=\"font-size:inherit;font-family:inherit;box-sizing:border-box;width:100px;height:auto;text-align:left;margin:0 5px;float:left;display:inline-block;line-height:23px;vertical-align:middle\" class=\"cssdivnoborder\">Python</label><div id=\"radio_2343283171584\" style=\"font-size:inherit;font-family:inherit;box-sizing:border-box;width:100%;vertical-align:middle;text-align:left;display:inline-block\" class=\"cssdivnoborder\"></div><input placeholder=\"\" type=\"radio\" value=\"\" spellcheck=\"False\" data-content=\"Javascript\" name=\"div_2343283153600\" id=\"input_2343283273152\" style=\"font-size:12px;font-family:Calibri;box-sizing:border-box;width:none;vertical-align:middle;cursor:pointer;display:inline-block;min-width:none\" class=\"cssdivnoborder\" /><label id=\"label_2343283262368\" style=\"font-size:inherit;font-family:inherit;box-sizing:border-box;width:100px;height:auto;text-align:left;margin:0 5px;float:left;display:inline-block;line-height:23px;vertical-align:middle\" class=\"cssdivnoborder\">Javascript</label><div id=\"radio_2343283173168\" style=\"font-size:inherit;font-family:inherit;box-sizing:border-box;width:100%;vertical-align:middle;text-align:left;display:inline-block\" class=\"cssdivnoborder\"></div></div>\n",
       "<script>\n",
       "var jQuery = $;\n",
       "require.config({ paths:{}});\n",
       "document.getElementById('radio_2343283171584').insertBefore(document.getElementById('input_2343283172976'), document.getElementById('radio_2343283171584').firstChild);document.getElementById('radio_2343283171584').appendChild(document.getElementById('label_2343283175040'));document.getElementById('radio_2343283173168').insertBefore(document.getElementById('input_2343283273152'), document.getElementById('radio_2343283173168').firstChild);document.getElementById('radio_2343283173168').appendChild(document.getElementById('label_2343283262368'))\n",
       "</script>\n",
       "<body>"
      ],
      "text/plain": [
       "<epyk.core.py.PyOuts.PyOuts at 0x22196905d90>"
      ]
     },
     "execution_count": 7,
     "metadata": {},
     "output_type": "execute_result"
    }
   ],
   "source": [
    "from epyk.core.Page import Report\n",
    "\n",
    "rptObj = Report()\n",
    "\n",
    "c5 = rptObj.ui.lists.radios([\n",
    "  {\"value\": True, 'label': 'Python'},\n",
    "  {\"value\": False, 'label': 'Javascript'},\n",
    "])\n",
    "\n",
    "rptObj.outs.jupyter()"
   ]
  }
 ],
 "metadata": {
  "kernelspec": {
   "display_name": "Python 3",
   "language": "python",
   "name": "python3"
  },
  "language_info": {
   "codemirror_mode": {
    "name": "ipython",
    "version": 3
   },
   "file_extension": ".py",
   "mimetype": "text/x-python",
   "name": "python",
   "nbconvert_exporter": "python",
   "pygments_lexer": "ipython3",
   "version": "3.8.2"
  }
 },
 "nbformat": 4,
 "nbformat_minor": 4
}
