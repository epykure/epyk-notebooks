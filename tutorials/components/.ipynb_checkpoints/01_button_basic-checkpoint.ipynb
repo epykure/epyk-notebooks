{
 "cells": [
  {
   "cell_type": "markdown",
   "metadata": {},
   "source": [
    "<div style=\"float:left;margin:0 10px 10px 0\" markdown=\"1\">\n",
    "    <a href=\"index.ipynb\">\n",
    "        <img src=\"../../static/images/epyklogo_whole_small.png\">\n",
    "    </a>\n",
    "</div>"
   ]
  },
  {
   "cell_type": "markdown",
   "metadata": {},
   "source": [
    "# Button\n",
    "\n",
    "\n",
    "Button [component](00_components.ipynb) creation in Epyk will be using the function button from the ui property.\n",
    "\n",
    "<i>the ui entry point will give you access to all the registered components.\n",
    "Different flavour of buttons are available in the framework.</i>\n",
    "\n",
    "## Basic button"
   ]
  },
  {
   "cell_type": "code",
   "execution_count": 17,
   "metadata": {},
   "outputs": [
    {
     "data": {
      "text/html": [
       "<head>\n",
       "<style>\n",
       "    .cssbuttonbasic_button_2071533018512 {font-weight: bold ;padding: 2px 20px ;margin: 2px 0 2px 0 ;text-decoration: none ;border-radius: 4px ;white-space: nowrap ;display: inline-block ;line-height: 30px ;-webkit-appearance: none ;-moz-appearance: none ;border: 1px solid #bdbdbd ;color: #1b5e20 ;background-color: #FFFFFF ;}\n",
       ".cssbuttonbasic_button_2071533018512:hover {text-decoration: none ;cursor: pointer ;background-color: #e8f5e9 ;color: #1b5e20 ;}\n",
       ".cssbuttonbasic_button_2071533018512:focus {outline: 0 ;}\n",
       ".cssbuttonbasic_button_2071533018512:disabled {cursor: none ;background-color: #1b5e20 ;color: #43a047 ;font-style: italic ;}\n",
       "\n",
       "</style>\n",
       "\n",
       "</head>\n",
       "<body>\n",
       "<button name data-count=\"0\" id=\"button_2071533018512\" style=\"font-size:12px\" class=\"cssbuttonbasic_button_2071533018512\">Test</button>\n",
       "<script>\n",
       "var jQuery = $;\n",
       "require.config({ paths:{}});\n",
       "\n",
       "</script>\n",
       "<body>"
      ],
      "text/plain": [
       "<epyk.core.py.PyOuts.PyOuts at 0x1e250f8dfd0>"
      ]
     },
     "execution_count": 17,
     "metadata": {},
     "output_type": "execute_result"
    }
   ],
   "source": [
    "from epyk.core.Page import Report\n",
    "\n",
    "rptObj = Report()\n",
    "button = rptObj.ui.button(\"Test\")\n",
    "\n",
    "rptObj.outs.jupyter()"
   ]
  },
  {
   "cell_type": "markdown",
   "metadata": {},
   "source": [
    "It is also possible to change the style of it by using any CSS properties.\n",
    "\n",
    "Those will be automatically added to the CSS inline property of the contrainer.\n",
    "For complex components (not structure with only one HTML tag) it is important to keep in mind that this will only impact the container.\n",
    "\n",
    "### Styling"
   ]
  },
  {
   "cell_type": "code",
   "execution_count": 6,
   "metadata": {},
   "outputs": [
    {
     "data": {
      "text/html": [
       "<head>\n",
       "<style>\n",
       "    .cssbuttonbasic_button_2071531829856 {font-weight: bold ;padding: 2px 20px ;margin: 2px 0 2px 0 ;text-decoration: none ;border-radius: 4px ;white-space: nowrap ;display: inline-block ;line-height: 30px ;-webkit-appearance: none ;-moz-appearance: none ;border: 1px solid #bdbdbd ;color: #1b5e20 ;background-color: #FFFFFF ;}\n",
       ".cssbuttonbasic_button_2071531829856:hover {text-decoration: none ;cursor: pointer ;background-color: #e8f5e9 ;color: #1b5e20 ;}\n",
       ".cssbuttonbasic_button_2071531829856:focus {outline: 0 ;}\n",
       ".cssbuttonbasic_button_2071531829856:disabled {cursor: none ;background-color: #1b5e20 ;color: #43a047 ;font-style: italic ;}\n",
       "\n",
       "</style>\n",
       "\n",
       "</head>\n",
       "<body>\n",
       "<button name data-count=\"0\" id=\"button_2071531829856\" style=\"font-size:12px;color:red;background:yellow\" class=\"cssbuttonbasic_button_2071531829856\">Test</button>\n",
       "<script>\n",
       "var jQuery = $;\n",
       "require.config({ paths:{}});\n",
       "\n",
       "</script>\n",
       "<body>"
      ],
      "text/plain": [
       "<epyk.core.py.PyOuts.PyOuts at 0x1e250ea6be0>"
      ]
     },
     "execution_count": 6,
     "metadata": {},
     "output_type": "execute_result"
    }
   ],
   "source": [
    "from epyk.core.Page import Report\n",
    "\n",
    "rptObj = Report()\n",
    "button = rptObj.ui.button(\"Test\")\n",
    "button.style.css.color = 'red' # This will change the color\n",
    "button.style.css.background = 'yellow'\n",
    "\n",
    "rptObj.outs.jupyter()"
   ]
  },
  {
   "cell_type": "markdown",
   "metadata": {},
   "source": [
    "More advance styling options are available.\n",
    "\n",
    "For example if it possible to add style only when th emouse will be on the component.\n",
    "In order to do this the property style will allow you to add the CSS style.\n",
    "\n",
    "Behind the scene this will swtich the inline CSS to a dedicated CSS class with hover properties.\n",
    "In this case the interface is a bit different and it is using a dictionary.\n"
   ]
  },
  {
   "cell_type": "code",
   "execution_count": 8,
   "metadata": {},
   "outputs": [
    {
     "data": {
      "text/html": [
       "<head>\n",
       "<style>\n",
       "    .cssbuttonbasic_button_2071531809088 {font-weight: bold ;padding: 2px 20px ;margin: 2px 0 2px 0 ;text-decoration: none ;border-radius: 4px ;white-space: nowrap ;display: inline-block ;line-height: 30px ;-webkit-appearance: none ;-moz-appearance: none ;border: 1px solid #bdbdbd ;color: #1b5e20 ;background-color: #FFFFFF ;}\n",
       ".cssbuttonbasic_button_2071531809088:hover {text-decoration: none ;cursor: pointer ;background-color: #e8f5e9 ;color: #1b5e20 ;}\n",
       ".cssbuttonbasic_button_2071531809088:focus {outline: 0 ;}\n",
       ".cssbuttonbasic_button_2071531809088:disabled {cursor: none ;background-color: #1b5e20 ;color: #43a047 ;font-style: italic ;}\n",
       ".style_button_2071531809088 {font-size: 12px ;}\n",
       ".style_button_2071531809088:hover {color: red ;background: yellow ;}\n",
       "\n",
       "</style>\n",
       "\n",
       "</head>\n",
       "<body>\n",
       "<button name data-count=\"0\" id=\"button_2071531809088\" class=\"cssbuttonbasic_button_2071531809088 style_button_2071531809088\">Test</button>\n",
       "<script>\n",
       "var jQuery = $;\n",
       "require.config({ paths:{}});\n",
       "\n",
       "</script>\n",
       "<body>"
      ],
      "text/plain": [
       "<epyk.core.py.PyOuts.PyOuts at 0x1e250eae970>"
      ]
     },
     "execution_count": 8,
     "metadata": {},
     "output_type": "execute_result"
    }
   ],
   "source": [
    "from epyk.core.Page import Report\n",
    "\n",
    "rptObj = Report()\n",
    "button = rptObj.ui.button(\"Test\")\n",
    "button.style.hover({'color': 'red', 'background': 'yellow'})\n",
    "\n",
    "rptObj.outs.jupyter()"
   ]
  },
  {
   "cell_type": "markdown",
   "metadata": {},
   "source": [
    "This structure for CSS Style can be quite useful and an entry point is also available in the component itself to allow dictionary for inline CSS. This structure is similar to JQuery.\n",
    "\n",
    "This could allow you to keep all the configuration in a dedicated file."
   ]
  },
  {
   "cell_type": "code",
   "execution_count": 11,
   "metadata": {},
   "outputs": [
    {
     "data": {
      "text/html": [
       "<head>\n",
       "<style>\n",
       "    .cssbuttonbasic_button_2071532808992 {font-weight: bold ;padding: 2px 20px ;margin: 2px 0 2px 0 ;text-decoration: none ;border-radius: 4px ;white-space: nowrap ;display: inline-block ;line-height: 30px ;-webkit-appearance: none ;-moz-appearance: none ;border: 1px solid #bdbdbd ;color: #1b5e20 ;background-color: #FFFFFF ;}\n",
       ".cssbuttonbasic_button_2071532808992:hover {text-decoration: none ;cursor: pointer ;background-color: #e8f5e9 ;color: #1b5e20 ;}\n",
       ".cssbuttonbasic_button_2071532808992:focus {outline: 0 ;}\n",
       ".cssbuttonbasic_button_2071532808992:disabled {cursor: none ;background-color: #1b5e20 ;color: #43a047 ;font-style: italic ;}\n",
       "\n",
       "</style>\n",
       "\n",
       "</head>\n",
       "<body>\n",
       "<button name data-count=\"0\" id=\"button_2071532808992\" style=\"font-size:12px;color:red;background:yellow\" class=\"cssbuttonbasic_button_2071532808992\">Test</button>\n",
       "<script>\n",
       "var jQuery = $;\n",
       "require.config({ paths:{}});\n",
       "\n",
       "</script>\n",
       "<body>"
      ],
      "text/plain": [
       "<epyk.core.py.PyOuts.PyOuts at 0x1e250fa2b50>"
      ]
     },
     "execution_count": 11,
     "metadata": {},
     "output_type": "execute_result"
    }
   ],
   "source": [
    "rptObj = Report()\n",
    "button = rptObj.ui.button(\"Test\")\n",
    "button.css({'color': 'red', 'background': 'yellow'})\n",
    "\n",
    "rptObj.outs.jupyter()"
   ]
  },
  {
   "cell_type": "markdown",
   "metadata": {},
   "source": [
    "### Other buttons\n",
    "\n",
    "Other flavours of buttons are available from the property **buttons**.\n"
   ]
  },
  {
   "cell_type": "code",
   "execution_count": 15,
   "metadata": {},
   "outputs": [
    {
     "data": {
      "text/html": [
       "<head>\n",
       "<style>\n",
       "    .cssbuttonbasic_button_2071532896112 {font-weight: bold ;padding: 2px 20px ;margin: 2px 0 2px 0 ;text-decoration: none ;border-radius: 4px ;white-space: nowrap ;display: inline-block ;line-height: 30px ;-webkit-appearance: none ;-moz-appearance: none ;border: 1px solid #bdbdbd ;color: #1b5e20 ;background-color: #FFFFFF ;}\n",
       ".cssbuttonbasic_button_2071532896112:hover {text-decoration: none ;cursor: pointer ;background-color: #e8f5e9 ;color: #1b5e20 ;}\n",
       ".cssbuttonbasic_button_2071532896112:focus {outline: 0 ;}\n",
       ".cssbuttonbasic_button_2071532896112:disabled {cursor: none ;background-color: #1b5e20 ;color: #43a047 ;font-style: italic ;}\n",
       ".cssbuttonimportant {font-weight: bold ;padding: 2px 20px ;margin: 2px 0 2px 0 ;text-decoration: none ;border-radius: 4px ;white-space: nowrap ;display: inline-block ;line-height: 30px ;-webkit-appearance: none ;-moz-appearance: none ;border: 1px solid ;color: #FFFFFF ;background-color: #2e7d32 ;}\n",
       ".cssbuttonimportant:hover {text-decoration: none ;cursor: pointer ;background-color: #1b5e20 ;color: #FFFFFF ;}\n",
       ".cssbuttonimportant:focus {outline: 0 ;}\n",
       ".cssbuttonimportant:disabled {cursor: none ;background-color: #1b5e20 ;color: #43a047 ;font-style: italic ;}\n",
       ".cssdivnoborder {margin: 0 ;clear: both ;padding: 0 ;border: 0 ;}\n",
       ".cssbuttonbasic_button_2071532820464 {font-weight: bold ;padding: 2px 20px ;margin: 2px 0 2px 0 ;text-decoration: none ;border-radius: 4px ;white-space: nowrap ;display: inline-block ;line-height: 30px ;-webkit-appearance: none ;-moz-appearance: none ;border: 1px solid #bdbdbd ;color: #1b5e20 ;background-color: #FFFFFF ;}\n",
       ".cssbuttonbasic_button_2071532820464:hover {text-decoration: none ;cursor: pointer ;background-color: #e8f5e9 ;color: #1b5e20 ;}\n",
       ".cssbuttonbasic_button_2071532820464:focus {outline: 0 ;}\n",
       ".cssbuttonbasic_button_2071532820464:disabled {cursor: none ;background-color: #1b5e20 ;color: #43a047 ;font-style: italic ;}\n",
       ".cssbuttonbasic_button_2071532821184 {font-weight: bold ;padding: 2px 20px ;margin: 2px 0 2px 0 ;text-decoration: none ;border-radius: 4px ;white-space: nowrap ;display: inline-block ;line-height: 30px ;-webkit-appearance: none ;-moz-appearance: none ;border: 1px solid #bdbdbd ;color: #1b5e20 ;background-color: #FFFFFF ;}\n",
       ".cssbuttonbasic_button_2071532821184:hover {text-decoration: none ;cursor: pointer ;background-color: #e8f5e9 ;color: #1b5e20 ;}\n",
       ".cssbuttonbasic_button_2071532821184:focus {outline: 0 ;}\n",
       ".cssbuttonbasic_button_2071532821184:disabled {cursor: none ;background-color: #1b5e20 ;color: #43a047 ;font-style: italic ;}\n",
       "\n",
       "</style>\n",
       "<link rel=\"stylesheet\" href=\"https://use.fontawesome.com/releases/v5.13.0/css/all.css\" type=\"text/css\">\n",
       "</head>\n",
       "<body>\n",
       "<button name data-count=\"0\" id=\"button_2071532896112\" style=\"font-size:12px\" class=\"cssbuttonbasic_button_2071532896112 cssbuttonimportant\">Important</button>\n",
       "<i aria-hidden=\"true\" id=\"icon_2071533011056\" style=\"font-size:12px;vertical-align:middle;display:inline-block;margin:auto 0;padding:auto 0;margin-right:5px\" class=\"cssdivnoborder fas fa-check-circle\"></i><button name data-count=\"0\" id=\"button_2071532820464\" style=\"font-size:12px\" class=\"cssbuttonbasic_button_2071532820464\"></button>\n",
       "<i aria-hidden=\"true\" id=\"icon_2071533014320\" style=\"font-size:12px;vertical-align:middle;display:inline-block;margin:auto 0;padding:auto 0;margin-right:5px\" class=\"cssdivnoborder fas fa-trash-alt\"></i><button name data-count=\"0\" id=\"button_2071532821184\" style=\"font-size:12px\" class=\"cssbuttonbasic_button_2071532821184\"></button>\n",
       "<script>\n",
       "var jQuery = $;\n",
       "require.config({ paths:{fontawesome: 'https://use.fontawesome.com/releases/v5.13.0/js/fontawesome'}});\n",
       "require(['fontawesome'], function (fontawesome) { document.getElementById('button_2071532820464').insertBefore(document.getElementById('icon_2071533011056'), document.getElementById('button_2071532820464').firstChild);document.getElementById('button_2071532821184').insertBefore(document.getElementById('icon_2071533014320'), document.getElementById('button_2071532821184').firstChild) })\n",
       "</script>\n",
       "<body>"
      ],
      "text/plain": [
       "<epyk.core.py.PyOuts.PyOuts at 0x1e250f8ddf0>"
      ]
     },
     "execution_count": 15,
     "metadata": {},
     "output_type": "execute_result"
    }
   ],
   "source": [
    "from epyk.core.Page import Report\n",
    "\n",
    "rptObj = Report()\n",
    "\n",
    "rptObj.ui.buttons.important(\"Important\")\n",
    "rptObj.ui.buttons.validate()\n",
    "rptObj.ui.buttons.remove()\n",
    "\n",
    "rptObj.outs.jupyter()"
   ]
  },
  {
   "cell_type": "markdown",
   "metadata": {},
   "source": [
    "### Events\n",
    "\n",
    "It is obviously possible to add any kind of event to a button.\n",
    "\n",
    "The usual one is the click event btu all the different events are possible from the on() event.\n",
    "More details are available in the Javascript section"
   ]
  },
  {
   "cell_type": "code",
   "execution_count": 16,
   "metadata": {},
   "outputs": [
    {
     "data": {
      "text/html": [
       "<head>\n",
       "<style>\n",
       "    .cssbuttonbasic_button_2071533118992 {font-weight: bold ;padding: 2px 20px ;margin: 2px 0 2px 0 ;text-decoration: none ;border-radius: 4px ;white-space: nowrap ;display: inline-block ;line-height: 30px ;-webkit-appearance: none ;-moz-appearance: none ;border: 1px solid #bdbdbd ;color: #1b5e20 ;background-color: #FFFFFF ;}\n",
       ".cssbuttonbasic_button_2071533118992:hover {text-decoration: none ;cursor: pointer ;background-color: #e8f5e9 ;color: #1b5e20 ;}\n",
       ".cssbuttonbasic_button_2071533118992:focus {outline: 0 ;}\n",
       ".cssbuttonbasic_button_2071533118992:disabled {cursor: none ;background-color: #1b5e20 ;color: #43a047 ;font-style: italic ;}\n",
       "\n",
       "</style>\n",
       "\n",
       "</head>\n",
       "<body>\n",
       "<button name data-count=\"0\" id=\"button_2071533118992\" style=\"font-size:12px\" class=\"cssbuttonbasic_button_2071533118992\">Test</button>\n",
       "<script>\n",
       "var jQuery = $;\n",
       "require.config({ paths:{}});\n",
       "document.getElementById('button_2071533118992').addEventListener('click', function(event){window.alert(\"This is an alert !\")})\n",
       "</script>\n",
       "<body>"
      ],
      "text/plain": [
       "<epyk.core.py.PyOuts.PyOuts at 0x1e250fee640>"
      ]
     },
     "execution_count": 16,
     "metadata": {},
     "output_type": "execute_result"
    }
   ],
   "source": [
    "from epyk.core.Page import Report\n",
    "\n",
    "rptObj = Report()\n",
    "button = rptObj.ui.button(\"Test\")\n",
    "button.click([\n",
    "    rptObj.js.alert('This is an alert !')\n",
    "])\n",
    "rptObj.outs.jupyter()"
   ]
  }
 ],
 "metadata": {
  "kernelspec": {
   "display_name": "Python 3",
   "language": "python",
   "name": "python3"
  },
  "language_info": {
   "codemirror_mode": {
    "name": "ipython",
    "version": 3
   },
   "file_extension": ".py",
   "mimetype": "text/x-python",
   "name": "python",
   "nbconvert_exporter": "python",
   "pygments_lexer": "ipython3",
   "version": "3.8.2"
  }
 },
 "nbformat": 4,
 "nbformat_minor": 2
}
