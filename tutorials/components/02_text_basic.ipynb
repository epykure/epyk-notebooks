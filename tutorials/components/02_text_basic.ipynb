{
 "cells": [
  {
   "cell_type": "markdown",
   "metadata": {},
   "source": [
    "<div style=\"float:left;margin:0 10px 10px 0\" markdown=\"1\">\n",
    "    <a href=\"index.ipynb\">\n",
    "        <img src=\"../../static/images/epyklogo_whole_small.png\">\n",
    "    </a>\n",
    "</div>"
   ]
  },
  {
   "cell_type": "markdown",
   "metadata": {},
   "source": [
    "# Text\n",
    "\n",
    "Text [component](00_components.ipynb) creation in Epyk will be using the function text from the ui property.\n",
    "\n",
    "<i>the ui entry point will give you access to all the registered components.\n",
    "Different flavour of buttons are available in the framework.</i>\n",
    "\n",
    "There are multiple flaviour of text in the framework but the default one added as a shortcut to ui is a component using div as underlying. Div is the generic container on the HTML space.\n",
    "\n",
    "## Basic text"
   ]
  },
  {
   "cell_type": "code",
   "execution_count": 3,
   "metadata": {},
   "outputs": [
    {
     "data": {
      "text/html": [
       "<head>\n",
       "<style>\n",
       "    .cssdivnoborder {margin: 0 ;clear: both ;padding: 0 ;border: 0 ;}\n",
       "\n",
       "</style>\n",
       "\n",
       "</head>\n",
       "<body>\n",
       "<div id=\"text_1947927884944\" style=\"font-size:inherit;font-family:inherit;box-sizing:border-box;width:auto;text-align:left\" class=\"cssdivnoborder\">This is a text</div>\n",
       "<script>\n",
       "var jQuery = $;\n",
       "require.config({ paths:{}});\n",
       "\n",
       "</script>\n",
       "<body>"
      ],
      "text/plain": [
       "<epyk.core.py.PyOuts.PyOuts at 0x1c5898b1580>"
      ]
     },
     "execution_count": 3,
     "metadata": {},
     "output_type": "execute_result"
    }
   ],
   "source": [
    "from epyk.core.Page import Report\n",
    "\n",
    "rptObj = Report()\n",
    "text = rptObj.ui.text(\"This is a text\")\n",
    "\n",
    "rptObj.outs.jupyter()"
   ]
  },
  {
   "cell_type": "markdown",
   "metadata": {},
   "source": [
    "### Styling and events\n",
    "\n",
    "Same way than all the other component it is possible to add style or Javascript event to this component.\n",
    "\n",
    "Some shortcut functions are also available for the common style changes.\n",
    "In a proper IDE they should appear with a proper documentation."
   ]
  },
  {
   "cell_type": "code",
   "execution_count": 11,
   "metadata": {},
   "outputs": [
    {
     "data": {
      "text/html": [
       "<head>\n",
       "<style>\n",
       "    .cssdivnoborder {margin: 0 ;clear: both ;padding: 0 ;border: 0 ;}\n",
       "\n",
       "</style>\n",
       "\n",
       "</head>\n",
       "<body>\n",
       "<div id=\"text_1947929016352\" style=\"font-size:inherit;font-family:inherit;box-sizing:border-box;width:auto;text-align:left;font-weight:bold;text-shadow:0 0 3px #FF0000, 0 0 5px #0000FF;cursor:pointer\" class=\"cssdivnoborder\">This is a text</div>\n",
       "<script>\n",
       "var jQuery = $;\n",
       "require.config({ paths:{}});\n",
       "document.getElementById('text_1947929016352').addEventListener('click', function(event){window.alert(\"This is an alert\")})\n",
       "</script>\n",
       "<body>"
      ],
      "text/plain": [
       "<epyk.core.py.PyOuts.PyOuts at 0x1c5899dfd90>"
      ]
     },
     "execution_count": 11,
     "metadata": {},
     "output_type": "execute_result"
    }
   ],
   "source": [
    "from epyk.core.Page import Report\n",
    "\n",
    "rptObj = Report()\n",
    "text = rptObj.ui.text(\"This is a text\")\n",
    "text.style.css.bold()\n",
    "text.style.css.shadow_text()\n",
    "text.click([\n",
    "    rptObj.js.alert(\"This is an alert\")\n",
    "])\n",
    "rptObj.outs.jupyter()"
   ]
  },
  {
   "cell_type": "markdown",
   "metadata": {},
   "source": [
    "### Other texts\n",
    "\n",
    "Other flavours of texts are available from the property **texts**."
   ]
  },
  {
   "cell_type": "code",
   "execution_count": 9,
   "metadata": {},
   "outputs": [
    {
     "data": {
      "text/html": [
       "<head>\n",
       "<style>\n",
       "    .cssdivnoborder {margin: 0 ;clear: both ;padding: 0 ;border: 0 ;}\n",
       ".csstitle {padding: 0 ;margin-bottom: 0 ;white-space: pre-wrap ;font-weight: bold ;font-size: 14px ;}\n",
       "\n",
       "</style>\n",
       "<link rel=\"stylesheet\" href=\"https://use.fontawesome.com/releases/v5.13.0/css/all.css\" type=\"text/css\">\n",
       "</head>\n",
       "<body>\n",
       "<label id=\"label_1947928834496\" style=\"font-size:inherit;font-family:inherit;box-sizing:border-box;width:100px;height:auto;text-align:left;margin:0 5px;float:left;display:inline-block;line-height:23px;vertical-align:middle\" class=\"cssdivnoborder\">Test</label>\n",
       "<span id=\"span_1947928835888\" style=\"font-size:inherit;font-family:inherit;box-sizing:border-box;width:100px;height:23px;text-align:center;line-height:23px;margin:0 5px;display:inline-block;vertical-align:middle\" class=\"cssdivnoborder\">Test</span>\n",
       "<div id=\"title_1947928859312\" style=\"width:none;margin:5px 0 5px 0;display:block;margin-right:10px;font-weight:bold\" class=\"cssdivnoborder csstitle\"><a></a>Test</div><i aria-hidden=\"true\" id=\"icon_1947928862576\" style=\"font-size:12px;vertical-align:middle;display:inline-block;margin:auto 0;padding:auto 0;margin-right:5px;float:left\" class=\"cssdivnoborder fab fa-angellist\"></i><div role=\"alert\" id=\"highlights_1947928837280\" style=\"font-size:inherit;font-family:inherit;box-sizing:border-box;margin:5px;padding:5px\" class=\"cssdivnoborder alert alert-danger\"><div>Test content</div></div>\n",
       "<div id=\"title_1947928702544\" style=\"width:auto;margin:5px 0 5px 0;display:block;margin-right:10px\" class=\"cssdivnoborder csstitle\"><a></a>Test</div>\n",
       "<script>\n",
       "var jQuery = $;\n",
       "require.config({ paths:{fontawesome: 'https://use.fontawesome.com/releases/v5.13.0/js/fontawesome', popper: 'https://cdnjs.cloudflare.com/ajax/libs/popper.js/1.14.6/umd/popper.min'}});\n",
       "require(['popper', 'fontawesome'], function (popper, fontawesome) { document.getElementById('highlights_1947928837280').insertBefore(document.getElementById('title_1947928859312'), document.getElementById('highlights_1947928837280').firstChild);document.getElementById('highlights_1947928837280').insertBefore(document.getElementById('icon_1947928862576'), document.getElementById('highlights_1947928837280').firstChild) })\n",
       "</script>\n",
       "<body>"
      ],
      "text/plain": [
       "<epyk.core.py.PyOuts.PyOuts at 0x1c5899b3160>"
      ]
     },
     "execution_count": 9,
     "metadata": {},
     "output_type": "execute_result"
    }
   ],
   "source": [
    "from epyk.core.Page import Report\n",
    "\n",
    "rptObj = Report()\n",
    "rptObj.ui.texts.label(\"Test\")\n",
    "rptObj.ui.texts.span(\"Test\")\n",
    "rptObj.ui.texts.highlights(\"Test content\", title=\"Test\", icon=\"fab fa-angellist\")\n",
    "rptObj.ui.title(\"Test\")\n",
    "\n",
    "rptObj.outs.jupyter()"
   ]
  }
 ],
 "metadata": {
  "kernelspec": {
   "display_name": "Python 3",
   "language": "python",
   "name": "python3"
  },
  "language_info": {
   "codemirror_mode": {
    "name": "ipython",
    "version": 3
   },
   "file_extension": ".py",
   "mimetype": "text/x-python",
   "name": "python",
   "nbconvert_exporter": "python",
   "pygments_lexer": "ipython3",
   "version": "3.8.2"
  }
 },
 "nbformat": 4,
 "nbformat_minor": 4
}
