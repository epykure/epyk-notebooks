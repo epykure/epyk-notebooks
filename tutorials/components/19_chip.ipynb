{
 "cells": [
  {
   "cell_type": "markdown",
   "metadata": {},
   "source": [
    "<div style=\"float:left;margin:0 10px 10px 0\" markdown=\"1\">\n",
    "    <a href=\"../../index.ipynb\">\n",
    "        <img src=\"../../static/images/epyklogo_whole_small.png\">\n",
    "    </a>\n",
    "</div>"
   ]
  },
  {
   "cell_type": "markdown",
   "metadata": {},
   "source": [
    "# Chip\n",
    "\n",
    "Chip [component](00_components.ipynb) creation in Epyk will be using the function **chip** from the ui property.\n",
    "<i>\n",
    "the ui entry point will give you access to all the registered components.\n",
    "Different flavour of buttons are available in the framework.</i>\n",
    "\n",
    "## Basic chip"
   ]
  },
  {
   "cell_type": "code",
   "execution_count": 1,
   "metadata": {},
   "outputs": [
    {
     "data": {
      "text/html": [
       "<head>\n",
       "<style>\n",
       "    .cssinput {border: 1px solid #e8f5e9 ;text-align: center ;cursor: text ;margin: 0 ;border-radius: 5px ;background: #e8f5e9 ;color: #000000 ;font-family: Calibri ;min-width: 140px ;line-height: 23px ;font-size: 12px ;}\n",
       ".cssinput:hover {color: #3bb194 ;}\n",
       ".cssinput:focus {outline: 0 ;}\n",
       ".cssdivnoborder {margin: 0 ;clear: both ;padding: 0 ;border: 0 ;}\n",
       "\n",
       "</style>\n",
       "<link rel=\"stylesheet\" href=\"https://use.fontawesome.com/releases/v5.13.0/css/all.css\" type=\"text/css\">\n",
       "</head>\n",
       "<body>\n",
       "<div id=\"filters_2347899172944\" style=\"font-size:inherit;font-family:inherit;box-sizing:border-box;width:100%;height:60px\" class=\"cssdivnoborder\"><input placeholder=\"\" type=\"text\" value=\"\" spellcheck=\"False\" id=\"input_2347899174336\" style=\"font-size:12px;font-family:Calibri;box-sizing:border-box;width:100%;text-align:left;padding:0 5px\" class=\"cssinput\" /><div name=\"panel\" id=\"div_2347899208560\" style=\"font-size:12px;vertical-align:middle;box-sizing:border-box;width:100%;text-align:left;height:30px;padding:5px 2px\" class=\"cssdivnoborder\"></div></div>\n",
       "<script>\n",
       "var jQuery = $;\n",
       "require.config({ paths:{fontawesome: 'https://use.fontawesome.com/releases/v5.13.0/js/fontawesome'}});\n",
       "require(['fontawesome'], function (fontawesome) { function Filters(htmlObj, data, options){\n",
       "      var panel = htmlObj.querySelector('[name=panel]'); panel.innerHTML = '';\n",
       "      data.forEach(function(val){\n",
       "        if(typeof val === 'string'){ val = {value: val, disabled: false, fixed: false}}; chipAdd(panel, val, options);})};function chipAdd(panel, record, options){\n",
       "        var div = document.createElement(\"div\"); for (var key in options.item_css){ div.style[key] = options.item_css[key]};\n",
       "        var content = document.createElement(\"span\"); content.innerHTML = record.value; div.appendChild(content);\n",
       "        \n",
       "        if(!record.fixed){\n",
       "          var icon = document.createElement(\"i\"); for (var key in options.icon_css){ icon.style[key] = options.icon_css[key] };\n",
       "          icon.classList.add('fas'); icon.classList.add('fa-times');  icon.addEventListener('click', function(event){ this.parentNode.remove()} );\n",
       "          div.appendChild(icon) }\n",
       "        panel.appendChild(div);\n",
       "    };Filters(document.getElementById('filters_2347899172944'), [\"example\", {\"value\": \"test\", \"name\": \"group 2\"}], {'item_css': {'padding': \"5px\", 'border': \"1px solid #e8f2ef\", 'border-radius': \"5px\", 'margin': \"2px\", 'width': \"auto\", 'display': \"inline\", 'background': \"white\"},'icon_css': {'color': \"#3bb194\", 'margin-left': \"5px\", 'cursor': \"pointer\"},visible: true}) })\n",
       "</script>\n",
       "<body>"
      ],
      "text/plain": [
       "<epyk.core.py.PyOuts.PyOuts at 0x222a926d1c0>"
      ]
     },
     "execution_count": 1,
     "metadata": {},
     "output_type": "execute_result"
    }
   ],
   "source": [
    "from epyk.core.Page import Report\n",
    "\n",
    "rptObj = Report()\n",
    "\n",
    "ch = rptObj.ui.chips([\"example\", {\"value\": 'test', 'name': 'group 2'}], options={\"visible\": True})\n",
    "\n",
    "\n",
    "rptObj.outs.jupyter()"
   ]
  },
  {
   "cell_type": "markdown",
   "metadata": {},
   "source": [
    "<a href=\"00_components.ipynb\" target=\"_self\">Go back to the tutorials page</a>\n",
    "<hr>\n",
    "Do not forget that this is a collaborative framework so do not hesitate to give feedbacks and like the different repository to get more visbility.\n",
    "\n",
    "Also any help is more than welcome !"
   ]
  }
 ],
 "metadata": {
  "kernelspec": {
   "display_name": "Python 3",
   "language": "python",
   "name": "python3"
  },
  "language_info": {
   "codemirror_mode": {
    "name": "ipython",
    "version": 3
   },
   "file_extension": ".py",
   "mimetype": "text/x-python",
   "name": "python",
   "nbconvert_exporter": "python",
   "pygments_lexer": "ipython3",
   "version": "3.8.2"
  }
 },
 "nbformat": 4,
 "nbformat_minor": 4
}
