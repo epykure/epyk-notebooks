{
 "cells": [
  {
   "cell_type": "markdown",
   "metadata": {},
   "source": [
    "<div style=\"float:left;margin:0 10px 10px 0\" markdown=\"1\">\n",
    "    <a href=\"index.ipynb\">\n",
    "        <img src=\"../../static/images/epyklogo_whole_small.png\">\n",
    "    </a>\n",
    "</div>"
   ]
  },
  {
   "cell_type": "markdown",
   "metadata": {},
   "source": [
    "# Banner\n",
    "\n",
    "\n",
    "Banner [component](00_components.ipynb) creation in Epyk will be using the **banners** property from the ui property.\n",
    "\n",
    "<i>the ui entry point will give you access to all the registered components.\n",
    "Different flavour of buttons are available in the framework.</i>\n",
    "\n",
    "\n",
    "## Banner examples"
   ]
  },
  {
   "cell_type": "code",
   "execution_count": 17,
   "metadata": {},
   "outputs": [
    {
     "data": {
      "text/html": [
       "<head>\n",
       "<style>\n",
       "    .cssdivnoborder {margin: 0 ;clear: both ;padding: 0 ;border: 0 ;}\n",
       "\n",
       "</style>\n",
       "\n",
       "</head>\n",
       "<body>\n",
       "<div id=\"div_2477672411200\" style=\"font-size:12px;vertical-align:middle;box-sizing:border-box;width:100%;text-align:center;background-color:#81c784;color:white;position:fixed;top:0px;padding:5px 15px;height:100px;margin-left:-270px\" class=\"cssdivnoborder\">text</div>\n",
       "<script>\n",
       "var jQuery = $;\n",
       "require.config({ paths:{}});\n",
       "\n",
       "</script>\n",
       "<body>"
      ],
      "text/plain": [
       "<epyk.core.py.PyOuts.PyOuts at 0x240e0c8f5b0>"
      ]
     },
     "execution_count": 17,
     "metadata": {},
     "output_type": "execute_result"
    }
   ],
   "source": [
    "from epyk.core.Page import Report\n",
    "rptObj = Report()\n",
    "\n",
    "top = rptObj.ui.banners.top(\"text\")\n",
    "top.style.css.height = 100\n",
    "top.style.css.margin_left = -270\n",
    "top.style.css.text_align = \"center\"\n",
    "top.style.css.vertical_align = \"middle\"\n",
    "\n",
    "rptObj.outs.jupyter()"
   ]
  },
  {
   "cell_type": "code",
   "execution_count": 19,
   "metadata": {},
   "outputs": [
    {
     "data": {
      "text/html": [
       "<head>\n",
       "<style>\n",
       "    .cssdivnoborder {margin: 0 ;clear: both ;padding: 0 ;border: 0 ;}\n",
       "\n",
       "</style>\n",
       "<link rel=\"stylesheet\" href=\"https://use.fontawesome.com/releases/v5.13.0/css/all.css\" type=\"text/css\">\n",
       "</head>\n",
       "<body>\n",
       "<div id=\"div_2477672461216\" style=\"font-size:12px;vertical-align:middle;box-sizing:border-box;width:100%;text-align:left;background-color:#81c784;color:white;position:fixed;padding:5px 15px;bottom:0px;margin-left:-270px\" class=\"cssdivnoborder\"><i aria-hidden=\"true\" id=\"icon_2477672441792\" style=\"font-size:12px;vertical-align:middle;display:inline-block;margin:auto 0;padding:auto 0\" class=\"cssdivnoborder fab fa-python\"></i><div id=\"text_2477672439520\" style=\"font-size:inherit;font-family:inherit;box-sizing:border-box;width:auto;text-align:left;display:inline-block\" class=\"cssdivnoborder\">This is a text</div></div>\n",
       "<script>\n",
       "var jQuery = $;\n",
       "require.config({ paths:{fontawesome: 'https://use.fontawesome.com/releases/v5.13.0/js/fontawesome'}});\n",
       "require(['fontawesome'], function (fontawesome) {  })\n",
       "</script>\n",
       "<body>"
      ],
      "text/plain": [
       "<epyk.core.py.PyOuts.PyOuts at 0x240e0c92910>"
      ]
     },
     "execution_count": 19,
     "metadata": {},
     "output_type": "execute_result"
    }
   ],
   "source": [
    "from epyk.core.Page import Report\n",
    "rptObj = Report()\n",
    "\n",
    "icon = rptObj.ui.icon(\"fab fa-python\")\n",
    "text = rptObj.ui.text(\"This is a text\")\n",
    "bottom = rptObj.ui.banners.bottom([icon, text], options={\"inline\": True})\n",
    "bottom.style.css.margin_left = -270\n",
    "\n",
    "rptObj.outs.jupyter()"
   ]
  },
  {
   "cell_type": "code",
   "execution_count": 10,
   "metadata": {},
   "outputs": [
    {
     "data": {
      "text/html": [
       "<head>\n",
       "<style>\n",
       "    .cssdivnoborder {margin: 0 ;clear: both ;padding: 0 ;border: 0 ;}\n",
       "\n",
       "</style>\n",
       "\n",
       "</head>\n",
       "<body>\n",
       "<div id=\"div_2477672229040\" style=\"font-size:12px;vertical-align:middle;box-sizing:border-box;width:120px;text-align:center;background-color:red;color:white;position:fixed;padding:5px 15px;right:0px;bottom:0px;transform:rotate(-40deg);margin:0 -30px 15px 0\" class=\"cssdivnoborder\">bottom</div>\n",
       "<script>\n",
       "var jQuery = $;\n",
       "require.config({ paths:{}});\n",
       "\n",
       "</script>\n",
       "<body>"
      ],
      "text/plain": [
       "<epyk.core.py.PyOuts.PyOuts at 0x240e0c54cd0>"
      ]
     },
     "execution_count": 10,
     "metadata": {},
     "output_type": "execute_result"
    }
   ],
   "source": [
    "from epyk.core.Page import Report\n",
    "rptObj = Report()\n",
    "\n",
    "b = rptObj.ui.banners.corner(\"bottom\", 'red')\n",
    "\n",
    "rptObj.outs.jupyter()"
   ]
  },
  {
   "cell_type": "markdown",
   "metadata": {},
   "source": [
    "<a href=\"00_components.ipynb\" target=\"_self\">Go back to the tutorials page</a>\n",
    "<hr>\n",
    "Do not forget that this is a collaborative framework so do not hesitate to give feedbacks and like the different repository to get more visbility.\n",
    "\n",
    "Also any help is more than welcome !"
   ]
  }
 ],
 "metadata": {
  "kernelspec": {
   "display_name": "Python 3",
   "language": "python",
   "name": "python3"
  },
  "language_info": {
   "codemirror_mode": {
    "name": "ipython",
    "version": 3
   },
   "file_extension": ".py",
   "mimetype": "text/x-python",
   "name": "python",
   "nbconvert_exporter": "python",
   "pygments_lexer": "ipython3",
   "version": "3.8.2"
  }
 },
 "nbformat": 4,
 "nbformat_minor": 2
}
