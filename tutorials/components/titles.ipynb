{
 "cells": [
  {
   "cell_type": "markdown",
   "metadata": {},
   "source": [
    "<div style=\"float:left;margin:0 10px 10px 0\" markdown=\"1\">\n",
    "    <a href=\"../../index.ipynb\">\n",
    "        <img src=\"../../static/images/epyklogo_whole_small.png\">\n",
    "    </a>\n",
    "</div>"
   ]
  },
  {
   "cell_type": "markdown",
   "metadata": {},
   "source": [
    "# Title\n",
    "\n",
    "\n",
    "Title [component](00_components.ipynb) creation in Epyk will be using the function title from the ui property.\n",
    "\n",
    "<i>the ui entry point will give you access to all the registered components.\n",
    "Different flavour of buttons are available in the framework.</i>\n",
    "\n",
    "## Basic Title"
   ]
  },
  {
   "cell_type": "code",
   "execution_count": 17,
   "metadata": {},
   "outputs": [
    {
     "data": {
      "text/html": [
       "<head>\n",
       "<style>\n",
       "    .cssdivnoborder {margin: 0 ;clear: both ;padding: 0 ;border: 0 ;}\n",
       ".csstitle {padding: 0 ;margin-bottom: 0 ;white-space: pre-wrap ;font-weight: bold ;font-size: 14px ;}\n",
       ".csstitle1 {padding: 0 0 5px 0 ;font-weight: bold ;text-transform: uppercase ;white-space: pre-wrap ;border-bottom: 1px dashed black ;border-width: 2px ;margin-bottom: 5px ;color: #616161 ;border-color: #212121 ;font-size: 22px ;}\n",
       ".csstitle2 {padding: 0 ;margin-top: 5px ;font-weight: bold ;text-transform: uppercase ;white-space: pre-wrap ;color: #388e3c ;font-size: 20px ;}\n",
       ".csstitle3 {padding: 0 ;margin-top: 5px ;font-weight: bold ;text-transform: uppercase ;white-space: pre-wrap ;color: #388e3c ;font-family: Calibri ;font-size: 14px ;}\n",
       ".csstitle4 {padding: 0 ;margin: 5px 0 0 0 ;font-weight: bold ;width: 100% ;white-space: pre-wrap ;color: #9e9e9e ;font-size: 13px ;}\n",
       "\n",
       "</style>\n",
       "\n",
       "</head>\n",
       "<body>\n",
       "<div id=\"title_2008174769440\" style=\"width:auto;margin:5px 0 5px 0;display:block;margin-right:10px\" class=\"cssdivnoborder csstitle\"><a></a>Title</div>\n",
       "<div id=\"title_2008163890320\" style=\"width:auto;margin:5px 0 5px 0;display:block;margin-right:10px\" class=\"cssdivnoborder csstitle1\"><a></a>Title</div>\n",
       "<div id=\"title_2008174771264\" style=\"width:auto;margin:5px 0 5px 0;display:block;margin-right:10px\" class=\"cssdivnoborder csstitle2\"><a></a>Title</div>\n",
       "<div id=\"title_2008174823312\" style=\"width:auto;margin:5px 0 5px 0;display:block;margin-right:10px\" class=\"cssdivnoborder csstitle3\"><a></a>Title</div>\n",
       "<div id=\"title_2008174493024\" style=\"width:auto;margin:5px 0 5px 0;display:block;margin-right:10px\" class=\"cssdivnoborder csstitle4\"><a></a>Title</div>\n",
       "<script>\n",
       "require.config({ paths:{}});\n",
       "\n",
       "</script>\n",
       "<body>"
      ],
      "text/plain": [
       "<epyk.core.py.PyOuts.PyOuts at 0x1d3908b0d30>"
      ]
     },
     "execution_count": 17,
     "metadata": {},
     "output_type": "execute_result"
    }
   ],
   "source": [
    "from epyk.core.Page import Report\n",
    "\n",
    "rptObj = Report()\n",
    "\n",
    "rptObj.ui.title(\"Title\")\n",
    "rptObj.ui.title(\"Title\", level=1)\n",
    "rptObj.ui.title(\"Title\", level=2)\n",
    "rptObj.ui.title(\"Title\", level=3)\n",
    "rptObj.ui.title(\"Title\", level=4)\n",
    "\n",
    "rptObj.outs.jupyter()\n"
   ]
  },
  {
   "cell_type": "markdown",
   "metadata": {},
   "source": [
    "## Predefined Titles"
   ]
  },
  {
   "cell_type": "code",
   "execution_count": 18,
   "metadata": {},
   "outputs": [
    {
     "data": {
      "text/html": [
       "<head>\n",
       "<style>\n",
       "    .cssdivnoborder {margin: 0 ;clear: both ;padding: 0 ;border: 0 ;}\n",
       "\n",
       "</style>\n",
       "\n",
       "</head>\n",
       "<body>\n",
       "<div id=\"htmlgeneric_2008174804704\" style=\"font-size:24px;font-family:inherit;box-sizing:border-box;width:100px;height:auto;color:#1b5e20;border-left:10px solid #1b5e20;text-transform:uppercase;font-weight:bold\" class=\"cssdivnoborder\">Test</div>\n",
       "<script>\n",
       "require.config({ paths:{}});\n",
       "\n",
       "</script>\n",
       "<body>"
      ],
      "text/plain": [
       "<epyk.core.py.PyOuts.PyOuts at 0x1d390883100>"
      ]
     },
     "execution_count": 18,
     "metadata": {},
     "output_type": "execute_result"
    }
   ],
   "source": [
    "from epyk.core.Page import Report\n",
    "\n",
    "rptObj = Report()\n",
    "rptObj.ui.titles.head(\"Test\")\n",
    "rptObj.outs.jupyter()"
   ]
  },
  {
   "cell_type": "code",
   "execution_count": 7,
   "metadata": {},
   "outputs": [
    {
     "data": {
      "text/html": [
       "<head>\n",
       "<style>\n",
       "    .cssdivnoborder {margin: 0 ;clear: both ;padding: 0 ;border: 0 ;}\n",
       "\n",
       "</style>\n",
       "\n",
       "</head>\n",
       "<body>\n",
       "<div id=\"htmlgeneric_2008174331888\" style=\"font-size:16px;font-family:inherit;box-sizing:border-box;width:100px;height:auto;color:#1b5e20;font-style:italic\" class=\"cssdivnoborder\">Test</div>\n",
       "<script>\n",
       "require.config({ paths:{}});\n",
       "\n",
       "</script>\n",
       "<body>"
      ],
      "text/plain": [
       "<epyk.core.py.PyOuts.PyOuts at 0x1d3908457c0>"
      ]
     },
     "execution_count": 7,
     "metadata": {},
     "output_type": "execute_result"
    }
   ],
   "source": [
    "from epyk.core.Page import Report\n",
    "\n",
    "rptObj = Report()\n",
    "\n",
    "rptObj.ui.titles.headline(\"Test\")\n",
    "\n",
    "rptObj.outs.jupyter()"
   ]
  },
  {
   "cell_type": "code",
   "execution_count": 8,
   "metadata": {},
   "outputs": [
    {
     "data": {
      "text/html": [
       "<head>\n",
       "<style>\n",
       "    .cssdivnoborder {margin: 0 ;clear: both ;padding: 0 ;border: 0 ;}\n",
       "\n",
       "</style>\n",
       "\n",
       "</head>\n",
       "<body>\n",
       "<div id=\"htmlgeneric_2008174407248\" style=\"font-size:18px;font-family:inherit;box-sizing:border-box;width:100px;height:auto;border-left:3px solid #1b5e20\" class=\"cssdivnoborder\">Test</div>\n",
       "<div id=\"text_2008163846944\" style=\"font-size:inherit;font-family:inherit;box-sizing:border-box;width:auto;text-align:left\" class=\"cssdivnoborder\">Test</div>\n",
       "<script>\n",
       "require.config({ paths:{}});\n",
       "\n",
       "</script>\n",
       "<body>"
      ],
      "text/plain": [
       "<epyk.core.py.PyOuts.PyOuts at 0x1d39085adf0>"
      ]
     },
     "execution_count": 8,
     "metadata": {},
     "output_type": "execute_result"
    }
   ],
   "source": [
    "from epyk.core.Page import Report\n",
    "\n",
    "rptObj = Report()\n",
    "rptObj.ui.titles.rubric(\"Test\")\n",
    "rptObj.ui.text(\"Test\")\n",
    "\n",
    "rptObj.outs.jupyter()"
   ]
  },
  {
   "cell_type": "code",
   "execution_count": 9,
   "metadata": {},
   "outputs": [
    {
     "data": {
      "text/html": [
       "<head>\n",
       "<style>\n",
       "    .cssdivnoborder {margin: 0 ;clear: both ;padding: 0 ;border: 0 ;}\n",
       "\n",
       "</style>\n",
       "\n",
       "</head>\n",
       "<body>\n",
       "<div id=\"htmlgeneric_2008174354688\" style=\"font-size:24px;font-family:inherit;box-sizing:border-box;width:100px;height:auto;color:#1b5e20;border-left:10px solid #1b5e20;text-transform:uppercase;font-weight:bold\" class=\"cssdivnoborder\">Test</div>\n",
       "<div id=\"htmlgeneric_2008174356080\" style=\"font-size:16px;font-family:inherit;box-sizing:border-box;width:100px;height:auto;color:#1b5e20;font-style:italic\" class=\"cssdivnoborder\">Test</div>\n",
       "<div id=\"htmlgeneric_2008174356416\" style=\"font-size:18px;font-family:inherit;box-sizing:border-box;width:100px;height:auto;border-left:3px solid #1b5e20\" class=\"cssdivnoborder\">Test</div>\n",
       "<div id=\"htmlgeneric_2008174357712\" style=\"font-size:18px;font-family:inherit;box-sizing:border-box;height:auto;border-bottom:2px solid #1b5e20\" class=\"cssdivnoborder\">Test</div>\n",
       "<div id=\"htmlgeneric_2008174375456\" style=\"font-size:16px;font-family:inherit;box-sizing:border-box;height:auto;color:#1b5e20\" class=\"cssdivnoborder\">Test</div>\n",
       "<div id=\"text_2008174424656\" style=\"font-size:inherit;font-family:inherit;box-sizing:border-box;width:auto;text-align:left\" class=\"cssdivnoborder\">Test</div>\n",
       "<script>\n",
       "require.config({ paths:{}});\n",
       "\n",
       "</script>\n",
       "<body>"
      ],
      "text/plain": [
       "<epyk.core.py.PyOuts.PyOuts at 0x1d39084e0a0>"
      ]
     },
     "execution_count": 9,
     "metadata": {},
     "output_type": "execute_result"
    }
   ],
   "source": [
    "from epyk.core.Page import Report\n",
    "\n",
    "rptObj = Report()\n",
    "rptObj.ui.titles.head(\"Test\")\n",
    "rptObj.ui.titles.headline(\"Test\")\n",
    "rptObj.ui.titles.rubric(\"Test\")\n",
    "rptObj.ui.titles.underline(\"Test\")\n",
    "rptObj.ui.titles.caption(\"Test\")\n",
    "rptObj.ui.text(\"Test\")\n",
    "\n",
    "rptObj.outs.jupyter()"
   ]
  },
  {
   "cell_type": "markdown",
   "metadata": {},
   "source": [
    "## Bespoke Titles\n",
    "\n",
    "In the same way than all the other components, it is possible to change the style or add events on titles.\n",
    "The **CSS styles** can be changed using the style.css property."
   ]
  },
  {
   "cell_type": "code",
   "execution_count": 22,
   "metadata": {},
   "outputs": [
    {
     "data": {
      "text/html": [
       "<head>\n",
       "<style>\n",
       "    .cssdivnoborder {margin: 0 ;clear: both ;padding: 0 ;border: 0 ;}\n",
       ".csstitle {padding: 0 ;margin-bottom: 0 ;white-space: pre-wrap ;font-weight: bold ;font-size: 14px ;}\n",
       "\n",
       "</style>\n",
       "\n",
       "</head>\n",
       "<body>\n",
       "<div id=\"title_2008175269392\" style=\"width:auto;margin:5px 0 5px 0;display:block;margin-right:10px;color:green\" class=\"cssdivnoborder csstitle\"><a></a>Title</div>\n",
       "<script>\n",
       "require.config({ paths:{}});\n",
       "document.getElementById('title_2008175269392').addEventListener('click', function(event){window.alert(\"This is a click\")})\n",
       "</script>\n",
       "<body>"
      ],
      "text/plain": [
       "<epyk.core.py.PyOuts.PyOuts at 0x1d39093e8e0>"
      ]
     },
     "execution_count": 22,
     "metadata": {},
     "output_type": "execute_result"
    }
   ],
   "source": [
    "from epyk.core.Page import Report\n",
    "\n",
    "rptObj = Report()\n",
    "\n",
    "title = rptObj.ui.title(\"Title\")\n",
    "title.style.css.color = 'green'\n",
    "\n",
    "title.click([\n",
    "        rptObj.js.alert(\"This is a click\")\n",
    "])\n",
    "\n",
    "rptObj.outs.jupyter()\n"
   ]
  },
  {
   "cell_type": "markdown",
   "metadata": {},
   "source": [
    "## Content Table\n",
    "\n",
    "By using the title and the various level, this will be automatically added to a fixed content table on the top left side of your dashboard."
   ]
  },
  {
   "cell_type": "code",
   "execution_count": 26,
   "metadata": {
    "scrolled": true
   },
   "outputs": [
    {
     "data": {
      "text/html": [
       "<head>\n",
       "<style>\n",
       "    .cssdivnoborder {margin: 0 ;clear: both ;padding: 0 ;border: 0 ;}\n",
       ".cssdivtablecontent_contentstable_2008175928416 {padding: 5px 10px 5px 10px ;width: auto ;display: inline-block ;border: 1px solid #e0e0e0 ;background-color: #FFFFFF ;}\n",
       ".csshrefnodecoration {text-decoration: none ;color: inherit ;}\n",
       ".csshrefnodecoration:hover {color: #3bb194 ;}\n",
       ".csstitle1 {padding: 0 0 5px 0 ;font-weight: bold ;text-transform: uppercase ;white-space: pre-wrap ;border-bottom: 1px dashed black ;border-width: 2px ;margin-bottom: 5px ;color: #616161 ;border-color: #212121 ;font-size: 22px ;}\n",
       ".csstitle2 {padding: 0 ;margin-top: 5px ;font-weight: bold ;text-transform: uppercase ;white-space: pre-wrap ;color: #388e3c ;font-size: 20px ;}\n",
       "\n",
       "</style>\n",
       "\n",
       "</head>\n",
       "<body>\n",
       "<div id=\"contentstable_2008175928416\" style=\"font-size:inherit;font-family:inherit;box-sizing:border-box;position:fixed;top:100px;right:10px\" class=\"cssdivtablecontent_contentstable_2008175928416\"><div id=\"div_2008175928944\" style=\"font-size:12px;vertical-align:middle;box-sizing:border-box;width:100%;text-align:left\" class=\"cssdivnoborder\"><div id=\"text_2008175931200\" style=\"font-size:18px;font-family:inherit;box-sizing:border-box;width:auto;text-align:left;display:inline-block;font-weight:bold\" class=\"cssdivnoborder\">Contents</div><div id=\"text_2008175936800\" style=\"font-size:inherit;font-family:inherit;box-sizing:border-box;width:30px;text-align:left;display:inline-block;margin-left:5px;cursor:pointer\" class=\"cssdivnoborder\">[hide]</div></div><div id=\"div_2008176095872\" style=\"font-size:12px;vertical-align:middle;box-sizing:border-box;width:100%;text-align:left\" class=\"cssdivnoborder\"><a href=\"#title_2008175477712_anchor\" id=\"externallink_2008175988992\" style=\"font-size:14px;font-family:inherit;box-sizing:border-box;display:block;width:100%;padding-left:0px\" class=\"cssdivnoborder csshrefnodecoration\">Title</a><a href=\"#title_2008175912896_anchor\" id=\"externallink_2008176028544\" style=\"font-size:14px;font-family:inherit;box-sizing:border-box;display:block;width:100%;padding-left:5px\" class=\"cssdivnoborder csshrefnodecoration\">Sub itle 1</a><a href=\"#title_2008175991680_anchor\" id=\"externallink_2008176076352\" style=\"font-size:14px;font-family:inherit;box-sizing:border-box;display:block;width:100%;padding-left:5px\" class=\"cssdivnoborder csshrefnodecoration\">Sub itle 2</a></div></div> \n",
       "<div id=\"title_2008175477712_anchor\" style=\"font-size:12px;vertical-align:middle;box-sizing:border-box;width:100%;text-align:left;margin-top:-10px;position:absolute;z-index:-1\" class=\"cssdivnoborder\"></div>\n",
       "<div id=\"title_2008175477712\" style=\"width:auto;margin:5px 0 5px 0;display:block;margin-right:10px\" class=\"cssdivnoborder csstitle1\"><a></a>Title</div>\n",
       "<div id=\"title_2008175912896_anchor\" style=\"font-size:12px;vertical-align:middle;box-sizing:border-box;width:100%;text-align:left;margin-top:-10px;position:absolute;z-index:-1\" class=\"cssdivnoborder\"></div>\n",
       "<div id=\"title_2008175912896\" style=\"width:auto;margin:5px 0 5px 0;display:block;margin-right:10px\" class=\"cssdivnoborder csstitle2\"><a></a>Sub itle 1</div>\n",
       "<div id=\"title_2008175991680_anchor\" style=\"font-size:12px;vertical-align:middle;box-sizing:border-box;width:100%;text-align:left;margin-top:-10px;position:absolute;z-index:-1\" class=\"cssdivnoborder\"></div>\n",
       "<div id=\"title_2008175991680\" style=\"width:auto;margin:5px 0 5px 0;display:block;margin-right:10px\" class=\"cssdivnoborder csstitle2\"><a></a>Sub itle 2</div>\n",
       "<script>\n",
       "require.config({ paths:{}});\n",
       "document.getElementById('text_2008175936800').addEventListener('click', function(event){if(document.getElementById('div_2008176095872').style.display == \"none\"){document.getElementById('div_2008176095872').style.display = \"inline-block\"}else{document.getElementById('div_2008176095872').style.display = \"none\"};if(document.getElementById('text_2008175936800').innerText == \"[hide]\") {document.getElementById('text_2008175936800').innerText = \"[show]\"} else {document.getElementById('text_2008175936800').innerText = \"[hide]\"}});document.getElementById('externallink_2008175988992').addEventListener('click', function(event){document.getElementById('title_2008175477712').style.transitionProperty = \"color,font-size\";document.getElementById('title_2008175477712').style.transitionDuration = \"0.5s, 0.5s\";document.getElementById('title_2008175477712').style.transitionTiming = \"ease\";var css_transition_0 = document.getElementById('title_2008175477712').style.color;setTimeout(function(){document.getElementById('title_2008175477712').style.color = css_transition_0}, 500.0);var css_transition_1 = document.getElementById('title_2008175477712').style.fontSize;setTimeout(function(){document.getElementById('title_2008175477712').style.fontSize = css_transition_1}, 500.0);document.getElementById('title_2008175477712').style.color = \"red\";document.getElementById('title_2008175477712').style.fontSize = \"102%\";document.getElementById('title_2008175477712').style.transitionProperty = \"initial\"});document.getElementById('externallink_2008176028544').addEventListener('click', function(event){document.getElementById('title_2008175912896').style.transitionProperty = \"color,font-size\";document.getElementById('title_2008175912896').style.transitionDuration = \"0.5s, 0.5s\";document.getElementById('title_2008175912896').style.transitionTiming = \"ease\";var css_transition_0 = document.getElementById('title_2008175912896').style.color;setTimeout(function(){document.getElementById('title_2008175912896').style.color = css_transition_0}, 500.0);var css_transition_1 = document.getElementById('title_2008175912896').style.fontSize;setTimeout(function(){document.getElementById('title_2008175912896').style.fontSize = css_transition_1}, 500.0);document.getElementById('title_2008175912896').style.color = \"red\";document.getElementById('title_2008175912896').style.fontSize = \"102%\";document.getElementById('title_2008175912896').style.transitionProperty = \"initial\"});document.getElementById('externallink_2008176076352').addEventListener('click', function(event){document.getElementById('title_2008175991680').style.transitionProperty = \"color,font-size\";document.getElementById('title_2008175991680').style.transitionDuration = \"0.5s, 0.5s\";document.getElementById('title_2008175991680').style.transitionTiming = \"ease\";var css_transition_0 = document.getElementById('title_2008175991680').style.color;setTimeout(function(){document.getElementById('title_2008175991680').style.color = css_transition_0}, 500.0);var css_transition_1 = document.getElementById('title_2008175991680').style.fontSize;setTimeout(function(){document.getElementById('title_2008175991680').style.fontSize = css_transition_1}, 500.0);document.getElementById('title_2008175991680').style.color = \"red\";document.getElementById('title_2008175991680').style.fontSize = \"102%\";document.getElementById('title_2008175991680').style.transitionProperty = \"initial\"})\n",
       "</script>\n",
       "<body>"
      ],
      "text/plain": [
       "<epyk.core.py.PyOuts.PyOuts at 0x1d3909ed640>"
      ]
     },
     "execution_count": 26,
     "metadata": {},
     "output_type": "execute_result"
    }
   ],
   "source": [
    "from epyk.core.Page import Report\n",
    "\n",
    "\n",
    "rptObj = Report()\n",
    "\n",
    "contents = rptObj.ui.contents()\n",
    "contents.style.css.top = \"100px\"\n",
    "\n",
    "rptObj.ui.title(\"Title\", level=1)\n",
    "rptObj.ui.title(\"Sub itle 1\", level=2)\n",
    "rptObj.ui.title(\"Sub itle 2\", level=2)\n",
    "\n",
    "rptObj.outs.jupyter()"
   ]
  },
  {
   "cell_type": "markdown",
   "metadata": {},
   "source": [
    "<a href=\"00_components.ipynb\" target=\"_self\">Go back to the tutorials page</a>\n",
    "<hr>\n",
    "Do not forget that this is a collaborative framework so do not hesitate to give feedbacks and like the different repository to get more visbility.\n",
    "\n",
    "Also any help is more than welcome !"
   ]
  }
 ],
 "metadata": {
  "kernelspec": {
   "display_name": "Python 3",
   "language": "python",
   "name": "python3"
  },
  "language_info": {
   "codemirror_mode": {
    "name": "ipython",
    "version": 3
   },
   "file_extension": ".py",
   "mimetype": "text/x-python",
   "name": "python",
   "nbconvert_exporter": "python",
   "pygments_lexer": "ipython3",
   "version": "3.8.2"
  }
 },
 "nbformat": 4,
 "nbformat_minor": 2
}
