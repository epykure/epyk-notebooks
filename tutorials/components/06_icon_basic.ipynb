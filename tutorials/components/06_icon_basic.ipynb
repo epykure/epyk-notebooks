{
 "cells": [
  {
   "cell_type": "markdown",
   "metadata": {},
   "source": [
    "<div style=\"float:left;margin:0 10px 10px 0\" markdown=\"1\">\n",
    "    <a href=\"index.ipynb\">\n",
    "        <img src=\"../../static/images/epyklogo_whole_small.png\">\n",
    "    </a>\n",
    "</div>"
   ]
  },
  {
   "cell_type": "markdown",
   "metadata": {},
   "source": [
    "# Icon\n",
    "\n",
    "\n",
    "Icon [component](00_components.ipynb) creation in Epyk will be using the function icon from the ui property.\n",
    "\n",
    "<i>the ui entry point will give you access to all the registered components.\n",
    "Different flavour of buttons are available in the framework.</i>\n",
    "\n",
    "Icon will rely as underlying module to font-awesome module.\n",
    "\n",
    "## Basic icon"
   ]
  },
  {
   "cell_type": "code",
   "execution_count": 2,
   "metadata": {},
   "outputs": [
    {
     "data": {
      "text/html": [
       "<head>\n",
       "<style>\n",
       "    .cssdivnoborder {margin: 0 ;clear: both ;padding: 0 ;border: 0 ;}\n",
       "\n",
       "</style>\n",
       "<link rel=\"stylesheet\" href=\"https://use.fontawesome.com/releases/v5.13.0/css/all.css\" type=\"text/css\">\n",
       "</head>\n",
       "<body>\n",
       "<i aria-hidden=\"true\" id=\"icon_1433054711520\" style=\"font-size:12px;vertical-align:middle;display:inline-block;margin:auto 0;padding:auto 0\" class=\"cssdivnoborder fab fa-python\"></i>\n",
       "<script>\n",
       "var jQuery = $;\n",
       "require.config({ paths:{fontawesome: 'https://use.fontawesome.com/releases/v5.13.0/js/fontawesome'}});\n",
       "require(['fontawesome'], function (fontawesome) {  })\n",
       "</script>\n",
       "<body>"
      ],
      "text/plain": [
       "<epyk.core.py.PyOuts.PyOuts at 0x14da8b78100>"
      ]
     },
     "execution_count": 2,
     "metadata": {},
     "output_type": "execute_result"
    }
   ],
   "source": [
    "from epyk.core.Page import Report\n",
    "\n",
    "rptObj = Report()\n",
    "button = rptObj.ui.icon(\"fab fa-python\")\n",
    "\n",
    "rptObj.outs.jupyter()"
   ]
  },
  {
   "cell_type": "markdown",
   "metadata": {},
   "source": [
    "### Other icons\n",
    "\n",
    "Other flavours of icons are available from the property **buttons**."
   ]
  },
  {
   "cell_type": "code",
   "execution_count": 5,
   "metadata": {},
   "outputs": [
    {
     "data": {
      "text/html": [
       "<head>\n",
       "<style>\n",
       "    .cssdivnoborder {margin: 0 ;clear: both ;padding: 0 ;border: 0 ;}\n",
       ".cssdivonhoverbackgroundlight {background-color: inherit ;}\n",
       ".cssdivonhoverbackgroundlight:hover {cursor: pointer ;background-color: #eeeeee ;font-weight: bold ;color: #000000 !IMPORTANT ;}\n",
       "\n",
       "</style>\n",
       "<link rel=\"stylesheet\" href=\"https://use.fontawesome.com/releases/v5.13.0/css/all.css\" type=\"text/css\">\n",
       "</head>\n",
       "<body>\n",
       "<i aria-hidden=\"true\" id=\"icon_1433055704400\" style=\"font-size:12px;vertical-align:middle;display:inline-block;margin:2px;padding:auto 0;margin-right:5px;color:#3bb194\" class=\"cssdivnoborder fas fa-sync-alt\"></i><span title=\"Refresh Component\" data-toggle=\"tooltip\" data-placement=\"top\" id=\"iconedit_1433055678272\" style=\"font-size:inherit;font-family:inherit;box-sizing:border-box;float:none;margin:5px 0;cursor:pointer;display:inline-block\" class=\"cssdivnoborder\"></span>\n",
       "<i aria-hidden=\"true\" id=\"icon_1433055695344\" style=\"font-size:12px;vertical-align:middle;display:inline-block;margin:2px;padding:auto 0;margin-right:5px;color:#3bb194\" class=\"cssdivnoborder fas fa-clock\"></i><span title=\"Last Updated Time\" data-toggle=\"tooltip\" data-placement=\"top\" id=\"iconedit_1433055706176\" style=\"font-size:inherit;font-family:inherit;box-sizing:border-box;float:none;margin:5px 0;cursor:pointer;display:inline-block\" class=\"cssdivnoborder\"></span>\n",
       "<i aria-hidden=\"true\" id=\"icon_1433054777744\" style=\"font-size:12px;vertical-align:middle;display:inline-block;margin:auto;padding:auto 0;margin-right:auto;color:blue\" class=\"cssdivnoborder fab fa-facebook-f\"></i><span title=\"Facebook\" data-toggle=\"tooltip\" data-placement=\"top\" id=\"iconedit_1433054779040\" style=\"font-size:inherit;font-family:inherit;box-sizing:border-box;width:25px;height:25px;float:none;margin:5px 0;cursor:pointer;display:inline-block;border-radius:25px;text-align:center;line-height:25px\" class=\"cssdivnoborder cssdivonhoverbackgroundlight\"></span>\n",
       "<i aria-hidden=\"true\" id=\"icon_1433055698656\" style=\"font-size:12px;vertical-align:middle;display:inline-block;margin:2px;padding:auto 0;margin-right:5px;color:#3bb194\" class=\"cssdivnoborder far fa-edit\"></i><span title=\"Edit\" data-toggle=\"tooltip\" data-placement=\"top\" id=\"iconedit_1433055697456\" style=\"font-size:inherit;font-family:inherit;box-sizing:border-box;float:none;margin:5px 0;cursor:pointer;display:inline-block\" class=\"cssdivnoborder\"></span>\n",
       "<script>\n",
       "var jQuery = $;\n",
       "require.config({ paths:{fontawesome: 'https://use.fontawesome.com/releases/v5.13.0/js/fontawesome'}});\n",
       "require(['fontawesome'], function (fontawesome) { document.getElementById('iconedit_1433055678272').insertBefore(document.getElementById('icon_1433055704400'), document.getElementById('iconedit_1433055678272').firstChild);document.getElementById('iconedit_1433055706176').insertBefore(document.getElementById('icon_1433055695344'), document.getElementById('iconedit_1433055706176').firstChild);document.getElementById('iconedit_1433054779040').insertBefore(document.getElementById('icon_1433054777744'), document.getElementById('iconedit_1433054779040').firstChild);document.getElementById('iconedit_1433055697456').insertBefore(document.getElementById('icon_1433055698656'), document.getElementById('iconedit_1433055697456').firstChild);document.getElementById('iconedit_1433054779040').addEventListener('click', function(event){window.open(\"https://en-gb.facebook.com/\", \"_blank\", null, null)});$('[data-toggle=tooltip]').tooltip() })\n",
       "</script>\n",
       "<body>"
      ],
      "text/plain": [
       "<epyk.core.py.PyOuts.PyOuts at 0x14da8c64ee0>"
      ]
     },
     "execution_count": 5,
     "metadata": {},
     "output_type": "execute_result"
    }
   ],
   "source": [
    "from epyk.core.Page import Report\n",
    "\n",
    "rptObj = Report()\n",
    "rptObj.ui.icons.refresh()\n",
    "rptObj.ui.icons.clock()\n",
    "rptObj.ui.icons.facebook()\n",
    "rptObj.ui.icons.edit()\n",
    "\n",
    "rptObj.outs.jupyter()"
   ]
  },
  {
   "cell_type": "code",
   "execution_count": 7,
   "metadata": {},
   "outputs": [
    {
     "data": {
      "text/html": [
       "<head>\n",
       "<style>\n",
       "    .cssdivnoborder {margin: 0 ;clear: both ;padding: 0 ;border: 0 ;}\n",
       ".cssdivonhoverbackgroundlight {background-color: inherit ;}\n",
       ".cssdivonhoverbackgroundlight:hover {cursor: pointer ;background-color: #eeeeee ;font-weight: bold ;color: #000000 !IMPORTANT ;}\n",
       "\n",
       "</style>\n",
       "\n",
       "</head>\n",
       "<body>\n",
       "<img src=\"https://raw.githubusercontent.com/epykure/epyk-ui/master/epyk/static/images/epyklogo.ico\" id=\"image_1433055925056\" style=\"font-size:inherit;font-family:inherit;box-sizing:border-box;width:32px;height:32px;text-align:center;padding:auto;vertical-align:middle\" class=\"cssdivnoborder cssdivonhoverbackgroundlight\"></img>\n",
       "<script>\n",
       "var jQuery = $;\n",
       "require.config({ paths:{}});\n",
       "\n",
       "</script>\n",
       "<body>"
      ],
      "text/plain": [
       "<epyk.core.py.PyOuts.PyOuts at 0x14da8b8d610>"
      ]
     },
     "execution_count": 7,
     "metadata": {},
     "output_type": "execute_result"
    }
   ],
   "source": [
    "from epyk.core.Page import Report\n",
    "\n",
    "rptObj = Report()\n",
    "rptObj.ui.icons.epyk()\n",
    "\n",
    "rptObj.outs.jupyter()"
   ]
  },
  {
   "cell_type": "code",
   "execution_count": 11,
   "metadata": {},
   "outputs": [
    {
     "data": {
      "text/html": [
       "<head>\n",
       "<style>\n",
       "    .cssdivnoborder {margin: 0 ;clear: both ;padding: 0 ;border: 0 ;}\n",
       ".cssdivonhoverbackgroundlight {background-color: inherit ;}\n",
       ".cssdivonhoverbackgroundlight:hover {cursor: pointer ;background-color: #eeeeee ;font-weight: bold ;color: #000000 !IMPORTANT ;}\n",
       "\n",
       "</style>\n",
       "<link rel=\"stylesheet\" href=\"https://use.fontawesome.com/releases/v5.13.0/css/all.css\" type=\"text/css\">\n",
       "</head>\n",
       "<body>\n",
       "<span id=\"span_1433056016320\" style=\"font-size:inherit;font-family:inherit;box-sizing:border-box;width:100px;height:23px;text-align:center;line-height:25px;margin:0 5px;display:inline-block;vertical-align:middle;float:right\" class=\"cssdivnoborder\">Example</span><i aria-hidden=\"true\" id=\"icon_1433056018384\" style=\"font-size:12px;vertical-align:middle;display:inline-block;margin:auto;padding:auto 0;margin-right:auto;color:blue;border-radius:25px;width:25px;line-height:25px\" class=\"cssdivnoborder fa fa-check cssdivonhoverbackgroundlight\"></i><span title=\"\" data-toggle=\"tooltip\" data-placement=\"top\" id=\"tick_1433056015408\" style=\"font-size:inherit;font-family:inherit;box-sizing:border-box;float:none;margin:5px 0;cursor:pointer;display:inline-block;text-align:center\" class=\"cssdivnoborder\"></span>\n",
       "<span id=\"span_1433056026528\" style=\"font-size:inherit;font-family:inherit;box-sizing:border-box;width:100px;height:23px;text-align:center;line-height:25px;margin:0 5px;display:inline-block;vertical-align:middle;float:right\" class=\"cssdivnoborder\">Example</span><i aria-hidden=\"true\" id=\"icon_1433056036272\" style=\"font-size:12px;vertical-align:middle;display:inline-block;margin:auto;padding:auto 0;margin-right:auto;color:blue;border-radius:25px;width:25px;line-height:25px\" class=\"cssdivnoborder fa fa-times cssdivonhoverbackgroundlight\"></i><span title=\"\" data-toggle=\"tooltip\" data-placement=\"top\" id=\"tick_1433056025136\" style=\"font-size:inherit;font-family:inherit;box-sizing:border-box;float:none;margin:5px 0;cursor:pointer;display:inline-block;text-align:center\" class=\"cssdivnoborder\"></span>\n",
       "<script>\n",
       "var jQuery = $;\n",
       "require.config({ paths:{fontawesome: 'https://use.fontawesome.com/releases/v5.13.0/js/fontawesome'}});\n",
       "require(['fontawesome'], function (fontawesome) { document.getElementById('tick_1433056015408').insertBefore(document.getElementById('span_1433056016320'), document.getElementById('tick_1433056015408').firstChild);document.getElementById('tick_1433056015408').insertBefore(document.getElementById('icon_1433056018384'), document.getElementById('tick_1433056015408').firstChild);document.getElementById('tick_1433056025136').insertBefore(document.getElementById('span_1433056026528'), document.getElementById('tick_1433056025136').firstChild);document.getElementById('tick_1433056025136').insertBefore(document.getElementById('icon_1433056036272'), document.getElementById('tick_1433056025136').firstChild);document.getElementById('tick_1433056015408').addEventListener('click', function(event){var classes = \"fa fa-check\".split(\" \"); classes.forEach(function(cls){ document.getElementById('icon_1433056018384').classList.toggle(cls); });var classes = \"fa fa-times\".split(\" \"); classes.forEach(function(cls){ document.getElementById('icon_1433056018384').classList.toggle(cls); });document.getElementById('icon_1433056018384').style.transitionProperty = \"background\";document.getElementById('icon_1433056018384').style.transitionDuration = \"0.2s\";document.getElementById('icon_1433056018384').style.transitionTiming = \"ease\";var css_transition = document.getElementById('icon_1433056018384').style.background;setTimeout(function(){document.getElementById('icon_1433056018384').style.background = css_transition}, 200.0);document.getElementById('icon_1433056018384').style.background = \"#e8f2ef\";document.getElementById('icon_1433056018384').style.transitionProperty = \"initial\";document.getElementById('icon_1433056018384')});document.getElementById('tick_1433056025136').addEventListener('click', function(event){var classes = \"fa fa-times\".split(\" \"); classes.forEach(function(cls){ document.getElementById('icon_1433056036272').classList.toggle(cls); });var classes = \"fa fa-check\".split(\" \"); classes.forEach(function(cls){ document.getElementById('icon_1433056036272').classList.toggle(cls); });document.getElementById('icon_1433056036272').style.transitionProperty = \"background\";document.getElementById('icon_1433056036272').style.transitionDuration = \"0.2s\";document.getElementById('icon_1433056036272').style.transitionTiming = \"ease\";var css_transition = document.getElementById('icon_1433056036272').style.background;setTimeout(function(){document.getElementById('icon_1433056036272').style.background = css_transition}, 200.0);document.getElementById('icon_1433056036272').style.background = \"#e8f2ef\";document.getElementById('icon_1433056036272').style.transitionProperty = \"initial\";document.getElementById('icon_1433056036272')});$('[data-toggle=tooltip]').tooltip() })\n",
       "</script>\n",
       "<body>"
      ],
      "text/plain": [
       "<epyk.core.py.PyOuts.PyOuts at 0x14da8cb73d0>"
      ]
     },
     "execution_count": 11,
     "metadata": {},
     "output_type": "execute_result"
    }
   ],
   "source": [
    "from epyk.core.Page import Report\n",
    "\n",
    "rptObj = Report()\n",
    "rptObj.ui.icons.tick(True, text=\"Example\")\n",
    "rptObj.ui.icons.tick(False, text=\"Example\")\n",
    "\n",
    "rptObj.outs.jupyter()"
   ]
  },
  {
   "cell_type": "markdown",
   "metadata": {},
   "source": [
    "<a href=\"00_components.ipynb\" target=\"_self\">Go back to the tutorials page</a>\n",
    "<hr>\n",
    "Do not forget that this is a collaborative framework so do not hesitate to give feedbacks and like the different repository to get more visbility.\n",
    "\n",
    "Also any help is more than welcome !"
   ]
  }
 ],
 "metadata": {
  "kernelspec": {
   "display_name": "Python 3",
   "language": "python",
   "name": "python3"
  },
  "language_info": {
   "codemirror_mode": {
    "name": "ipython",
    "version": 3
   },
   "file_extension": ".py",
   "mimetype": "text/x-python",
   "name": "python",
   "nbconvert_exporter": "python",
   "pygments_lexer": "ipython3",
   "version": "3.8.2"
  }
 },
 "nbformat": 4,
 "nbformat_minor": 4
}
