{
 "cells": [
  {
   "cell_type": "markdown",
   "metadata": {},
   "source": [
    "<div style=\"float:left;margin:0 10px 10px 0\" markdown=\"1\">\n",
    "    <a href=\"../index.ipynb\">\n",
    "        <img src=\"../static/images/epyklogo_whole_small.png\">\n",
    "    </a>\n",
    "</div>"
   ]
  },
  {
   "cell_type": "markdown",
   "metadata": {},
   "source": [
    "# Epyk in Jupyter\n",
    "\n",
    "No specific setup or dependency is required to run Epyk in Jupyter and JupyterLab.\n",
    "\n",
    "It is possible to use it onine directly from Jupyter [online](https://jupyter.org/try) or to use it locally from your locally version of Jupyter.\n",
    "\n",
    "The module is compatible Python and Jython for any distribution.\n",
    "\n",
    "\n",
    "## Online Jupyter \n",
    "\n",
    "> !pip install epyk\n",
    "\n",
    "THis will install Epyk package to your workbook.\n",
    "\n",
    "\n",
    "## Local Jupyter\n",
    "\n",
    "\n",
    "Run the below command to add epyk to your distribution\n",
    "\n",
    "> pip install epyk\n",
    "\n",
    "Epyk is quite active so do not forget to update your package regularly.\n",
    "\n",
    "## JupyterLab\n",
    "\n",
    "As JupyterLab mechanism is a bit different and it is based on NodeJs, the outs property used to render the Jupyter object is specific.\n",
    "\n",
    "All the reports running in Jupyter should have the ous.jupyter() changed to outs.jupyterlab(). This will ensure that all the necessary JavaScript and CSS modules will be added to the HTML cell object.\n",
    "\n",
    "\n",
    "## Epyk Report\n",
    "\n",
    "The below will write an empty HTML page without anything in the body.\n",
    "\n",
    "THis is only to illsutrate the mandatory function to run a report from Jupyter.\n",
    "The first part is to import Epyk in your page and to create a report object.\n",
    "\n",
    "The report object will be the HTML page."
   ]
  },
  {
   "cell_type": "code",
   "execution_count": 2,
   "metadata": {},
   "outputs": [
    {
     "data": {
      "text/html": [
       "<head>\n",
       "<style>\n",
       "    \n",
       "\n",
       "</style>\n",
       "\n",
       "</head>\n",
       "<body>\n",
       "\n",
       "<script>\n",
       "var jQuery = $;\n",
       "require.config({ paths:{}});\n",
       "\n",
       "</script>\n",
       "<body>"
      ],
      "text/plain": [
       "<epyk.core.py.PyOuts.PyOuts at 0x23873655b20>"
      ]
     },
     "execution_count": 2,
     "metadata": {},
     "output_type": "execute_result"
    }
   ],
   "source": [
    "from epyk.core.Page import Report\n",
    "\n",
    "rptObj = Report()\n",
    "\n",
    "# Then add you component here\n",
    "\n",
    "rptObj.outs.jupyter()"
   ]
  },
  {
   "cell_type": "markdown",
   "metadata": {},
   "source": [
    "The last part\n",
    "\n",
    "> rptObj.outs.jupyter()\n",
    "\n",
    "Is there to ensure that there will be no clash with the Javasscript modules already imported in a Jupyter page.\n",
    "\n",
    "For example Epyk is relying on JQuery, Bootstrap and JQuery UI exactly like Jupyter. Thus it is not possible for your report to import more recent package to thos libraries.\n",
    "\n",
    "Doing this will clash with Jupyter page it will not render anything in the cell.\n",
    "\n",
    "By saying this Jupyter is a powerfull tool to share fragment of code and example but the render in a dedicated page might be different as it will rely sometimes on different modules.\n"
   ]
  }
 ],
 "metadata": {
  "kernelspec": {
   "display_name": "Python 3",
   "language": "python",
   "name": "python3"
  },
  "language_info": {
   "codemirror_mode": {
    "name": "ipython",
    "version": 3
   },
   "file_extension": ".py",
   "mimetype": "text/x-python",
   "name": "python",
   "nbconvert_exporter": "python",
   "pygments_lexer": "ipython3",
   "version": "3.8.2"
  }
 },
 "nbformat": 4,
 "nbformat_minor": 2
}
