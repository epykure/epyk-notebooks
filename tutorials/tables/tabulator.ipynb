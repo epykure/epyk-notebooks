{
 "cells": [
  {
   "cell_type": "markdown",
   "metadata": {},
   "source": [
    "<div style=\"float:left;margin:0 10px 10px 0\" markdown=\"1\">\n",
    "    <a href=\"index.ipynb\">\n",
    "        <img src=\"./../../static/images/epyklogo_whole_small.png\">\n",
    "    </a>\n",
    "</div>"
   ]
  },
  {
   "cell_type": "markdown",
   "metadata": {},
   "source": [
    "# Tabulator\n",
    "\n",
    "\n",
    "Tables from Tabulator [component](00_components.ipynb) in Epyk will be using the property **tabulator** from the **ui.tables** property.\n",
    "\n",
    "<i>the ui entry point will give you access to all the registered components.\n",
    "Different flavour of buttons are available in the framework.</i>\n",
    "\n",
    "## Available Tables\n",
    "\n",
    "- [Table]()\n",
    "- [Heatmap]()\n",
    "- [Intensity]()\n",
    "- [Hierarchy]()\n",
    "\n",
    "\n",
    "## Example of Tables"
   ]
  },
  {
   "cell_type": "code",
   "execution_count": 2,
   "metadata": {},
   "outputs": [
    {
     "data": {
      "text/html": [
       "<head>\n",
       "<style>\n",
       "    .cssdivnoborder {margin: 0 ;clear: both ;padding: 0 ;border: 0 ;}\n",
       ".csstabulator {border: 1px solid #e0e0e0 !IMPORTANT ;font-size: 14px ;background-color: #eeeeee ;font-family: Calibri ;}\n",
       ".tabulator-row:hover {color: #000000 !IMPORTANT ;border: 1px solid #3bb194 !IMPORTANT ;background-color: #81c784 !IMPORTANT ;}\n",
       ".tabulator-header {color: #FFFFFF !IMPORTANT ;border: none !IMPORTANT ;background: none !IMPORTANT ;}\n",
       ".tabulator-row-even {color: #000000 !IMPORTANT ;border: 1px solid #c8e6c9 !IMPORTANT ;background-color: #c8e6c9 !IMPORTANT ;}\n",
       ".tabulator-cell {border-right: 1px solid #e0e0e0 !IMPORTANT ;}\n",
       ".tabulator-headers {color: #FFFFFF !IMPORTANT ;border: none !IMPORTANT ;background: none !IMPORTANT ;}\n",
       ".tabulator-col {color: #FFFFFF !IMPORTANT ;border: 1px solid #000000 !IMPORTANT ;background: #000000 !IMPORTANT ;padding: 4px 0 !IMPORTANT ;text-align: center !IMPORTANT ;}\n",
       ".tabulator-selected {border: 1px solid #3bb194 !IMPORTANT ;color: black !IMPORTANT ;background: #e8f2ef !IMPORTANT ;}\n",
       ".tabulator-row-odd {color: #000000 !IMPORTANT ;border: 1px solid #FFFFFF !IMPORTANT ;background-color: #FFFFFF !IMPORTANT ;}\n",
       ".tabulator-group {text-align: center !IMPORTANT ;}\n",
       ".tabulator-footer {color: #000000 !IMPORTANT ;border: none !IMPORTANT ;background: #FFFFFF !IMPORTANT ;}\n",
       ".tabulator-page:not(.disabled) {color: #000000 !IMPORTANT ;border: none !IMPORTANT ;background: #FFFFFF !IMPORTANT ;}\n",
       ".tabulator-page:not(.disabled):hover {color: #e8f5e9 !IMPORTANT ;background: #1b5e20 !IMPORTANT ;}\n",
       ".tabulator-data-tree-control {border-color: #000000 !IMPORTANT ;}\n",
       ".tabulator-data-tree-control-expand {background: #000000 !IMPORTANT ;}\n",
       "\n",
       "</style>\n",
       "<link rel=\"stylesheet\" href=\"https://unpkg.com/tabulator-tables@4.6.3/dist/css/tabulator.min.css\" type=\"text/css\">\n",
       "</head>\n",
       "<body>\n",
       "<div id=\"table_2485875300096\" style=\"font-size:inherit;font-family:inherit;box-sizing:border-box;width:100%;background:None\" class=\"cssdivnoborder csstabulator\"></div>\n",
       "<script>\n",
       "require.config({ paths:{Tabulator: 'https://unpkg.com/tabulator-tables@4.6.3/dist/js/tabulator.min'}});\n",
       "require(['Tabulator'], function (Tabulator) { var table_2485875300096_obj =  new Tabulator(\"#table_2485875300096\", {columns: [{field: \"airline\", title: \"airline\"},{field: \"avail_seat_km_per_week\", title: \"avail_seat_km_per_week\"},{field: \"incidents_85_99\", title: \"incidents_85_99\"},{field: \"fatal_accidents_85_99\", title: \"fatal_accidents_85_99\"},{field: \"fatalities_85_99\", title: \"fatalities_85_99\"},{field: \"incidents_00_14\", title: \"incidents_00_14\"},{field: \"fatal_accidents_00_14\", title: \"fatal_accidents_00_14\"},{field: \"fatalities_00_14\", title: \"fatalities_00_14\"}], data: [{\"airline\": \"Aer Lingus\", \"avail_seat_km_per_week\": \"320906734\", \"incidents_85_99\": \"2\", \"fatal_accidents_85_99\": \"0\", \"fatalities_85_99\": \"0\", \"incidents_00_14\": \"0\", \"fatal_accidents_00_14\": \"0\", \"fatalities_00_14\": \"0\"}, {\"airline\": \"Aeroflot*\", \"avail_seat_km_per_week\": \"1197672318\", \"incidents_85_99\": \"76\", \"fatal_accidents_85_99\": \"14\", \"fatalities_85_99\": \"128\", \"incidents_00_14\": \"6\", \"fatal_accidents_00_14\": \"1\", \"fatalities_00_14\": \"88\"}, {\"airline\": \"Aerolineas Argentinas\", \"avail_seat_km_per_week\": \"385803648\", \"incidents_85_99\": \"6\", \"fatal_accidents_85_99\": \"0\", \"fatalities_85_99\": \"0\", \"incidents_00_14\": \"1\", \"fatal_accidents_00_14\": \"0\", \"fatalities_00_14\": \"0\"}, {\"airline\": \"Aeromexico*\", \"avail_seat_km_per_week\": \"596871813\", \"incidents_85_99\": \"3\", \"fatal_accidents_85_99\": \"1\", \"fatalities_85_99\": \"64\", \"incidents_00_14\": \"5\", \"fatal_accidents_00_14\": \"0\", \"fatalities_00_14\": \"0\"}, {\"airline\": \"Air Canada\", \"avail_seat_km_per_week\": \"1865253802\", \"incidents_85_99\": \"2\", \"fatal_accidents_85_99\": \"0\", \"fatalities_85_99\": \"0\", \"incidents_00_14\": \"2\", \"fatal_accidents_00_14\": \"0\", \"fatalities_00_14\": \"0\"}, {\"airline\": \"Air France\", \"avail_seat_km_per_week\": \"3004002661\", \"incidents_85_99\": \"14\", \"fatal_accidents_85_99\": \"4\", \"fatalities_85_99\": \"79\", \"incidents_00_14\": \"6\", \"fatal_accidents_00_14\": \"2\", \"fatalities_00_14\": \"337\"}, {\"airline\": \"Air India*\", \"avail_seat_km_per_week\": \"869253552\", \"incidents_85_99\": \"2\", \"fatal_accidents_85_99\": \"1\", \"fatalities_85_99\": \"329\", \"incidents_00_14\": \"4\", \"fatal_accidents_00_14\": \"1\", \"fatalities_00_14\": \"158\"}, {\"airline\": \"Air New Zealand*\", \"avail_seat_km_per_week\": \"710174817\", \"incidents_85_99\": \"3\", \"fatal_accidents_85_99\": \"0\", \"fatalities_85_99\": \"0\", \"incidents_00_14\": \"5\", \"fatal_accidents_00_14\": \"1\", \"fatalities_00_14\": \"7\"}, {\"airline\": \"Alaska Airlines*\", \"avail_seat_km_per_week\": \"965346773\", \"incidents_85_99\": \"5\", \"fatal_accidents_85_99\": \"0\", \"fatalities_85_99\": \"0\", \"incidents_00_14\": \"5\", \"fatal_accidents_00_14\": \"1\", \"fatalities_00_14\": \"88\"}, {\"airline\": \"Alitalia\", \"avail_seat_km_per_week\": \"698012498\", \"incidents_85_99\": \"7\", \"fatal_accidents_85_99\": \"2\", \"fatalities_85_99\": \"50\", \"incidents_00_14\": \"4\", \"fatal_accidents_00_14\": \"0\", \"fatalities_00_14\": \"0\"}, {\"airline\": \"All Nippon Airways\", \"avail_seat_km_per_week\": \"1841234177\", \"incidents_85_99\": \"3\", \"fatal_accidents_85_99\": \"1\", \"fatalities_85_99\": \"1\", \"incidents_00_14\": \"7\", \"fatal_accidents_00_14\": \"0\", \"fatalities_00_14\": \"0\"}, {\"airline\": \"American*\", \"avail_seat_km_per_week\": \"5228357340\", \"incidents_85_99\": \"21\", \"fatal_accidents_85_99\": \"5\", \"fatalities_85_99\": \"101\", \"incidents_00_14\": \"17\", \"fatal_accidents_00_14\": \"3\", \"fatalities_00_14\": \"416\"}, {\"airline\": \"Austrian Airlines\", \"avail_seat_km_per_week\": \"358239823\", \"incidents_85_99\": \"1\", \"fatal_accidents_85_99\": \"0\", \"fatalities_85_99\": \"0\", \"incidents_00_14\": \"1\", \"fatal_accidents_00_14\": \"0\", \"fatalities_00_14\": \"0\"}, {\"airline\": \"Avianca\", \"avail_seat_km_per_week\": \"396922563\", \"incidents_85_99\": \"5\", \"fatal_accidents_85_99\": \"3\", \"fatalities_85_99\": \"323\", \"incidents_00_14\": \"0\", \"fatal_accidents_00_14\": \"0\", \"fatalities_00_14\": \"0\"}, {\"airline\": \"British Airways*\", \"avail_seat_km_per_week\": \"3179760952\", \"incidents_85_99\": \"4\", \"fatal_accidents_85_99\": \"0\", \"fatalities_85_99\": \"0\", \"incidents_00_14\": \"6\", \"fatal_accidents_00_14\": \"0\", \"fatalities_00_14\": \"0\"}, {\"airline\": \"Cathay Pacific*\", \"avail_seat_km_per_week\": \"2582459303\", \"incidents_85_99\": \"0\", \"fatal_accidents_85_99\": \"0\", \"fatalities_85_99\": \"0\", \"incidents_00_14\": \"2\", \"fatal_accidents_00_14\": \"0\", \"fatalities_00_14\": \"0\"}, {\"airline\": \"China Airlines\", \"avail_seat_km_per_week\": \"813216487\", \"incidents_85_99\": \"12\", \"fatal_accidents_85_99\": \"6\", \"fatalities_85_99\": \"535\", \"incidents_00_14\": \"2\", \"fatal_accidents_00_14\": \"1\", \"fatalities_00_14\": \"225\"}, {\"airline\": \"Condor\", \"avail_seat_km_per_week\": \"417982610\", \"incidents_85_99\": \"2\", \"fatal_accidents_85_99\": \"1\", \"fatalities_85_99\": \"16\", \"incidents_00_14\": \"0\", \"fatal_accidents_00_14\": \"0\", \"fatalities_00_14\": \"0\"}, {\"airline\": \"COPA\", \"avail_seat_km_per_week\": \"550491507\", \"incidents_85_99\": \"3\", \"fatal_accidents_85_99\": \"1\", \"fatalities_85_99\": \"47\", \"incidents_00_14\": \"0\", \"fatal_accidents_00_14\": \"0\", \"fatalities_00_14\": \"0\"}, {\"airline\": \"Delta / Northwest*\", \"avail_seat_km_per_week\": \"6525658894\", \"incidents_85_99\": \"24\", \"fatal_accidents_85_99\": \"12\", \"fatalities_85_99\": \"407\", \"incidents_00_14\": \"24\", \"fatal_accidents_00_14\": \"2\", \"fatalities_00_14\": \"51\"}, {\"airline\": \"Egyptair\", \"avail_seat_km_per_week\": \"557699891\", \"incidents_85_99\": \"8\", \"fatal_accidents_85_99\": \"3\", \"fatalities_85_99\": \"282\", \"incidents_00_14\": \"4\", \"fatal_accidents_00_14\": \"1\", \"fatalities_00_14\": \"14\"}, {\"airline\": \"El Al\", \"avail_seat_km_per_week\": \"335448023\", \"incidents_85_99\": \"1\", \"fatal_accidents_85_99\": \"1\", \"fatalities_85_99\": \"4\", \"incidents_00_14\": \"1\", \"fatal_accidents_00_14\": \"0\", \"fatalities_00_14\": \"0\"}, {\"airline\": \"Ethiopian Airlines\", \"avail_seat_km_per_week\": \"488560643\", \"incidents_85_99\": \"25\", \"fatal_accidents_85_99\": \"5\", \"fatalities_85_99\": \"167\", \"incidents_00_14\": \"5\", \"fatal_accidents_00_14\": \"2\", \"fatalities_00_14\": \"92\"}, {\"airline\": \"Finnair\", \"avail_seat_km_per_week\": \"506464950\", \"incidents_85_99\": \"1\", \"fatal_accidents_85_99\": \"0\", \"fatalities_85_99\": \"0\", \"incidents_00_14\": \"0\", \"fatal_accidents_00_14\": \"0\", \"fatalities_00_14\": \"0\"}, {\"airline\": \"Garuda Indonesia\", \"avail_seat_km_per_week\": \"613356665\", \"incidents_85_99\": \"10\", \"fatal_accidents_85_99\": \"3\", \"fatalities_85_99\": \"260\", \"incidents_00_14\": \"4\", \"fatal_accidents_00_14\": \"2\", \"fatalities_00_14\": \"22\"}, {\"airline\": \"Gulf Air\", \"avail_seat_km_per_week\": \"301379762\", \"incidents_85_99\": \"1\", \"fatal_accidents_85_99\": \"0\", \"fatalities_85_99\": \"0\", \"incidents_00_14\": \"3\", \"fatal_accidents_00_14\": \"1\", \"fatalities_00_14\": \"143\"}, {\"airline\": \"Hawaiian Airlines\", \"avail_seat_km_per_week\": \"493877795\", \"incidents_85_99\": \"0\", \"fatal_accidents_85_99\": \"0\", \"fatalities_85_99\": \"0\", \"incidents_00_14\": \"1\", \"fatal_accidents_00_14\": \"0\", \"fatalities_00_14\": \"0\"}, {\"airline\": \"Iberia\", \"avail_seat_km_per_week\": \"1173203126\", \"incidents_85_99\": \"4\", \"fatal_accidents_85_99\": \"1\", \"fatalities_85_99\": \"148\", \"incidents_00_14\": \"5\", \"fatal_accidents_00_14\": \"0\", \"fatalities_00_14\": \"0\"}, {\"airline\": \"Japan Airlines\", \"avail_seat_km_per_week\": \"1574217531\", \"incidents_85_99\": \"3\", \"fatal_accidents_85_99\": \"1\", \"fatalities_85_99\": \"520\", \"incidents_00_14\": \"0\", \"fatal_accidents_00_14\": \"0\", \"fatalities_00_14\": \"0\"}, {\"airline\": \"Kenya Airways\", \"avail_seat_km_per_week\": \"277414794\", \"incidents_85_99\": \"2\", \"fatal_accidents_85_99\": \"0\", \"fatalities_85_99\": \"0\", \"incidents_00_14\": \"2\", \"fatal_accidents_00_14\": \"2\", \"fatalities_00_14\": \"283\"}, {\"airline\": \"KLM*\", \"avail_seat_km_per_week\": \"1874561773\", \"incidents_85_99\": \"7\", \"fatal_accidents_85_99\": \"1\", \"fatalities_85_99\": \"3\", \"incidents_00_14\": \"1\", \"fatal_accidents_00_14\": \"0\", \"fatalities_00_14\": \"0\"}, {\"airline\": \"Korean Air\", \"avail_seat_km_per_week\": \"1734522605\", \"incidents_85_99\": \"12\", \"fatal_accidents_85_99\": \"5\", \"fatalities_85_99\": \"425\", \"incidents_00_14\": \"1\", \"fatal_accidents_00_14\": \"0\", \"fatalities_00_14\": \"0\"}, {\"airline\": \"LAN Airlines\", \"avail_seat_km_per_week\": \"1001965891\", \"incidents_85_99\": \"3\", \"fatal_accidents_85_99\": \"2\", \"fatalities_85_99\": \"21\", \"incidents_00_14\": \"0\", \"fatal_accidents_00_14\": \"0\", \"fatalities_00_14\": \"0\"}, {\"airline\": \"Lufthansa*\", \"avail_seat_km_per_week\": \"3426529504\", \"incidents_85_99\": \"6\", \"fatal_accidents_85_99\": \"1\", \"fatalities_85_99\": \"2\", \"incidents_00_14\": \"3\", \"fatal_accidents_00_14\": \"0\", \"fatalities_00_14\": \"0\"}, {\"airline\": \"Malaysia Airlines\", \"avail_seat_km_per_week\": \"1039171244\", \"incidents_85_99\": \"3\", \"fatal_accidents_85_99\": \"1\", \"fatalities_85_99\": \"34\", \"incidents_00_14\": \"3\", \"fatal_accidents_00_14\": \"2\", \"fatalities_00_14\": \"537\"}, {\"airline\": \"Pakistan International\", \"avail_seat_km_per_week\": \"348563137\", \"incidents_85_99\": \"8\", \"fatal_accidents_85_99\": \"3\", \"fatalities_85_99\": \"234\", \"incidents_00_14\": \"10\", \"fatal_accidents_00_14\": \"2\", \"fatalities_00_14\": \"46\"}, {\"airline\": \"Philippine Airlines\", \"avail_seat_km_per_week\": \"413007158\", \"incidents_85_99\": \"7\", \"fatal_accidents_85_99\": \"4\", \"fatalities_85_99\": \"74\", \"incidents_00_14\": \"2\", \"fatal_accidents_00_14\": \"1\", \"fatalities_00_14\": \"1\"}, {\"airline\": \"Qantas*\", \"avail_seat_km_per_week\": \"1917428984\", \"incidents_85_99\": \"1\", \"fatal_accidents_85_99\": \"0\", \"fatalities_85_99\": \"0\", \"incidents_00_14\": \"5\", \"fatal_accidents_00_14\": \"0\", \"fatalities_00_14\": \"0\"}, {\"airline\": \"Royal Air Maroc\", \"avail_seat_km_per_week\": \"295705339\", \"incidents_85_99\": \"5\", \"fatal_accidents_85_99\": \"3\", \"fatalities_85_99\": \"51\", \"incidents_00_14\": \"3\", \"fatal_accidents_00_14\": \"0\", \"fatalities_00_14\": \"0\"}, {\"airline\": \"SAS*\", \"avail_seat_km_per_week\": \"682971852\", \"incidents_85_99\": \"5\", \"fatal_accidents_85_99\": \"0\", \"fatalities_85_99\": \"0\", \"incidents_00_14\": \"6\", \"fatal_accidents_00_14\": \"1\", \"fatalities_00_14\": \"110\"}, {\"airline\": \"Saudi Arabian\", \"avail_seat_km_per_week\": \"859673901\", \"incidents_85_99\": \"7\", \"fatal_accidents_85_99\": \"2\", \"fatalities_85_99\": \"313\", \"incidents_00_14\": \"11\", \"fatal_accidents_00_14\": \"0\", \"fatalities_00_14\": \"0\"}, {\"airline\": \"Singapore Airlines\", \"avail_seat_km_per_week\": \"2376857805\", \"incidents_85_99\": \"2\", \"fatal_accidents_85_99\": \"2\", \"fatalities_85_99\": \"6\", \"incidents_00_14\": \"2\", \"fatal_accidents_00_14\": \"1\", \"fatalities_00_14\": \"83\"}, {\"airline\": \"South African\", \"avail_seat_km_per_week\": \"651502442\", \"incidents_85_99\": \"2\", \"fatal_accidents_85_99\": \"1\", \"fatalities_85_99\": \"159\", \"incidents_00_14\": \"1\", \"fatal_accidents_00_14\": \"0\", \"fatalities_00_14\": \"0\"}, {\"airline\": \"Southwest Airlines\", \"avail_seat_km_per_week\": \"3276525770\", \"incidents_85_99\": \"1\", \"fatal_accidents_85_99\": \"0\", \"fatalities_85_99\": \"0\", \"incidents_00_14\": \"8\", \"fatal_accidents_00_14\": \"0\", \"fatalities_00_14\": \"0\"}, {\"airline\": \"Sri Lankan / AirLanka\", \"avail_seat_km_per_week\": \"325582976\", \"incidents_85_99\": \"2\", \"fatal_accidents_85_99\": \"1\", \"fatalities_85_99\": \"14\", \"incidents_00_14\": \"4\", \"fatal_accidents_00_14\": \"0\", \"fatalities_00_14\": \"0\"}, {\"airline\": \"SWISS*\", \"avail_seat_km_per_week\": \"792601299\", \"incidents_85_99\": \"2\", \"fatal_accidents_85_99\": \"1\", \"fatalities_85_99\": \"229\", \"incidents_00_14\": \"3\", \"fatal_accidents_00_14\": \"0\", \"fatalities_00_14\": \"0\"}, {\"airline\": \"TACA\", \"avail_seat_km_per_week\": \"259373346\", \"incidents_85_99\": \"3\", \"fatal_accidents_85_99\": \"1\", \"fatalities_85_99\": \"3\", \"incidents_00_14\": \"1\", \"fatal_accidents_00_14\": \"1\", \"fatalities_00_14\": \"3\"}, {\"airline\": \"TAM\", \"avail_seat_km_per_week\": \"1509195646\", \"incidents_85_99\": \"8\", \"fatal_accidents_85_99\": \"3\", \"fatalities_85_99\": \"98\", \"incidents_00_14\": \"7\", \"fatal_accidents_00_14\": \"2\", \"fatalities_00_14\": \"188\"}, {\"airline\": \"TAP - Air Portugal\", \"avail_seat_km_per_week\": \"619130754\", \"incidents_85_99\": \"0\", \"fatal_accidents_85_99\": \"0\", \"fatalities_85_99\": \"0\", \"incidents_00_14\": \"0\", \"fatal_accidents_00_14\": \"0\", \"fatalities_00_14\": \"0\"}, {\"airline\": \"Thai Airways\", \"avail_seat_km_per_week\": \"1702802250\", \"incidents_85_99\": \"8\", \"fatal_accidents_85_99\": \"4\", \"fatalities_85_99\": \"308\", \"incidents_00_14\": \"2\", \"fatal_accidents_00_14\": \"1\", \"fatalities_00_14\": \"1\"}, {\"airline\": \"Turkish Airlines\", \"avail_seat_km_per_week\": \"1946098294\", \"incidents_85_99\": \"8\", \"fatal_accidents_85_99\": \"3\", \"fatalities_85_99\": \"64\", \"incidents_00_14\": \"8\", \"fatal_accidents_00_14\": \"2\", \"fatalities_00_14\": \"84\"}, {\"airline\": \"United / Continental*\", \"avail_seat_km_per_week\": \"7139291291\", \"incidents_85_99\": \"19\", \"fatal_accidents_85_99\": \"8\", \"fatalities_85_99\": \"319\", \"incidents_00_14\": \"14\", \"fatal_accidents_00_14\": \"2\", \"fatalities_00_14\": \"109\"}, {\"airline\": \"US Airways / America West*\", \"avail_seat_km_per_week\": \"2455687887\", \"incidents_85_99\": \"16\", \"fatal_accidents_85_99\": \"7\", \"fatalities_85_99\": \"224\", \"incidents_00_14\": \"11\", \"fatal_accidents_00_14\": \"2\", \"fatalities_00_14\": \"23\"}, {\"airline\": \"Vietnam Airlines\", \"avail_seat_km_per_week\": \"625084918\", \"incidents_85_99\": \"7\", \"fatal_accidents_85_99\": \"3\", \"fatalities_85_99\": \"171\", \"incidents_00_14\": \"1\", \"fatal_accidents_00_14\": \"0\", \"fatalities_00_14\": \"0\"}, {\"airline\": \"Virgin Atlantic\", \"avail_seat_km_per_week\": \"1005248585\", \"incidents_85_99\": \"1\", \"fatal_accidents_85_99\": \"0\", \"fatalities_85_99\": \"0\", \"incidents_00_14\": \"0\", \"fatal_accidents_00_14\": \"0\", \"fatalities_00_14\": \"0\"}, {\"airline\": \"Xiamen Airlines\", \"avail_seat_km_per_week\": \"430462962\", \"incidents_85_99\": \"9\", \"fatal_accidents_85_99\": \"1\", \"fatalities_85_99\": \"82\", \"incidents_00_14\": \"2\", \"fatal_accidents_00_14\": \"0\", \"fatalities_00_14\": \"0\"}], pagination: \"local\", paginationSize: 10}) })\n",
       "</script>\n",
       "<body>"
      ],
      "text/plain": [
       "<epyk.core.py.PyOuts.PyOuts at 0x242c9b6d6a0>"
      ]
     },
     "execution_count": 2,
     "metadata": {},
     "output_type": "execute_result"
    }
   ],
   "source": [
    "from epyk.core.Page import Report\n",
    "from epyk.tests import data_urls\n",
    "\n",
    "rptObj = Report()\n",
    "\n",
    "data_rest_2 = rptObj.py.requests.csv(data_urls.AIRLINE_SAFETY)\n",
    "t1 = rptObj.ui.tables.tabulators.table(data_rest_2)\n",
    "t1.config.paginationSize = 10\n",
    "\n",
    "rptObj.outs.jupyter()"
   ]
  },
  {
   "cell_type": "markdown",
   "metadata": {},
   "source": [
    "<a href=\"tables.ipynb\" target=\"_self\">Go back to the Table Home page</a>\n",
    "<hr>\n",
    "Do not forget that this is a collaborative framework so do not hesitate to give feedbacks and like the different repository to get more visbility.\n",
    "\n",
    "Also any help is more than welcome !"
   ]
  }
 ],
 "metadata": {
  "kernelspec": {
   "display_name": "Python 3",
   "language": "python",
   "name": "python3"
  },
  "language_info": {
   "codemirror_mode": {
    "name": "ipython",
    "version": 3
   },
   "file_extension": ".py",
   "mimetype": "text/x-python",
   "name": "python",
   "nbconvert_exporter": "python",
   "pygments_lexer": "ipython3",
   "version": "3.8.2"
  }
 },
 "nbformat": 4,
 "nbformat_minor": 2
}
