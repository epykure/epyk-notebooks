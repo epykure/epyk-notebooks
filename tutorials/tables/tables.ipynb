{
 "cells": [
  {
   "cell_type": "markdown",
   "metadata": {},
   "source": [
    "<div style=\"float:left;margin:0 10px 10px 0\" markdown=\"1\">\n",
    "    <a href=\"index.ipynb\">\n",
    "        <img src=\"./../../static/images/epyklogo_whole_small.png\">\n",
    "    </a>\n",
    "</div>"
   ]
  },
  {
   "cell_type": "markdown",
   "metadata": {},
   "source": [
    "# Table Libraries\n",
    "\n",
    "- [Tabulator](tabulator.ipynb)\n",
    "- [Datatable](datatable.ipynb)\n",
    "- [Pivot Table](pivot.ipynb)\n",
    "- [D3](d3.ipynb)\n",
    "- [Plotly](plotly.ipynb)\n",
    "\n",
    "\n",
    "\n",
    "### But\n",
    "It is also possible to display tables without using any libraries based on [Table component](table.ipynb)\n"
   ]
  }
 ],
 "metadata": {
  "kernelspec": {
   "display_name": "Python 3",
   "language": "python",
   "name": "python3"
  },
  "language_info": {
   "codemirror_mode": {
    "name": "ipython",
    "version": 3
   },
   "file_extension": ".py",
   "mimetype": "text/x-python",
   "name": "python",
   "nbconvert_exporter": "python",
   "pygments_lexer": "ipython3",
   "version": "3.8.2"
  }
 },
 "nbformat": 4,
 "nbformat_minor": 2
}
