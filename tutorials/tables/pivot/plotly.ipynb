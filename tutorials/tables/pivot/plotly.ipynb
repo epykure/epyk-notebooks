{
 "cells": [
  {
   "cell_type": "markdown",
   "metadata": {},
   "source": [
    "<div style=\"float:left;margin:0 10px 10px 0\" markdown=\"1\">\n",
    "    <a href=\"../../../index.ipynb\">\n",
    "        <img src=\"../../../static/images/epyklogo_whole_small.png\">\n",
    "    </a>\n",
    "</div>"
   ]
  },
  {
   "cell_type": "markdown",
   "metadata": {},
   "source": [
    "# Pivot Table\n",
    "\n",
    "\n",
    "## Plotly Pivot\n",
    "\n",
    "\n"
   ]
  },
  {
   "cell_type": "code",
   "execution_count": 7,
   "metadata": {},
   "outputs": [
    {
     "data": {
      "text/html": [
       "<head>\n",
       "<style>\n",
       "    .cssdivnoborder {margin: 0 ;clear: both ;padding: 0 ;border: 0 ;}\n",
       ".pvtTable tr td {font-size: 8pt ;padding: 5px ;color: #000000 !IMPORTANT ;border: 1px solid #81c784 !IMPORTANT ;}\n",
       ".pvtTable tr td:hover {color: #000000 !IMPORTANT ;background-color: #a5d6a7 !IMPORTANT ;}\n",
       ".pvtAxisContainer {color: #f5f5f5 ;}\n",
       ".pvtFilterBox {color: #f5f5f5 ;}\n",
       ".pvtVals {color: #000000 ;}\n",
       ".pvtColLabel, .pvtAxisLabel, .pvtRowLabel, .pvtTotalLabel,  th {color: #000000 !IMPORTANT ;background-color: #c8e6c9 !IMPORTANT ;border: 1px solid #4caf50 !IMPORTANT ;}\n",
       "\n",
       "</style>\n",
       "<link rel=\"stylesheet\" href=\"https://cdnjs.cloudflare.com/ajax/libs/pivottable/2.23.0/pivot.min.css\" type=\"text/css\">\n",
       "</head>\n",
       "<body>\n",
       "<div id=\"pivotuitable_2416060908160\" style=\"font-size:inherit;font-family:inherit;box-sizing:border-box;width:100%;display:block\" class=\"cssdivnoborder pvtTable\"></div>\n",
       "<script>\n",
       "require.config({ paths:{d3: 'https://cdnjs.cloudflare.com/ajax/libs/d3/5.16.0/d3.min', Plotly: 'https://cdnjs.cloudflare.com/ajax/libs/plotly.js/1.51.1/plotly.min', pivot_plotly: 'https://cdnjs.cloudflare.com/ajax/libs/pivottable/2.23.0/plotly_renderers.min', pivot: 'https://cdnjs.cloudflare.com/ajax/libs/pivottable/2.23.0/pivot.min'}});\n",
       "require(['pivot', 'd3'], function (pivot, d3) { require(['Plotly'], function (Plotly) { require(['pivot_plotly'], function (pivot_plotly) { function PivotUITable(htmlObj, data, options){\n",
       "        $(htmlObj).pivotUI(data, options)\n",
       "        };PivotUITable(document.getElementById('pivotuitable_2416060908160'), [{\"name\": \"C\", \"type\": \"code\", \"rating\": 17.07, \"change\": 12.82}, {\"name\": \"Java\", \"type\": \"code\", \"rating\": 16.28, \"change\": 0.28}, {\"name\": \"Python\", \"type\": \"script\", \"rating\": 9.12, \"change\": 1.29}, {\"name\": \"C++\", \"type\": \"code\", \"rating\": 6.13, \"change\": -1.97}, {\"name\": \"C#\", \"type\": \"code\", \"rating\": 4.29, \"change\": 0.3}, {\"name\": \"Visual Basic\", \"type\": \"script\", \"rating\": 4.18, \"change\": -1.01}, {\"name\": \"JavaScript\", \"type\": \"script\", \"rating\": 2.68, \"change\": -0.01}, {\"name\": \"PHP\", \"type\": \"script\", \"rating\": 2.49, \"change\": 0}, {\"name\": \"SQL\", \"type\": \"script\", \"rating\": 2.09, \"change\": -0.47}, {\"name\": \"R\", \"type\": \"script\", \"rating\": 1.85, \"change\": 0.9}], {cols: [],rows: [],renderers: $.extend($.pivotUtilities.renderers, $.pivotUtilities.plotly_renderers),rendererName: \"Bar Chart\"}) }) }) })\n",
       "</script>\n",
       "<body>"
      ],
      "text/plain": [
       "<epyk.core.py.PyOuts.PyOuts at 0x23287d80370>"
      ]
     },
     "execution_count": 7,
     "metadata": {},
     "output_type": "execute_result"
    }
   ],
   "source": [
    "from epyk.core.Page import Report\n",
    "\n",
    "# Create a basic report object\n",
    "rptObj = Report()\n",
    "\n",
    "languages = [\n",
    "  {\"name\": 'C', 'type': 'code', 'rating': 17.07, 'change': 12.82},\n",
    "  {\"name\": 'Java', 'type': 'code', 'rating': 16.28, 'change': 0.28},\n",
    "  {\"name\": 'Python', 'type': 'script', 'rating': 9.12, 'change': 1.29},\n",
    "  {\"name\": 'C++', 'type': 'code', 'rating': 6.13, 'change': -1.97},\n",
    "  {\"name\": 'C#', 'type': 'code', 'rating': 4.29, 'change': 0.3},\n",
    "  {\"name\": 'Visual Basic', 'type': 'script', 'rating': 4.18, 'change': -1.01},\n",
    "  {\"name\": 'JavaScript', 'type': 'script', 'rating': 2.68, 'change': -0.01},\n",
    "  {\"name\": 'PHP', 'type': 'script', 'rating': 2.49, 'change': 0},\n",
    "  {\"name\": 'SQL', 'type': 'script', 'rating': 2.09, 'change': -0.47},\n",
    "  {\"name\": 'R', 'type': 'script', 'rating': 1.85, 'change': 0.90},\n",
    "]\n",
    "\n",
    "# Create a table\n",
    "tb = rptObj.ui.tables.pivots.plotly(languages)\n",
    "\n",
    "rptObj.outs.jupyter()"
   ]
  },
  {
   "cell_type": "markdown",
   "metadata": {},
   "source": [
    "<a href=\"../../components/00_components.ipynb\" target=\"_self\">Go back to the tutorials page</a>\n",
    "<hr>\n",
    "Do not forget that this is a collaborative framework so do not hesitate to give feedbacks and like the different repository to get more visbility.\n",
    "\n",
    "Also any help is more than welcome !"
   ]
  }
 ],
 "metadata": {
  "kernelspec": {
   "display_name": "Python 3",
   "language": "python",
   "name": "python3"
  },
  "language_info": {
   "codemirror_mode": {
    "name": "ipython",
    "version": 3
   },
   "file_extension": ".py",
   "mimetype": "text/x-python",
   "name": "python",
   "nbconvert_exporter": "python",
   "pygments_lexer": "ipython3",
   "version": "3.8.2"
  }
 },
 "nbformat": 4,
 "nbformat_minor": 2
}
