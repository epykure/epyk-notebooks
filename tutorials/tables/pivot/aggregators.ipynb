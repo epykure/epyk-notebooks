{
 "cells": [
  {
   "cell_type": "markdown",
   "metadata": {},
   "source": [
    "<div style=\"float:left;margin:0 10px 10px 0\" markdown=\"1\">\n",
    "    <a href=\"../../../index.ipynb\">\n",
    "        <img src=\"../../../static/images/epyklogo_whole_small.png\">\n",
    "    </a>\n",
    "</div>"
   ]
  },
  {
   "cell_type": "markdown",
   "metadata": {},
   "source": [
    "# Pivot Table\n",
    "\n",
    "\n",
    "## Pivot and aggregators\n",
    "\n",
    "Predefined aggregators are:\n",
    "\n",
    "- sumOverSum\n",
    "- count\n",
    "- sum\n",
    "- max\n",
    "- min\n",
    "- absSum\n",
    "- diffAbsolute\n",
    "\n",
    "Some generic aggregators are available in order to apply formulas on 1 or two columns.\n",
    "\n",
    "- singleFactorFormulas\n",
    "- twoFactorFormulas\n",
    "\n",
    "\n",
    "It is also possible to write your own aggregator following the documentation [here](https://github.com/nicolaskruchten/pivottable/wiki/Aggregators)\n",
    "- custom"
   ]
  },
  {
   "cell_type": "code",
   "execution_count": 1,
   "metadata": {},
   "outputs": [
    {
     "data": {
      "text/html": [
       "<head>\n",
       "<style>\n",
       "    .cssdivnoborder {margin: 0 ;clear: both ;padding: 0 ;border: 0 ;}\n",
       ".pvtTable tr td {font-size: 8pt ;padding: 5px ;color: #000000 !IMPORTANT ;border: 1px solid #81c784 !IMPORTANT ;}\n",
       ".pvtTable tr td:hover {color: #000000 !IMPORTANT ;background-color: #a5d6a7 !IMPORTANT ;}\n",
       ".pvtAxisContainer {color: #f5f5f5 ;}\n",
       ".pvtFilterBox {color: #f5f5f5 ;}\n",
       ".pvtVals {color: #000000 ;}\n",
       ".pvtColLabel, .pvtAxisLabel, .pvtRowLabel, .pvtTotalLabel,  th {color: #000000 !IMPORTANT ;background-color: #c8e6c9 !IMPORTANT ;border: 1px solid #4caf50 !IMPORTANT ;}\n",
       "\n",
       "</style>\n",
       "<link rel=\"stylesheet\" href=\"https://cdnjs.cloudflare.com/ajax/libs/pivottable/2.23.0/pivot.min.css\" type=\"text/css\">\n",
       "</head>\n",
       "<body>\n",
       "<div id=\"pivottable_1757486651088\" style=\"font-size:inherit;font-family:inherit;box-sizing:border-box;width:100%;display:block\" class=\"cssdivnoborder pvtTable\"></div>\n",
       "<script>\n",
       "require.config({ paths:{pivot: 'https://cdnjs.cloudflare.com/ajax/libs/pivottable/2.23.0/pivot.min'}});\n",
       "require(['pivot'], function (pivot) { function PivotTable(htmlObj, data, options){\n",
       "      if (options.showUI){$(htmlObj).pivotUI(data, options)}\n",
       "      else {$(htmlObj).pivot(data, options)}\n",
       "      };PivotTable(document.getElementById('pivottable_1757486651088'), [{\"name\": \"C\", \"type\": \"code\", \"rating\": 17.07, \"change\": 12.82}, {\"name\": \"Java\", \"type\": \"code\", \"rating\": 16.28, \"change\": 0.28}, {\"name\": \"Python\", \"type\": \"script\", \"rating\": 9.12, \"change\": 1.29}, {\"name\": \"C++\", \"type\": \"code\", \"rating\": 6.13, \"change\": -1.97}, {\"name\": \"C#\", \"type\": \"code\", \"rating\": 4.29, \"change\": 0.3}, {\"name\": \"Visual Basic\", \"type\": \"script\", \"rating\": 4.18, \"change\": -1.01}, {\"name\": \"JavaScript\", \"type\": \"script\", \"rating\": 2.68, \"change\": -0.01}, {\"name\": \"PHP\", \"type\": \"script\", \"rating\": 2.49, \"change\": 0}, {\"name\": \"SQL\", \"type\": \"script\", \"rating\": 2.09, \"change\": -0.47}, {\"name\": \"R\", \"type\": \"script\", \"rating\": 1.85, \"change\": 0.9}], {cols: [\"type\"],rows: [\"name\"],aggregator: $.pivotUtilities.aggregators[\"Sum over Sum\"]([\"rating\", \"change\"]),aggregatorName: \"sumOverSum\"}) })\n",
       "</script>\n",
       "<body>"
      ],
      "text/plain": [
       "<epyk.core.py.PyOuts.PyOuts at 0x199325ebb50>"
      ]
     },
     "execution_count": 1,
     "metadata": {},
     "output_type": "execute_result"
    }
   ],
   "source": [
    "from epyk.core.Page import Report\n",
    "\n",
    "# Create a basic report object\n",
    "rptObj = Report()\n",
    "\n",
    "languages = [\n",
    "  {\"name\": 'C', 'type': 'code', 'rating': 17.07, 'change': 12.82},\n",
    "  {\"name\": 'Java', 'type': 'code', 'rating': 16.28, 'change': 0.28},\n",
    "  {\"name\": 'Python', 'type': 'script', 'rating': 9.12, 'change': 1.29},\n",
    "  {\"name\": 'C++', 'type': 'code', 'rating': 6.13, 'change': -1.97},\n",
    "  {\"name\": 'C#', 'type': 'code', 'rating': 4.29, 'change': 0.3},\n",
    "  {\"name\": 'Visual Basic', 'type': 'script', 'rating': 4.18, 'change': -1.01},\n",
    "  {\"name\": 'JavaScript', 'type': 'script', 'rating': 2.68, 'change': -0.01},\n",
    "  {\"name\": 'PHP', 'type': 'script', 'rating': 2.49, 'change': 0},\n",
    "  {\"name\": 'SQL', 'type': 'script', 'rating': 2.09, 'change': -0.47},\n",
    "  {\"name\": 'R', 'type': 'script', 'rating': 1.85, 'change': 0.90},\n",
    "]\n",
    "\n",
    "\n",
    "# Create a table\n",
    "tb = rptObj.ui.tables.pivot(languages, ['name'], ['type'])\n",
    "tb.aggregators.sumOverSum(['rating', 'change'])\n",
    "\n",
    "rptObj.outs.jupyter()\n"
   ]
  },
  {
   "cell_type": "markdown",
   "metadata": {},
   "source": [
    "<a href=\"../../components/00_components.ipynb\" target=\"_self\">Go back to the tutorials page</a>\n",
    "<hr>\n",
    "Do not forget that this is a collaborative framework so do not hesitate to give feedbacks and like the different repository to get more visbility.\n",
    "\n",
    "Also any help is more than welcome !"
   ]
  }
 ],
 "metadata": {
  "kernelspec": {
   "display_name": "Python 3",
   "language": "python",
   "name": "python3"
  },
  "language_info": {
   "codemirror_mode": {
    "name": "ipython",
    "version": 3
   },
   "file_extension": ".py",
   "mimetype": "text/x-python",
   "name": "python",
   "nbconvert_exporter": "python",
   "pygments_lexer": "ipython3",
   "version": "3.8.2"
  }
 },
 "nbformat": 4,
 "nbformat_minor": 2
}
