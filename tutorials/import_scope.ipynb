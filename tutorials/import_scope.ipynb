{
 "cells": [
  {
   "cell_type": "markdown",
   "metadata": {},
   "source": [
    "<div style=\"float:left;margin:0 10px 10px 0\" markdown=\"1\">\n",
    "    <a href=\"../index.ipynb\">\n",
    "        <img src=\"../static/images/epyklogo_whole_small.png\">\n",
    "    </a>\n",
    "</div>"
   ]
  },
  {
   "cell_type": "markdown",
   "metadata": {},
   "source": [
    "# Imports\n",
    "\n",
    "\n",
    "Epyk framework relies on lot of external packages. It will benefit from the rich existing JavaScript ecosystem to render rich and responsible web pages. It will also emcompass lot of different modules in order to simplify the migration according to the underlying libraries activity.\n",
    "\n",
    "For each sub module Epyk to to provide the same basic interface to make the Python common to the components. Then if some specificities are required it is possible to use the .js properties of each components to use the entire features in the package.\n",
    "\n",
    "\n",
    "## Imports Manager"
   ]
  },
  {
   "cell_type": "code",
   "execution_count": 10,
   "metadata": {},
   "outputs": [
    {
     "data": {
      "text/html": [
       "<head>\n",
       "<style>\n",
       "    .cssdivnoborder {margin: 0 ;clear: both ;padding: 0 ;border: 0 ;}\n",
       ".csstitle {padding: 0 ;margin-bottom: 0 ;white-space: pre-wrap ;font-weight: bold ;font-size: 14px ;}\n",
       "\n",
       "</style>\n",
       "\n",
       "</head>\n",
       "<body>\n",
       "<div id=\"title_2755766095984\" style=\"width:auto;margin:5px 0 5px 0;display:block;margin-right:10px\" class=\"cssdivnoborder csstitle\"><a></a>Test</div>\n",
       "<div id=\"div_2755766099440\" style=\"font-size:12px;vertical-align:middle;box-sizing:border-box;width:100%;text-align:left\" class=\"cssdivnoborder\"></div>\n",
       "<script>\n",
       "require.config({ paths:{d3: 'https://cdnjs.cloudflare.com/ajax/libs/d3/5.9.7/d3.min'}});\n",
       "require(['d3'], function (d3) { var d3Table = d3.select('#div_2755766099440').append(\"table\");d3Table.append(\"thead\").append(\"tr\").selectAll(\"th\").data(['name', 'script', 'version']).enter().append(\"th\").text(function(column) { return column; });d3Table.append(\"tbody\").selectAll(\"tr\").data([{'name': 'showdown', 'script': 'https://cdnjs.cloudflare.com/ajax/libs/showdown/1.9.1//showdown.min.js', 'version': '1.9.1'}]).enter().append(\"tr\").selectAll(\"td\").data(function(row, i) { var cell = []; [\"name\", \"script\", \"version\"].forEach(function(k) { cell.push(row[k]);\n",
       "        }); return cell; }) .enter().append(\"td\").html(function(d) { return d; }) })\n",
       "</script>\n",
       "<body>"
      ],
      "text/plain": [
       "<epyk.core.py.PyOuts.PyOuts at 0x281a06ae190>"
      ]
     },
     "execution_count": 10,
     "metadata": {},
     "output_type": "execute_result"
    }
   ],
   "source": [
    "from epyk.core.Page import Report\n",
    "\n",
    "rptObj = Report()\n",
    "rptObj.ui.title(\"Test\")\n",
    "records = []\n",
    "for k, v in rptObj.imports().show().items():\n",
    "    for script in v:\n",
    "        records.append({\"name\": k, \"script\": script['script'], 'version': script['version']})\n",
    "rptObj.ui.tables.d3.table(records)\n",
    "    \n",
    "rptObj.outs.jupyter()\n"
   ]
  },
  {
   "cell_type": "code",
   "execution_count": 11,
   "metadata": {},
   "outputs": [
    {
     "data": {
      "text/html": [
       "<head>\n",
       "<style>\n",
       "    .cssdivnoborder {margin: 0 ;clear: both ;padding: 0 ;border: 0 ;}\n",
       "\n",
       "</style>\n",
       "\n",
       "</head>\n",
       "<body>\n",
       "<div id=\"div_2755766525040\" style=\"font-size:12px;vertical-align:middle;box-sizing:border-box;width:100%;text-align:left\" class=\"cssdivnoborder\"></div>\n",
       "<script>\n",
       "require.config({ paths:{d3: 'https://cdnjs.cloudflare.com/ajax/libs/d3/5.9.7/d3.min'}});\n",
       "require(['d3'], function (d3) { var d3Table = d3.select('#div_2755766525040').append(\"table\");d3Table.append(\"thead\").append(\"tr\").selectAll(\"th\").data(['name', 'script', 'version']).enter().append(\"th\").text(function(column) { return column; });d3Table.append(\"tbody\").selectAll(\"tr\").data([{'name': 'jqueryui', 'script': 'https://cdnjs.cloudflare.com/ajax/libs/jqueryui/1.12.1//jquery-ui.min.css', 'version': '1.12.1'}, {'name': 'jqueryui', 'script': 'https://cdnjs.cloudflare.com/ajax/libs/jqueryui/1.12.1//jquery-ui.min.js', 'version': '1.12.1'}, {'name': 'qunit', 'script': 'https://cdnjs.cloudflare.com/ajax/libs/qunit/2.9.2//qunit.min.css', 'version': '2.9.2'}, {'name': 'qunit', 'script': 'https://cdnjs.cloudflare.com/ajax/libs/qunit/2.9.2//qunit.min.js', 'version': '2.9.2'}, {'name': 'jquery-brackets', 'script': 'https://cdnjs.cloudflare.com/ajax/libs/jquery-bracket/0.11.1//jquery.bracket.min.css', 'version': '0.11.1'}, {'name': 'jquery-brackets', 'script': 'https://cdnjs.cloudflare.com/ajax/libs/jquery-bracket/0.11.1//jquery.bracket.min.js', 'version': '0.11.1'}, {'name': 'jquery-context-menu', 'script': 'https://cdnjs.cloudflare.com/ajax/libs/jquery-contextmenu/2.6.4//jquery.contextMenu.min.css', 'version': '2.6.4'}, {'name': 'jquery-context-menu', 'script': 'https://cdnjs.cloudflare.com/ajax/libs/jquery-contextmenu/2.6.4//jquery.contextMenu.min.js', 'version': '2.6.4'}, {'name': 'timepicker', 'script': 'https://cdnjs.cloudflare.com/ajax/libs/timepicker/1.3.5//jquery.timepicker.min.css', 'version': '1.3.5'}, {'name': 'timepicker', 'script': 'https://cdnjs.cloudflare.com/ajax/libs/timepicker/1.3.5//jquery.timepicker.min.js', 'version': '1.3.5'}, {'name': 'jquery-scrollbar', 'script': 'https://cdnjs.cloudflare.com/ajax/libs/malihu-custom-scrollbar-plugin/3.1.5//jquery.mCustomScrollbar.min.css', 'version': '3.1.5'}, {'name': 'jquery-scrollbar', 'script': 'https://cdnjs.cloudflare.com/ajax/libs/malihu-custom-scrollbar-plugin/3.1.5//jquery.mCustomScrollbar.concat.min.js', 'version': '3.1.5'}, {'name': 'tabulator', 'script': 'https://cdnjs.cloudflare.com/ajax/libs/tabulator/4.4.3/css//tabulator.min.css', 'version': '4.4.3'}, {'name': 'tabulator', 'script': 'https://cdnjs.cloudflare.com/ajax/libs/tabulator/4.4.3/js//tabulator_core.min.js', 'version': '4.4.3'}, {'name': 'tabulator', 'script': 'https://cdnjs.cloudflare.com/ajax/libs/tabulator/4.4.3/js//tabulator.min.js', 'version': '4.4.3'}, {'name': 'datatables', 'script': 'https://cdn.datatables.net/1.10.19/css//jquery.dataTables.min.css', 'version': '1.10.19'}, {'name': 'datatables', 'script': 'https://cdnjs.cloudflare.com/ajax/libs/datatables/1.10.19/js//jquery.dataTables.min.js', 'version': '1.10.19'}, {'name': 'datatables-buttons', 'script': 'https://cdn.datatables.net/buttons/1.6.1/css//buttons.dataTables.min.css', 'version': '1.6.1'}, {'name': 'datatables-buttons', 'script': 'https://cdn.datatables.net/buttons/1.6.1/js//dataTables.buttons.min.js', 'version': '1.6.1'}, {'name': 'datatables-select', 'script': 'https://cdn.datatables.net/select/1.3.1/css//select.dataTables.min.css', 'version': '1.3.1'}, {'name': 'datatables-select', 'script': 'https://cdn.datatables.net/select/1.3.1/js//dataTables.select.min.js', 'version': '1.3.1'}, {'name': 'datatables-scroller', 'script': 'https://cdn.datatables.net/scroller/2.0.1/css//scroller.dataTables.min.css', 'version': '2.0.1'}, {'name': 'datatables-scroller', 'script': 'https://cdn.datatables.net/scroller/2.0.1/js//dataTables.scroller.min.js', 'version': '2.0.1'}, {'name': 'datatables-searchPanes', 'script': 'https://cdn.datatables.net/searchpanes/1.0.1/css//searchPanes.dataTables.min.css', 'version': '1.0.1'}, {'name': 'datatables-searchPanes', 'script': 'https://cdn.datatables.net/searchpanes/1.0.1/js//dataTables.searchPanes.min.js', 'version': '1.0.1'}, {'name': 'datatables-responsive', 'script': 'https://cdn.datatables.net/responsive/2.2.3/css//responsive.dataTables.min.css', 'version': '2.2.3'}, {'name': 'datatables-responsive', 'script': 'https://cdn.datatables.net/responsive/2.2.3/js//dataTables.responsive.min.js', 'version': '2.2.3'}, {'name': 'datatables-keytable', 'script': 'https://cdn.datatables.net/keytable/2.5.1/css//keyTable.dataTables.min.css', 'version': '2.5.1'}, {'name': 'datatables-keytable', 'script': 'https://cdn.datatables.net/keytable/2.5.1/js//dataTables.keyTable.min.js', 'version': '2.5.1'}, {'name': 'datatables-autoFill', 'script': 'https://cdn.datatables.net/autofill/2.1.0/css//autoFill.dataTables.min.css', 'version': '2.1.0'}, {'name': 'datatables-autoFill', 'script': 'https://cdn.datatables.net/autofill/2.1.0/js//dataTables.autoFill.min.js', 'version': '2.1.0'}, {'name': 'datatables-row-group', 'script': 'https://cdn.datatables.net/rowgroup/1.1.1/css//rowGroup.dataTables.min.css', 'version': '1.1.1'}, {'name': 'datatables-row-group', 'script': 'https://cdn.datatables.net/rowgroup/1.1.1/js//dataTables.rowGroup.min.js', 'version': '1.1.1'}, {'name': 'datatables-fixed-columns', 'script': 'https://cdn.datatables.net/fixedcolumns/3.2.2/css//fixedColumns.bootstrap4.min.css', 'version': '3.2.2'}, {'name': 'datatables-fixed-columns', 'script': 'https://cdn.datatables.net/fixedcolumns/3.2.2/js//dataTables.fixedColumns.min.js', 'version': '3.2.2'}, {'name': 'datatables-fixed-header', 'script': 'https://cdn.datatables.net/fixedheader/3.1.3/css//fixedHeader.bootstrap4.min.css', 'version': '3.1.3'}, {'name': 'datatables-fixed-header', 'script': 'https://cdn.datatables.net/fixedheader/3.1.3/js//dataTables.fixedHeader.min.js', 'version': '3.1.3'}, {'name': 'datatables-export', 'script': 'https://cdn.datatables.net/buttons/1.5.2/css//buttons.bootstrap4.min.css', 'version': '1.5.2'}, {'name': 'datatables-export', 'script': 'https://cdn.datatables.net/buttons/1.5.2/js//buttons.colVis.min.js', 'version': '1.5.2'}, {'name': 'datatables-export', 'script': 'https://cdn.datatables.net/buttons/1.5.2/js//buttons.bootstrap4.min.js', 'version': '1.5.2'}, {'name': 'datatables-export', 'script': 'https://cdn.datatables.net/buttons/1.5.2/js//buttons.foundation.min.js', 'version': '1.5.2'}, {'name': 'datatables-export', 'script': 'https://cdn.datatables.net/buttons/1.5.2/js//buttons.html5.min.js', 'version': '1.5.2'}, {'name': 'datatables-export', 'script': 'https://cdn.datatables.net/buttons/1.5.2/js//buttons.jqueryui.min.js', 'version': '1.5.2'}, {'name': 'datatables-export', 'script': 'https://cdn.datatables.net/buttons/1.5.2/js//buttons.print.min.js', 'version': '1.5.2'}, {'name': 'datatables-export', 'script': 'https://cdn.datatables.net/buttons/1.5.2/js//buttons.semanticui.min.js', 'version': '1.5.2'}, {'name': 'datatables-col-order', 'script': 'https://cdn.datatables.net/colreorder/1.5.1/css//colReorder.bootstrap4.min.css', 'version': '1.5.1'}, {'name': 'datatables-col-order', 'script': 'https://cdn.datatables.net/colreorder/1.5.1/js//dataTables.colReorder.min.js', 'version': '1.5.1'}, {'name': 'bootstrap', 'script': 'https://stackpath.bootstrapcdn.com/bootstrap/4.4.1/css//bootstrap.min.css', 'version': '4.4.1'}, {'name': 'bootstrap', 'script': 'https://stackpath.bootstrapcdn.com/bootstrap/4.4.1/js//bootstrap.min.js', 'version': '4.4.1'}, {'name': 'font-awesome', 'script': 'https://use.fontawesome.com/releases/v5.13.0/css//all.css', 'version': '5.13.0'}, {'name': 'font-awesome', 'script': 'https://use.fontawesome.com/releases/v5.13.0/js//fontawesome.js', 'version': '5.13.0'}, {'name': 'nvd3', 'script': 'https://cdnjs.cloudflare.com/ajax/libs/nvd3/1.8.6//nv.d3.min.css', 'version': '1.8.6'}, {'name': 'nvd3', 'script': 'https://cdnjs.cloudflare.com/ajax/libs/nvd3/1.8.6//nv.d3.min.js', 'version': '1.8.6'}, {'name': 'c3', 'script': 'https://cdnjs.cloudflare.com/ajax/libs/c3/0.7.15//c3.min.css', 'version': '0.7.15'}, {'name': 'c3', 'script': 'https://cdnjs.cloudflare.com/ajax/libs/c3/0.7.15//c3.min.js', 'version': '0.7.15'}, {'name': 'dc', 'script': 'https://cdnjs.cloudflare.com/ajax/libs/dc/3.2.1//dc.min.css', 'version': '3.2.1'}, {'name': 'dc', 'script': 'https://cdnjs.cloudflare.com/ajax/libs/dc/3.2.1//dc.min.js', 'version': '3.2.1'}, {'name': 'billboard', 'script': 'https://cdnjs.cloudflare.com/ajax/libs/billboard.js/1.12.7//billboard.min.css', 'version': '1.12.7'}, {'name': 'billboard', 'script': 'https://cdnjs.cloudflare.com/ajax/libs/billboard.js/1.12.7//billboard.min.js', 'version': '1.12.7'}, {'name': 'select', 'script': 'https://cdnjs.cloudflare.com/ajax/libs/bootstrap-select/1.13.6/css//bootstrap-select.min.css', 'version': '1.13.6'}, {'name': 'select', 'script': 'https://cdnjs.cloudflare.com/ajax/libs/bootstrap-select/1.13.9/js//bootstrap-select.min.js', 'version': '1.13.9'}, {'name': 'select-ajax', 'script': 'https://cdnjs.cloudflare.com/ajax/libs/ajax-bootstrap-select/1.4.5/css//ajax-bootstrap-select.min.css', 'version': '1.4.5'}, {'name': 'select-ajax', 'script': 'https://cdnjs.cloudflare.com/ajax/libs/ajax-bootstrap-select/1.4.5/js//ajax-bootstrap-select.min.js', 'version': '1.4.5'}, {'name': 'pivot', 'script': 'https://cdnjs.cloudflare.com/ajax/libs/pivottable/2.23.0//pivot.min.css', 'version': '2.23.0'}, {'name': 'pivot', 'script': 'https://cdnjs.cloudflare.com/ajax/libs/pivottable/2.23.0//pivot.min.js', 'version': '2.23.0'}, {'name': 'vis', 'script': 'https://cdnjs.cloudflare.com/ajax/libs/vis/4.21.0//vis.min.css', 'version': '4.21.0'}, {'name': 'vis', 'script': 'https://cdnjs.cloudflare.com/ajax/libs/vis/4.21.0//vis.min.js', 'version': '4.21.0'}, {'name': 'codemirror', 'script': 'https://cdnjs.cloudflare.com/ajax/libs/codemirror/5.52.2//codemirror.min.css', 'version': '5.52.2'}, {'name': 'codemirror', 'script': 'https://cdnjs.cloudflare.com/ajax/libs/codemirror/5.52.2//codemirror.min.js', 'version': '5.52.2'}, {'name': 'leaflet', 'script': 'https://cdnjs.cloudflare.com/ajax/libs/leaflet/1.6.0//leaflet.css', 'version': '1.6.0'}, {'name': 'leaflet', 'script': 'https://cdnjs.cloudflare.com/ajax/libs/leaflet/1.6.0//leaflet.js', 'version': '1.6.0'}, {'name': 'json-formatter', 'script': 'https://cdn.jsdelivr.net/npm/json-formatter-js@2.3.4/dist//json-formatter.css', 'version': '2.3.4'}, {'name': 'json-formatter', 'script': 'https://cdn.jsdelivr.net/npm/json-formatter-js@2.3.4/dist//json-formatter.umd.min.js', 'version': '2.3.4'}, {'name': 'accounting', 'script': 'https://cdnjs.cloudflare.com/ajax/libs/accounting.js/0.4.1//accounting.min.js', 'version': '0.4.1'}, {'name': 'promise-polyfill', 'script': 'https://cdn.jsdelivr.net/npm/promise-polyfill@8/dist//polyfill.min.js', 'version': '4.2.1'}, {'name': 'babel-polyfill', 'script': 'https://cdnjs.cloudflare.com/ajax/libs/babel-polyfill/7.4.4//polyfill.js', 'version': '7.4.4'}, {'name': 'moment', 'script': 'https://cdnjs.cloudflare.com/ajax/libs/moment.js/2.24.0//moment.min.js', 'version': '2.24.0'}, {'name': 'ag-grid', 'script': 'https://cdnjs.cloudflare.com/ajax/libs/ag-grid/23.0.2//ag-grid-community.min.js', 'version': '23.0.2'}, {'name': 'tabulator-inputs', 'script': 'https://raw.githubusercontent.com/epykure/tabulator-extensions/master/formatters//formatters-inputs.js', 'version': 'NA'}, {'name': 'tabulator-mutators-inputs', 'script': 'https://raw.githubusercontent.com/epykure/tabulator-extensions/master/mutators//mutators-inputs.js', 'version': 'NA'}, {'name': 'editors-inputs', 'script': 'https://raw.githubusercontent.com/epykure/tabulator-extensions/master/editors//editors-inputs.js', 'version': 'NA'}, {'name': 'editors-dates', 'script': 'https://raw.githubusercontent.com/epykure/tabulator-extensions/master/editors//editors-dates.js', 'version': 'NA'}, {'name': 'editors-selects', 'script': 'https://raw.githubusercontent.com/epykure/tabulator-extensions/master/editors//editors-selects.js', 'version': 'NA'}, {'name': 'tabulator-icons', 'script': 'https://raw.githubusercontent.com/epykure/tabulator-extensions/master/formatters//formatters-icons.js', 'version': 'NA'}, {'name': 'tabulator-editors', 'script': 'https://raw.githubusercontent.com/epykure/tabulator-extensions/master/editors//editors-bespoke.js', 'version': 'NA'}, {'name': 'tabulator-numbers', 'script': 'https://raw.githubusercontent.com/epykure/tabulator-extensions/master/formatters//formatters-numbers.js', 'version': 'NA'}, {'name': 'datatables-rows-group', 'script': 'https://cdn.rawgit.com/ashl1/datatables-rowsgroup/v1.0.0//dataTables.rowsGroup.js', 'version': '1.0.0'}, {'name': 'jszip', 'script': 'https://cdnjs.cloudflare.com/ajax/libs/jszip/3.1.5//jszip.min.js', 'version': '3.1.5'}, {'name': 'require.js', 'script': 'https://cdnjs.cloudflare.com/ajax/libs/require.js/2.3.6//require.min.js', 'version': '2.3.6'}, {'name': 'pivot-sub-total', 'script': 'https://cdn.jsdelivr.net/npm/subtotal@1.10.0/dist//subtotal.js', 'version': '1.10.0'}, {'name': 'pivot-c3', 'script': 'https://cdnjs.cloudflare.com/ajax/libs/pivottable/2.21.0//c3_renderers.min.js', 'version': '2.21.0'}, {'name': 'jquery', 'script': 'https://cdnjs.cloudflare.com/ajax/libs/jquery/3.4.1//jquery.min.js', 'version': '3.4.1'}, {'name': 'jquery-sparklines', 'script': 'https://cdnjs.cloudflare.com/ajax/libs/jquery-sparklines/2.1.2//jquery.sparkline.min.js', 'version': '2.1.2'}, {'name': 'pdfmake', 'script': 'https://cdnjs.cloudflare.com/ajax/libs/pdfmake/0.1.57//pdfmake.min.js', 'version': '0.1.57'}, {'name': 'pdfmake', 'script': 'https://cdnjs.cloudflare.com/ajax/libs/pdfmake/0.1.57//vfs_fonts.js', 'version': '0.1.57'}, {'name': 'jspdf', 'script': 'https://cdnjs.cloudflare.com/ajax/libs/jspdf/1.5.3//jspdf.min.js', 'version': '1.5.3'}, {'name': 'jspdf', 'script': 'https://cdnjs.cloudflare.com/ajax/libs/jspdf-autotable/3.1.1//jspdf.plugin.autotable.min.js', 'version': '3.1.1'}, {'name': 'clipboard', 'script': 'https://cdnjs.cloudflare.com/ajax/libs/clipboard.js/2.0.1//clipboard.min.js', 'version': '2.0.1'}, {'name': 'd3', 'script': 'https://cdnjs.cloudflare.com/ajax/libs/d3/5.9.7//d3.min.js', 'version': '5.9.7'}, {'name': 'd3-tip', 'script': 'https://cdnjs.cloudflare.com/ajax/libs/d3-tip/0.9.1//d3-tip.min.js', 'version': '0.9.1'}, {'name': 'd3-packages', 'script': 'https://cdnjs.cloudflare.com/ajax/libs/d3-time-format/2.1.1//d3-time-format.min.js', 'version': '2.1.1'}, {'name': 'd3-packages', 'script': 'https://cdnjs.cloudflare.com/ajax/libs/d3-shape/1.2.0//d3-shape.min.js', 'version': '1.2.0'}, {'name': 'd3-packages', 'script': 'https://cdnjs.cloudflare.com/ajax/libs/d3-zoom/1.7.1//d3-zoom.min.js', 'version': '1.7.1'}, {'name': 'd3-packages', 'script': 'https://cdnjs.cloudflare.com/ajax/libs/d3-dsv/1.0.8//d3-dsv.min.js', 'version': '1.0.8'}, {'name': 'd3-packages', 'script': 'https://cdnjs.cloudflare.com/ajax/libs/d3-ease/1.0.3//d3-ease.min.js', 'version': '1.0.3'}, {'name': 'd3-packages', 'script': 'https://cdnjs.cloudflare.com/ajax/libs/d3-scale/1.0.7//d3-scale.min.js', 'version': '1.0.7'}, {'name': 'd3-packages', 'script': 'https://cdnjs.cloudflare.com/ajax/libs/d3-brush/1.0.4//d3-brush.min.js', 'version': '1.0.4'}, {'name': 'd3-packages', 'script': 'https://cdnjs.cloudflare.com/ajax/libs/d3-selection/1.2.0//d3-selection.min.js', 'version': '1.2.0'}, {'name': 'd3-packages', 'script': 'https://cdnjs.cloudflare.com/ajax/libs/d3-transition/1.1.1//d3-transition.min.js', 'version': '1.1.1'}, {'name': 'd3-packages', 'script': 'https://cdnjs.cloudflare.com/ajax/libs/d3-array/1.2.2//d3-array.min.js', 'version': '1.2.2'}, {'name': 'd3-packages', 'script': 'https://cdnjs.cloudflare.com/ajax/libs/d3-collection/1.0.5//d3-collection.min.js', 'version': '1.0.5'}, {'name': 'd3-packages', 'script': 'https://cdnjs.cloudflare.com/ajax/libs/d3-drag/1.2.1//d3-drag.min.js', 'version': '1.2.1'}, {'name': 'd3-packages', 'script': 'https://cdnjs.cloudflare.com/ajax/libs/d3-interpolate/1.3.0//d3-interpolate.min.js', 'version': '1.3.0'}, {'name': 'd3-packages', 'script': 'https://cdnjs.cloudflare.com/ajax/libs/d3-axis/1.0.10//d3-axis.min.js', 'version': '1.0.10'}, {'name': 'd3-color', 'script': 'https://cdnjs.cloudflare.com/ajax/libs/d3-color/1.2.1//d3-color.min.js', 'version': '1.2.1'}, {'name': 'plotly.js', 'script': 'https://cdnjs.cloudflare.com/ajax/libs/plotly.js/1.51.1//plotly.min.js', 'version': '1.51.1'}, {'name': 'crossfilter', 'script': 'https://cdnjs.cloudflare.com/ajax/libs/crossfilter/1.3.12//crossfilter.min.js', 'version': '1.3.12'}, {'name': 'Chart.js', 'script': 'https://cdnjs.cloudflare.com/ajax/libs/Chart.js/2.9.3//Chart.bundle.min.js', 'version': '2.9.3'}, {'name': 'Chart.js', 'script': 'https://cdnjs.cloudflare.com/ajax/libs/Chart.js/2.9.3//Chart.min.js', 'version': '2.9.3'}, {'name': 'chartjs-pie-labels', 'script': 'https://cdn.jsdelivr.net/npm/chartjs-plugin-datalabels@0.5.0/dist//chartjs-plugin-datalabels.min.js', 'version': '0.5.0'}, {'name': 'chartjs-chart-geo', 'script': 'https://cdn.jsdelivr.net/npm/chartjs-chart-geo@1.1.4/build//Chart.Geo.min.js', 'version': '1.1.4'}, {'name': 'popper', 'script': 'https://cdnjs.cloudflare.com/ajax/libs/popper.js/1.14.6/umd//popper.min.js', 'version': '1.14.6'}, {'name': 'mathjs', 'script': 'https://cdnjs.cloudflare.com/ajax/libs/mathjax/2.7.7//MathJax.js', 'version': '2.7.7'}, {'name': 'socket.io', 'script': 'https://cdnjs.cloudflare.com/ajax/libs/socket.io/2.2.0//socket.io.js', 'version': '2.2.0'}, {'name': 'showdown', 'script': 'https://cdnjs.cloudflare.com/ajax/libs/showdown/1.9.1//showdown.min.js', 'version': '1.9.1'}]).enter().append(\"tr\").selectAll(\"td\").data(function(row, i) { var cell = []; [\"name\", \"script\", \"version\"].forEach(function(k) { cell.push(row[k]);\n",
       "        }); return cell; }) .enter().append(\"td\").html(function(d) { return d; }) })\n",
       "</script>\n",
       "<body>"
      ],
      "text/plain": [
       "<epyk.core.py.PyOuts.PyOuts at 0x281a0650700>"
      ]
     },
     "execution_count": 11,
     "metadata": {},
     "output_type": "execute_result"
    }
   ],
   "source": [
    "from epyk.core.Page import Report\n",
    "\n",
    "rptObj = Report()\n",
    "records = []\n",
    "for k, v in rptObj.imports().show(all=True).items():\n",
    "    for script in v:\n",
    "        records.append({\"name\": k, \"script\": script['script'], 'version': script['version']})\n",
    "rptObj.ui.tables.d3.table(records)\n",
    "\n",
    "rptObj.outs.jupyter()"
   ]
  }
 ],
 "metadata": {
  "kernelspec": {
   "display_name": "Python 3",
   "language": "python",
   "name": "python3"
  },
  "language_info": {
   "codemirror_mode": {
    "name": "ipython",
    "version": 3
   },
   "file_extension": ".py",
   "mimetype": "text/x-python",
   "name": "python",
   "nbconvert_exporter": "python",
   "pygments_lexer": "ipython3",
   "version": "3.8.2"
  }
 },
 "nbformat": 4,
 "nbformat_minor": 2
}
