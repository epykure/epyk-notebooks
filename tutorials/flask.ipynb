{
 "cells": [
  {
   "cell_type": "markdown",
   "metadata": {},
   "source": [
    "<div style=\"float:left;margin:0 10px 10px 0\" markdown=\"1\">\n",
    "    <a href=\"../index.ipynb\">\n",
    "        <img src=\"../static/images/epyklogo_whole_small.png\">\n",
    "    </a>\n",
    "</div>"
   ]
  },
  {
   "cell_type": "markdown",
   "metadata": {},
   "source": [
    "# Flask and Epyk\n",
    "\n",
    "The setup wiht Flask is very simple and easy.\n",
    "Epyk is not using Jinja to generate html page and it is easy to use Epyk to generate static HTML template and then to interface then with Flask to get dynamic data.\n",
    "\n",
    "## Examples\n",
    "\n",
    "Muitple example of Interactive Dashboards running with Flask are available [here](https://github.com/epykure/epyk-templates/tree/master/interactives/reports)\n",
    "\n",
    "## Design\n",
    "\n",
    "Epyk will simplify the generation of complex HTML pages. It will not require any effort from you to get familiar with all the various JavaScript, CSS and HTML concepts. Base on your data flow it will generate custom reports with the correct information to be rendered by any web browsers. \n",
    "\n",
    "The concept is the design of UI based on the backend data. In the same spirit than D3 is data driven here the report will be produced based on the data processes so it will help on the flow and should also help on structuring your code.\n",
    "\n",
    "Epyk will propose some design principles but feel free to adapt then to your environment and use cases. \n",
    "\n",
    "### Script Repository\n",
    "\n",
    "In this architecture, you will get one directoy with the various scripts sued to generate theHTML templates. Those scripts will be run once and they will generate rich HTML pages with the main data required to rendere the page. \n"
   ]
  },
  {
   "cell_type": "markdown",
   "metadata": {},
   "source": [
    "<img src='./images/server_scripts.PNG'>\n",
    "\n",
    "By runnig those scripts equivalent HTML template will be generated\n",
    "\n",
    "<img src='./images/server_htmlPNG.PNG'>\n"
   ]
  },
  {
   "cell_type": "markdown",
   "metadata": {},
   "source": [
    "## Result\n",
    "\n",
    "Then by adding the below simple code to run a Flask app you can get an interactive dashboard. Any extra logic can be added on the server side to get more relevant data.\n",
    "\n"
   ]
  },
  {
   "cell_type": "code",
   "execution_count": null,
   "metadata": {},
   "outputs": [],
   "source": [
    "import json\n",
    "import os\n",
    "import random\n",
    "\n",
    "from flask import render_template_string\n",
    "from flask import Flask\n",
    "app = Flask(__name__)\n",
    "\n",
    "from epyk.core import data as chart_data\n",
    "\n",
    "@app.route('/', methods=['GET'])\n",
    "def home():\n",
    "  \"\"\"\n",
    "  Report creation on the fly in Flask\n",
    "  \"\"\"\n",
    "  from epyk.core.Page import Report\n",
    "\n",
    "  rptObj = Report()\n",
    "  list = rptObj.ui.list()\n",
    "  for pyfile in os.listdir(\"reports\"):\n",
    "    list.add_item(rptObj.ui.link(pyfile, url=\"/report/%s\" % pyfile[:-3]).css({\"padding\": '2px 0', 'display': 'block'}))\n",
    "  return rptObj.outs.html()\n",
    "\n",
    "@app.route('/data_plotly_geo', methods=['POST'])\n",
    "def data_plotly_geo():\n",
    "  records = [\n",
    "    {'countries': 'FRA', 'size': random.randint(1, 50)},\n",
    "    {'countries': 'GBR', 'size': random.randint(1, 50)},\n",
    "    {'countries': 'DEU', 'size': random.randint(1, 50)},\n",
    "    {'countries': 'RUS', 'size': random.randint(1, 50)},\n",
    "    {'countries': 'ESP', 'size': random.randint(1, 50)},\n",
    "    {'countries': 'ITA', 'size': random.randint(1, 50)},\n",
    "  ]\n",
    "  return json.dumps(chart_data.plotly.choropleth(records, country_col='countries', size_col='size'))\n",
    "\n",
    "@app.route('/report/<file_name>')\n",
    "def report(file_name):\n",
    "    html_content = open(os.path.join('front_end', '%s.html' % file_name)).read()\n",
    "    return render_template_string(html_content, title='Projects')\n"
   ]
  },
  {
   "cell_type": "markdown",
   "metadata": {},
   "source": [
    "The below is an example of report using Geo Charts from Plotly and having the data updated when the test button is clicked."
   ]
  },
  {
   "cell_type": "markdown",
   "metadata": {},
   "source": [
    "<img src='./images/server_geo.PNG'>"
   ]
  },
  {
   "cell_type": "markdown",
   "metadata": {},
   "source": [
    "<HR />\n",
    "Do not forget that this is a collaborative framework so do not hesitate to give feedbacks and like the different repositories to get more visbility.\n",
    "\n",
    "Also any help is more than welcome !"
   ]
  }
 ],
 "metadata": {
  "kernelspec": {
   "display_name": "Python 3",
   "language": "python",
   "name": "python3"
  },
  "language_info": {
   "codemirror_mode": {
    "name": "ipython",
    "version": 3
   },
   "file_extension": ".py",
   "mimetype": "text/x-python",
   "name": "python",
   "nbconvert_exporter": "python",
   "pygments_lexer": "ipython3",
   "version": "3.8.2"
  }
 },
 "nbformat": 4,
 "nbformat_minor": 2
}
