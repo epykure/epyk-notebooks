{
 "cells": [
  {
   "cell_type": "markdown",
   "metadata": {},
   "source": [
    "<div style=\"float:left;margin:0 10px 10px 0\" markdown=\"1\">\n",
    "    <a href=\"../index.ipynb\">\n",
    "        <img src=\"../static/images/epyklogo_whole_small.png\">\n",
    "    </a>\n",
    "</div>"
   ]
  },
  {
   "cell_type": "markdown",
   "metadata": {},
   "source": [
    "# Custom Components\n",
    "\n",
    "some components in the framework can be directly extended using JavaScript fragment.\n",
    "\n",
    "The structure of those fragments is very specific as they will be directly integrated to the final JavaScript modules used to render the page.\n",
    "\n",
    "The items below items are following this pattern:\n",
    "\n",
    "- [List](./custom/list.ipynb)\n",
    "- [Tree](./custom/tree.ipynb)\n",
    "- [Steppers](./custom/stepper.ipynb)\n",
    "- [Pivot Table Aggregators](./custom/pivot_agg.ipynb)\n",
    "- [Pivot Table Renderers](./custom/pivot_rd.ipynb)\n",
    "- [Tabulator Formatter](./custom/tabulator_fmt.ipynb)\n",
    "- [Tabulator Converter](./custom/tabulator_cnv.ipynb)\n",
    "- [D3 script](./custom/d3_script.ipynb)\n",
    "\n",
    "\n",
    "\n",
    "## Bespoke Events and Style\n",
    "\n",
    "Of course on top of those items it is possible for any component in the framework to add bespoke events or specific styles. This is fully detailled in the following links:\n",
    "\n",
    "- [Custom Styles](./css_advanced.ipynb)\n",
    "- [Custom Events](./js_advanced.ipynb)\n",
    "\n",
    "\n",
    "<HR />\n",
    "Do not forget that this is a collaborative framework so do not hesitate to give feedbacks and like the different repositories to get more visbility.\n",
    "\n",
    "Also any help is more than welcome !\n"
   ]
  }
 ],
 "metadata": {
  "kernelspec": {
   "display_name": "Python 3",
   "language": "python",
   "name": "python3"
  },
  "language_info": {
   "codemirror_mode": {
    "name": "ipython",
    "version": 3
   },
   "file_extension": ".py",
   "mimetype": "text/x-python",
   "name": "python",
   "nbconvert_exporter": "python",
   "pygments_lexer": "ipython3",
   "version": "3.8.2"
  }
 },
 "nbformat": 4,
 "nbformat_minor": 2
}
