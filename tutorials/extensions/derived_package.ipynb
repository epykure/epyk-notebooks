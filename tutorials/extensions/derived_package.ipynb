{
 "cells": [
  {
   "cell_type": "markdown",
   "metadata": {},
   "source": [
    "<div style=\"float:left;margin:0 10px 10px 0\" markdown=\"1\">\n",
    "    <a href=\"../../index.ipynb\">\n",
    "        <img src=\"../../static/images/epyklogo_whole_small.png\">\n",
    "    </a>\n",
    "</div>"
   ]
  },
  {
   "cell_type": "markdown",
   "metadata": {},
   "source": [
    "# Derived Package\n",
    "\n",
    "You can create your own derived packaged by creating a new Github project.\n",
    "\n",
    "It is recommanded to use the below structure in order to be in line wiht Epyk architecture (but it is up to you). \n",
    "\n",
    "As a general convention it was decided to put all the entry points for components in interfaces ad the core HTML definition in core."
   ]
  },
  {
   "cell_type": "markdown",
   "metadata": {},
   "source": [
    "<div style=\"margin:0 10px 10px 0\" markdown=\"1\">\n",
    "    <img src=\"../images/ext_structure.PNG\">\n",
    "</div>"
   ]
  },
  {
   "cell_type": "markdown",
   "metadata": {},
   "source": [
    "## Project Structure\n",
    "\n",
    "### Interfaces\n",
    "\n",
    "In the interfaces module there will be only the entry points wiht the custom components which should be used by anybody using your module. \n",
    "\n",
    "Those interfaces will automatically register the object to the report context to be able to render the page\n",
    "\n",
    "<div style=\"margin:0 10px 10px 0\" markdown=\"1\">\n",
    "    <img src=\"../images/ext_interfaces.PNG\">\n",
    "</div>\n",
    "\n",
    "\n",
    "### HTML Components\n",
    "<div style=\"margin:0 10px 10px 0\" markdown=\"1\">\n",
    "    <img src=\"../images/ext_comp.PNG\">\n",
    "</div>"
   ]
  },
  {
   "cell_type": "markdown",
   "metadata": {},
   "source": [
    "# Report sub class\n",
    "\n",
    "Then in this case it is mandatory to create your own version of Report in order to supply your own property.\n",
    "\n",
    "It is recommanded to use a specific entry point and not to reuse the ui one coming from the parent class.\n",
    "\n",
    "In the below case, a bootstrap proerty is added to the report object\n",
    "\n",
    "<div style=\"margin:0 10px 10px 0\" markdown=\"1\">\n",
    "    <img src=\"../images/ext_property.PNG\">\n",
    "</div>\n",
    "\n",
    "If some specific packages are required you can extend the existing list by add then to the below **ext_packages** class variable \n",
    "\n",
    "<div style=\"margin:0 10px 10px 0\" markdown=\"1\">\n",
    "    <img src=\"../images/ext_deps.PNG\">\n",
    "</div>\n"
   ]
  },
  {
   "cell_type": "markdown",
   "metadata": {},
   "source": [
    "# Use\n",
    "\n",
    "Then by adding the right dependencies to your package, you can push it to PYPI and use it in the same way in any Jupyter notebook."
   ]
  },
  {
   "cell_type": "code",
   "execution_count": null,
   "metadata": {},
   "outputs": [],
   "source": [
    "!pip install epyk_bootstrap"
   ]
  },
  {
   "cell_type": "code",
   "execution_count": null,
   "metadata": {},
   "outputs": [],
   "source": [
    "from epyk_bootstrap.core.Page import Report\n",
    "\n",
    "ptObj = Report()\n",
    "rptObj.headers._favicon_url = config.FAVICON_URL # Change the Epyk logo\n",
    "\n",
    "\n",
    "toast = rptObj.bootstrap.toast(\"Test Toast !!!!!!!!!!!!!!!!!!!!!!!!!!!\", title=\"Title\")\n",
    "card = rptObj.bootstrap.card(\"Test Toast !!!!!!!!!!!!!!!!!!!!!!!!!!!\", title=\"Title\")\n",
    "\n",
    "rptObj.bootstrap.button(\"favorite\")\n",
    "rptObj.bootstrap.buttons.checked(\"favorite\")\n",
    "d = rptObj.bootstrap.buttons.dropdown(\"buttons\", [\"A\", \"b\"])\n",
    "rptObj.bootstrap.dropdowns.buttons(\"dropdowns\", [\"A\", \"b\"])\n",
    "\n",
    "rptObj.bootstrap.badge(\"Test\")\n",
    "rptObj.bootstrap.alert(\"A simple danger alert with \")\n",
    "\n",
    "rptObj.outs.jupyter()"
   ]
  }
 ],
 "metadata": {
  "kernelspec": {
   "display_name": "Python 3",
   "language": "python",
   "name": "python3"
  },
  "language_info": {
   "codemirror_mode": {
    "name": "ipython",
    "version": 3
   },
   "file_extension": ".py",
   "mimetype": "text/x-python",
   "name": "python",
   "nbconvert_exporter": "python",
   "pygments_lexer": "ipython3",
   "version": "3.8.2"
  }
 },
 "nbformat": 4,
 "nbformat_minor": 4
}
