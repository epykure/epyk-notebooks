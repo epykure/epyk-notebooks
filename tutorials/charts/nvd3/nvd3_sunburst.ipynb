{
 "cells": [
  {
   "cell_type": "markdown",
   "metadata": {},
   "source": [
    "<div style=\"float:left;margin:0 10px 10px 0\" markdown=\"1\">\n",
    "    <a href=\"../../../index.ipynb\">\n",
    "        <img src=\"./../../../static/images/epyklogo_whole_small.png\">\n",
    "    </a>\n",
    "</div>"
   ]
  },
  {
   "cell_type": "markdown",
   "metadata": {},
   "source": [
    "# NVD3 \n",
    "\n",
    "\n",
    "## Sunburst Chart\n",
    "\n",
    "More information about this chart [here](http://nvd3.org/)"
   ]
  },
  {
   "cell_type": "code",
   "execution_count": 3,
   "metadata": {},
   "outputs": [
    {
     "data": {
      "text/html": [
       "<head>\n",
       "<style>\n",
       "    .cssdivnoborder {margin: 0 ;clear: both ;padding: 0 ;border: 0 ;}\n",
       "\n",
       "</style>\n",
       "<link rel=\"stylesheet\" href=\"https://cdnjs.cloudflare.com/ajax/libs/nvd3/1.8.6/nv.d3.min.css\" type=\"text/css\">\n",
       "</head>\n",
       "<body>\n",
       "<svg id=\"chartsunbrust_2218815295792\" style=\"font-size:inherit;font-family:inherit;box-sizing:border-box;width:100%;height:330px\" class=\"cssdivnoborder\"></svg>\n",
       "<script>\n",
       "require.config({ paths:{d3: 'https://cdnjs.cloudflare.com/ajax/libs/d3/3.5.17/d3.min', nvd3: 'https://cdnjs.cloudflare.com/ajax/libs/nvd3/1.8.6/nv.d3.min'}});\n",
       "require(['d3'], function (d3) { require(['nvd3'], function (nvd3) { chartsunbrust_2218815295792_obj = nv.models.sunburstChart();chartsunbrust_2218815295792_obj.xAxis;d3.select('#chartsunbrust_2218815295792').datum([{\"name\": \"languages\", \"children\": [{\"name\": \"scripts\", \"children\": [{\"name\": \"javascript\", \"size\": 10, \"color\": \"#c8e6c9\"}, {\"name\": \"python\", \"size\": 5, \"color\": \"#c8e6c9\"}, {\"name\": \"ruby\", \"size\": 5, \"color\": \"#c8e6c9\"}, {\"name\": \"r\", \"size\": 5, \"color\": \"#c8e6c9\"}], \"color\": \"#c8e6c9\"}, {\"name\": \"code\", \"children\": [{\"name\": \"C#\", \"size\": 10, \"color\": \"#a5d6a7\"}, {\"name\": \"Java\", \"size\": 5, \"color\": \"#a5d6a7\"}], \"color\": \"#a5d6a7\"}], \"color\": \"#e8f5e9\"}]).call(chartsunbrust_2218815295792_obj);nv.utils.windowResize(function() { chartsunbrust_2218815295792_obj.update() }) }) })\n",
       "</script>\n",
       "<body>"
      ],
      "text/plain": [
       "<epyk.core.py.PyOuts.PyOuts at 0x2049bb24ac0>"
      ]
     },
     "execution_count": 3,
     "metadata": {},
     "output_type": "execute_result"
    }
   ],
   "source": [
    "from epyk.core.Page import Report\n",
    "\n",
    "rptObj = Report()\n",
    "\n",
    "records = [\n",
    "    {'name': 'scripts',\n",
    "     'children': [\n",
    "        {\"name\": \"javascript\", \"size\": 10},\n",
    "        {\"name\": \"python\", \"size\": 5},\n",
    "        {\"name\": \"ruby\", \"size\": 5},\n",
    "        {\"name\": \"r\", \"size\": 5}]},\n",
    "     {\"name\": \"code\",\n",
    "      \"children\": [\n",
    "        {\"name\": \"C#\", \"size\": 10},\n",
    "        {\"name\": \"Java\", \"size\": 5},\n",
    "      ]\n",
    "      }\n",
    "  ]\n",
    "\n",
    "\n",
    "c = rptObj.ui.charts.nvd3.sunburst(records, name='languages')\n",
    "\n",
    "rptObj.outs.jupyter()"
   ]
  },
  {
   "cell_type": "markdown",
   "metadata": {},
   "source": [
    "For more details about this charts and the various options and properties available please refer to the [official website](http://nvd3.org/)\n",
    "\n",
    "Anything on the website should be available in the Python interface.\n"
   ]
  },
  {
   "cell_type": "markdown",
   "metadata": {},
   "source": [
    "<a href=\"../charts.ipynb\" target=\"_self\">Go back to the Chart Home page</a>\n",
    "<hr>\n",
    "Do not forget that this is a collaborative framework so do not hesitate to give feedbacks and like the different repository to get more visbility.\n",
    "\n",
    "Also any help is more than welcome !"
   ]
  }
 ],
 "metadata": {
  "kernelspec": {
   "display_name": "Python 3",
   "language": "python",
   "name": "python3"
  },
  "language_info": {
   "codemirror_mode": {
    "name": "ipython",
    "version": 3
   },
   "file_extension": ".py",
   "mimetype": "text/x-python",
   "name": "python",
   "nbconvert_exporter": "python",
   "pygments_lexer": "ipython3",
   "version": "3.8.2"
  }
 },
 "nbformat": 4,
 "nbformat_minor": 4
}
