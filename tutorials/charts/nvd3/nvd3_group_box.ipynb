{
 "cells": [
  {
   "cell_type": "markdown",
   "metadata": {},
   "source": [
    "<div style=\"float:left;margin:0 10px 10px 0\" markdown=\"1\">\n",
    "    <a href=\"../../../index.ipynb\">\n",
    "        <img src=\"./../../../static/images/epyklogo_whole_small.png\">\n",
    "    </a>\n",
    "</div>"
   ]
  },
  {
   "cell_type": "markdown",
   "metadata": {},
   "source": [
    "# NVD3 \n",
    "\n",
    "\n",
    "## Group Box Chart\n",
    "\n",
    "More information about this chart [here](http://nvd3.org/)"
   ]
  },
  {
   "cell_type": "code",
   "execution_count": 1,
   "metadata": {},
   "outputs": [
    {
     "data": {
      "text/html": [
       "<head>\n",
       "<style>\n",
       "    .cssdivnoborder {margin: 0 ;clear: both ;padding: 0 ;border: 0 ;}\n",
       "\n",
       "</style>\n",
       "<link rel=\"stylesheet\" href=\"https://cdnjs.cloudflare.com/ajax/libs/nvd3/1.8.6/nv.d3.min.css\" type=\"text/css\">\n",
       "</head>\n",
       "<body>\n",
       "<svg id=\"chartboxplot_2588377511728\" style=\"font-size:inherit;font-family:inherit;box-sizing:border-box;width:100%;height:330px\" class=\"cssdivnoborder\"></svg>\n",
       "<script>\n",
       "require.config({ paths:{d3: 'https://cdnjs.cloudflare.com/ajax/libs/d3/3.5.17/d3.min', nvd3: 'https://cdnjs.cloudflare.com/ajax/libs/nvd3/1.8.6/nv.d3.min'}});\n",
       "require(['d3'], function (d3) { require(['nvd3'], function (nvd3) { chartboxplot_2588377511728_obj = nv.models.boxPlotChart().q1(function (d) { return d[\"q1\"] }).q2(function (d) { return d[\"median\"] }).q3(function (d) { return d[\"q3\"] }).wh(function (d) { return d[\"maxRegularValue\"] }).wl(function (d) { return d[\"minRegularValue\"] }).outliers(function (d) { return d[\"outliers\"] }).staggerLabels(true).itemColor(function (d) { return d[\"seriesColor\"] }).x(function(d){return d.title});chartboxplot_2588377511728_obj.xAxis;d3.select('#chartboxplot_2588377511728').datum([{\"q1\": 1.05, \"median\": 1.3, \"q3\": 2.7, \"outlData\": [], \"maxRegularValue\": 4.4, \"mean\": 3.365, \"minRegularValue\": 0.4, \"minOutlier\": 0.4, \"maxOutlier\": 6, \"seriesColor\": \"#1b5e20\", \"title\": \"Series -1\"}, {\"q1\": 1.05, \"median\": 1.5, \"q3\": 2.849999996, \"outlData\": [], \"maxRegularValue\": 4.9, \"mean\": 3.4949999, \"minRegularValue\": 0.3, \"minOutlier\": 0.3, \"maxOutlier\": 4.9, \"seriesColor\": \"#e8f5e9\", \"title\": \"Series 0\"}]).call(chartboxplot_2588377511728_obj);nv.utils.windowResize(function() { chartboxplot_2588377511728_obj.update() }) }) })\n",
       "</script>\n",
       "<body>"
      ],
      "text/plain": [
       "<epyk.core.py.PyOuts.PyOuts at 0x25aa7527670>"
      ]
     },
     "execution_count": 1,
     "metadata": {},
     "output_type": "execute_result"
    }
   ],
   "source": [
    "from epyk.core.Page import Report\n",
    "\n",
    "rptObj = Report()\n",
    "\n",
    "plot_box = rptObj.ui.charts.nvd3.group_box()\n",
    "plot_box.add_box(q1=1.05, q3=2.7, mean=3.365, median=1.3, minRegularValue=0.4, maxRegularValue=4.4, minOutlier=0.4, maxOutlier=6)\n",
    "plot_box.add_box(q1=1.05, q3=2.849999996, mean=3.4949999, median=1.5, minRegularValue=0.3, maxRegularValue=4.9, minOutlier=0.3, maxOutlier=4.9)\n",
    "\n",
    "rptObj.outs.jupyter()"
   ]
  },
  {
   "cell_type": "markdown",
   "metadata": {},
   "source": [
    "For more details about this charts and the various options and properties available please refer to the [official website](http://nvd3.org/)\n",
    "\n",
    "Anything on the website should be available in the Python interface.\n"
   ]
  },
  {
   "cell_type": "markdown",
   "metadata": {},
   "source": [
    "<a href=\"../charts.ipynb\" target=\"_self\">Go back to the Chart Home page</a>\n",
    "<hr>\n",
    "Do not forget that this is a collaborative framework so do not hesitate to give feedbacks and like the different repository to get more visbility.\n",
    "\n",
    "Also any help is more than welcome !"
   ]
  }
 ],
 "metadata": {
  "kernelspec": {
   "display_name": "Python 3",
   "language": "python",
   "name": "python3"
  },
  "language_info": {
   "codemirror_mode": {
    "name": "ipython",
    "version": 3
   },
   "file_extension": ".py",
   "mimetype": "text/x-python",
   "name": "python",
   "nbconvert_exporter": "python",
   "pygments_lexer": "ipython3",
   "version": "3.8.2"
  }
 },
 "nbformat": 4,
 "nbformat_minor": 4
}
