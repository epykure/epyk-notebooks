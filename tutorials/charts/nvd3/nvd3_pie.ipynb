{
 "cells": [
  {
   "cell_type": "markdown",
   "metadata": {},
   "source": [
    "<div style=\"float:left;margin:0 10px 10px 0\" markdown=\"1\">\n",
    "    <a href=\"../../../index.ipynb\">\n",
    "        <img src=\"./../../../static/images/epyklogo_whole_small.png\">\n",
    "    </a>\n",
    "</div>"
   ]
  },
  {
   "cell_type": "markdown",
   "metadata": {},
   "source": [
    "# NVD3 \n",
    "\n",
    "\n",
    "## Pie Chart\n",
    "\n",
    "More information about this chart [here](http://nvd3.org/)"
   ]
  },
  {
   "cell_type": "code",
   "execution_count": 3,
   "metadata": {},
   "outputs": [
    {
     "data": {
      "text/html": [
       "<head>\n",
       "<style>\n",
       "    .cssdivnoborder {margin: 0 ;clear: both ;padding: 0 ;border: 0 ;}\n",
       "\n",
       "</style>\n",
       "<link rel=\"stylesheet\" href=\"https://cdnjs.cloudflare.com/ajax/libs/nvd3/1.8.6/nv.d3.min.css\" type=\"text/css\">\n",
       "</head>\n",
       "<body>\n",
       "<svg id=\"chartpie_1738952167776\" style=\"font-size:inherit;font-family:inherit;box-sizing:border-box;width:100%;height:330px\" class=\"cssdivnoborder\"></svg>\n",
       "<script>\n",
       "require.config({ paths:{d3: 'https://cdnjs.cloudflare.com/ajax/libs/d3/3.5.17/d3.min', nvd3: 'https://cdnjs.cloudflare.com/ajax/libs/nvd3/1.8.6/nv.d3.min'}});\n",
       "require(['d3'], function (d3) { require(['nvd3'], function (nvd3) { chartpie_1738952167776_obj = nv.models.pieChart().x(function(d){return d.x}).y(function(d){return d.y}).color([\"#e8f5e9\", \"#c8e6c9\", \"#a5d6a7\", \"#81c784\", \"#66bb6a\", \"#4caf50\", \"#43a047\", \"#388e3c\", \"#2e7d32\", \"#1b5e20\"]);chartpie_1738952167776_obj.xAxis;d3.select('#chartpie_1738952167776').datum([{\"x\": \"C\", \"y\": 17.07}, {\"x\": \"Java\", \"y\": 16.28}, {\"x\": \"Python\", \"y\": 9.12}, {\"x\": \"C++\", \"y\": 6.13}, {\"x\": \"C#\", \"y\": 4.29}, {\"x\": \"Visual Basic\", \"y\": 4.18}, {\"x\": \"JavaScript\", \"y\": 2.68}, {\"x\": \"PHP\", \"y\": 2.49}, {\"x\": \"SQL\", \"y\": 2.09}, {\"x\": \"R\", \"y\": 1.85}]).call(chartpie_1738952167776_obj);nv.utils.windowResize(function() { chartpie_1738952167776_obj.update() }) }) })\n",
       "</script>\n",
       "<body>"
      ],
      "text/plain": [
       "<epyk.core.py.PyOuts.PyOuts at 0x194e1a196a0>"
      ]
     },
     "execution_count": 3,
     "metadata": {},
     "output_type": "execute_result"
    }
   ],
   "source": [
    "from epyk.core.Page import Report\n",
    "\n",
    "rptObj = Report()\n",
    "\n",
    "languages = [\n",
    "  {\"name\": 'C', 'type': 'code', 'rating': 17.07, 'change': 12.82},\n",
    "  {\"name\": 'Java', 'type': 'code', 'rating': 16.28, 'change': 0.28},\n",
    "  {\"name\": 'Python', 'type': 'script', 'rating': 9.12, 'change': 1.29},\n",
    "  {\"name\": 'C++', 'type': 'code', 'rating': 6.13, 'change': -1.97},\n",
    "  {\"name\": 'C#', 'type': 'code', 'rating': 4.29, 'change': 0.3},\n",
    "  {\"name\": 'Visual Basic', 'type': 'script', 'rating': 4.18, 'change': -1.01},\n",
    "  {\"name\": 'JavaScript', 'type': 'script', 'rating': 2.68, 'change': -0.01},\n",
    "  {\"name\": 'PHP', 'type': 'script', 'rating': 2.49, 'change': 0},\n",
    "  {\"name\": 'SQL', 'type': 'script', 'rating': 2.09, 'change': -0.47},\n",
    "  {\"name\": 'R', 'type': 'script', 'rating': 1.85, 'change': 0.90},\n",
    "]\n",
    "\n",
    "c = rptObj.ui.charts.nvd3.pie(languages, y_columns=[\"rating\"], x_axis='name')\n",
    "\n",
    "rptObj.outs.jupyter()"
   ]
  },
  {
   "cell_type": "markdown",
   "metadata": {},
   "source": [
    "For more details about this charts and the various options and properties available please refer to the [official website](http://nvd3.org/)\n",
    "\n",
    "Anything on the website should be available in the Python interface.\n"
   ]
  },
  {
   "cell_type": "markdown",
   "metadata": {},
   "source": [
    "<a href=\"../charts.ipynb\" target=\"_self\">Go back to the Chart Home page</a>\n",
    "<hr>\n",
    "Do not forget that this is a collaborative framework so do not hesitate to give feedbacks and like the different repository to get more visbility.\n",
    "\n",
    "Also any help is more than welcome !"
   ]
  }
 ],
 "metadata": {
  "kernelspec": {
   "display_name": "Python 3",
   "language": "python",
   "name": "python3"
  },
  "language_info": {
   "codemirror_mode": {
    "name": "ipython",
    "version": 3
   },
   "file_extension": ".py",
   "mimetype": "text/x-python",
   "name": "python",
   "nbconvert_exporter": "python",
   "pygments_lexer": "ipython3",
   "version": "3.8.2"
  }
 },
 "nbformat": 4,
 "nbformat_minor": 4
}
