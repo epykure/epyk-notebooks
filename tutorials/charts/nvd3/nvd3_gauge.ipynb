{
 "cells": [
  {
   "cell_type": "markdown",
   "metadata": {},
   "source": [
    "<div style=\"float:left;margin:0 10px 10px 0\" markdown=\"1\">\n",
    "    <a href=\"../../../index.ipynb\">\n",
    "        <img src=\"./../../../static/images/epyklogo_whole_small.png\">\n",
    "    </a>\n",
    "</div>"
   ]
  },
  {
   "cell_type": "markdown",
   "metadata": {},
   "source": [
    "# NVD3 \n",
    "\n",
    "\n",
    "## Gauge Chart\n",
    "\n",
    "More information about this chart [here](http://nvd3.org/)"
   ]
  },
  {
   "cell_type": "code",
   "execution_count": 4,
   "metadata": {},
   "outputs": [
    {
     "data": {
      "text/html": [
       "<head>\n",
       "<style>\n",
       "    .cssdivnoborder {margin: 0 ;clear: both ;padding: 0 ;border: 0 ;}\n",
       ".cssbuttonbasic_button_1770642031040 {font-weight: bold ;padding: 2px 20px ;margin: 2px 0 2px 0 ;text-decoration: none ;border-radius: 4px ;white-space: nowrap ;display: inline-block ;line-height: 30px ;-webkit-appearance: none ;-moz-appearance: none ;border: 1px solid #bdbdbd ;color: #1b5e20 ;background-color: #FFFFFF ;}\n",
       ".cssbuttonbasic_button_1770642031040:hover {text-decoration: none ;cursor: pointer ;background-color: #e8f5e9 ;color: #1b5e20 ;}\n",
       ".cssbuttonbasic_button_1770642031040:focus {outline: 0 ;}\n",
       ".cssbuttonbasic_button_1770642031040:disabled {cursor: none ;background-color: #1b5e20 ;color: #43a047 ;font-style: italic ;}\n",
       ".cssbuttonbasic_button_1770642076768 {font-weight: bold ;padding: 2px 20px ;margin: 2px 0 2px 0 ;text-decoration: none ;border-radius: 4px ;white-space: nowrap ;display: inline-block ;line-height: 30px ;-webkit-appearance: none ;-moz-appearance: none ;border: 1px solid #bdbdbd ;color: #1b5e20 ;background-color: #FFFFFF ;}\n",
       ".cssbuttonbasic_button_1770642076768:hover {text-decoration: none ;cursor: pointer ;background-color: #e8f5e9 ;color: #1b5e20 ;}\n",
       ".cssbuttonbasic_button_1770642076768:focus {outline: 0 ;}\n",
       ".cssbuttonbasic_button_1770642076768:disabled {cursor: none ;background-color: #1b5e20 ;color: #43a047 ;font-style: italic ;}\n",
       "\n",
       "</style>\n",
       "<link rel=\"stylesheet\" href=\"https://cdnjs.cloudflare.com/ajax/libs/nvd3/1.8.6/nv.d3.min.css\" type=\"text/css\">\n",
       "</head>\n",
       "<body>\n",
       "<svg id=\"chartpie_1770642076864\" style=\"font-size:inherit;font-family:inherit;box-sizing:border-box;width:100%;height:330px\" class=\"cssdivnoborder\"></svg>\n",
       "<button name data-count=\"0\" id=\"button_1770642031040\" style=\"font-size:12px\" class=\"cssbuttonbasic_button_1770642031040\">reset</button>\n",
       "<button name data-count=\"0\" id=\"button_1770642076768\" style=\"font-size:12px\" class=\"cssbuttonbasic_button_1770642076768\">reset</button>\n",
       "<script>\n",
       "require.config({ paths:{d3: 'https://cdnjs.cloudflare.com/ajax/libs/d3/3.5.17/d3.min', nvd3: 'https://cdnjs.cloudflare.com/ajax/libs/nvd3/1.8.6/nv.d3.min'}});\n",
       "require(['d3'], function (d3) { require(['nvd3'], function (nvd3) { function GraphNVD3ChartPieConvert(data, options){\n",
       "      var temp = {}; var labels = {};\n",
       "      data.forEach(function(rec){ \n",
       "        if(!(rec[options.x_column] in temp)){temp[rec[options.x_column]] = {}};\n",
       "        options.y_columns.forEach(function(name){\n",
       "          labels[name] = true; if(rec[name] !== undefined) {if (!(name in temp[rec[options.x_column]])){temp[rec[options.x_column]][name] = rec[name]} else {temp[rec[options.x_column]][name] += rec[name]}}  }) ;\n",
       "      });\n",
       "      var labels = Object.keys(labels); result = [];\n",
       "      for(var series in temp){\n",
       "        var values = {y: 0, x: series};\n",
       "        labels.forEach(function(label){\n",
       "          if(temp[series][label] !== undefined){values.y = temp[series][label]}});\n",
       "        result.push(values)}\n",
       "      ; return result};chartpie_1770642076864_obj = nv.models.pieChart().x(function(d){return d.x}).y(function(d){return d.y}).donut(true).title(\"42%\").arcsRadius([{inner: 0.7, outer: 1},{inner: 0.9, outer: 1}]).color([\"#e8f5e9\", \"#c8e6c9\", \"#a5d6a7\", \"#81c784\", \"#66bb6a\", \"#4caf50\", \"#43a047\", \"#388e3c\", \"#2e7d32\", \"#1b5e20\"]);chartpie_1770642076864_obj.xAxis;d3.select('#chartpie_1770642076864').datum([{\"x\": \"\", \"y\": 42}, {\"x\": \"\", \"y\": 58}]).call(chartpie_1770642076864_obj);nv.utils.windowResize(function() { chartpie_1770642076864_obj.update() });document.getElementById('button_1770642031040').addEventListener('click', function(event){d3.select('#chartpie_1770642076864').datum(GraphNVD3ChartPieConvert(40, {})).transition().duration(500).call(chartpie_1770642076864_obj); nv.utils.windowResize(chartpie_1770642076864_obj.update)});document.getElementById('button_1770642076768').addEventListener('click', function(event){d3.select('#chartpie_1770642076864').datum(GraphNVD3ChartPieConvert(90, {})).transition().duration(500).call(chartpie_1770642076864_obj); nv.utils.windowResize(chartpie_1770642076864_obj.update)}) }) })\n",
       "</script>\n",
       "<body>"
      ],
      "text/plain": [
       "<epyk.core.py.PyOuts.PyOuts at 0x19c427d48e0>"
      ]
     },
     "execution_count": 4,
     "metadata": {},
     "output_type": "execute_result"
    }
   ],
   "source": [
    "from epyk.core.Page import Report\n",
    "\n",
    "rptObj = Report()\n",
    "\n",
    "rptObj = Report()\n",
    "\n",
    "c = rptObj.ui.charts.nvd3.gauge(42)\n",
    "#\n",
    "\n",
    "rptObj.ui.button(\"reset\").click([\n",
    "  c.build(40),\n",
    "])\n",
    "\n",
    "\n",
    "rptObj.ui.button(\"reset\").click([\n",
    "  c.build(90),\n",
    "])\n",
    "\n",
    "\n",
    "rptObj.outs.jupyter()"
   ]
  },
  {
   "cell_type": "markdown",
   "metadata": {},
   "source": [
    "For more details about this charts and the various options and properties available please refer to the [official website](http://nvd3.org/)\n",
    "\n",
    "Anything on the website should be available in the Python interface.\n"
   ]
  },
  {
   "cell_type": "markdown",
   "metadata": {},
   "source": [
    "<a href=\"../charts.ipynb\" target=\"_self\">Go back to the Chart Home page</a>\n",
    "<hr>\n",
    "Do not forget that this is a collaborative framework so do not hesitate to give feedbacks and like the different repository to get more visbility.\n",
    "\n",
    "Also any help is more than welcome !"
   ]
  }
 ],
 "metadata": {
  "kernelspec": {
   "display_name": "Python 3",
   "language": "python",
   "name": "python3"
  },
  "language_info": {
   "codemirror_mode": {
    "name": "ipython",
    "version": 3
   },
   "file_extension": ".py",
   "mimetype": "text/x-python",
   "name": "python",
   "nbconvert_exporter": "python",
   "pygments_lexer": "ipython3",
   "version": "3.8.2"
  }
 },
 "nbformat": 4,
 "nbformat_minor": 4
}
