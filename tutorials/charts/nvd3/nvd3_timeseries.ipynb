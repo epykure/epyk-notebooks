{
 "cells": [
  {
   "cell_type": "markdown",
   "metadata": {},
   "source": [
    "<div style=\"float:left;margin:0 10px 10px 0\" markdown=\"1\">\n",
    "    <a href=\"../../../index.ipynb\">\n",
    "        <img src=\"./../../../static/images/epyklogo_whole_small.png\">\n",
    "    </a>\n",
    "</div>"
   ]
  },
  {
   "cell_type": "markdown",
   "metadata": {},
   "source": [
    "# NVD3 \n",
    "\n",
    "\n",
    "## Timeseries Chart\n",
    "\n",
    "More information about this chart [here](http://nvd3.org/)"
   ]
  },
  {
   "cell_type": "code",
   "execution_count": 1,
   "metadata": {},
   "outputs": [
    {
     "data": {
      "text/html": [
       "<head>\n",
       "<style>\n",
       "    .cssdivnoborder {margin: 0 ;clear: both ;padding: 0 ;border: 0 ;}\n",
       "\n",
       "</style>\n",
       "<link rel=\"stylesheet\" href=\"https://cdnjs.cloudflare.com/ajax/libs/nvd3/1.8.6/nv.d3.min.css\" type=\"text/css\">\n",
       "</head>\n",
       "<body>\n",
       "<svg id=\"charthistobar_2158521491520\" style=\"font-size:inherit;font-family:inherit;box-sizing:border-box;width:100%;height:330px\" class=\"cssdivnoborder\"></svg>\n",
       "<script>\n",
       "require.config({ paths:{d3: 'https://cdnjs.cloudflare.com/ajax/libs/d3/3.5.17/d3.min', nvd3: 'https://cdnjs.cloudflare.com/ajax/libs/nvd3/1.8.6/nv.d3.min'}});\n",
       "require(['d3'], function (d3) { require(['nvd3'], function (nvd3) { charthistobar_2158521491520_obj = nv.models.historicalBarChart().x(function(d){return d.label}).y(function(d){return d.y});charthistobar_2158521491520_obj.xAxis;d3.select('#charthistobar_2158521491520').datum([{\"values\": [{\"label\": 17.07, \"y\": 17.07}, {\"label\": 16.28, \"y\": 16.28}, {\"label\": 9.12, \"y\": 9.12}, {\"label\": 6.13, \"y\": 6.13}, {\"label\": 4.29, \"y\": 4.29}, {\"label\": 4.18, \"y\": 4.18}, {\"label\": 2.68, \"y\": 2.68}, {\"label\": 2.49, \"y\": 2.49}, {\"label\": 2.09, \"y\": 2.09}, {\"label\": 1.85, \"y\": 1.85}], \"key\": \"rating\", \"color\": \"#e8f5e9\"}, {\"values\": [{\"label\": 17.07, \"y\": 12.82}, {\"label\": 16.28, \"y\": 0.28}, {\"label\": 9.12, \"y\": 1.29}, {\"label\": 6.13, \"y\": -1.97}, {\"label\": 4.29, \"y\": 0.3}, {\"label\": 4.18, \"y\": -1.01}, {\"label\": 2.68, \"y\": -0.01}, {\"label\": 2.49, \"y\": 0.0}, {\"label\": 2.09, \"y\": -0.47}, {\"label\": 1.85, \"y\": 0.9}], \"key\": \"change\", \"color\": \"#c8e6c9\"}]).call(charthistobar_2158521491520_obj);nv.utils.windowResize(function() { charthistobar_2158521491520_obj.update() }) }) })\n",
       "</script>\n",
       "<body>"
      ],
      "text/plain": [
       "<epyk.core.py.PyOuts.PyOuts at 0x1f6915c3a30>"
      ]
     },
     "execution_count": 1,
     "metadata": {},
     "output_type": "execute_result"
    }
   ],
   "source": [
    "from epyk.core.Page import Report\n",
    "\n",
    "rptObj = Report()\n",
    "\n",
    "languages = [\n",
    "  {\"name\": 'C', 'type': 'code', 'rating': 17.07, 'change': 12.82},\n",
    "  {\"name\": 'Java', 'type': 'code', 'rating': 16.28, 'change': 0.28},\n",
    "  {\"name\": 'Python', 'type': 'script', 'rating': 9.12, 'change': 1.29},\n",
    "  {\"name\": 'C++', 'type': 'code', 'rating': 6.13, 'change': -1.97},\n",
    "  {\"name\": 'C#', 'type': 'code', 'rating': 4.29, 'change': 0.3},\n",
    "  {\"name\": 'Visual Basic', 'type': 'script', 'rating': 4.18, 'change': -1.01},\n",
    "  {\"name\": 'JavaScript', 'type': 'script', 'rating': 2.68, 'change': -0.01},\n",
    "  {\"name\": 'PHP', 'type': 'script', 'rating': 2.49, 'change': 0},\n",
    "  {\"name\": 'SQL', 'type': 'script', 'rating': 2.09, 'change': -0.47},\n",
    "  {\"name\": 'R', 'type': 'script', 'rating': 1.85, 'change': 0.90},\n",
    "]\n",
    "\n",
    "c = rptObj.ui.charts.nvd3.timeseries(languages, y_columns=[\"rating\", 'change'], x_axis='rating')\n",
    "\n",
    "rptObj.outs.jupyter()"
   ]
  },
  {
   "cell_type": "markdown",
   "metadata": {},
   "source": [
    "For more details about this charts and the various options and properties available please refer to the [official website](http://nvd3.org/)\n",
    "\n",
    "Anything on the website should be available in the Python interface.\n"
   ]
  },
  {
   "cell_type": "markdown",
   "metadata": {},
   "source": [
    "<a href=\"../charts.ipynb\" target=\"_self\">Go back to the Chart Home page</a>\n",
    "<hr>\n",
    "Do not forget that this is a collaborative framework so do not hesitate to give feedbacks and like the different repository to get more visbility.\n",
    "\n",
    "Also any help is more than welcome !"
   ]
  }
 ],
 "metadata": {
  "kernelspec": {
   "display_name": "Python 3",
   "language": "python",
   "name": "python3"
  },
  "language_info": {
   "codemirror_mode": {
    "name": "ipython",
    "version": 3
   },
   "file_extension": ".py",
   "mimetype": "text/x-python",
   "name": "python",
   "nbconvert_exporter": "python",
   "pygments_lexer": "ipython3",
   "version": "3.8.2"
  }
 },
 "nbformat": 4,
 "nbformat_minor": 4
}
