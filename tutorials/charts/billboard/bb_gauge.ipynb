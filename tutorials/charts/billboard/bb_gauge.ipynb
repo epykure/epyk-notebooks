{
 "cells": [
  {
   "cell_type": "markdown",
   "metadata": {},
   "source": [
    "<div style=\"float:left;margin:0 10px 10px 0\" markdown=\"1\">\n",
    "    <a href=\"../../../index.ipynb\">\n",
    "        <img src=\"./../../../static/images/epyklogo_whole_small.png\">\n",
    "    </a>\n",
    "</div>"
   ]
  },
  {
   "cell_type": "markdown",
   "metadata": {},
   "source": [
    "# Billboard \n",
    "\n",
    "\n",
    "## Gauge Chart\n",
    "\n",
    "[here](https://c3js.org/)"
   ]
  },
  {
   "cell_type": "code",
   "execution_count": 1,
   "metadata": {},
   "outputs": [
    {
     "data": {
      "text/html": [
       "<head>\n",
       "<style>\n",
       "    .cssdivnoborder {margin: 0 ;clear: both ;padding: 0 ;border: 0 ;}\n",
       ".cssbuttonbasic_button_2486673100512 {font-weight: bold ;padding: 2px 20px ;margin: 2px 0 2px 0 ;text-decoration: none ;border-radius: 4px ;white-space: nowrap ;display: inline-block ;line-height: 30px ;-webkit-appearance: none ;-moz-appearance: none ;border: 1px solid #bdbdbd ;color: #1b5e20 ;background-color: #FFFFFF ;}\n",
       ".cssbuttonbasic_button_2486673100512:hover {text-decoration: none ;cursor: pointer ;background-color: #e8f5e9 ;color: #1b5e20 ;}\n",
       ".cssbuttonbasic_button_2486673100512:focus {outline: 0 ;}\n",
       ".cssbuttonbasic_button_2486673100512:disabled {cursor: none ;background-color: #1b5e20 ;color: #43a047 ;font-style: italic ;}\n",
       ".cssbuttonbasic_button_2486682277200 {font-weight: bold ;padding: 2px 20px ;margin: 2px 0 2px 0 ;text-decoration: none ;border-radius: 4px ;white-space: nowrap ;display: inline-block ;line-height: 30px ;-webkit-appearance: none ;-moz-appearance: none ;border: 1px solid #bdbdbd ;color: #1b5e20 ;background-color: #FFFFFF ;}\n",
       ".cssbuttonbasic_button_2486682277200:hover {text-decoration: none ;cursor: pointer ;background-color: #e8f5e9 ;color: #1b5e20 ;}\n",
       ".cssbuttonbasic_button_2486682277200:focus {outline: 0 ;}\n",
       ".cssbuttonbasic_button_2486682277200:disabled {cursor: none ;background-color: #1b5e20 ;color: #43a047 ;font-style: italic ;}\n",
       "\n",
       "</style>\n",
       "<link rel=\"stylesheet\" href=\"https://cdnjs.cloudflare.com/ajax/libs/c3/0.7.15/c3.min.css\" type=\"text/css\">\n",
       "<link rel=\"stylesheet\" href=\"https://cdnjs.cloudflare.com/ajax/libs/billboard.js/1.12.8/billboard.min.css\" type=\"text/css\">\n",
       "</head>\n",
       "<body>\n",
       "<div id=\"chartgauge_2486682236960\" style=\"font-size:inherit;font-family:inherit;box-sizing:border-box;width:100%;height:330px;margin-top:10px\" class=\"cssdivnoborder\"></div>\n",
       "<button name data-count=\"0\" id=\"button_2486673100512\" style=\"font-size:12px\" class=\"cssbuttonbasic_button_2486673100512\">reset</button>\n",
       "<button name data-count=\"0\" id=\"button_2486682277200\" style=\"font-size:12px\" class=\"cssbuttonbasic_button_2486682277200\">reset</button>\n",
       "<script>\n",
       "require.config({ paths:{d3: 'https://cdnjs.cloudflare.com/ajax/libs/d3/5.16.0/d3.min', c3: 'https://cdnjs.cloudflare.com/ajax/libs/c3/0.7.15/c3.min', billboard: 'https://cdnjs.cloudflare.com/ajax/libs/billboard.js/1.12.8/billboard.pkgd.min'}});\n",
       "require(['d3'], function (d3) { require(['billboard', 'c3'], function (billboard, c3) { var bb = billboard.bb; chartgauge_2486682236960_obj = bb.generate({bindto: \"#chartgauge_2486682236960\", data: {columns: [[\"data\", 45]], colors: {\"data\": \"#e8f5e9\"}, types: {\"data\": \"gauge\"}, onclick: function () { console.log(arguments[0].value) }}});document.getElementById('button_2486673100512').addEventListener('click', function(event){chartgauge_2486682236960_obj.load({columns: [[\"data\", 90]]})});document.getElementById('button_2486682277200').addEventListener('click', function(event){chartgauge_2486682236960_obj.load({columns: [[\"data\", 10]]})}) }) })\n",
       "</script>\n",
       "<body>"
      ],
      "text/plain": [
       "<epyk.core.py.PyOuts.PyOuts at 0x242f94020a0>"
      ]
     },
     "execution_count": 1,
     "metadata": {},
     "output_type": "execute_result"
    }
   ],
   "source": [
    "from epyk.core.Page import Report\n",
    "\n",
    "rptObj = Report()\n",
    "dataPoints = [\n",
    "  {'x': 0, 'y': 10, 'y1': 10},\n",
    "  {'x': 1, 'y': 35, 'y1': 20},\n",
    "  {'x': 2, 'y': 25, 'y1': 10},\n",
    "  {'x': 3, 'y': 30, 'y1': 5},\n",
    "  {'x': 4, 'y': 28, 'y1': 10}]\n",
    "\n",
    "dataPoints2 = [\n",
    "  {'label': \"mango\", 'x': 0, 'y': 30, 'y1': 0},\n",
    "  {'label': \"grape\", 'x': 1, 'y': 28, 'y1': 0}\n",
    "]\n",
    "\n",
    "c = rptObj.ui.charts.billboard.gauge(45)\n",
    "\n",
    "rptObj.ui.button(\"reset\").click([\n",
    "  c.build(90) #dataPoints2),\n",
    "])\n",
    "\n",
    "c.click([\n",
    "  rptObj.js.console.log(c.js.content)\n",
    "])\n",
    "\n",
    "dataPoints3 = [\n",
    "  {'label': \"mango\", 'x': 0, 'y': 20, 'y1': 20, 'r': 10},\n",
    "  {'label': \"grape\", 'x': 1, 'y': 18, 'y2': 20, 'r': 5}\n",
    "]\n",
    "\n",
    "rptObj.ui.button(\"reset\").click([\n",
    "  c.build(10),\n",
    "])\n",
    "\n",
    "rptObj.outs.jupyter()"
   ]
  },
  {
   "cell_type": "markdown",
   "metadata": {},
   "source": [
    "For more details about this charts and the various options and properties available please refer to the [official website](https://www.chartjs.org/samples/latest/)\n",
    "\n",
    "Anything on the website should be available in the Python interface.\n"
   ]
  },
  {
   "cell_type": "markdown",
   "metadata": {},
   "source": [
    "<a href=\"../charts.ipynb\" target=\"_self\">Go back to the Chart Home page</a>\n",
    "<hr>\n",
    "Do not forget that this is a collaborative framework so do not hesitate to give feedbacks and like the different repository to get more visbility.\n",
    "\n",
    "Also any help is more than welcome !"
   ]
  }
 ],
 "metadata": {
  "kernelspec": {
   "display_name": "Python 3",
   "language": "python",
   "name": "python3"
  },
  "language_info": {
   "codemirror_mode": {
    "name": "ipython",
    "version": 3
   },
   "file_extension": ".py",
   "mimetype": "text/x-python",
   "name": "python",
   "nbconvert_exporter": "python",
   "pygments_lexer": "ipython3",
   "version": "3.8.2"
  }
 },
 "nbformat": 4,
 "nbformat_minor": 4
}
