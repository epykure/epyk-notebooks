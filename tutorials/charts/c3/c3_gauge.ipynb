{
 "cells": [
  {
   "cell_type": "markdown",
   "metadata": {},
   "source": [
    "<div style=\"float:left;margin:0 10px 10px 0\" markdown=\"1\">\n",
    "    <a href=\"../../../index.ipynb\">\n",
    "        <img src=\"./../../../static/images/epyklogo_whole_small.png\">\n",
    "    </a>\n",
    "</div>"
   ]
  },
  {
   "cell_type": "markdown",
   "metadata": {},
   "source": [
    "# C3 \n",
    "\n",
    "\n",
    "## Gauge Chart\n",
    "\n",
    "[here](https://c3js.org/)"
   ]
  },
  {
   "cell_type": "code",
   "execution_count": 1,
   "metadata": {},
   "outputs": [
    {
     "data": {
      "text/html": [
       "<head>\n",
       "<style>\n",
       "    .cssinput {border: 1px solid #e8f5e9 ;text-align: center ;cursor: text ;margin: 0 ;border-radius: 5px ;background: #e8f5e9 ;color: #000000 ;font-family: Calibri ;min-width: 140px ;line-height: 23px ;font-size: 12px ;}\n",
       ".cssinput:hover {color: #3bb194 ;}\n",
       ".cssinput:focus {outline: 0 ;}\n",
       ".cssdivnoborder {margin: 0 ;clear: both ;padding: 0 ;border: 0 ;}\n",
       ".cssbuttonbasic_button_2458030994192 {font-weight: bold ;padding: 2px 20px ;margin: 2px 0 2px 0 ;text-decoration: none ;border-radius: 4px ;white-space: nowrap ;display: inline-block ;line-height: 30px ;-webkit-appearance: none ;-moz-appearance: none ;border: 1px solid #bdbdbd ;color: #1b5e20 ;background-color: #FFFFFF ;}\n",
       ".cssbuttonbasic_button_2458030994192:hover {text-decoration: none ;cursor: pointer ;background-color: #e8f5e9 ;color: #1b5e20 ;}\n",
       ".cssbuttonbasic_button_2458030994192:focus {outline: 0 ;}\n",
       ".cssbuttonbasic_button_2458030994192:disabled {cursor: none ;background-color: #1b5e20 ;color: #43a047 ;font-style: italic ;}\n",
       ".cssbuttonbasic_button_2458030994336 {font-weight: bold ;padding: 2px 20px ;margin: 2px 0 2px 0 ;text-decoration: none ;border-radius: 4px ;white-space: nowrap ;display: inline-block ;line-height: 30px ;-webkit-appearance: none ;-moz-appearance: none ;border: 1px solid #bdbdbd ;color: #1b5e20 ;background-color: #FFFFFF ;}\n",
       ".cssbuttonbasic_button_2458030994336:hover {text-decoration: none ;cursor: pointer ;background-color: #e8f5e9 ;color: #1b5e20 ;}\n",
       ".cssbuttonbasic_button_2458030994336:focus {outline: 0 ;}\n",
       ".cssbuttonbasic_button_2458030994336:disabled {cursor: none ;background-color: #1b5e20 ;color: #43a047 ;font-style: italic ;}\n",
       "\n",
       "</style>\n",
       "<link rel=\"stylesheet\" href=\"https://cdnjs.cloudflare.com/ajax/libs/c3/0.7.15/c3.min.css\" type=\"text/css\">\n",
       "</head>\n",
       "<body>\n",
       "<input placeholder=\"\" type=\"text\" value=\"Test\" spellcheck=\"False\" readonly=\"readonly\" id=\"input_2458030954048\" style=\"font-size:12px;font-family:Calibri;box-sizing:border-box;margin-bottom:2px\" class=\"cssinput\" /><div id=\"fieldinput_2458030953904\" style=\"font-size:inherit;font-family:inherit;box-sizing:border-box;width:100%;margin-top:2px;display:None\" class=\"cssdivnoborder\"></div>\n",
       "<div id=\"chartgauge_2458030994384\" style=\"font-size:inherit;font-family:inherit;box-sizing:border-box;width:100%;height:330px;margin-top:10px\" class=\"cssdivnoborder\"></div>\n",
       "<button name data-count=\"0\" id=\"button_2458030994192\" style=\"font-size:12px\" class=\"cssbuttonbasic_button_2458030994192\">reset</button>\n",
       "<button name data-count=\"0\" id=\"button_2458030994336\" style=\"font-size:12px\" class=\"cssbuttonbasic_button_2458030994336\">reset</button>\n",
       "<script>\n",
       "require.config({ paths:{d3: 'https://cdnjs.cloudflare.com/ajax/libs/d3/5.9.7/d3.min', c3: 'https://cdnjs.cloudflare.com/ajax/libs/c3/0.7.15/c3.min'}});\n",
       "require(['d3'], function (d3) { require(['c3'], function (c3) { document.getElementById('fieldinput_2458030953904').appendChild(document.getElementById('input_2458030954048'));chartgauge_2458030994384_obj = c3.generate({bindto: \"#chartgauge_2458030994384\", data: {columns: [[\"data\", 45]], colors: {\"data\": \"#e8f5e9\"}, types: {\"data\": \"gauge\"}, onclick: function () { console.log(arguments[0].value) }}});document.getElementById('button_2458030994192').addEventListener('click', function(event){chartgauge_2458030994384_obj.load({columns: [[\"data\", 90]]})});document.getElementById('button_2458030994336').addEventListener('click', function(event){chartgauge_2458030994384_obj.load({columns: [[\"data\", 10]]})}) }) })\n",
       "</script>\n",
       "<body>"
      ],
      "text/plain": [
       "<epyk.core.py.PyOuts.PyOuts at 0x23c4e107340>"
      ]
     },
     "execution_count": 1,
     "metadata": {},
     "output_type": "execute_result"
    }
   ],
   "source": [
    "from epyk.core.Page import Report\n",
    "\n",
    "rptObj = Report()\n",
    "dataPoints = [\n",
    "  {'x': 0, 'y': 10, 'y1': 10},\n",
    "  {'x': 1, 'y': 35, 'y1': 20},\n",
    "  {'x': 2, 'y': 25, 'y1': 10},\n",
    "  {'x': 3, 'y': 30, 'y1': 5},\n",
    "  {'x': 4, 'y': 28, 'y1': 10}]\n",
    "\n",
    "dataPoints2 = [\n",
    "  {'label': \"mango\", 'x': 0, 'y': 30, 'y1': 0},\n",
    "  {'label': \"grape\", 'x': 1, 'y': 28, 'y1': 0}\n",
    "]\n",
    "\n",
    "rptObj.ui.hidden(\"Test\")\n",
    "\n",
    "c = rptObj.ui.charts.c3.gauge(45)\n",
    "\n",
    "rptObj.ui.button(\"reset\").click([\n",
    "  c.build(90) #dataPoints2),\n",
    "])\n",
    "\n",
    "c.click([\n",
    "  rptObj.js.console.log(c.js.content)\n",
    "])\n",
    "\n",
    "dataPoints3 = [\n",
    "  {'label': \"mango\", 'x': 0, 'y': 20, 'y1': 20, 'r': 10},\n",
    "  {'label': \"grape\", 'x': 1, 'y': 18, 'y2': 20, 'r': 5}\n",
    "]\n",
    "\n",
    "rptObj.ui.button(\"reset\").click([\n",
    "  c.build(10),\n",
    "])\n",
    "\n",
    "rptObj.outs.jupyter()"
   ]
  },
  {
   "cell_type": "markdown",
   "metadata": {},
   "source": [
    "For more details about this charts and the various options and properties available please refer to the [official website](https://www.chartjs.org/samples/latest/)\n",
    "\n",
    "Anything on the website should be available in the Python interface.\n"
   ]
  },
  {
   "cell_type": "markdown",
   "metadata": {},
   "source": [
    "<a href=\"../charts.ipynb\" target=\"_self\">Go back to the Chart Home page</a>\n",
    "<hr>\n",
    "Do not forget that this is a collaborative framework so do not hesitate to give feedbacks and like the different repository to get more visbility.\n",
    "\n",
    "Also any help is more than welcome !"
   ]
  }
 ],
 "metadata": {
  "kernelspec": {
   "display_name": "Python 3",
   "language": "python",
   "name": "python3"
  },
  "language_info": {
   "codemirror_mode": {
    "name": "ipython",
    "version": 3
   },
   "file_extension": ".py",
   "mimetype": "text/x-python",
   "name": "python",
   "nbconvert_exporter": "python",
   "pygments_lexer": "ipython3",
   "version": "3.8.2"
  }
 },
 "nbformat": 4,
 "nbformat_minor": 4
}
