{
 "cells": [
  {
   "cell_type": "markdown",
   "metadata": {},
   "source": [
    "<div style=\"float:left;margin:0 10px 10px 0\" markdown=\"1\">\n",
    "    <a href=\"../../../index.ipynb\">\n",
    "        <img src=\"./../../../static/images/epyklogo_whole_small.png\">\n",
    "    </a>\n",
    "</div>"
   ]
  },
  {
   "cell_type": "markdown",
   "metadata": {},
   "source": [
    "# C3 \n",
    "\n",
    "\n",
    "## Pie Chart\n",
    "\n",
    "[here](https://c3js.org/)"
   ]
  },
  {
   "cell_type": "code",
   "execution_count": 1,
   "metadata": {},
   "outputs": [
    {
     "data": {
      "text/html": [
       "<head>\n",
       "<style>\n",
       "    .cssdivnoborder {margin: 0 ;clear: both ;padding: 0 ;border: 0 ;}\n",
       "\n",
       "</style>\n",
       "<link rel=\"stylesheet\" href=\"https://cdnjs.cloudflare.com/ajax/libs/c3/0.7.15/c3.min.css\" type=\"text/css\">\n",
       "</head>\n",
       "<body>\n",
       "<div id=\"chartpie_2726677971056\" style=\"font-size:inherit;font-family:inherit;box-sizing:border-box;width:100%;height:330px;margin-top:10px\" class=\"cssdivnoborder\"></div>\n",
       "<script>\n",
       "require.config({ paths:{d3: 'https://cdnjs.cloudflare.com/ajax/libs/d3/5.9.7/d3.min', c3: 'https://cdnjs.cloudflare.com/ajax/libs/c3/0.7.15/c3.min'}});\n",
       "require(['d3'], function (d3) { require(['c3'], function (c3) { chartpie_2726677971056_obj = c3.generate({bindto: \"#chartpie_2726677971056\", data: {columns: [[17.07, 17.07], [16.28, 16.28], [9.12, 9.12], [6.13, 6.13], [4.29, 4.29], [4.18, 4.18], [2.68, 2.68], [2.49, 2.49], [2.09, 2.09], [1.85, 1.85]], colors: {\"17.07\": \"#e8f5e9\", \"16.28\": \"#c8e6c9\", \"9.12\": \"#a5d6a7\", \"6.13\": \"#81c784\", \"4.29\": \"#66bb6a\", \"4.18\": \"#4caf50\", \"2.68\": \"#43a047\", \"2.49\": \"#388e3c\", \"2.09\": \"#2e7d32\", \"1.85\": \"#1b5e20\"}, types: {\"17.07\": \"pie\", \"16.28\": \"pie\", \"9.12\": \"pie\", \"6.13\": \"pie\", \"4.29\": \"pie\", \"4.18\": \"pie\", \"2.68\": \"pie\", \"2.49\": \"pie\", \"2.09\": \"pie\", \"1.85\": \"pie\"}}}) }) })\n",
       "</script>\n",
       "<body>"
      ],
      "text/plain": [
       "<epyk.core.py.PyOuts.PyOuts at 0x27ada211a30>"
      ]
     },
     "execution_count": 1,
     "metadata": {},
     "output_type": "execute_result"
    }
   ],
   "source": [
    "from epyk.core.Page import Report\n",
    "\n",
    "rptObj = Report()\n",
    "\n",
    "languages = [\n",
    "  {\"name\": 'C', 'type': 'code', 'rating': 17.07, 'change': 12.82},\n",
    "  {\"name\": 'Java', 'type': 'code', 'rating': 16.28, 'change': 0.28},\n",
    "  {\"name\": 'Python', 'type': 'script', 'rating': 9.12, 'change': 1.29},\n",
    "  {\"name\": 'C++', 'type': 'code', 'rating': 6.13, 'change': -1.97},\n",
    "  {\"name\": 'C#', 'type': 'code', 'rating': 4.29, 'change': 0.3},\n",
    "  {\"name\": 'Visual Basic', 'type': 'script', 'rating': 4.18, 'change': -1.01},\n",
    "  {\"name\": 'JavaScript', 'type': 'script', 'rating': 2.68, 'change': -0.01},\n",
    "  {\"name\": 'PHP', 'type': 'script', 'rating': 2.49, 'change': 0},\n",
    "  {\"name\": 'SQL', 'type': 'script', 'rating': 2.09, 'change': -0.47},\n",
    "  {\"name\": 'R', 'type': 'script', 'rating': 1.85, 'change': 0.90},\n",
    "]\n",
    "\n",
    "c = rptObj.ui.charts.c3.pie(languages, y_columns=[\"rating\", 'change'], x_axis='rating')\n",
    "\n",
    "rptObj.outs.jupyter()"
   ]
  },
  {
   "cell_type": "markdown",
   "metadata": {},
   "source": [
    "For more details about this charts and the various options and properties available please refer to the [official website](https://www.chartjs.org/samples/latest/)\n",
    "\n",
    "Anything on the website should be available in the Python interface.\n"
   ]
  },
  {
   "cell_type": "markdown",
   "metadata": {},
   "source": [
    "<a href=\"../charts.ipynb\" target=\"_self\">Go back to the Chart Home page</a>\n",
    "<hr>\n",
    "Do not forget that this is a collaborative framework so do not hesitate to give feedbacks and like the different repository to get more visbility.\n",
    "\n",
    "Also any help is more than welcome !"
   ]
  }
 ],
 "metadata": {
  "kernelspec": {
   "display_name": "Python 3",
   "language": "python",
   "name": "python3"
  },
  "language_info": {
   "codemirror_mode": {
    "name": "ipython",
    "version": 3
   },
   "file_extension": ".py",
   "mimetype": "text/x-python",
   "name": "python",
   "nbconvert_exporter": "python",
   "pygments_lexer": "ipython3",
   "version": "3.8.2"
  }
 },
 "nbformat": 4,
 "nbformat_minor": 4
}
