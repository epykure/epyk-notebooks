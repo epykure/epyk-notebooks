{
 "cells": [
  {
   "cell_type": "markdown",
   "metadata": {},
   "source": [
    "<div style=\"float:left;margin:0 10px 10px 0\" markdown=\"1\">\n",
    "    <a href=\"../../../index.ipynb\">\n",
    "        <img src=\"./../../../static/images/epyklogo_whole_small.png\">\n",
    "    </a>\n",
    "</div>"
   ]
  },
  {
   "cell_type": "markdown",
   "metadata": {},
   "source": [
    "# VIS \n",
    "\n",
    "\n",
    "## Network Chart\n",
    "\n",
    "More information about this chart [here](https://visjs.github.io/vis-timeline/examples/graph2d/)"
   ]
  },
  {
   "cell_type": "code",
   "execution_count": 3,
   "metadata": {},
   "outputs": [
    {
     "data": {
      "text/html": [
       "<head>\n",
       "<style>\n",
       "    .cssdivnoborder {margin: 0 ;clear: both ;padding: 0 ;border: 0 ;}\n",
       "\n",
       "</style>\n",
       "<link rel=\"stylesheet\" href=\"https://cdnjs.cloudflare.com/ajax/libs/vis/4.21.0/vis.min.css\" type=\"text/css\">\n",
       "</head>\n",
       "<body>\n",
       "<div id=\"chartnetwork_1253251024400\" style=\"font-size:inherit;font-family:inherit;box-sizing:border-box;width:100%;height:330px;margin-top:10px;display:inline-block\" class=\"cssdivnoborder\"></div>\n",
       "<script>\n",
       "require.config({ paths:{vis: 'https://cdnjs.cloudflare.com/ajax/libs/vis/4.21.0/vis.min'}});\n",
       "require(['vis'], function (vis) { var chartnetwork_1253251024400_obj_group = new vis.DataSet(); var chartnetwork_1253251024400_obj = new vis.Network(document.getElementById('chartnetwork_1253251024400'), {'nodes': [{'label': 'A', 'group': 0, 'id': 0}, {'label': 'B', 'group': 0, 'id': 1}], 'edges': [{'from': 0, 'to': 1}]}, chartnetwork_1253251024400_obj_group, {height: 330}) })\n",
       "</script>\n",
       "<body>"
      ],
      "text/plain": [
       "<epyk.core.py.PyOuts.PyOuts at 0x123cb950550>"
      ]
     },
     "execution_count": 3,
     "metadata": {},
     "output_type": "execute_result"
    }
   ],
   "source": [
    "from epyk.core.Page import Report\n",
    "from epyk.tests import data_urls\n",
    "\n",
    "rptObj = Report()\n",
    "\n",
    "data_earth = rptObj.py.requests.csv(data_urls.DATA_EARTHQUAKE)\n",
    "\n",
    "network = rptObj.ui.charts.vis.network()\n",
    "network.add_node(\"A\")\n",
    "network.add_node(\"B\")\n",
    "network.add_edge(0, 1)\n",
    "\n",
    "rptObj.outs.jupyter()"
   ]
  },
  {
   "cell_type": "markdown",
   "metadata": {},
   "source": [
    "For more details about this charts and the various options and properties available please refer to the [official website](http://nvd3.org/)\n",
    "\n",
    "Anything on the website should be available in the Python interface.\n"
   ]
  },
  {
   "cell_type": "markdown",
   "metadata": {},
   "source": [
    "<a href=\"../charts.ipynb\" target=\"_self\">Go back to the Chart Home page</a>\n",
    "<hr>\n",
    "Do not forget that this is a collaborative framework so do not hesitate to give feedbacks and like the different repository to get more visbility.\n",
    "\n",
    "Also any help is more than welcome !"
   ]
  }
 ],
 "metadata": {
  "kernelspec": {
   "display_name": "Python 3",
   "language": "python",
   "name": "python3"
  },
  "language_info": {
   "codemirror_mode": {
    "name": "ipython",
    "version": 3
   },
   "file_extension": ".py",
   "mimetype": "text/x-python",
   "name": "python",
   "nbconvert_exporter": "python",
   "pygments_lexer": "ipython3",
   "version": "3.8.2"
  }
 },
 "nbformat": 4,
 "nbformat_minor": 4
}
