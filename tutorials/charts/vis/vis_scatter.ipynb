{
 "cells": [
  {
   "cell_type": "markdown",
   "metadata": {},
   "source": [
    "<div style=\"float:left;margin:0 10px 10px 0\" markdown=\"1\">\n",
    "    <a href=\"../../../index.ipynb\">\n",
    "        <img src=\"./../../../static/images/epyklogo_whole_small.png\">\n",
    "    </a>\n",
    "</div>"
   ]
  },
  {
   "cell_type": "markdown",
   "metadata": {},
   "source": [
    "# VIS \n",
    "\n",
    "\n",
    "## Scatter Chart\n",
    "\n",
    "More information about this chart [here](https://visjs.github.io/vis-timeline/examples/graph2d/)"
   ]
  },
  {
   "cell_type": "code",
   "execution_count": 1,
   "metadata": {},
   "outputs": [
    {
     "data": {
      "text/html": [
       "<head>\n",
       "<style>\n",
       "    .cssdivnoborder {margin: 0 ;clear: both ;padding: 0 ;border: 0 ;}\n",
       "\n",
       "</style>\n",
       "\n",
       "</head>\n",
       "<body>\n",
       "<div id=\"chartscatter_1354549035072\" style=\"font-size:inherit;font-family:inherit;box-sizing:border-box;width:100%;height:330px;margin-top:10px;display:inline-block\" class=\"cssdivnoborder\"></div>\n",
       "<script>\n",
       "require.config({ paths:{}});\n",
       "var chartscatter_1354549035072_obj_group = new vis.DataSet(); var chartscatter_1354549035072_obj = new vis.Graph2d(document.getElementById('chartscatter_1354549035072'), [{'x': 12.82, 'y': 17.07, 'group': 0}, {'x': 0.28, 'y': 16.28, 'group': 0}, {'x': 1.29, 'y': 9.12, 'group': 0}, {'x': -1.97, 'y': 6.13, 'group': 0}, {'x': 0.3, 'y': 4.29, 'group': 0}, {'x': -1.01, 'y': 4.18, 'group': 0}, {'x': -0.01, 'y': 2.68, 'group': 0}, {'x': 0, 'y': 2.49, 'group': 0}, {'x': -0.47, 'y': 2.09, 'group': 0}, {'x': 0.9, 'y': 1.85, 'group': 0}, {'x': 12.82, 'y': 12.82, 'group': 1}, {'x': 0.28, 'y': 0.28, 'group': 1}, {'x': 1.29, 'y': 1.29, 'group': 1}, {'x': -1.97, 'y': -1.97, 'group': 1}, {'x': 0.3, 'y': 0.3, 'group': 1}, {'x': -1.01, 'y': -1.01, 'group': 1}, {'x': -0.01, 'y': -0.01, 'group': 1}, {'x': 0, 'y': 0.0, 'group': 1}, {'x': -0.47, 'y': -0.47, 'group': 1}, {'x': 0.9, 'y': 0.9, 'group': 1}], chartscatter_1354549035072_obj_group, {drawPoints: {style: \"circle\"}, style: \"points\", height: \"330px\"})\n",
       "</script>\n",
       "<body>"
      ],
      "text/plain": [
       "<epyk.core.py.PyOuts.PyOuts at 0x13b60df49a0>"
      ]
     },
     "execution_count": 1,
     "metadata": {},
     "output_type": "execute_result"
    }
   ],
   "source": [
    "from epyk.core.Page import Report\n",
    "\n",
    "rptObj = Report()\n",
    "\n",
    "languages = [\n",
    "  {\"name\": 'C', 'type': 'code', 'rating': 17.07, 'change': 12.82},\n",
    "  {\"name\": 'Java', 'type': 'code', 'rating': 16.28, 'change': 0.28},\n",
    "  {\"name\": 'Python', 'type': 'script', 'rating': 9.12, 'change': 1.29},\n",
    "  {\"name\": 'C++', 'type': 'code', 'rating': 6.13, 'change': -1.97},\n",
    "  {\"name\": 'C#', 'type': 'code', 'rating': 4.29, 'change': 0.3},\n",
    "  {\"name\": 'Visual Basic', 'type': 'script', 'rating': 4.18, 'change': -1.01},\n",
    "  {\"name\": 'JavaScript', 'type': 'script', 'rating': 2.68, 'change': -0.01},\n",
    "  {\"name\": 'PHP', 'type': 'script', 'rating': 2.49, 'change': 0},\n",
    "  {\"name\": 'SQL', 'type': 'script', 'rating': 2.09, 'change': -0.47},\n",
    "  {\"name\": 'R', 'type': 'script', 'rating': 1.85, 'change': 0.90},\n",
    "]\n",
    "\n",
    "c = rptObj.ui.charts.vis.scatter(languages, y_columns=[\"rating\", 'change'], x_axis='change')\n",
    "\n",
    "rptObj.outs.jupyter()"
   ]
  },
  {
   "cell_type": "markdown",
   "metadata": {},
   "source": [
    "For more details about this charts and the various options and properties available please refer to the [official website](http://nvd3.org/)\n",
    "\n",
    "Anything on the website should be available in the Python interface.\n"
   ]
  },
  {
   "cell_type": "markdown",
   "metadata": {},
   "source": [
    "<a href=\"../charts.ipynb\" target=\"_self\">Go back to the Chart Home page</a>\n",
    "<hr>\n",
    "Do not forget that this is a collaborative framework so do not hesitate to give feedbacks and like the different repository to get more visbility.\n",
    "\n",
    "Also any help is more than welcome !"
   ]
  }
 ],
 "metadata": {
  "kernelspec": {
   "display_name": "Python 3",
   "language": "python",
   "name": "python3"
  },
  "language_info": {
   "codemirror_mode": {
    "name": "ipython",
    "version": 3
   },
   "file_extension": ".py",
   "mimetype": "text/x-python",
   "name": "python",
   "nbconvert_exporter": "python",
   "pygments_lexer": "ipython3",
   "version": "3.8.2"
  }
 },
 "nbformat": 4,
 "nbformat_minor": 4
}
