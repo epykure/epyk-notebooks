{
 "cells": [
  {
   "cell_type": "markdown",
   "metadata": {},
   "source": [
    "<div style=\"float:left;margin:0 10px 10px 0\" markdown=\"1\">\n",
    "    <a href=\"../../../index.ipynb\">\n",
    "        <img src=\"./../../../static/images/epyklogo_whole_small.png\">\n",
    "    </a>\n",
    "</div>"
   ]
  },
  {
   "cell_type": "markdown",
   "metadata": {},
   "source": [
    "# VIS \n",
    "\n",
    "\n",
    "## Timeline Chart\n",
    "\n",
    "More information about this chart [here](https://visjs.github.io/vis-timeline/examples/graph2d/)"
   ]
  },
  {
   "cell_type": "code",
   "execution_count": 2,
   "metadata": {},
   "outputs": [
    {
     "data": {
      "text/html": [
       "<head>\n",
       "<style>\n",
       "    .cssdivnoborder {margin: 0 ;clear: both ;padding: 0 ;border: 0 ;}\n",
       "\n",
       "</style>\n",
       "<link rel=\"stylesheet\" href=\"https://cdnjs.cloudflare.com/ajax/libs/vis/4.21.0/vis.min.css\" type=\"text/css\">\n",
       "</head>\n",
       "<body>\n",
       "<div id=\"charttimeline_2414998975536\" style=\"font-size:inherit;font-family:inherit;box-sizing:border-box;width:100%;height:330px;margin-top:10px;display:inline-block\" class=\"cssdivnoborder\"></div>\n",
       "<script>\n",
       "require.config({ paths:{vis: 'https://cdnjs.cloudflare.com/ajax/libs/vis/4.21.0/vis.min'}});\n",
       "require(['vis'], function (vis) { var charttimeline_2414998975536_obj_group = new vis.DataSet(); var charttimeline_2414998975536_obj = new vis.Timeline(document.getElementById('charttimeline_2414998975536'), [{'start': '2020-05-15T22:34:20.240Z', 'content': '\"2km WSW of Anderson Springs', 'group': 0}, {'start': '2020-05-15T22:29:34.490Z', 'content': '\"22km N of Trona', 'group': 0}, {'start': '2020-05-15T22:29:26.360Z', 'content': '\"17km NE of Goldfield', 'group': 0}, {'start': '2020-05-15T22:29:06.220Z', 'content': '\"21km N of Trona', 'group': 0}, {'start': '2020-05-15T22:28:10.640Z', 'content': '\"68km SE of Hawthorne', 'group': 0}, {'start': '2020-05-15T22:25:08.500Z', 'content': '\"46km WNW of Tonopah', 'group': 0}, {'start': '2020-05-15T22:24:34.730Z', 'content': '\"52km WNW of Tonopah', 'group': 0}, {'start': '2020-05-15T22:22:12.310Z', 'content': '\"56km WNW of Tonopah', 'group': 0}, {'start': '2020-05-15T22:20:43.850Z', 'content': '\"65km SE of Hawthorne', 'group': 0}, {'start': '2020-05-15T22:18:54.150Z', 'content': '\"53km WNW of Tonopah', 'group': 0}, {'start': '2020-05-15T22:15:49.770Z', 'content': '\"66km SE of Hawthorne', 'group': 0}, {'start': '2020-05-15T22:13:12.770Z', 'content': '\"14km SW of Searles Valley', 'group': 0}, {'start': '2020-05-15T22:10:09.210Z', 'content': '\"63km WNW of Tonopah', 'group': 0}, {'start': '2020-05-15T22:05:43.340Z', 'content': '\"50km WNW of Tonopah', 'group': 0}, {'start': '2020-05-15T22:03:48.250Z', 'content': '\"27km SW of Tonopah', 'group': 0}, {'start': '2020-05-15T22:00:24.731Z', 'content': '\"34km NW of Nikiski', 'group': 0}, {'start': '2020-05-15T21:59:42.840Z', 'content': '\"54km WNW of Tonopah', 'group': 0}, {'start': '2020-05-15T21:59:10.220Z', 'content': '\"57km W of Tonopah', 'group': 0}, {'start': '2020-05-15T21:59:00.350Z', 'content': '\"5km ENE of Desert Hot Springs', 'group': 0}, {'start': '2020-05-15T21:57:21.130Z', 'content': '\"11km E of Ridgecrest', 'group': 0}, {'start': '2020-05-15T21:55:51.880Z', 'content': '\"56km W of Tonopah', 'group': 0}, {'start': '2020-05-15T21:55:08.070Z', 'content': '\"50km WNW of Tonopah', 'group': 0}, {'start': '2020-05-15T21:51:12.700Z', 'content': '\"22km ESE of Little Lake', 'group': 0}, {'start': '2020-05-15T21:49:38.080Z', 'content': '\"17km WNW of Goldfield', 'group': 0}, {'start': '2020-05-15T21:47:23.790Z', 'content': '\"3km ENE of East Quincy', 'group': 0}, {'start': '2020-05-15T21:44:42.330Z', 'content': '\"66km W of Tonopah', 'group': 0}, {'start': '2020-05-15T21:40:19.390Z', 'content': '\"13km ENE of Ridgecrest', 'group': 0}, {'start': '2020-05-15T21:40:02.400Z', 'content': '\"64km WNW of Tonopah', 'group': 0}, {'start': '2020-05-15T21:38:29.610Z', 'content': '\"45km WNW of Tonopah', 'group': 0}, {'start': '2020-05-15T21:36:11.719Z', 'content': '\"97km ENE of Chignik Lake', 'group': 0}], {editable: true}) })\n",
       "</script>\n",
       "<body>"
      ],
      "text/plain": [
       "<epyk.core.py.PyOuts.PyOuts at 0x2324894bf70>"
      ]
     },
     "execution_count": 2,
     "metadata": {},
     "output_type": "execute_result"
    }
   ],
   "source": [
    "from epyk.core.Page import Report\n",
    "from epyk.tests import data_urls\n",
    "\n",
    "rptObj = Report()\n",
    "\n",
    "data_earth = rptObj.py.requests.csv(data_urls.DATA_EARTHQUAKE)\n",
    "\n",
    "timeline = rptObj.ui.charts.vis.timeline(data_earth[:30], y_columns=[\"place\"], x_axis='time')\n",
    "\n",
    "rptObj.outs.jupyter()"
   ]
  },
  {
   "cell_type": "markdown",
   "metadata": {},
   "source": [
    "For more details about this charts and the various options and properties available please refer to the [official website](http://nvd3.org/)\n",
    "\n",
    "Anything on the website should be available in the Python interface.\n"
   ]
  },
  {
   "cell_type": "markdown",
   "metadata": {},
   "source": [
    "<a href=\"../charts.ipynb\" target=\"_self\">Go back to the Chart Home page</a>\n",
    "<hr>\n",
    "Do not forget that this is a collaborative framework so do not hesitate to give feedbacks and like the different repository to get more visbility.\n",
    "\n",
    "Also any help is more than welcome !"
   ]
  }
 ],
 "metadata": {
  "kernelspec": {
   "display_name": "Python 3",
   "language": "python",
   "name": "python3"
  },
  "language_info": {
   "codemirror_mode": {
    "name": "ipython",
    "version": 3
   },
   "file_extension": ".py",
   "mimetype": "text/x-python",
   "name": "python",
   "nbconvert_exporter": "python",
   "pygments_lexer": "ipython3",
   "version": "3.8.2"
  }
 },
 "nbformat": 4,
 "nbformat_minor": 4
}
