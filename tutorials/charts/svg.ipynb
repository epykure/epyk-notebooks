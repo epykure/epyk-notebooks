{
 "cells": [
  {
   "cell_type": "markdown",
   "metadata": {},
   "source": [
    "<div style=\"float:left;margin:0 10px 10px 0\" markdown=\"1\">\n",
    "    <a href=\"index.ipynb\">\n",
    "        <img src=\"./../../static/images/epyklogo_whole_small.png\">\n",
    "    </a>\n",
    "</div>"
   ]
  },
  {
   "cell_type": "markdown",
   "metadata": {},
   "source": [
    "# SVG Charts\n",
    "\n",
    "This is leveraging on the study done for the creation of D3.\n",
    "\n",
    "Epyk can directly use the SVG properties to write share and charts.\n",
    "\n",
    "\n",
    "## Shapes"
   ]
  },
  {
   "cell_type": "code",
   "execution_count": 4,
   "metadata": {},
   "outputs": [
    {
     "data": {
      "text/html": [
       "<head>\n",
       "<style>\n",
       "    .cssdivnoborder {margin: 0 ;clear: both ;padding: 0 ;border: 0 ;}\n",
       "\n",
       "</style>\n",
       "\n",
       "</head>\n",
       "<body>\n",
       "<svg viewBox=\"0 0 900 200\" version=\"1.1\" preserveAspectRatio=\"xMinYMin meet\" id=\"svg_2341355993120\" style=\"font-size:inherit;font-family:inherit;box-sizing:border-box;width:900px;height:200px;display:inline-block\" class=\"cssdivnoborder\"><rect x=\"50\" y=\"50\" rx=\"20\" ry=\"20\" id=\"rectangle_2341355993456\" style=\"font-size:inherit;font-family:inherit;box-sizing:border-box;width:50;height:50;display:inline-block\" class=\"cssdivnoborder\"></rect></svg>\n",
       "<script>\n",
       "var jQuery = $;\n",
       "require.config({ paths:{}});\n",
       "\n",
       "</script>\n",
       "<body>"
      ],
      "text/plain": [
       "<epyk.core.py.PyOuts.PyOuts at 0x2212317bd90>"
      ]
     },
     "execution_count": 4,
     "metadata": {},
     "output_type": "execute_result"
    }
   ],
   "source": [
    "from epyk.core.Page import Report\n",
    "\n",
    "rptObj = Report()\n",
    "\n",
    "rptObj.ui.charts.svg.rectangle(50, 50, 50, 50, rx=20, ry=20)\n",
    "\n",
    "rptObj.outs.jupyter()\n"
   ]
  },
  {
   "cell_type": "code",
   "execution_count": 7,
   "metadata": {},
   "outputs": [
    {
     "data": {
      "text/html": [
       "<head>\n",
       "<style>\n",
       "    .cssdivnoborder {margin: 0 ;clear: both ;padding: 0 ;border: 0 ;}\n",
       "\n",
       "</style>\n",
       "\n",
       "</head>\n",
       "<body>\n",
       "<svg viewBox=\"0 0 500 300\" version=\"1.1\" preserveAspectRatio=\"xMinYMin meet\" id=\"svg_2341356242784\" style=\"font-size:inherit;font-family:inherit;box-sizing:border-box;width:500px;height:300px;display:inline-block\" class=\"cssdivnoborder\"><line x1=\"10\" y1=\"40\" x2=\"500\" y2=\"150.0\" marker-start=\"url(#arrow)\" id=\"line_2341356243168\" style=\"font-size:inherit;font-family:inherit;box-sizing:border-box;stroke:#000000;stroke-width:1\" class=\"cssdivnoborder\"></line><defs id=\"defs_2341356244176\" style=\"font-size:inherit;font-family:inherit;box-sizing:border-box\" class=\"cssdivnoborder\"><marker id=\"arrow\" viewBox=\"0 0 10 10\" refX=\"5\" refY=\"5\" markerWidth=\"10\" markerHeight=\"10\" orient=\"auto-start-reverse\" style=\"font-size:inherit;font-family:inherit;box-sizing:border-box;display:inline-block\" class=\"cssdivnoborder\"><path d='M 0 0 L 10 5 L 0 10 z' /></marker></defs></svg>\n",
       "<script>\n",
       "var jQuery = $;\n",
       "require.config({ paths:{}});\n",
       "\n",
       "</script>\n",
       "<body>"
      ],
      "text/plain": [
       "<epyk.core.py.PyOuts.PyOuts at 0x22123b1ab50>"
      ]
     },
     "execution_count": 7,
     "metadata": {},
     "output_type": "execute_result"
    }
   ],
   "source": [
    "from epyk.core.Page import Report\n",
    "\n",
    "rptObj = Report()\n",
    "\n",
    "rptObj.ui.charts.svg.arrow_left(y1=40)\n",
    "\n",
    "rptObj.outs.jupyter()"
   ]
  },
  {
   "cell_type": "code",
   "execution_count": 9,
   "metadata": {},
   "outputs": [
    {
     "data": {
      "text/html": [
       "<head>\n",
       "<style>\n",
       "    .cssdivnoborder {margin: 0 ;clear: both ;padding: 0 ;border: 0 ;}\n",
       "\n",
       "</style>\n",
       "\n",
       "</head>\n",
       "<body>\n",
       "<svg viewBox=\"0 0 900 200\" version=\"1.1\" preserveAspectRatio=\"xMinYMin meet\" id=\"svg_2341345875952\" style=\"font-size:inherit;font-family:inherit;box-sizing:border-box;width:900px;height:200px;display:inline-block;margin:10px;border:1px solid black\" class=\"cssdivnoborder\"><rect x=\"50\" y=\"50\" rx=\"20\" ry=\"20\" id=\"rectangle_2341356298544\" style=\"font-size:inherit;font-family:inherit;box-sizing:border-box;width:50;height:50;display:inline-block\" class=\"cssdivnoborder\"><animateTransform attributeName=\"transform\" type=\"rotate\" from=\"0 100 100\" to=\"360 100 100\" dur=\"4s\" repeatCount=\"indefinite\" id=\"animatetransform_2341356267408\" style=\"font-size:inherit;font-family:inherit;box-sizing:border-box\" class=\"cssdivnoborder\" /></rect></svg>\n",
       "<script>\n",
       "var jQuery = $;\n",
       "require.config({ paths:{}});\n",
       "\n",
       "</script>\n",
       "<body>"
      ],
      "text/plain": [
       "<epyk.core.py.PyOuts.PyOuts at 0x22123b5ea90>"
      ]
     },
     "execution_count": 9,
     "metadata": {},
     "output_type": "execute_result"
    }
   ],
   "source": [
    "from epyk.core.Page import Report\n",
    "\n",
    "rptObj = Report()\n",
    "\n",
    "poly = rptObj.ui.charts.svg.rectangle(50, 50, 50, 50, rx=20, ry=20)\n",
    "poly[0].transform(\"transform\", \"rotate\", \"0 100 100\", \"360 100 100\")\n",
    "poly.css({\"margin\": '10px', \"border\": \"1px solid black\"})\n",
    "\n",
    "\n",
    "rptObj.outs.jupyter()"
   ]
  },
  {
   "cell_type": "code",
   "execution_count": 10,
   "metadata": {},
   "outputs": [
    {
     "data": {
      "text/html": [
       "<head>\n",
       "<style>\n",
       "    .cssdivnoborder {margin: 0 ;clear: both ;padding: 0 ;border: 0 ;}\n",
       "\n",
       "</style>\n",
       "\n",
       "</head>\n",
       "<body>\n",
       "<svg viewBox=\"0 0 500 300\" version=\"1.1\" preserveAspectRatio=\"xMinYMin meet\" id=\"svg_2341356430144\" style=\"font-size:inherit;font-family:inherit;box-sizing:border-box;width:500px;height:300px;display:inline-block\" class=\"cssdivnoborder\"><defs id=\"defs_2341356430480\" style=\"font-size:inherit;font-family:inherit;box-sizing:border-box\" class=\"cssdivnoborder\"><marker id=\"arrow\" viewBox=\"0 0 10 10\" refX=\"5\" refY=\"5\" orient=\"auto-start-reverse\" markerWidth=\"10\" markerHeight=\"10\" style=\"font-size:inherit;font-family:inherit;box-sizing:border-box;display:inline-block\" class=\"cssdivnoborder\"><path d='M 0 0 L 10 5 L 0 10 z' /></marker></defs><polyline fill=\"None\" points=\"10,10 10,290 490,290\" marker-start=\"url(#arrow)\" marker-end=\"url(#arrow)\" id=\"polyline_2341356432832\" style=\"font-size:inherit;font-family:inherit;box-sizing:border-box;display:inline-block;fill:;stroke:black;stroke-width:1\" class=\"cssdivnoborder\"></polyline><defs id=\"defs_2341356356176\" style=\"font-size:inherit;font-family:inherit;box-sizing:border-box\" class=\"cssdivnoborder\"><marker id=\"circle\" viewBox=\"0 0 10 10\" refX=\"5\" refY=\"5\" markerWidth=\"10\" markerHeight=\"10\" style=\"font-size:inherit;font-family:inherit;box-sizing:border-box;display:inline-block\" class=\"cssdivnoborder\"><circle cx=\"5\" cy=\"5\" r=\"5\" fill=\"red\" id=\"circle_2341356430048\" style=\"font-size:inherit;font-family:inherit;box-sizing:border-box\" class=\"cssdivnoborder\"></circle></marker></defs><path fill=\"none\" stroke=\"#000000\" stroke-width=\"1\" marker-start=\"url(#circle)\" marker-mid=\"url(#circle)\" marker-end=\"url(#circle)\" d=\"M10 290L60 190H310L410 90T60 240\" id=\"path_2341356430096\" style=\"font-size:inherit;font-family:inherit;box-sizing:border-box\" class=\"cssdivnoborder\"></path></svg>\n",
       "<script>\n",
       "var jQuery = $;\n",
       "require.config({ paths:{}});\n",
       "\n",
       "</script>\n",
       "<body>"
      ],
      "text/plain": [
       "<epyk.core.py.PyOuts.PyOuts at 0x22123b7ac70>"
      ]
     },
     "execution_count": 10,
     "metadata": {},
     "output_type": "execute_result"
    }
   ],
   "source": [
    "from epyk.core.Page import Report\n",
    "\n",
    "rptObj = Report()\n",
    "\n",
    "svg = rptObj.ui.charts.svg.axes()\n",
    "m = svg.defs().marker(\"circle\", \"0 0 10 10\", 5, 5)\n",
    "m.circle(5, 5, 5, 'red')\n",
    "m.markerWidth(10).markerHeight(10)\n",
    "p = svg.path(0, 0, from_origin=True).line_to(50, 100).\\\n",
    "  horizontal_line_to(300).\\\n",
    "  line_to(400, 200).smooth_quadratic_bezier_curve_to(50, 50)\n",
    "p.markers(m.url)\n",
    "\n",
    "rptObj.outs.jupyter()\n"
   ]
  },
  {
   "cell_type": "code",
   "execution_count": 16,
   "metadata": {},
   "outputs": [
    {
     "data": {
      "text/html": [
       "<head>\n",
       "<style>\n",
       "    \n",
       "\n",
       "</style>\n",
       "\n",
       "</head>\n",
       "<body>\n",
       "\n",
       "<script>\n",
       "var jQuery = $;\n",
       "require.config({ paths:{}});\n",
       "\n",
       "</script>\n",
       "<body>"
      ],
      "text/plain": [
       "<epyk.core.py.PyOuts.PyOuts at 0x22123b8ed30>"
      ]
     },
     "execution_count": 16,
     "metadata": {},
     "output_type": "execute_result"
    }
   ],
   "source": [
    "from epyk.core.Page import Report\n",
    "\n",
    "rptObj = Report()\n",
    "\n",
    "defs = poly.defs()\n",
    "gradients = defs.radialGradient(\"gradient_test\")\n",
    "gradients.stop(\"20%\", {\"stop-color\": \"pink\", \"stop-opacity\": 1})\n",
    "gradients.stop(\"95%\", {\"stop-color\": \"green\", \"stop-opacity\": 1})\n",
    "poly.circle(20, 50, 3, fill=gradients.url)\n",
    "\n",
    "rptObj.outs.jupyter()"
   ]
  },
  {
   "cell_type": "code",
   "execution_count": 19,
   "metadata": {},
   "outputs": [
    {
     "data": {
      "text/html": [
       "<head>\n",
       "<style>\n",
       "    .cssdivnoborder {margin: 0 ;clear: both ;padding: 0 ;border: 0 ;}\n",
       ".cssinput {border: 1px solid #e8f5e9 ;text-align: center ;cursor: text ;margin: 0 ;border-radius: 5px ;background: #e8f5e9 ;color: #000000 ;font-family: Calibri ;min-width: 140px ;line-height: 23px ;font-size: 12px ;}\n",
       ".cssinput:hover {color: #3bb194 ;}\n",
       ".cssinput:focus {outline: 0 ;}\n",
       "\n",
       "</style>\n",
       "\n",
       "</head>\n",
       "<body>\n",
       "\n",
       "<script>\n",
       "var jQuery = $;\n",
       "require.config({ paths:{}});\n",
       "\n",
       "</script>\n",
       "<body>"
      ],
      "text/plain": [
       "<epyk.core.py.PyOuts.PyOuts at 0x22123b99dc0>"
      ]
     },
     "execution_count": 19,
     "metadata": {},
     "output_type": "execute_result"
    }
   ],
   "source": [
    "from epyk.core.Page import Report\n",
    "\n",
    "rptObj = Report()\n",
    "poly.polygon([(20, 60), (40, 19), (16, 19), (100, 100)])\n",
    "g = poly.g()\n",
    "f = poly.foreignObject(10, 20, \"100%\", 150)\n",
    "f.add([\n",
    "    rptObj.ui.texts.label(\"Test Label\").css({\"color\": 'red'}),\n",
    "    rptObj.ui.input()\n",
    "])    \n",
    "g.css({\"stroke\": 'blue'})\n",
    "\n",
    "rptObj.outs.jupyter()"
   ]
  },
  {
   "cell_type": "markdown",
   "metadata": {},
   "source": [
    "<a href=\"charts.ipynb\" target=\"_self\">Go back to the Chart Home page</a>\n",
    "<hr>\n",
    "Do not forget that this is a collaborative framework so do not hesitate to give feedbacks and like the different repository to get more visbility.\n",
    "\n",
    "Also any help is more than welcome !"
   ]
  }
 ],
 "metadata": {
  "kernelspec": {
   "display_name": "Python 3",
   "language": "python",
   "name": "python3"
  },
  "language_info": {
   "codemirror_mode": {
    "name": "ipython",
    "version": 3
   },
   "file_extension": ".py",
   "mimetype": "text/x-python",
   "name": "python",
   "nbconvert_exporter": "python",
   "pygments_lexer": "ipython3",
   "version": "3.8.2"
  }
 },
 "nbformat": 4,
 "nbformat_minor": 4
}
