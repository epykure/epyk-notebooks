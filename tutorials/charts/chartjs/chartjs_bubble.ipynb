{
 "cells": [
  {
   "cell_type": "markdown",
   "metadata": {},
   "source": [
    "<div style=\"float:left;margin:0 10px 10px 0\" markdown=\"1\">\n",
    "    <a href=\"../../../index.ipynb\">\n",
    "        <img src=\"./../../../static/images/epyklogo_whole_small.png\">\n",
    "    </a>\n",
    "</div>"
   ]
  },
  {
   "cell_type": "markdown",
   "metadata": {},
   "source": [
    "# ChartJS \n",
    "\n",
    "\n",
    "## Bubble Chart\n",
    "\n",
    "A bubble chart is used to display three dimensions of data at the same time. The location of the bubble is determined by the first two dimensions and the corresponding horizontal and vertical axes. The third dimension is represented by the size of the individual bubbles. More information about this chart [here](https://www.chartjs.org/docs/latest/charts/bubble.html)\n"
   ]
  },
  {
   "cell_type": "code",
   "execution_count": 3,
   "metadata": {},
   "outputs": [
    {
     "data": {
      "text/html": [
       "<head>\n",
       "<style>\n",
       "    .cssdivnoborder {margin: 0 ;clear: both ;padding: 0 ;border: 0 ;}\n",
       "\n",
       "</style>\n",
       "\n",
       "</head>\n",
       "<body>\n",
       "<canvas id=\"chartbubble_2587802624928\" style=\"font-size:inherit;font-family:inherit;box-sizing:border-box;width:100%;height:330px;margin-top:10px\" class=\"cssdivnoborder\"></canvas>\n",
       "<script>\n",
       "require.config({ paths:{d3: 'https://cdnjs.cloudflare.com/ajax/libs/d3/5.9.7/d3.min', Chart: 'https://cdnjs.cloudflare.com/ajax/libs/Chart.js/2.9.3/Chart.min'}});\n",
       "require(['d3'], function (d3) { require(['Chart'], function (Chart) { chartbubble_2587802624928_obj = new Chart(document.getElementById('chartbubble_2587802624928').getContext(\"2d\"), {type: \"bubble\", data: {labels: [\"C\", \"Java\", \"Python\", \"C++\", \"C#\", \"Visual Basic\", \"JavaScript\", \"PHP\", \"SQL\", \"R\"], datasets: [{data: [{\"x\": \"C\", \"y\": 17.07, \"r\": 1}, {\"x\": \"Java\", \"y\": 16.28, \"r\": 1}, {\"x\": \"Python\", \"y\": 9.12, \"r\": 1}, {\"x\": \"C++\", \"y\": 6.13, \"r\": 1}, {\"x\": \"C#\", \"y\": 4.29, \"r\": 1}, {\"x\": \"Visual Basic\", \"y\": 4.18, \"r\": 1}, {\"x\": \"JavaScript\", \"y\": 2.68, \"r\": 1}, {\"x\": \"PHP\", \"y\": 2.49, \"r\": 1}, {\"x\": \"SQL\", \"y\": 2.09, \"r\": 1}, {\"x\": \"R\", \"y\": 1.85, \"r\": 1}], label: \"rating\", borderColor: \"#009999\", backgroundColor: \"rgba(0, 153, 153, 0.8)\"}, {data: [{\"x\": \"C\", \"y\": 12.82, \"r\": 1}, {\"x\": \"Java\", \"y\": 0.28, \"r\": 1}, {\"x\": \"Python\", \"y\": 1.29, \"r\": 1}, {\"x\": \"C++\", \"y\": -1.97, \"r\": 1}, {\"x\": \"C#\", \"y\": 0.3, \"r\": 1}, {\"x\": \"Visual Basic\", \"y\": -1.01, \"r\": 1}, {\"x\": \"JavaScript\", \"y\": -0.01, \"r\": 1}, {\"x\": \"PHP\", \"y\": 0.0, \"r\": 1}, {\"x\": \"SQL\", \"y\": -0.47, \"r\": 1}, {\"x\": \"R\", \"y\": 0.9, \"r\": 1}], label: \"change\", borderColor: \"#336699\", backgroundColor: \"rgba(51, 102, 153, 0.8)\"}]}, options: {y_columns: [\"rating\", \"change\"], x_column: \"name\", z_columns: null, colors: [\"#009999\", \"#336699\", \"#ffdcb9\", \"#cc99ff\", \"#b3d9ff\", \"#ffff99\", \"#000066\", \"#b2dfdb\", \"#80cbc4\", \"#e0f2f1\", \"#b2dfdb\", \"#80cbc4\", \"#ffebee\", \"#ffcdd2\", \"#ef9a9a\", \"#f3e5f5\", \"#e1bee7\", \"#ce93d8\", \"#ede7f6\", \"#d1c4e9\", \"#b39ddb\", \"#e8eaf6\", \"#c5cae9\", \"#9fa8da\", \"#fffde7\", \"#fff9c4\", \"#fff59d\", \"#fff3e0\", \"#ffe0b2\", \"#ffcc80\", \"#efebe9\", \"#d7ccc8\", \"#bcaaa4\"], rDim: null, attrs: {}}}) }) })\n",
       "</script>\n",
       "<body>"
      ],
      "text/plain": [
       "<epyk.core.py.PyOuts.PyOuts at 0x25a850d6b50>"
      ]
     },
     "execution_count": 3,
     "metadata": {},
     "output_type": "execute_result"
    }
   ],
   "source": [
    "from epyk.core.Page import Report\n",
    "\n",
    "rptObj = Report()\n",
    "\n",
    "languages = [\n",
    "  {\"name\": 'C', 'type': 'code', 'rating': 17.07, 'change': 12.82},\n",
    "  {\"name\": 'Java', 'type': 'code', 'rating': 16.28, 'change': 0.28},\n",
    "  {\"name\": 'Python', 'type': 'script', 'rating': 9.12, 'change': 1.29},\n",
    "  {\"name\": 'C++', 'type': 'code', 'rating': 6.13, 'change': -1.97},\n",
    "  {\"name\": 'C#', 'type': 'code', 'rating': 4.29, 'change': 0.3},\n",
    "  {\"name\": 'Visual Basic', 'type': 'script', 'rating': 4.18, 'change': -1.01},\n",
    "  {\"name\": 'JavaScript', 'type': 'script', 'rating': 2.68, 'change': -0.01},\n",
    "  {\"name\": 'PHP', 'type': 'script', 'rating': 2.49, 'change': 0},\n",
    "  {\"name\": 'SQL', 'type': 'script', 'rating': 2.09, 'change': -0.47},\n",
    "  {\"name\": 'R', 'type': 'script', 'rating': 1.85, 'change': 0.90},\n",
    "]\n",
    "\n",
    "c = rptObj.ui.charts.chartJs.bubble(languages, y_columns=[\"rating\", 'change'], x_axis='name')\n",
    "\n",
    "rptObj.outs.jupyter()"
   ]
  },
  {
   "cell_type": "markdown",
   "metadata": {},
   "source": [
    "For more details about this charts and the various options and properties available please refer to the [official website](https://www.chartjs.org/samples/latest/)\n",
    "\n",
    "Anything on the website should be available in the Python interface.\n"
   ]
  },
  {
   "cell_type": "markdown",
   "metadata": {},
   "source": [
    "<a href=\"../charts.ipynb\" target=\"_self\">Go back to the Chart Home page</a>\n",
    "<hr>\n",
    "Do not forget that this is a collaborative framework so do not hesitate to give feedbacks and like the different repository to get more visbility.\n",
    "\n",
    "Also any help is more than welcome !"
   ]
  }
 ],
 "metadata": {
  "kernelspec": {
   "display_name": "Python 3",
   "language": "python",
   "name": "python3"
  },
  "language_info": {
   "codemirror_mode": {
    "name": "ipython",
    "version": 3
   },
   "file_extension": ".py",
   "mimetype": "text/x-python",
   "name": "python",
   "nbconvert_exporter": "python",
   "pygments_lexer": "ipython3",
   "version": "3.8.2"
  }
 },
 "nbformat": 4,
 "nbformat_minor": 4
}
