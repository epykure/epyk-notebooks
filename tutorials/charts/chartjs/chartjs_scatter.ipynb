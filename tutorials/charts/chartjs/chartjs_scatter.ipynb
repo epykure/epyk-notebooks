{
 "cells": [
  {
   "cell_type": "markdown",
   "metadata": {},
   "source": [
    "<div style=\"float:left;margin:0 10px 10px 0\" markdown=\"1\">\n",
    "    <a href=\"index.ipynb\">\n",
    "        <img src=\"./../../static/images/epyklogo_whole_small.png\">\n",
    "    </a>\n",
    "</div>"
   ]
  },
  {
   "cell_type": "markdown",
   "metadata": {},
   "source": [
    "# Charting Libraries\n",
    "\n",
    "- [ChartJs](ChartJs.ipynb)\n",
    "- [Plotly](plotly.ipynb)\n",
    "- [C3](c3.ipynb)\n",
    "- [Billboard](billboard.ipynb)\n",
    "- [DC](dc.ipynb)\n",
    "- [Vis](vis.ipynb)\n",
    "- [NVD3](nvd3.ipynb)\n",
    "\n",
    "\n",
    "### But\n",
    "It is also possible to display charts without using any libraries based on [SVG components](svg.ipynb)\n",
    "\n",
    "It is possible to do a lot using [canvas](canvas.ipynb) but Javascript interaction will be more complex. Canvas are more useful to render non interactive images"
   ]
  },
  {
   "cell_type": "code",
   "execution_count": null,
   "metadata": {},
   "outputs": [],
   "source": []
  }
 ],
 "metadata": {
  "kernelspec": {
   "display_name": "Python 3",
   "language": "python",
   "name": "python3"
  },
  "language_info": {
   "codemirror_mode": {
    "name": "ipython",
    "version": 3
   },
   "file_extension": ".py",
   "mimetype": "text/x-python",
   "name": "python",
   "nbconvert_exporter": "python",
   "pygments_lexer": "ipython3",
   "version": "3.8.2"
  }
 },
 "nbformat": 4,
 "nbformat_minor": 4
}
