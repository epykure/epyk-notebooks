{
 "cells": [
  {
   "cell_type": "markdown",
   "metadata": {},
   "source": [
    "<div style=\"float:left;margin:0 10px 10px 0\" markdown=\"1\">\n",
    "    <a href=\"index.ipynb\">\n",
    "        <img src=\"./../../static/images/epyklogo_whole_small.png\">\n",
    "    </a>\n",
    "</div>"
   ]
  },
  {
   "cell_type": "markdown",
   "metadata": {},
   "source": [
    "# Charting Libraries\n",
    "\n",
    "- [ChartJs](ChartJs.ipynb)\n",
    "- [Plotly](plotly.ipynb)\n",
    "- [C3](c3.ipynb)\n",
    "- [Billboard](billboard.ipynb)\n",
    "- [DC](dc.ipynb)\n",
    "- [Vis](vis.ipynb)\n",
    "- [NVD3](nvd3.ipynb)\n",
    "- [D3](d3.ipynb)\n"
   ]
  },
  {
   "cell_type": "code",
   "execution_count": 6,
   "metadata": {
    "scrolled": false
   },
   "outputs": [
    {
     "data": {
      "text/html": [
       "<head>\n",
       "<style>\n",
       "    .cssdivnoborder {margin: 0 ;clear: both ;padding: 0 ;border: 0 ;}\n",
       "\n",
       "</style>\n",
       "<link rel=\"stylesheet\" href=\"https://cdnjs.cloudflare.com/ajax/libs/nvd3/1.8.6/nv.d3.min.css\" type=\"text/css\">\n",
       "<link rel=\"stylesheet\" href=\"https://use.fontawesome.com/releases/v5.13.0/css/all.css\" type=\"text/css\">\n",
       "</head>\n",
       "<body>\n",
       "<div id=\"grid_2394365915776\" style=\"font-size:inherit;font-family:inherit;box-sizing:border-box;width:100%;overflow-x:hidden;padding:0\" class=\"cssdivnoborder container-fluid\"><div id=\"row_2394366059280\" style=\"font-size:inherit;font-family:inherit;box-sizing:border-box;width:100%;justify-content:middle\" class=\"cssdivnoborder row no-gutters\"><div id=\"col_2394366060576\" style=\"font-size:inherit;font-family:inherit;box-sizing:border-box;width:100%;display:inline-block;justify-content:middle\" class=\"cssdivnoborder col\"><canvas id=\"chartpie_2394365916016\" style=\"font-size:inherit;font-family:inherit;box-sizing:border-box;width:100%;height:100px;margin-top:10px\" class=\"cssdivnoborder\"></canvas></div><div id=\"col_2394366060912\" style=\"font-size:inherit;font-family:inherit;box-sizing:border-box;width:100%;display:inline-block;justify-content:middle\" class=\"cssdivnoborder col\"><svg id=\"chartpie_2394365916304\" style=\"font-size:inherit;font-family:inherit;box-sizing:border-box;width:100%;height:100px\" class=\"cssdivnoborder\"></svg></div></div></div>\n",
       "<script>\n",
       "require.config({ paths:{d3: 'https://cdnjs.cloudflare.com/ajax/libs/d3/3.5.17/d3.min', nvd3: 'https://cdnjs.cloudflare.com/ajax/libs/nvd3/1.8.6/nv.d3.min', popper: 'https://cdnjs.cloudflare.com/ajax/libs/popper.js/1.14.6/umd/popper.min', Chart: 'https://cdnjs.cloudflare.com/ajax/libs/Chart.js/2.9.3/Chart.min'}});\n",
       "require(['popper', 'd3'], function (popper, d3) { require(['Chart', 'nvd3'], function (Chart, nvd3) { chartpie_2394365916016_obj = new Chart(document.getElementById('chartpie_2394365916016').getContext(\"2d\"), {type: \"pie\", data: {labels: [\"C\", \"Java\", \"Python\", \"C++\", \"C#\", \"Visual Basic\", \"JavaScript\", \"PHP\", \"SQL\", \"R\"], datasets: [{data: [17.07, 16.28, 9.12, 6.13, 4.29, 4.18, 2.68, 2.49, 2.09, 1.85], backgroundColor: [\"rgba(0, 153, 153, 0.8)\", \"rgba(51, 102, 153, 0.8)\", \"rgba(255, 220, 185, 0.8)\", \"rgba(204, 153, 255, 0.8)\", \"rgba(179, 217, 255, 0.8)\", \"rgba(255, 255, 153, 0.8)\", \"rgba(0, 0, 102, 0.8)\", \"rgba(178, 223, 219, 0.8)\", \"rgba(128, 203, 196, 0.8)\", \"rgba(224, 242, 241, 0.8)\", \"rgba(178, 223, 219, 0.8)\", \"rgba(128, 203, 196, 0.8)\", \"rgba(255, 235, 238, 0.8)\", \"rgba(255, 205, 210, 0.8)\", \"rgba(239, 154, 154, 0.8)\", \"rgba(243, 229, 245, 0.8)\", \"rgba(225, 190, 231, 0.8)\", \"rgba(206, 147, 216, 0.8)\", \"rgba(237, 231, 246, 0.8)\", \"rgba(209, 196, 233, 0.8)\", \"rgba(179, 157, 219, 0.8)\", \"rgba(232, 234, 246, 0.8)\", \"rgba(197, 202, 233, 0.8)\", \"rgba(159, 168, 218, 0.8)\", \"rgba(255, 253, 231, 0.8)\", \"rgba(255, 249, 196, 0.8)\", \"rgba(255, 245, 157, 0.8)\", \"rgba(255, 243, 224, 0.8)\", \"rgba(255, 224, 178, 0.8)\", \"rgba(255, 204, 128, 0.8)\", \"rgba(239, 235, 233, 0.8)\", \"rgba(215, 204, 200, 0.8)\", \"rgba(188, 170, 164, 0.8)\"]}]}, options: {y_columns: [\"rating\"], x_column: \"name\", colors: [\"#009999\", \"#336699\", \"#ffdcb9\", \"#cc99ff\", \"#b3d9ff\", \"#ffff99\", \"#000066\", \"#b2dfdb\", \"#80cbc4\", \"#e0f2f1\", \"#b2dfdb\", \"#80cbc4\", \"#ffebee\", \"#ffcdd2\", \"#ef9a9a\", \"#f3e5f5\", \"#e1bee7\", \"#ce93d8\", \"#ede7f6\", \"#d1c4e9\", \"#b39ddb\", \"#e8eaf6\", \"#c5cae9\", \"#9fa8da\", \"#fffde7\", \"#fff9c4\", \"#fff59d\", \"#fff3e0\", \"#ffe0b2\", \"#ffcc80\", \"#efebe9\", \"#d7ccc8\", \"#bcaaa4\"], attrs: {}}});chartpie_2394365916304_obj = nv.models.pieChart().x(function(d){return d.x}).y(function(d){return d.y}).color([\"#e8f5e9\", \"#c8e6c9\", \"#a5d6a7\", \"#81c784\", \"#66bb6a\", \"#4caf50\", \"#43a047\", \"#388e3c\", \"#2e7d32\", \"#1b5e20\"]);chartpie_2394365916304_obj.xAxis;d3.select('#chartpie_2394365916304').datum([{\"x\": \"C\", \"y\": 17.07}, {\"x\": \"Java\", \"y\": 16.28}, {\"x\": \"Python\", \"y\": 9.12}, {\"x\": \"C++\", \"y\": 6.13}, {\"x\": \"C#\", \"y\": 4.29}, {\"x\": \"Visual Basic\", \"y\": 4.18}, {\"x\": \"JavaScript\", \"y\": 2.68}, {\"x\": \"PHP\", \"y\": 2.49}, {\"x\": \"SQL\", \"y\": 2.09}, {\"x\": \"R\", \"y\": 1.85}]).call(chartpie_2394365916304_obj);nv.utils.windowResize(function() { chartpie_2394365916304_obj.update() }) }) })\n",
       "</script>\n",
       "<body>"
      ],
      "text/plain": [
       "<epyk.core.py.PyOuts.PyOuts at 0x22d7b547250>"
      ]
     },
     "execution_count": 6,
     "metadata": {},
     "output_type": "execute_result"
    }
   ],
   "source": [
    "from epyk.core.Page import Report\n",
    "\n",
    "rptObj = Report()\n",
    "\n",
    "languages = [\n",
    "  {\"name\": 'C', 'type': 'code', 'rating': 17.07, 'change': 12.82},\n",
    "  {\"name\": 'Java', 'type': 'code', 'rating': 16.28, 'change': 0.28},\n",
    "  {\"name\": 'Python', 'type': 'script', 'rating': 9.12, 'change': 1.29},\n",
    "  {\"name\": 'C++', 'type': 'code', 'rating': 6.13, 'change': -1.97},\n",
    "  {\"name\": 'C#', 'type': 'code', 'rating': 4.29, 'change': 0.3},\n",
    "  {\"name\": 'Visual Basic', 'type': 'script', 'rating': 4.18, 'change': -1.01},\n",
    "  {\"name\": 'JavaScript', 'type': 'script', 'rating': 2.68, 'change': -0.01},\n",
    "  {\"name\": 'PHP', 'type': 'script', 'rating': 2.49, 'change': 0},\n",
    "  {\"name\": 'SQL', 'type': 'script', 'rating': 2.09, 'change': -0.47},\n",
    "  {\"name\": 'R', 'type': 'script', 'rating': 1.85, 'change': 0.90},\n",
    "]\n",
    "\n",
    "c1 = rptObj.ui.charts.chartJs.pie(languages, y_columns=['rating'], x_axis=\"name\")\n",
    "c2 = rptObj.ui.charts.nvd3.pie(languages, y_columns=['rating'], x_axis=\"name\")\n",
    "#c3 = rptObj.ui.charts.c3.pie(languages, y_columns=['rating'], x_axis=\"name\")\n",
    "#c4 = rptObj.ui.charts.billboard.pie(languages, y_columns=['rating'], x_axis=\"name\")\n",
    "#c5 = rptObj.ui.charts.plotly.pie(languages, y_columns=['rating'], x_axis=\"name\")\n",
    "#c6 = rptObj.ui.charts.dc.pie(languages, y_column='rating', x_axis=\"name\")\n",
    "\n",
    "rptObj.ui.grid([\n",
    "    [c1, c2],\n",
    "    #\n",
    "    #[c1, c2, c3],\n",
    "    #[c4, c5, c6],\n",
    "])\n",
    "\n",
    "rptObj.outs.jupyter()"
   ]
  },
  {
   "cell_type": "markdown",
   "metadata": {},
   "source": [
    "### But\n",
    "It is also possible to display charts without using any libraries based on [SVG components](svg.ipynb)\n",
    "\n",
    "It is possible to do a lot using [canvas](canvas.ipynb) but Javascript interaction will be more complex. Canvas are more useful to render non interactive images"
   ]
  }
 ],
 "metadata": {
  "kernelspec": {
   "display_name": "Python 3",
   "language": "python",
   "name": "python3"
  },
  "language_info": {
   "codemirror_mode": {
    "name": "ipython",
    "version": 3
   },
   "file_extension": ".py",
   "mimetype": "text/x-python",
   "name": "python",
   "nbconvert_exporter": "python",
   "pygments_lexer": "ipython3",
   "version": "3.8.2"
  }
 },
 "nbformat": 4,
 "nbformat_minor": 4
}
