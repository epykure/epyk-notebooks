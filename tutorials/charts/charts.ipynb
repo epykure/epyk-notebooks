{
 "cells": [
  {
   "cell_type": "markdown",
   "metadata": {},
   "source": [
    "<div style=\"float:left;margin:0 10px 10px 0\" markdown=\"1\">\n",
    "    <a href=\"index.ipynb\">\n",
    "        <img src=\"./../../static/images/epyklogo_whole_small.png\">\n",
    "    </a>\n",
    "</div>"
   ]
  },
  {
   "cell_type": "markdown",
   "metadata": {},
   "source": [
    "# Charting Libraries\n",
    "\n",
    "- [ChartJs](ChartJs.ipynb)\n",
    "- [Plotly](plotly.ipynb)\n",
    "- [C3](c3.ipynb)\n",
    "- [Billboard](billboard.ipynb)\n",
    "- [DC](dc.ipynb)\n",
    "- [Vis](vis.ipynb)\n",
    "- [NVD3](nvd3.ipynb)\n",
    "- [D3](d3.ipynb)\n"
   ]
  },
  {
   "cell_type": "code",
   "execution_count": 17,
   "metadata": {
    "scrolled": false
   },
   "outputs": [
    {
     "data": {
      "text/html": [
       "<head>\n",
       "<style>\n",
       "    .cssdivnoborder {margin: 0 ;clear: both ;padding: 0 ;border: 0 ;}\n",
       "\n",
       "</style>\n",
       "<link rel=\"stylesheet\" href=\"https://use.fontawesome.com/releases/v5.13.0/css/all.css\" type=\"text/css\">\n",
       "<link rel=\"stylesheet\" href=\"https://cdnjs.cloudflare.com/ajax/libs/c3/0.7.15/c3.min.css\" type=\"text/css\">\n",
       "<link rel=\"stylesheet\" href=\"https://cdnjs.cloudflare.com/ajax/libs/dc/3.2.1/dc.min.css\" type=\"text/css\">\n",
       "<link rel=\"stylesheet\" href=\"https://cdnjs.cloudflare.com/ajax/libs/nvd3/1.8.6/nv.d3.min.css\" type=\"text/css\">\n",
       "<link rel=\"stylesheet\" href=\"https://cdnjs.cloudflare.com/ajax/libs/billboard.js/1.12.7/billboard.min.css\" type=\"text/css\">\n",
       "</head>\n",
       "<body>\n",
       "<div id=\"grid_2400415923024\" style=\"font-size:inherit;font-family:inherit;box-sizing:border-box;width:100%;overflow-x:hidden;padding:0\" class=\"cssdivnoborder container-fluid\"><div id=\"row_2400416031984\" style=\"font-size:inherit;font-family:inherit;box-sizing:border-box;width:100%;justify-content:middle\" class=\"cssdivnoborder row no-gutters\"><div id=\"col_2400416033328\" style=\"font-size:inherit;font-family:inherit;box-sizing:border-box;width:100%;display:inline-block;justify-content:middle\" class=\"cssdivnoborder col\"><canvas id=\"chartpie_2400415923360\" style=\"font-size:inherit;font-family:inherit;box-sizing:border-box;width:100%;height:330px;margin-top:10px\" class=\"cssdivnoborder\"></canvas></div><div id=\"col_2400416033664\" style=\"font-size:inherit;font-family:inherit;box-sizing:border-box;width:100%;display:inline-block;justify-content:middle\" class=\"cssdivnoborder col\"><svg id=\"chartpie_2400415923648\" style=\"font-size:inherit;font-family:inherit;box-sizing:border-box;width:100%;height:330px\" class=\"cssdivnoborder\"></svg></div><div id=\"col_2400415985968\" style=\"font-size:inherit;font-family:inherit;box-sizing:border-box;width:100%;display:inline-block;justify-content:middle\" class=\"cssdivnoborder col\"><div id=\"chartpie_2400415917920\" style=\"font-size:inherit;font-family:inherit;box-sizing:border-box;width:100%;height:330px;margin-top:10px\" class=\"cssdivnoborder\"></div></div></div><div id=\"row_2400416032320\" style=\"font-size:inherit;font-family:inherit;box-sizing:border-box;width:100%;justify-content:middle\" class=\"cssdivnoborder row no-gutters\"><div id=\"col_2400415989616\" style=\"font-size:inherit;font-family:inherit;box-sizing:border-box;width:100%;display:inline-block;justify-content:middle\" class=\"cssdivnoborder col\"><div id=\"chartpie_2400415919312\" style=\"font-size:inherit;font-family:inherit;box-sizing:border-box;width:100%;height:330px;margin-top:10px\" class=\"cssdivnoborder\"></div></div><div id=\"col_2400416006208\" style=\"font-size:inherit;font-family:inherit;box-sizing:border-box;width:100%;display:inline-block;justify-content:middle\" class=\"cssdivnoborder col\"><div id=\"pie_2400415919600\" style=\"font-size:inherit;font-family:inherit;box-sizing:border-box;width:100%;height:330px\" class=\"cssdivnoborder\"></div></div><div id=\"col_2400416007504\" style=\"font-size:inherit;font-family:inherit;box-sizing:border-box;width:100%;display:inline-block;justify-content:middle\" class=\"cssdivnoborder col\"><div id=\"chartpie_2400415957920\" style=\"font-size:inherit;font-family:inherit;box-sizing:border-box;width:100%;height:330px;margin:10px 0\" class=\"cssdivnoborder\"></div></div></div></div>\n",
       "<script>\n",
       "require.config({ paths:{d3: 'https://cdnjs.cloudflare.com/ajax/libs/d3/3.5.17/d3.min', Plotly: 'https://cdnjs.cloudflare.com/ajax/libs/plotly.js/1.51.1/plotly.min', popper: 'https://cdnjs.cloudflare.com/ajax/libs/popper.js/1.14.6/umd/popper.min', c3: 'https://cdnjs.cloudflare.com/ajax/libs/c3/0.7.15/c3.min', crossfilter: 'https://cdnjs.cloudflare.com/ajax/libs/crossfilter/1.3.12/crossfilter.min', dc: 'https://cdnjs.cloudflare.com/ajax/libs/dc/3.2.1/dc.min', Chart: 'https://cdnjs.cloudflare.com/ajax/libs/Chart.js/2.9.3/Chart.min', nvd3: 'https://cdnjs.cloudflare.com/ajax/libs/nvd3/1.8.6/nv.d3.min', bb: 'https://cdnjs.cloudflare.com/ajax/libs/billboard.js/1.12.7/billboard.min'}});\n",
       "require(['crossfilter', 'popper', 'd3'], function (crossfilter, popper, d3) { require(['bb', 'nvd3', 'Chart', 'dc', 'c3', 'Plotly'], function (bb, nvd3, Chart, dc, c3, Plotly) { var chartpie_2400415957920_xf = var chartpie_2400415957920_xf = crossfilter([{'name': 'C', 'type': 'code', 'rating': 17.07, 'change': 12.82}, {'name': 'Java', 'type': 'code', 'rating': 16.28, 'change': 0.28}, {'name': 'Python', 'type': 'script', 'rating': 9.12, 'change': 1.29}, {'name': 'C++', 'type': 'code', 'rating': 6.13, 'change': -1.97}, {'name': 'C#', 'type': 'code', 'rating': 4.29, 'change': 0.3}, {'name': 'Visual Basic', 'type': 'script', 'rating': 4.18, 'change': -1.01}, {'name': 'JavaScript', 'type': 'script', 'rating': 2.68, 'change': -0.01}, {'name': 'PHP', 'type': 'script', 'rating': 2.49, 'change': 0}, {'name': 'SQL', 'type': 'script', 'rating': 2.09, 'change': -0.47}, {'name': 'R', 'type': 'script', 'rating': 1.85, 'change': 0.9}]);var chartpie_2400415957920_xf_dim = var chartpie_2400415957920_xf_dim = chartpie_2400415957920_xf.dimension(function(d) { return d[\"name\"] });var chartpie_2400415957920_xf_group = var chartpie_2400415957920_xf_group = chartpie_2400415957920_xf_dim.group().reduceSum(function(d) { return d['rating'] ;});chartpie_2400415923360_obj = new Chart(document.getElementById('chartpie_2400415923360').getContext(\"2d\"), {type: \"pie\", data: {labels: [\"C\", \"Java\", \"Python\", \"C++\", \"C#\", \"Visual Basic\", \"JavaScript\", \"PHP\", \"SQL\", \"R\"], datasets: [{data: [17.07, 16.28, 9.12, 6.13, 4.29, 4.18, 2.68, 2.49, 2.09, 1.85], backgroundColor: [\"rgba(0, 153, 153, 0.8)\", \"rgba(51, 102, 153, 0.8)\", \"rgba(255, 220, 185, 0.8)\", \"rgba(204, 153, 255, 0.8)\", \"rgba(179, 217, 255, 0.8)\", \"rgba(255, 255, 153, 0.8)\", \"rgba(0, 0, 102, 0.8)\", \"rgba(178, 223, 219, 0.8)\", \"rgba(128, 203, 196, 0.8)\", \"rgba(224, 242, 241, 0.8)\", \"rgba(178, 223, 219, 0.8)\", \"rgba(128, 203, 196, 0.8)\", \"rgba(255, 235, 238, 0.8)\", \"rgba(255, 205, 210, 0.8)\", \"rgba(239, 154, 154, 0.8)\", \"rgba(243, 229, 245, 0.8)\", \"rgba(225, 190, 231, 0.8)\", \"rgba(206, 147, 216, 0.8)\", \"rgba(237, 231, 246, 0.8)\", \"rgba(209, 196, 233, 0.8)\", \"rgba(179, 157, 219, 0.8)\", \"rgba(232, 234, 246, 0.8)\", \"rgba(197, 202, 233, 0.8)\", \"rgba(159, 168, 218, 0.8)\", \"rgba(255, 253, 231, 0.8)\", \"rgba(255, 249, 196, 0.8)\", \"rgba(255, 245, 157, 0.8)\", \"rgba(255, 243, 224, 0.8)\", \"rgba(255, 224, 178, 0.8)\", \"rgba(255, 204, 128, 0.8)\", \"rgba(239, 235, 233, 0.8)\", \"rgba(215, 204, 200, 0.8)\", \"rgba(188, 170, 164, 0.8)\"]}]}, options: {y_columns: [\"rating\"], x_column: \"name\", colors: [\"#009999\", \"#336699\", \"#ffdcb9\", \"#cc99ff\", \"#b3d9ff\", \"#ffff99\", \"#000066\", \"#b2dfdb\", \"#80cbc4\", \"#e0f2f1\", \"#b2dfdb\", \"#80cbc4\", \"#ffebee\", \"#ffcdd2\", \"#ef9a9a\", \"#f3e5f5\", \"#e1bee7\", \"#ce93d8\", \"#ede7f6\", \"#d1c4e9\", \"#b39ddb\", \"#e8eaf6\", \"#c5cae9\", \"#9fa8da\", \"#fffde7\", \"#fff9c4\", \"#fff59d\", \"#fff3e0\", \"#ffe0b2\", \"#ffcc80\", \"#efebe9\", \"#d7ccc8\", \"#bcaaa4\"], attrs: {}}});chartpie_2400415923648_obj = nv.models.pieChart().x(function(d){return d.x}).y(function(d){return d.y}).color([\"#e8f5e9\", \"#c8e6c9\", \"#a5d6a7\", \"#81c784\", \"#66bb6a\", \"#4caf50\", \"#43a047\", \"#388e3c\", \"#2e7d32\", \"#1b5e20\"]);chartpie_2400415923648_obj.xAxis;d3.select('#chartpie_2400415923648').datum([{\"x\": \"C\", \"y\": 17.07}, {\"x\": \"Java\", \"y\": 16.28}, {\"x\": \"Python\", \"y\": 9.12}, {\"x\": \"C++\", \"y\": 6.13}, {\"x\": \"C#\", \"y\": 4.29}, {\"x\": \"Visual Basic\", \"y\": 4.18}, {\"x\": \"JavaScript\", \"y\": 2.68}, {\"x\": \"PHP\", \"y\": 2.49}, {\"x\": \"SQL\", \"y\": 2.09}, {\"x\": \"R\", \"y\": 1.85}]).call(chartpie_2400415923648_obj);nv.utils.windowResize(function() { chartpie_2400415923648_obj.update() });chartpie_2400415917920_obj = c3.generate({bindto: \"#chartpie_2400415917920\", data: {columns: [[\"C\", \"C\"], [\"Java\", \"Java\"], [\"Python\", \"Python\"], [\"C++\", \"C++\"], [\"C#\", \"C#\"], [\"Visual Basic\", \"Visual Basic\"], [\"JavaScript\", \"JavaScript\"], [\"PHP\", \"PHP\"], [\"SQL\", \"SQL\"], [\"R\", \"R\"]], colors: {\"C\": \"#e8f5e9\", \"Java\": \"#c8e6c9\", \"Python\": \"#a5d6a7\", \"C++\": \"#81c784\", \"C#\": \"#66bb6a\", \"Visual Basic\": \"#4caf50\", \"JavaScript\": \"#43a047\", \"PHP\": \"#388e3c\", \"SQL\": \"#2e7d32\", \"R\": \"#1b5e20\"}, types: {\"C\": \"pie\", \"Java\": \"pie\", \"Python\": \"pie\", \"C++\": \"pie\", \"C#\": \"pie\", \"Visual Basic\": \"pie\", \"JavaScript\": \"pie\", \"PHP\": \"pie\", \"SQL\": \"pie\", \"R\": \"pie\"}}});chartpie_2400415919312_obj = bb.generate({bindto: \"#chartpie_2400415919312\", data: {columns: [[\"C\", 17.07], [\"Java\", 16.28], [\"Python\", 9.12], [\"C++\", 6.13], [\"C#\", 4.29], [\"Visual Basic\", 4.18], [\"JavaScript\", 2.68], [\"PHP\", 2.49], [\"SQL\", 2.09], [\"R\", 1.85]], colors: {\"C\": \"#e8f5e9\", \"Java\": \"#c8e6c9\", \"Python\": \"#a5d6a7\", \"C++\": \"#81c784\", \"C#\": \"#66bb6a\", \"Visual Basic\": \"#4caf50\", \"JavaScript\": \"#43a047\", \"PHP\": \"#388e3c\", \"SQL\": \"#2e7d32\", \"R\": \"#1b5e20\"}, types: {\"C\": \"pie\", \"Java\": \"pie\", \"Python\": \"pie\", \"C++\": \"pie\", \"C#\": \"pie\", \"Visual Basic\": \"pie\", \"JavaScript\": \"pie\", \"PHP\": \"pie\", \"SQL\": \"pie\", \"R\": \"pie\"}}});pie_2400415919600_obj = Plotly.newPlot(document.getElementById('pie_2400415919600'), [{label: [\"C\", \"Java\", \"Python\", \"C++\", \"C#\", \"Visual Basic\", \"JavaScript\", \"PHP\", \"SQL\", \"R\"], values: [17.07, 16.28, 9.12, 6.13, 4.29, 4.18, 2.68, 2.49, 2.09, 1.85], type: \"pie\", marker: {colors: [\"#009999\", \"#336699\", \"#ffdcb9\", \"#cc99ff\", \"#b3d9ff\", \"#ffff99\", \"#000066\", \"#b2dfdb\", \"#80cbc4\", \"#e0f2f1\", \"#b2dfdb\", \"#80cbc4\", \"#ffebee\", \"#ffcdd2\", \"#ef9a9a\", \"#f3e5f5\", \"#e1bee7\", \"#ce93d8\", \"#ede7f6\", \"#d1c4e9\", \"#b39ddb\", \"#e8eaf6\", \"#c5cae9\", \"#9fa8da\", \"#fffde7\", \"#fff9c4\", \"#fff59d\", \"#fff3e0\", \"#ffe0b2\", \"#ffcc80\", \"#efebe9\", \"#d7ccc8\", \"#bcaaa4\"]}}], {}, {y_columns: [\"rating\"], x_column: \"name\", type: \"pie\", marker: {\"colors\": [\"#009999\", \"#336699\", \"#ffdcb9\", \"#cc99ff\", \"#b3d9ff\", \"#ffff99\", \"#000066\", \"#b2dfdb\", \"#80cbc4\", \"#e0f2f1\", \"#b2dfdb\", \"#80cbc4\", \"#ffebee\", \"#ffcdd2\", \"#ef9a9a\", \"#f3e5f5\", \"#e1bee7\", \"#ce93d8\", \"#ede7f6\", \"#d1c4e9\", \"#b39ddb\", \"#e8eaf6\", \"#c5cae9\", \"#9fa8da\", \"#fffde7\", \"#fff9c4\", \"#fff59d\", \"#fff3e0\", \"#ffe0b2\", \"#ffcc80\", \"#efebe9\", \"#d7ccc8\", \"#bcaaa4\"]}, mode: null, attrs: {\"orientation\": \"h\"}});var chart_chartpie_2400415957920 = new dc.pieChart('#chartpie_2400415957920'); chart_chartpie_2400415957920.height(330).dimension(chartpie_2400415957920_xf_dim).group(chartpie_2400415957920_xf_group); chart_chartpie_2400415957920.render() }) })\n",
       "</script>\n",
       "<body>"
      ],
      "text/plain": [
       "<epyk.core.py.PyOuts.PyOuts at 0x22ee3f03be0>"
      ]
     },
     "execution_count": 17,
     "metadata": {},
     "output_type": "execute_result"
    }
   ],
   "source": [
    "from epyk.core.Page import Report\n",
    "\n",
    "rptObj = Report()\n",
    "\n",
    "languages = [\n",
    "  {\"name\": 'C', 'type': 'code', 'rating': 17.07, 'change': 12.82},\n",
    "  {\"name\": 'Java', 'type': 'code', 'rating': 16.28, 'change': 0.28},\n",
    "  {\"name\": 'Python', 'type': 'script', 'rating': 9.12, 'change': 1.29},\n",
    "  {\"name\": 'C++', 'type': 'code', 'rating': 6.13, 'change': -1.97},\n",
    "  {\"name\": 'C#', 'type': 'code', 'rating': 4.29, 'change': 0.3},\n",
    "  {\"name\": 'Visual Basic', 'type': 'script', 'rating': 4.18, 'change': -1.01},\n",
    "  {\"name\": 'JavaScript', 'type': 'script', 'rating': 2.68, 'change': -0.01},\n",
    "  {\"name\": 'PHP', 'type': 'script', 'rating': 2.49, 'change': 0},\n",
    "  {\"name\": 'SQL', 'type': 'script', 'rating': 2.09, 'change': -0.47},\n",
    "  {\"name\": 'R', 'type': 'script', 'rating': 1.85, 'change': 0.90},\n",
    "]\n",
    "\n",
    "c1 = rptObj.ui.charts.chartJs.pie(languages, y_columns=['rating'], x_axis=\"name\")\n",
    "c2 = rptObj.ui.charts.nvd3.pie(languages, y_columns=['rating'], x_axis=\"name\")\n",
    "c3 = rptObj.ui.charts.c3.pie(languages, y_columns=['rating'], x_axis=\"name\")\n",
    "c4 = rptObj.ui.charts.billboard.pie(languages, y_columns=['rating'], x_axis=\"name\")\n",
    "c5 = rptObj.ui.charts.plotly.pie(languages, y_columns=['rating'], x_axis=\"name\")\n",
    "c6 = rptObj.ui.charts.dc.pie(languages, y_column='rating', x_axis=\"name\")\n",
    "\n",
    "rptObj.ui.grid([\n",
    "    [c1, c2, c3],\n",
    "    [c4, c5, c6],\n",
    "])\n",
    "\n",
    "rptObj.outs.jupyter()"
   ]
  },
  {
   "cell_type": "markdown",
   "metadata": {},
   "source": [
    "### But\n",
    "It is also possible to display charts without using any libraries based on [SVG components](svg.ipynb)\n",
    "\n",
    "It is possible to do a lot using [canvas](canvas.ipynb) but Javascript interaction will be more complex. Canvas are more useful to render non interactive images"
   ]
  }
 ],
 "metadata": {
  "kernelspec": {
   "display_name": "Python 3",
   "language": "python",
   "name": "python3"
  },
  "language_info": {
   "codemirror_mode": {
    "name": "ipython",
    "version": 3
   },
   "file_extension": ".py",
   "mimetype": "text/x-python",
   "name": "python",
   "nbconvert_exporter": "python",
   "pygments_lexer": "ipython3",
   "version": "3.8.2"
  }
 },
 "nbformat": 4,
 "nbformat_minor": 4
}
