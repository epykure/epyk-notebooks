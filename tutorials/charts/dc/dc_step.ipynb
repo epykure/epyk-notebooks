{
 "cells": [
  {
   "cell_type": "markdown",
   "metadata": {},
   "source": [
    "<div style=\"float:left;margin:0 10px 10px 0\" markdown=\"1\">\n",
    "    <a href=\"../../../index.ipynb\">\n",
    "        <img src=\"./../../../static/images/epyklogo_whole_small.png\">\n",
    "    </a>\n",
    "</div>"
   ]
  },
  {
   "cell_type": "markdown",
   "metadata": {},
   "source": [
    "# DC \n",
    "\n",
    "\n",
    "## Step Chart\n",
    "\n",
    "[here](https://dc-js.github.io/dc.js/)"
   ]
  },
  {
   "cell_type": "code",
   "execution_count": 2,
   "metadata": {},
   "outputs": [
    {
     "data": {
      "text/html": [
       "<head>\n",
       "<style>\n",
       "    .cssdivnoborder {margin: 0 ;clear: both ;padding: 0 ;border: 0 ;}\n",
       "\n",
       "</style>\n",
       "<link rel=\"stylesheet\" href=\"https://cdnjs.cloudflare.com/ajax/libs/dc/3.2.1/dc.min.css\" type=\"text/css\">\n",
       "</head>\n",
       "<body>\n",
       "<div id=\"chartseries_2449664181152\" style=\"font-size:inherit;font-family:inherit;box-sizing:border-box;width:100%;height:330px;margin:10px 0\" class=\"cssdivnoborder\"></div>\n",
       "<script>\n",
       "require.config({ paths:{crossfilter2: 'https://cdnjs.cloudflare.com/ajax/libs/crossfilter/1.3.12/crossfilter.min', d3: 'https://cdnjs.cloudflare.com/ajax/libs/d3/5.16.0/d3.min', dc: 'https://cdnjs.cloudflare.com/ajax/libs/dc/3.2.1/dc.min'}});\n",
       "require(['d3', 'crossfilter2'], function (d3, crossfilter2) { require(['dc'], function (dc) { var chartseries_2449664181152_xf = crossfilter([{'x': 17.07, 'name': 'Series rating', 'y': 17.07}, {'x': 17.07, 'name': 'Series change', 'y': 12.82}, {'x': 16.28, 'name': 'Series rating', 'y': 16.28}, {'x': 16.28, 'name': 'Series change', 'y': 0.28}, {'x': 9.12, 'name': 'Series rating', 'y': 9.12}, {'x': 9.12, 'name': 'Series change', 'y': 1.29}, {'x': 6.13, 'name': 'Series rating', 'y': 6.13}, {'x': 6.13, 'name': 'Series change', 'y': -1.97}, {'x': 4.29, 'name': 'Series rating', 'y': 4.29}, {'x': 4.29, 'name': 'Series change', 'y': 0.3}, {'x': 4.18, 'name': 'Series rating', 'y': 4.18}, {'x': 4.18, 'name': 'Series change', 'y': -1.01}, {'x': 2.68, 'name': 'Series rating', 'y': 2.68}, {'x': 2.68, 'name': 'Series change', 'y': -0.01}, {'x': 2.49, 'name': 'Series rating', 'y': 2.49}, {'x': 2.49, 'name': 'Series change', 'y': 0}, {'x': 2.09, 'name': 'Series rating', 'y': 2.09}, {'x': 2.09, 'name': 'Series change', 'y': -0.47}, {'x': 1.85, 'name': 'Series rating', 'y': 1.85}, {'x': 1.85, 'name': 'Series change', 'y': 0.9}]);var chartseries_2449664181152_xf_dim = chartseries_2449664181152_xf.dimension(function(d) { return [d[\"x\"], d[\"name\"]] });var chartseries_2449664181152_xf_group = chartseries_2449664181152_xf_dim.group().reduceSum(function(d) { return d['y'] ;});var chart_chartseries_2449664181152 = new dc.seriesChart('#chartseries_2449664181152'); chart_chartseries_2449664181152.chart(function(c) { return new dc.lineChart(c).renderArea(true).curve(d3.curveStepBefore); }).height(330).x(d3.scaleLinear().domain([0,20])).seriesAccessor(function(d) { return d.key[1]; }).keyAccessor(function(d) {return +d.key[0]; }).valueAccessor(function(d) {return d.value; }).elasticY(true).dimension(chartseries_2449664181152_xf_dim).group(chartseries_2449664181152_xf_group); chart_chartseries_2449664181152.render() }) })\n",
       "</script>\n",
       "<body>"
      ],
      "text/plain": [
       "<epyk.core.py.PyOuts.PyOuts at 0x23a5b5d70d0>"
      ]
     },
     "execution_count": 2,
     "metadata": {},
     "output_type": "execute_result"
    }
   ],
   "source": [
    "from epyk.core.Page import Report\n",
    "\n",
    "rptObj = Report()\n",
    "\n",
    "languages = [\n",
    "  {\"name\": 'C', 'type': 'code', 'rating': 17.07, 'change': 12.82},\n",
    "  {\"name\": 'Java', 'type': 'code', 'rating': 16.28, 'change': 0.28},\n",
    "  {\"name\": 'Python', 'type': 'script', 'rating': 9.12, 'change': 1.29},\n",
    "  {\"name\": 'C++', 'type': 'code', 'rating': 6.13, 'change': -1.97},\n",
    "  {\"name\": 'C#', 'type': 'code', 'rating': 4.29, 'change': 0.3},\n",
    "  {\"name\": 'Visual Basic', 'type': 'script', 'rating': 4.18, 'change': -1.01},\n",
    "  {\"name\": 'JavaScript', 'type': 'script', 'rating': 2.68, 'change': -0.01},\n",
    "  {\"name\": 'PHP', 'type': 'script', 'rating': 2.49, 'change': 0},\n",
    "  {\"name\": 'SQL', 'type': 'script', 'rating': 2.09, 'change': -0.47},\n",
    "  {\"name\": 'R', 'type': 'script', 'rating': 1.85, 'change': 0.90},\n",
    "]\n",
    "\n",
    "c = rptObj.ui.charts.dc.step(languages, y_columns=[\"rating\", 'change'], x_axis='rating')\n",
    "\n",
    "rptObj.outs.jupyter()"
   ]
  },
  {
   "cell_type": "markdown",
   "metadata": {},
   "source": [
    "For more details about this charts and the various options and properties available please refer to the [official website](https://www.chartjs.org/samples/latest/)\n",
    "\n",
    "Anything on the website should be available in the Python interface.\n"
   ]
  },
  {
   "cell_type": "markdown",
   "metadata": {},
   "source": [
    "<a href=\"../charts.ipynb\" target=\"_self\">Go back to the Chart Home page</a>\n",
    "<hr>\n",
    "Do not forget that this is a collaborative framework so do not hesitate to give feedbacks and like the different repository to get more visbility.\n",
    "\n",
    "Also any help is more than welcome !"
   ]
  }
 ],
 "metadata": {
  "kernelspec": {
   "display_name": "Python 3",
   "language": "python",
   "name": "python3"
  },
  "language_info": {
   "codemirror_mode": {
    "name": "ipython",
    "version": 3
   },
   "file_extension": ".py",
   "mimetype": "text/x-python",
   "name": "python",
   "nbconvert_exporter": "python",
   "pygments_lexer": "ipython3",
   "version": "3.8.2"
  }
 },
 "nbformat": 4,
 "nbformat_minor": 4
}
