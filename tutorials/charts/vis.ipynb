{
 "cells": [
  {
   "cell_type": "markdown",
   "metadata": {},
   "source": [
    "<div style=\"float:left;margin:0 10px 10px 0\" markdown=\"1\">\n",
    "    <a href=\"index.ipynb\">\n",
    "        <img src=\"./../../static/images/epyklogo_whole_small.png\">\n",
    "    </a>\n",
    "</div>"
   ]
  },
  {
   "cell_type": "markdown",
   "metadata": {},
   "source": [
    "# Vis\n",
    "\n",
    "\n",
    "Chart from Vis.JS [component](00_components.ipynb) in Epyk will be using the property vis from the ui.charts property.\n",
    "\n",
    "<i>the ui entry point will give you access to all the registered components.\n",
    "Different flavour of buttons are available in the framework.</i>\n",
    "\n",
    "\n",
    "## Available Charts\n",
    "\n",
    "- [Line Chart]()\n",
    "- [Scatter Chart]()\n",
    "- [Bar Chart]()\n",
    "- [Surface Chart]()\n",
    "- [Scatter 3D Chart]()\n",
    "- [Series 3D Chart]()\n",
    "- [Line 3D Chart]()\n",
    "- [Bar 3D Chart]()\n",
    "- [Timeline]()\n",
    "- [Network]()\n",
    "\n",
    "\n",
    "## Example of Charts"
   ]
  },
  {
   "cell_type": "code",
   "execution_count": 4,
   "metadata": {},
   "outputs": [
    {
     "data": {
      "text/html": [
       "<head>\n",
       "<style>\n",
       "    .cssdivnoborder {margin: 0 ;clear: both ;padding: 0 ;border: 0 ;}\n",
       "\n",
       "</style>\n",
       "<link rel=\"stylesheet\" href=\"https://cdnjs.cloudflare.com/ajax/libs/vis/4.21.0/vis.min.css\" type=\"text/css\">\n",
       "</head>\n",
       "<body>\n",
       "<div id=\"charttimeline_2090434372944\" style=\"font-size:inherit;font-family:inherit;box-sizing:border-box;width:100%;height:330px;margin-top:10px;display:inline-block\" class=\"cssdivnoborder\"></div>\n",
       "<script>\n",
       "var jQuery = $;\n",
       "require.config({ paths:{vis: 'https://cdnjs.cloudflare.com/ajax/libs/vis/4.21.0/vis.min'}});\n",
       "require(['vis'], function (vis) { var charttimeline_2090434372944_obj_group = new vis.DataSet(); var charttimeline_2090434372944_obj = new vis.Timeline(document.getElementById('charttimeline_2090434372944'), [{'start': '2020-05-05T09:56:22.152Z', 'content': '\"89km NNW of Fort Yukon', 'group': 0}, {'start': '2020-05-05T09:55:35.860Z', 'content': '\"9km N of Running Springs', 'group': 0}, {'start': '2020-05-05T09:51:17.860Z', 'content': '\"11km SW of Searles Valley', 'group': 0}, {'start': '2020-05-05T09:48:42.030Z', 'content': '\"7km NW of The Geysers', 'group': 0}, {'start': '2020-05-05T09:25:25.348Z', 'content': '\"14km SSE of Soldotna', 'group': 0}, {'start': '2020-05-05T09:22:28.420Z', 'content': '\"11km NNE of Coso Junction', 'group': 0}, {'start': '2020-05-05T09:12:11.879Z', 'content': '\"47km NNW of Talkeetna', 'group': 0}, {'start': '2020-05-05T09:10:14.080Z', 'content': '\"19km E of Little Lake', 'group': 0}, {'start': '2020-05-05T09:00:09.098Z', 'content': '\"72km SSW of Kobuk', 'group': 0}, {'start': '2020-05-05T08:52:28.100Z', 'content': '\"1km N of Long Beach', 'group': 0}, {'start': '2020-05-05T08:40:54.170Z', 'content': '\"26km SSW of Ocotillo Wells', 'group': 0}, {'start': '2020-05-05T08:35:31.860Z', 'content': '\"39km SSW of Hawthorne', 'group': 0}, {'start': '2020-05-05T08:33:37.850Z', 'content': '\"18km ESE of Anza', 'group': 0}, {'start': '2020-05-05T08:04:46.877Z', 'content': '\"153km NW of Neiafu', 'group': 0}, {'start': '2020-05-05T07:59:50.890Z', 'content': '\"7km ENE of Pahala', 'group': 0}, {'start': '2020-05-05T07:52:10.320Z', 'content': '\"7km W of Cobb', 'group': 0}, {'start': '2020-05-05T07:50:30.040Z', 'content': '\"9km NE of Aguanga', 'group': 0}, {'start': '2020-05-05T07:42:25.520Z', 'content': '\"5km S of Pahala', 'group': 0}, {'start': '2020-05-05T07:30:44.230Z', 'content': '\"23km ESE of Little Lake', 'group': 0}, {'start': '2020-05-05T07:28:00.400Z', 'content': '\"5km W of Cobb', 'group': 0}, {'start': '2020-05-05T07:22:33.400Z', 'content': '\"52km WSW of Goldfield', 'group': 0}, {'start': '2020-05-05T07:13:08.720Z', 'content': '\"26km NW of Ocotillo', 'group': 0}, {'start': '2020-05-05T07:09:50.080Z', 'content': '\"8km W of Cobb', 'group': 0}, {'start': '2020-05-05T07:06:51.100Z', 'content': '\"10km NE of Aguanga', 'group': 0}, {'start': '2020-05-05T07:06:39.970Z', 'content': '\"32km NNE of Redoubt Volcano', 'group': 0}, {'start': '2020-05-05T07:00:51.000Z', 'content': '\"4km SSE of Pahala', 'group': 0}, {'start': '2020-05-05T06:58:45.120Z', 'content': '\"26km SSW of Ocotillo Wells', 'group': 0}, {'start': '2020-05-05T06:57:45.850Z', 'content': '\"15km W of Searles Valley', 'group': 0}, {'start': '2020-05-05T06:52:57.550Z', 'content': '\"13km W of Searles Valley', 'group': 0}, {'start': '2020-05-05T06:41:33.010Z', 'content': '\"17km ESE of Anza', 'group': 0}], {editable: true}) })\n",
       "</script>\n",
       "<body>"
      ],
      "text/plain": [
       "<epyk.core.py.PyOuts.PyOuts at 0x1e6b5ffe310>"
      ]
     },
     "execution_count": 4,
     "metadata": {},
     "output_type": "execute_result"
    }
   ],
   "source": [
    "from epyk.core.Page import Report\n",
    "from epyk.tests import data_urls\n",
    "\n",
    "rptObj = Report()\n",
    "\n",
    "data_earth = rptObj.py.requests.csv(data_urls.DATA_EARTHQUAKE)\n",
    "\n",
    "timeline = rptObj.ui.charts.vis.timeline(data_earth[:30], y_columns=[\"place\"], x_axis='time')\n",
    "\n",
    "rptObj.outs.jupyter()"
   ]
  },
  {
   "cell_type": "code",
   "execution_count": 6,
   "metadata": {},
   "outputs": [
    {
     "data": {
      "text/html": [
       "<head>\n",
       "<style>\n",
       "    .cssdivnoborder {margin: 0 ;clear: both ;padding: 0 ;border: 0 ;}\n",
       "\n",
       "</style>\n",
       "<link rel=\"stylesheet\" href=\"https://cdnjs.cloudflare.com/ajax/libs/vis/4.21.0/vis.min.css\" type=\"text/css\">\n",
       "</head>\n",
       "<body>\n",
       "<div id=\"chartnetwork_2090438508752\" style=\"font-size:inherit;font-family:inherit;box-sizing:border-box;width:100%;height:330px;margin-top:10px;display:inline-block\" class=\"cssdivnoborder\"></div>\n",
       "<script>\n",
       "var jQuery = $;\n",
       "require.config({ paths:{vis: 'https://cdnjs.cloudflare.com/ajax/libs/vis/4.21.0/vis.min'}});\n",
       "require(['vis'], function (vis) { var chartnetwork_2090438508752_obj_group = new vis.DataSet(); var chartnetwork_2090438508752_obj = new vis.Network(document.getElementById('chartnetwork_2090438508752'), {'nodes': [{'label': 'A', 'group': 0, 'id': 0}, {'label': 'B', 'group': 0, 'id': 1}], 'edges': [{'from': 0, 'to': 1}]}, chartnetwork_2090438508752_obj_group, {height: 330}) })\n",
       "</script>\n",
       "<body>"
      ],
      "text/plain": [
       "<epyk.core.py.PyOuts.PyOuts at 0x1e6b798cac0>"
      ]
     },
     "execution_count": 6,
     "metadata": {},
     "output_type": "execute_result"
    }
   ],
   "source": [
    "from epyk.core.Page import Report\n",
    "\n",
    "rptObj = Report()\n",
    "\n",
    "data_earth = rptObj.py.requests.csv(data_urls.DATA_EARTHQUAKE)\n",
    "\n",
    "network = rptObj.ui.charts.vis.network()\n",
    "network.add_node(\"A\")\n",
    "network.add_node(\"B\")\n",
    "network.add_edge(0, 1)\n",
    "\n",
    "rptObj.outs.jupyter()"
   ]
  },
  {
   "cell_type": "markdown",
   "metadata": {},
   "source": [
    "<a href=\"charts.ipynb\" target=\"_self\">Go back to the Chart Home page</a>\n",
    "<hr>\n",
    "Do not forget that this is a collaborative framework so do not hesitate to give feedbacks and like the different repository to get more visbility.\n",
    "\n",
    "Also any help is more than welcome !"
   ]
  }
 ],
 "metadata": {
  "kernelspec": {
   "display_name": "Python 3",
   "language": "python",
   "name": "python3"
  },
  "language_info": {
   "codemirror_mode": {
    "name": "ipython",
    "version": 3
   },
   "file_extension": ".py",
   "mimetype": "text/x-python",
   "name": "python",
   "nbconvert_exporter": "python",
   "pygments_lexer": "ipython3",
   "version": "3.8.2"
  }
 },
 "nbformat": 4,
 "nbformat_minor": 4
}
