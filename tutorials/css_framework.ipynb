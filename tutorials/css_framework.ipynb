{
 "cells": [
  {
   "cell_type": "markdown",
   "metadata": {},
   "source": [
    "<div style=\"float:left;margin:0 10px 10px 0\" markdown=\"1\">\n",
    "    <a href=\"../index.ipynb\">\n",
    "        <img src=\"../static/images/epyklogo_whole_small.png\">\n",
    "    </a>\n",
    "</div>"
   ]
  },
  {
   "cell_type": "markdown",
   "metadata": {},
   "source": [
    "# CSS Framework"
   ]
  },
  {
   "cell_type": "markdown",
   "metadata": {},
   "source": [
    "CSS can be changed in a report in multiple ways.\n"
   ]
  },
  {
   "cell_type": "code",
   "execution_count": 1,
   "metadata": {},
   "outputs": [
    {
     "data": {
      "text/html": [
       "<head>\n",
       "<style>\n",
       "    .cssdivnoborder {margin: 0 ;clear: both ;padding: 0 ;border: 0 ;}\n",
       "\n",
       "</style>\n",
       "\n",
       "</head>\n",
       "<body>\n",
       "<div id=\"div_2019196151264\" style=\"font-size:12px;vertical-align:middle;box-sizing:border-box;width:100%;text-align:left\" class=\"cssdivnoborder\">This is a text</div>\n",
       "<script>\n",
       "var jQuery = $;\n",
       "require.config({ paths:{}});\n",
       "\n",
       "</script>\n",
       "<body>"
      ],
      "text/plain": [
       "<epyk.core.py.PyOuts.PyOuts at 0x1d620ec7670>"
      ]
     },
     "execution_count": 1,
     "metadata": {},
     "output_type": "execute_result"
    }
   ],
   "source": [
    "from epyk.core.Page import Report\n",
    "\n",
    "# Create a basic report object\n",
    "rptObj = Report()\n",
    "\n",
    "div = rptObj.ui.div(\"This is a text\")\n",
    "\n",
    "rptObj.outs.jupyter()"
   ]
  },
  {
   "cell_type": "markdown",
   "metadata": {},
   "source": [
    "## Add CSS Style\n",
    "\n",
    "By using the css property to the style property of a component it is possible to change the CSS inline definition of the final HTML object. It is a standard and quick way to change CSS style.\n",
    "\n",
    "Also a shortcut on the component is available to do the same thing. \n",
    "\n",
    "This is there to provide a similar interface than the one available in Jquery\n",
    "\n",
    "So basically the below component can change CSS using one of the two below ways"
   ]
  },
  {
   "cell_type": "code",
   "execution_count": 3,
   "metadata": {},
   "outputs": [
    {
     "data": {
      "text/html": [
       "<head>\n",
       "<style>\n",
       "    .cssdivnoborder {margin: 0 ;clear: both ;padding: 0 ;border: 0 ;}\n",
       "\n",
       "</style>\n",
       "\n",
       "</head>\n",
       "<body>\n",
       "<div id=\"div_2019196397312\" style=\"font-size:12px;vertical-align:middle;box-sizing:border-box;width:100%;text-align:left;color:red;text-decoration:underline\" class=\"cssdivnoborder\">This is a text</div>\n",
       "<script>\n",
       "var jQuery = $;\n",
       "require.config({ paths:{}});\n",
       "\n",
       "</script>\n",
       "<body>"
      ],
      "text/plain": [
       "<epyk.core.py.PyOuts.PyOuts at 0x1d6217a0cd0>"
      ]
     },
     "execution_count": 3,
     "metadata": {},
     "output_type": "execute_result"
    }
   ],
   "source": [
    "from epyk.core.Page import Report\n",
    "\n",
    "# Create a basic report object\n",
    "rptObj = Report()\n",
    "\n",
    "div = rptObj.ui.div(\"This is a text\")\n",
    "div.style.css.color = 'red'\n",
    "div.css({'text-decoration': 'underline'})\n",
    "\n",
    "rptObj.outs.jupyter()"
   ]
  },
  {
   "cell_type": "markdown",
   "metadata": {},
   "source": [
    "For any simple on mouse hover style it is possible to use the hover() function attached to the style property of any HTML component. This will change the final structure of the report and put all the inline CSS to a dedicated class.\n",
    "\n",
    "The ID of the class will be the ID of the component. By default the component ID will be set by the id() function."
   ]
  },
  {
   "cell_type": "code",
   "execution_count": 7,
   "metadata": {},
   "outputs": [
    {
     "data": {
      "text/html": [
       "<head>\n",
       "<style>\n",
       "    .cssdivnoborder {margin: 0 ;clear: both ;padding: 0 ;border: 0 ;}\n",
       ".style_div_2019196715360 {font-size: 12px ;vertical-align: middle ;box-sizing: border-box ;width: 100% ;text-align: left ;color: red ;}\n",
       ".style_div_2019196715360:hover {text-decoration: underline ;}\n",
       "\n",
       "</style>\n",
       "\n",
       "</head>\n",
       "<body>\n",
       "<div id=\"div_2019196715360\" class=\"cssdivnoborder style_div_2019196715360\">This is a text</div>\n",
       "<script>\n",
       "var jQuery = $;\n",
       "require.config({ paths:{}});\n",
       "\n",
       "</script>\n",
       "<body>"
      ],
      "text/plain": [
       "<epyk.core.py.PyOuts.PyOuts at 0x1d6217a0940>"
      ]
     },
     "execution_count": 7,
     "metadata": {},
     "output_type": "execute_result"
    }
   ],
   "source": [
    "from epyk.core.Page import Report\n",
    "\n",
    "# Create a basic report object\n",
    "rptObj = Report()\n",
    "\n",
    "div = rptObj.ui.div(\"This is a text\")\n",
    "div.style.css.color = 'red'\n",
    "div.style.hover({'text-decoration': 'underline'})\n",
    "\n",
    "rptObj.outs.jupyter()"
   ]
  },
  {
   "cell_type": "markdown",
   "metadata": {},
   "source": [
    "## Create dedicated CSS Class\n",
    "\n",
    "For more specific cases it is also possible to create a dedicated CSS class.\n",
    "\n",
    "This will register the class and provide you with a classname which can be used for multiple component.\n",
    "It is provide you a simple way to centralise configuration and generate a clean CSS definition accross multiple pages in your website."
   ]
  },
  {
   "cell_type": "code",
   "execution_count": 9,
   "metadata": {},
   "outputs": [
    {
     "data": {
      "text/html": [
       "<head>\n",
       "<style>\n",
       "    .cssdivnoborder {margin: 0 ;clear: both ;padding: 0 ;border: 0 ;}\n",
       ".csshovercolor {color: blue ;cursor: pointer ;}\n",
       ".csshovercolor:hover {color: orange ;}\n",
       "\n",
       "</style>\n",
       "\n",
       "</head>\n",
       "<body>\n",
       "<div id=\"div_2019196704368\" style=\"font-size:12px;vertical-align:middle;box-sizing:border-box;width:100%;text-align:left\" class=\"cssdivnoborder csshovercolor\">This is a text</div>\n",
       "<script>\n",
       "var jQuery = $;\n",
       "require.config({ paths:{}});\n",
       "\n",
       "</script>\n",
       "<body>"
      ],
      "text/plain": [
       "<epyk.core.py.PyOuts.PyOuts at 0x1d621809be0>"
      ]
     },
     "execution_count": 9,
     "metadata": {},
     "output_type": "execute_result"
    }
   ],
   "source": [
    "from epyk.core.Page import Report\n",
    "from epyk.core.css.styles.classes import CssStyle\n",
    "\n",
    "# Create a basic report object\n",
    "rptObj = Report()\n",
    "\n",
    "class CssHoverColor(CssStyle.Style):\n",
    "  _attrs = {'color': 'blue', 'cursor': 'pointer'}\n",
    "  _hover = {'color': 'orange'}\n",
    "    \n",
    "div = rptObj.ui.div(\"This is a text\")\n",
    "div.style.add_classes.custom(CssHoverColor)\n",
    "\n",
    "rptObj.outs.jupyter()"
   ]
  },
  {
   "cell_type": "markdown",
   "metadata": {},
   "source": [
    "## Example of inline CSS\n",
    "\n",
    "The below will show some use cases but also the way some centralised CSS styles are stored and can be overriden in the framework or in your report.\n",
    "\n",
    "The entire framework will rely on the module Default on the CSS style to retrieve all the default values. So changing one of those values will impact all the reports."
   ]
  },
  {
   "cell_type": "code",
   "execution_count": 12,
   "metadata": {},
   "outputs": [
    {
     "data": {
      "text/html": [
       "<head>\n",
       "<style>\n",
       "    .cssdivnoborder {margin: 0 ;clear: both ;padding: 0 ;border: 0 ;}\n",
       "\n",
       "</style>\n",
       "\n",
       "</head>\n",
       "<body>\n",
       "<div id=\"div_2019197548960\" style=\"font-size:7px;vertical-align:middle;box-sizing:border-box;width:auto;text-align:left;color:red;display:inline-block\" class=\"cssdivnoborder\">This is a container 1</div>\n",
       "<script>\n",
       "var jQuery = $;\n",
       "require.config({ paths:{}});\n",
       "\n",
       "</script>\n",
       "<body>"
      ],
      "text/plain": [
       "<epyk.core.py.PyOuts.PyOuts at 0x1d6218d1dc0>"
      ]
     },
     "execution_count": 12,
     "metadata": {},
     "output_type": "execute_result"
    }
   ],
   "source": [
    "from epyk.core.Page import Report\n",
    "from epyk.core.css import Defaults\n",
    "\n",
    "rptObj = Report()\n",
    "div = rptObj.ui.div(\"This is a container 1\")\n",
    "\n",
    "div.style.css.color = \"red\"\n",
    "div.style.css.display = \"inline-block\"\n",
    "div.style.css.width = \"auto\"\n",
    "div.style.css.font_size = Defaults.font(-5) # -5 from the reference\n",
    "\n",
    "rptObj.outs.jupyter()"
   ]
  },
  {
   "cell_type": "markdown",
   "metadata": {},
   "source": [
    "[Go back to the tutorials page](../tutorials.ipynb)\n",
    "\n",
    "<hr>\n",
    "Do not forget that this is a collaborative framework so do not hesitate to give feedbacks and like the different repository to get more visbility.\n",
    "\n",
    "Also any help is more than welcome !"
   ]
  }
 ],
 "metadata": {
  "kernelspec": {
   "display_name": "Python 3",
   "language": "python",
   "name": "python3"
  },
  "language_info": {
   "codemirror_mode": {
    "name": "ipython",
    "version": 3
   },
   "file_extension": ".py",
   "mimetype": "text/x-python",
   "name": "python",
   "nbconvert_exporter": "python",
   "pygments_lexer": "ipython3",
   "version": "3.8.2"
  }
 },
 "nbformat": 4,
 "nbformat_minor": 4
}
