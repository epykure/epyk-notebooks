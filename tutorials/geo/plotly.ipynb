{
 "cells": [
  {
   "cell_type": "markdown",
   "metadata": {},
   "source": [
    "<div style=\"float:left;margin:0 10px 10px 0\" markdown=\"1\">\n",
    "    <a href=\"../../index.ipynb\">\n",
    "        <img src=\"../../static/images/epyklogo_whole_small.png\">\n",
    "    </a>\n",
    "</div>"
   ]
  },
  {
   "cell_type": "markdown",
   "metadata": {},
   "source": [
    "# Plotly\n",
    "\n",
    "\n",
    "Geo Chart from Plotly.JS [component](00_components.ipynb) in Epyk will be using the property plotly from the ui.charts property.\n",
    "\n",
    "\n",
    "## Two main categories are available\n",
    "\n",
    "- [Bubble](./geo_bubble.ipynb)\n",
    "- [Choropleth](./geo_choropleth.ipynb)\n",
    "\n",
    "with for each of them the below dimensions:\n",
    "\n",
    "- USA\n",
    "- Europe\n",
    "- Asia\n",
    "- Africa\n",
    "- North America\n",
    "- South America\n",
    "- World\n",
    "\n",
    "<i>the ui entry point will give you access to all the registered components.\n",
    "Different flavour of buttons are available in the framework.</i>"
   ]
  },
  {
   "cell_type": "code",
   "execution_count": 5,
   "metadata": {},
   "outputs": [
    {
     "data": {
      "text/html": [
       "<head>\n",
       "<style>\n",
       "    .cssdivnoborder {margin: 0 ;clear: both ;padding: 0 ;border: 0 ;}\n",
       "\n",
       "</style>\n",
       "\n",
       "</head>\n",
       "<body>\n",
       "<div id=\"row_2646505817376\" style=\"font-size:inherit;font-family:inherit;box-sizing:border-box;width:100%;justify-content:middle\" class=\"cssdivnoborder row\"><div id=\"col_2646505793376\" style=\"display:inline-block;justify-content:middle\" class=\"col col-6\"><div id=\"choropleth_2646505817280\" style=\"font-size:inherit;font-family:inherit;box-sizing:border-box;width:100%;height:430px\" class=\"cssdivnoborder\"></div></div><div id=\"col_2646505793568\" style=\"display:inline-block;justify-content:middle\" class=\"col col-6\"><div id=\"choropleth_2646505817184\" style=\"font-size:inherit;font-family:inherit;box-sizing:border-box;width:100%;height:430px\" class=\"cssdivnoborder\"></div></div></div>\n",
       "<script>\n",
       "require.config({ paths:{popper: 'https://cdnjs.cloudflare.com/ajax/libs/popper.js/1.14.6/umd/popper.min', d3: 'https://cdnjs.cloudflare.com/ajax/libs/d3/5.16.0/d3.min', Plotly: 'https://cdnjs.cloudflare.com/ajax/libs/plotly.js/1.51.1/plotly.min'}});\n",
       "require(['d3', 'popper'], function (d3, popper) { require(['Plotly'], function (Plotly) { choropleth_2646505817280_obj = Plotly.newPlot(document.getElementById('choropleth_2646505817280'), [{locations: [\"FRA\", \"GBR\", \"DEU\", \"RUS\", \"ESP\"], z: [20.0, 50.0, 30.0, 15.0, 15.0], type: \"choropleth\"}], {geo: {scope: \"europe\"}, height: 430}, {type: \"choropleth\", mode: \"\", responsive: true});choropleth_2646505817184_obj = Plotly.newPlot(document.getElementById('choropleth_2646505817184'), [{locations: [\"FRA\", \"GBR\", \"DEU\", \"RUS\", \"ESP\"], z: [20.0, 50.0, 30.0, 15.0, 15.0], type: \"choropleth\"}], {geo: {scope: \"asia\"}, height: 430}, {type: \"choropleth\", mode: \"\", responsive: true}) }) })\n",
       "</script>\n",
       "<body>"
      ],
      "text/plain": [
       "<epyk.core.py.PyOuts.PyOuts at 0x26830013d60>"
      ]
     },
     "execution_count": 5,
     "metadata": {},
     "output_type": "execute_result"
    }
   ],
   "source": [
    "from epyk.core.Page import Report\n",
    "rptObj = Report()\n",
    "\n",
    "records = [\n",
    "  {'countries': 'FRA', 'size': 20},\n",
    "  {'countries': 'GBR', 'size': 50},\n",
    "  {'countries': 'DEU', 'size': 30},\n",
    "  {'countries': 'RUS', 'size': 15},\n",
    "  {'countries': 'ESP', 'size': 15},\n",
    "]\n",
    "\n",
    "europe = rptObj.ui.geo.plotly.choropleths.europe(records, size_col='size', country_col='countries')\n",
    "asai = rptObj.ui.geo.plotly.choropleths.asia(records, size_col='size', country_col='countries')\n",
    "\n",
    "rptObj.ui.row([europe, asai])\n",
    "\n",
    "rptObj.outs.jupyter()\n"
   ]
  },
  {
   "cell_type": "markdown",
   "metadata": {},
   "source": [
    "<a href=\"charts.ipynb\" target=\"_self\">Go back to the Chart Home page</a>\n",
    "<hr>\n",
    "Do not forget that this is a collaborative framework so do not hesitate to give feedbacks and like the different repository to get more visbility.\n",
    "\n",
    "Also any help is more than welcome !"
   ]
  },
  {
   "cell_type": "code",
   "execution_count": null,
   "metadata": {},
   "outputs": [],
   "source": []
  }
 ],
 "metadata": {
  "kernelspec": {
   "display_name": "Python 3",
   "language": "python",
   "name": "python3"
  },
  "language_info": {
   "codemirror_mode": {
    "name": "ipython",
    "version": 3
   },
   "file_extension": ".py",
   "mimetype": "text/x-python",
   "name": "python",
   "nbconvert_exporter": "python",
   "pygments_lexer": "ipython3",
   "version": "3.8.2"
  }
 },
 "nbformat": 4,
 "nbformat_minor": 2
}
