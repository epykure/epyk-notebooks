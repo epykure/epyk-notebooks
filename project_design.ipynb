{
 "cells": [
  {
   "cell_type": "markdown",
   "metadata": {},
   "source": [
    "<div style=\"margin:0 10px 10px 0\" markdown=\"1\">\n",
    "    <a href=\"index.ipynb\">\n",
    "        <img src=\"static/images/epyklogo_whole_big.png\">\n",
    "    </a>\n",
    "</div>"
   ]
  },
  {
   "cell_type": "markdown",
   "metadata": {},
   "source": [
    "# Design Principles\n",
    "\n",
    "\n",
    "\n",
    "## Data Driven Programming\n",
    "\n",
    "This was a driver for this project. Make sure your data flow is optimise for your front end. Put the right level of data transformation in the Python layer to make your HTML page light enought to provide the best experience to your users. \n",
    "\n",
    "Implement bespoke and optimise data services which will perfectly match your components and make the loading quick and efficient.\n",
    "\n",
    "**In few words, do not focus on the backend but drive your frontend from your backend transformations**\n",
    "\n",
    "\n",
    "## Use of Pyks (Components)\n",
    "\n",
    "Do not create huge reports with lot of lines of code and try to get this split into components (Pyks) which can be shared and fully tested using standard Python libraries.\n",
    "\n",
    "It is important to fragments your reports from the start in order to be able to reuse part of your code in different projects but also to make it more readable.\n",
    "\n",
    "## Share your code and issues\n",
    "\n",
    "As it is a collaborative framework with a limited number of developers it is important to get your help and sharing your feedbacks on Github or Stackoverflow is cruciale to advertise it.\n",
    "\n",
    "Sharing your feedback will also help the implementation and the framework changes so please be polite but do not hesitate to let us know your experience\n"
   ]
  }
 ],
 "metadata": {
  "kernelspec": {
   "display_name": "Python 3",
   "language": "python",
   "name": "python3"
  },
  "language_info": {
   "codemirror_mode": {
    "name": "ipython",
    "version": 3
   },
   "file_extension": ".py",
   "mimetype": "text/x-python",
   "name": "python",
   "nbconvert_exporter": "python",
   "pygments_lexer": "ipython3",
   "version": "3.8.2"
  }
 },
 "nbformat": 4,
 "nbformat_minor": 4
}
