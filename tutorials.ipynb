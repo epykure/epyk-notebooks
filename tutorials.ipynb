{
 "cells": [
  {
   "cell_type": "markdown",
   "metadata": {},
   "source": [
    "<div style=\"margin:0 10px 10px 0\" markdown=\"1\">\n",
    "    <a href=\"index.ipynb\">\n",
    "        <img src=\"static/images/epyklogo_whole_big.png\">\n",
    "    </a>\n",
    "</div>"
   ]
  },
  {
   "cell_type": "markdown",
   "metadata": {},
   "source": [
    "### Installation\n",
    "\n",
    "- [Quick Overview](quickstart.ipynb)<br>\n",
    "- [Jupyters configuration](tutorials/jupyter.ipynb)<br>\n",
    "- [Local configuration](tutorials/local.ipynb)<br>\n",
    "- [Flask configuration](tutorials/flask.ipynb)<br>\n"
   ]
  },
  {
   "cell_type": "markdown",
   "metadata": {},
   "source": [
    "### Project structure\n",
    "\n",
    "- [First report](tutorials/04_configuration_local.ipynb)\n",
    "- [Complex report](tutorials/05_configuration_flask.ipynb)\n",
    "- [Design Principles](project_design.ipynb)\n",
    "\n",
    "\n",
    "### Sharing work\n",
    "\n",
    "- [Using Jupyter](sharing/jupyter.ipynb)\n",
    "- [Using Codepen](sharing/codepen.ipynb)\n",
    "- [Creating Pyk](design_principles.ipynb)"
   ]
  },
  {
   "cell_type": "markdown",
   "metadata": {},
   "source": [
    "### CSS tutorials\n",
    "\n",
    "- [CSS Framework introduction](tutorials/css_framework.ipynb)\n",
    "- [CSS Framework advanced](tutorials/css_advanced.ipynb)\n",
    "\n",
    "*More local template examples are available on [Github](https://github.com/epykure/epyk-templates/tree/master/locals/css)*"
   ]
  },
  {
   "cell_type": "markdown",
   "metadata": {},
   "source": [
    "### JS tutorials\n",
    "- [JS Framework introduction](tutorials/js_framework.ipynb)\n",
    "- [JS Framework advanced](tutorials/js_advanced.ipynb)\n",
    "\n",
    "<i>More local template examples are available on [Github](https://github.com/epykure/epyk-templates/tree/master/locals/js)</i>"
   ]
  },
  {
   "cell_type": "markdown",
   "metadata": {},
   "source": [
    "### Data Management\n",
    "\n",
    "- [Data Sources](tutorials/data_sources.ipynb)\n",
    "- [Data Filters](tutorials/data_filters.ipynb)\n",
    "- [Data Aggregators](tutorials/data_aggregators.ipynb)\n",
    "- [Data (External Packages)](tutorials/data_others.ipynb)\n",
    "\n",
    "*More local template examples are available on [Github](https://github.com/epykure/epyk-templates/tree/master/locals/data)*\n",
    "\n",
    "\n",
    "### Framework Components\n",
    "\n",
    "- [HTML Components](tutorials/components/00_components.ipynb)<br>\n",
    "- [Color Themes](tutorials/07_color_themes.ipynb)<br>\n",
    "- [Databases](tutorials/08_databases.ipynb)<br>\n",
    "- [Outputs](tutorials/09_outputs.ipynb)<br>\n",
    "- [Python functions](tutorials/10_python_helpers.ipynb)\n",
    "- [Derived package](tutorials/extensions/derived_package.ipynb)\n",
    "- [Extensions](tutorials/extensions/bespoke_package.ipynb)\n",
    "\n",
    "*More local template examples are available on [Github](https://github.com/epykure/epyk-templates/tree/master/locals/components)*"
   ]
  },
  {
   "cell_type": "markdown",
   "metadata": {},
   "source": [
    "### External Packages and Custom Items\n",
    "\n",
    "- [Mandatory Packages](tutorials/import_scope.ipynb)\n",
    "- [Custom Components](tutorials/custom_components.ipynb)\n",
    "- [Updating Packages](tutorials/import_update.ipynb)\n",
    "- [Custom Functions](tutorials/custom_functions.ipynb)\n",
    "\n",
    "*More local template examples are available on [Github](https://github.com/epykure/epyk-templates/tree/master/locals/packages)*"
   ]
  },
  {
   "cell_type": "markdown",
   "metadata": {},
   "source": [
    "<HR />\n",
    "Do not forget that this is a collaborative framework so do not hesitate to give feedbacks and like the different repositories to get more visbility.\n",
    "\n",
    "Also any help is more than welcome !"
   ]
  }
 ],
 "metadata": {
  "kernelspec": {
   "display_name": "Python 3",
   "language": "python",
   "name": "python3"
  },
  "language_info": {
   "codemirror_mode": {
    "name": "ipython",
    "version": 3
   },
   "file_extension": ".py",
   "mimetype": "text/x-python",
   "name": "python",
   "nbconvert_exporter": "python",
   "pygments_lexer": "ipython3",
   "version": "3.8.2"
  }
 },
 "nbformat": 4,
 "nbformat_minor": 2
}
